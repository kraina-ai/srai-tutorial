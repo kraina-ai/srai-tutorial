{
 "cells": [
  {
   "cell_type": "code",
   "execution_count": null,
   "metadata": {
    "scrolled": true,
    "slideshow": {
     "slide_type": "skip"
    }
   },
   "outputs": [],
   "source": [
    "%load_ext autoreload\n",
    "%autoreload 2"
   ]
  },
  {
   "cell_type": "markdown",
   "metadata": {
    "slideshow": {
     "slide_type": "slide"
    }
   },
   "source": [
    "<div class=\"main-title\">\n",
    "<h1>Introduction to Geospatial ML</h1>\n",
    "<p>Hello!</p>\n",
    "</div>"
   ]
  },
  {
   "cell_type": "markdown",
   "metadata": {
    "slideshow": {
     "slide_type": "slide"
    }
   },
   "source": [
    "<div class=\"center-content\">\n",
    "    <p>Resource materials:</p>\n",
    "    <!-- <img src=\"assets/qr-tutorial.png\" style=\"width: 400px; margin: auto\"/> -->\n",
    "    <h1 style=\"margin: auto;\">https://github.com/kraina-ai/srai-tutorial/tree/sotm2024</h1>\n",
    "</div>"
   ]
  },
  {
   "cell_type": "markdown",
   "metadata": {
    "slideshow": {
     "slide_type": "slide"
    }
   },
   "source": [
    "<div class=\"center-content\">\n",
    "    <img src=\"assets/kraina-logo-bg.png\" class=\"kraina-logo\"/>\n",
    "    <h3 style=\"text-align: center; margin-top: -100px\">Kraina AI</h3>\n",
    "    <p style=\"text-align: center; margin-top: 0\">a Geospatial & Mobility Group at WUST</p>\n",
    "</div>"
   ]
  },
  {
   "cell_type": "markdown",
   "metadata": {
    "slideshow": {
     "slide_type": "slide"
    }
   },
   "source": [
    "![](assets/srai-tutorial-team.png) "
   ]
  },
  {
   "cell_type": "markdown",
   "metadata": {
    "slideshow": {
     "slide_type": "slide"
    }
   },
   "source": [
    "## Origins\n",
    "\n",
    "* geospatial representation learning\n",
    "* challenges in working with geospatial data\n",
    "* uncharted waters\n"
   ]
  },
  {
   "cell_type": "markdown",
   "metadata": {
    "slideshow": {
     "slide_type": "slide"
    }
   },
   "source": [
    "### Here comes:"
   ]
  },
  {
   "cell_type": "markdown",
   "metadata": {
    "slideshow": {
     "slide_type": "fragment"
    }
   },
   "source": [
    "## Spatial Representations for Artificial Intelligence"
   ]
  },
  {
   "cell_type": "markdown",
   "metadata": {},
   "source": [
    "## QuackOSM"
   ]
  },
  {
   "cell_type": "markdown",
   "metadata": {
    "slideshow": {
     "slide_type": "slide"
    }
   },
   "source": [
    "## [kraina.ai](https://kraina.ai)"
   ]
  },
  {
   "cell_type": "code",
   "execution_count": null,
   "metadata": {},
   "outputs": [],
   "source": [
    "from IPython.display import IFrame\n",
    "IFrame(\"https://kraina.ai\", 1024, 600)"
   ]
  },
  {
   "cell_type": "markdown",
   "metadata": {
    "slideshow": {
     "slide_type": "slide"
    }
   },
   "source": [
    "## What you will get (hopefully):\n",
    "\n",
    "* familiarity with the geospatial domain\n",
    "* tools to work with spatial data\n",
    "* examples of potential applications\n",
    "* SRAI library know-how 😃"
   ]
  },
  {
   "cell_type": "markdown",
   "metadata": {
    "slideshow": {
     "slide_type": "slide"
    }
   },
   "source": [
    "## Roadmap\n",
    "\n",
    "1. [Brief introduction to geospatial](01_introduction_to_geospatial.ipynb)\n",
    "2. [SRAI](02_srai.ipynb)\n",
    "3. [Machine Learning Example](03_ml.ipynb)\n",
    "4. [Business Use Case](04_business_use_case.ipynb)\n",
    "5. [Pre-training Hex2Vec](05_pre-train_hex2vec.ipynb) (if time allows)"
   ]
  },
  {
   "cell_type": "markdown",
   "metadata": {
    "slideshow": {
     "slide_type": "slide"
    }
   },
   "source": [
    "## Questions?"
   ]
  }
 ],
 "metadata": {
  "celltoolbar": "Slideshow",
  "kernelspec": {
   "display_name": "Python 3 (ipykernel)",
   "language": "python",
   "name": "python3"
  },
  "language_info": {
   "codemirror_mode": {
    "name": "ipython",
    "version": 3
   },
   "file_extension": ".py",
   "mimetype": "text/x-python",
   "name": "python",
   "nbconvert_exporter": "python",
   "pygments_lexer": "ipython3",
   "version": "3.11.9"
  },
  "rise": {
   "controls": false,
   "enable_chalkboard": false,
   "footer": "<h3 class='footer-title'>Visit our research group at <code>kraina.ai</code></h3>",
   "header": "<h3 class='header-title'>SRAI Tutorial - Hello!</h3><div class='header-images'><img src='assets/srai-logo-transparent.png'/></div>",
   "progress": true,
   "scroll": true,
   "slideNumber": false,
   "theme": "simple",
   "width": 1280
  }
 },
 "nbformat": 4,
 "nbformat_minor": 2
}
