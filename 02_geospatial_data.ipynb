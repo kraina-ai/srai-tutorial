{
 "cells": [
  {
   "cell_type": "code",
   "execution_count": null,
   "metadata": {},
   "outputs": [],
   "source": [
    "from srai.utils import geocode_to_region_gdf\n",
    "from srai.plotting import plot_regions"
   ]
  },
  {
   "cell_type": "code",
   "execution_count": null,
   "metadata": {},
   "outputs": [],
   "source": [
    "CITY = \"Basel, Switzerland\""
   ]
  },
  {
   "cell_type": "code",
   "execution_count": null,
   "metadata": {},
   "outputs": [],
   "source": [
    "area = geocode_to_region_gdf(CITY)\n",
    "area.explore()"
   ]
  },
  {
   "cell_type": "code",
   "execution_count": null,
   "metadata": {},
   "outputs": [],
   "source": [
    "from srai.loaders import OSMWayLoader\n",
    "from srai.loaders.osm_way_loader import NetworkType\n",
    "\n",
    "nodes, edges = OSMWayLoader(NetworkType.DRIVE, preprocess=False, wide=False).load(area)\n",
    "edges.explore()"
   ]
  },
  {
   "cell_type": "code",
   "execution_count": null,
   "metadata": {},
   "outputs": [],
   "source": [
    "ax = edges.plot(color=\"black\", figsize=(16, 16))\n",
    "\n",
    "xmin, ymin, xmax, ymax = edges.total_bounds\n",
    "ax.set_xlim(xmin, xmax)\n",
    "ax.set_ylim(ymin, ymax)\n",
    "\n",
    "ax.set_axis_off()"
   ]
  },
  {
   "cell_type": "code",
   "execution_count": null,
   "metadata": {},
   "outputs": [],
   "source": [
    "from srai.loaders import OSMPbfLoader\n",
    "from srai.loaders.osm_loaders.filters.popular import get_popular_tags\n",
    "from srai.loaders.osm_loaders.filters import GEOFABRIK_LAYERS\n",
    "\n",
    "features = OSMPbfLoader().load(area, GEOFABRIK_LAYERS)\n",
    "features.explore()"
   ]
  },
  {
   "cell_type": "code",
   "execution_count": null,
   "metadata": {},
   "outputs": [],
   "source": [
    "features.columns"
   ]
  },
  {
   "cell_type": "code",
   "execution_count": null,
   "metadata": {},
   "outputs": [],
   "source": [
    "features_clipped = features.clip(area).dropna(subset=[\"water\", \"waterways\", \"major_roads\", \"minor_roads\"], how=\"all\")\n",
    "features_clipped.plot()"
   ]
  },
  {
   "cell_type": "code",
   "execution_count": null,
   "metadata": {},
   "outputs": [],
   "source": [
    "str(centroid)"
   ]
  },
  {
   "cell_type": "code",
   "execution_count": null,
   "metadata": {},
   "outputs": [],
   "source": [
    "import matplotlib.pyplot as plt\n",
    "\n",
    "def dd2dms(deg):\n",
    "    d = int(deg)\n",
    "    md = abs(deg - d) * 60\n",
    "    m = int(md)\n",
    "    sd = (md - m) * 60\n",
    "    return [d, m, sd]\n",
    "\n",
    "centroid = features_clipped.dissolve().centroid.item()\n",
    "lat = dd2dms(centroid.y)\n",
    "lng = dd2dms(centroid.x)\n",
    "\n",
    "\n",
    "fig, ax = plt.subplots(figsize=(16, 16))\n",
    "\n",
    "\n",
    "features_clipped.dropna(subset=[\"water\", \"waterways\"], how=\"all\").plot(\n",
    "    ax=ax, color=\"#a8e1e6\"\n",
    ")\n",
    "\n",
    "\n",
    "features_clipped.dropna(subset=[\"major_roads\", \"minor_roads\"], how=\"all\").plot(\n",
    "    ax=ax, color=\"#181818\", markersize=0.1\n",
    ")\n",
    "\n",
    "ax.text(0.5, 0.95, f\"{lat[0]}°{lat[1]}' N, {lng[0]}°{lng[1]}' E\", fontsize = 45, transform=ax.transAxes, horizontalalignment=\"center\", verticalalignment=\"top\", color=\"#2b2b2b\")\n",
    "ax.text(0.5, 0.15, \"Basel\", fontsize = 45, transform=ax.transAxes, horizontalalignment=\"center\", verticalalignment=\"top\", color=\"#2b2b2b\")\n",
    "\n",
    "\n",
    "xmin, ymin, xmax, ymax = features_clipped.total_bounds\n",
    "ax.set_xlim(xmin, xmax)\n",
    "ax.set_ylim(ymin, ymax)\n",
    "\n",
    "ax.set_axis_off()\n",
    "ax.add_patch(plt.Rectangle((0,0), 1, 1, facecolor=\"#ecedea\",\n",
    "                           transform=ax.transAxes, zorder=-1))\n",
    "\n",
    "# ax.subplots_adjust(top = 1, bottom = 0, right = 1, left = 0, \n",
    "#             hspace = 0, wspace = 0)\n",
    "ax.margins(0,0)\n",
    "\n",
    "ax\n",
    "\n"
   ]
  }
 ],
 "metadata": {
  "kernelspec": {
   "display_name": "venv",
   "language": "python",
   "name": "python3"
  },
  "language_info": {
   "codemirror_mode": {
    "name": "ipython",
    "version": 3
   },
   "file_extension": ".py",
   "mimetype": "text/x-python",
   "name": "python",
   "nbconvert_exporter": "python",
   "pygments_lexer": "ipython3",
   "version": "3.10.11"
  },
  "orig_nbformat": 4
 },
 "nbformat": 4,
 "nbformat_minor": 2
}
