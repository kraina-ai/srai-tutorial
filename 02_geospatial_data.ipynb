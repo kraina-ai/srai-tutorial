{
 "cells": [
  {
   "cell_type": "markdown",
   "metadata": {
    "slideshow": {
     "slide_type": "slide"
    }
   },
   "source": [
    "# Geospatial data\n",
    "Loaders"
   ]
  },
  {
   "cell_type": "code",
   "execution_count": null,
   "metadata": {
    "slideshow": {
     "slide_type": "slide"
    }
   },
   "outputs": [],
   "source": [
    "CITY = \"Basel\"\n",
    "COUNTRY = \"Switzerland\"\n",
    "\n",
    "area_name = f\"{CITY}, {COUNTRY}\"\n",
    "area_name"
   ]
  },
  {
   "cell_type": "code",
   "execution_count": null,
   "metadata": {
    "slideshow": {
     "slide_type": "slide"
    }
   },
   "outputs": [],
   "source": [
    "from srai.regionalizers import geocode_to_region_gdf\n",
    "\n",
    "area = geocode_to_region_gdf(area_name)\n",
    "area.explore(height=600)"
   ]
  },
  {
   "cell_type": "code",
   "execution_count": null,
   "metadata": {
    "slideshow": {
     "slide_type": "slide"
    }
   },
   "outputs": [],
   "source": [
    "from srai.loaders import OSMPbfLoader\n",
    "from srai.loaders.osm_loaders.filters import GEOFABRIK_LAYERS\n",
    "\n",
    "tags = {\n",
    "    k: v\n",
    "    for k, v in GEOFABRIK_LAYERS.items()\n",
    "    if k in [\"water\", \"waterways\", \"major_roads\", \"minor_roads\"]\n",
    "}\n",
    "features = OSMPbfLoader().load(area, tags).clip(area)\n",
    "features"
   ]
  },
  {
   "cell_type": "code",
   "execution_count": null,
   "metadata": {
    "slideshow": {
     "slide_type": "slide"
    }
   },
   "outputs": [],
   "source": [
    "features.columns"
   ]
  },
  {
   "cell_type": "code",
   "execution_count": null,
   "metadata": {
    "slideshow": {
     "slide_type": "skip"
    }
   },
   "outputs": [],
   "source": [
    "import matplotlib.pyplot as plt\n",
    "from typing import Tuple\n",
    "import geopandas as gpd\n",
    "\n",
    "\n",
    "def dd2dms(deg):\n",
    "    d = int(deg)\n",
    "    md = abs(deg - d) * 60\n",
    "    m = int(md)\n",
    "    sd = (md - m) * 60\n",
    "    return [d, m, sd]\n",
    "\n",
    "\n",
    "def plot_rectangle_with_text(\n",
    "    ax: plt.Axes,\n",
    "    coords: Tuple[float, float],\n",
    "    title: str,\n",
    "    subtitle: str = \"\",\n",
    "):\n",
    "    width = 1.0\n",
    "    height = 0.085\n",
    "    fontsize_title = 45\n",
    "    fontsize_subtitle = 15\n",
    "\n",
    "    rectangle = plt.Rectangle(\n",
    "        coords,\n",
    "        width,\n",
    "        height,\n",
    "        facecolor=\"#ecedea\",\n",
    "        alpha=0.8,\n",
    "        transform=ax.transAxes,\n",
    "        zorder=2,\n",
    "    )\n",
    "\n",
    "    ax.add_patch(rectangle)\n",
    "    rx, ry = rectangle.get_xy()\n",
    "    cx = rx + rectangle.get_width() / 2.0\n",
    "    cy = ry + rectangle.get_height() / 2.0\n",
    "\n",
    "    ax.text(\n",
    "        cx,\n",
    "        cy,\n",
    "        title,\n",
    "        fontsize=fontsize_title,\n",
    "        transform=ax.transAxes,\n",
    "        horizontalalignment=\"center\",\n",
    "        verticalalignment=\"center\",\n",
    "        color=\"#2b2b2b\",\n",
    "    )\n",
    "\n",
    "    ax.text(\n",
    "        cx,\n",
    "        cy - 0.032,\n",
    "        subtitle,\n",
    "        fontsize=fontsize_subtitle,\n",
    "        transform=ax.transAxes,\n",
    "        horizontalalignment=\"center\",\n",
    "        verticalalignment=\"center\",\n",
    "        color=\"#2b2b2b\",\n",
    "    )\n",
    "\n",
    "\n",
    "def plot_poster(gdf: gpd.GeoDataFrame) -> plt.axes:\n",
    "    centroid = gdf.dissolve().centroid.item()\n",
    "    lat = dd2dms(centroid.y)\n",
    "    lng = dd2dms(centroid.x)\n",
    "\n",
    "    fig = plt.figure(figsize=(8.27, 11.69))\n",
    "    ax = fig.add_subplot()\n",
    "    ax.set_position([0, 0, 1, 1])\n",
    "\n",
    "    gdf.dropna(subset=[\"water\", \"waterways\"], how=\"all\").plot(ax=ax, color=\"#a8e1e6\")\n",
    "\n",
    "    gdf.dropna(subset=[\"major_roads\", \"minor_roads\"], how=\"all\").plot(\n",
    "        ax=ax, color=\"#181818\", markersize=0.1\n",
    "    )\n",
    "\n",
    "    plot_rectangle_with_text(\n",
    "        ax,\n",
    "        (0, 0.90),\n",
    "        f\"{abs(lat[0])}°{lat[1]}' {'N' if centroid.y >= 0 else 'S'}, {abs(lng[0])}°{lng[1]}' {'E' if centroid.x >= 0 else 'W'}\",\n",
    "    )\n",
    "    plot_rectangle_with_text(ax, (0, 0.15), CITY, COUNTRY)\n",
    "\n",
    "    xmin, ymin, xmax, ymax = gdf.total_bounds\n",
    "    ax.set_xlim(xmin, xmax)\n",
    "    ax.set_ylim(ymin, ymax)\n",
    "\n",
    "    ax.set_axis_off()\n",
    "    ax.add_patch(\n",
    "        plt.Rectangle(\n",
    "            (0, 0), 1, 1, facecolor=\"#ecedea\", transform=ax.transAxes, zorder=-1\n",
    "        )\n",
    "    )\n",
    "\n",
    "    ax.margins(0, 0)\n",
    "\n",
    "    return ax"
   ]
  },
  {
   "cell_type": "code",
   "execution_count": null,
   "metadata": {
    "slideshow": {
     "slide_type": "slide"
    }
   },
   "outputs": [],
   "source": [
    "ax = plot_poster(features)\n",
    "\n",
    "plt.savefig(\"poster.png\", facecolor=\"#ecedea\", dpi=300)\n",
    "plt.close()"
   ]
  },
  {
   "cell_type": "markdown",
   "metadata": {
    "slideshow": {
     "slide_type": "slide"
    }
   },
   "source": [
    "<img src=\"poster.png\" style=\"height:700px;margin:auto\" />"
   ]
  },
  {
   "cell_type": "markdown",
   "metadata": {
    "slideshow": {
     "slide_type": "fragment"
    }
   },
   "source": [
    "See also https://github.com/marceloprates/prettymaps for more poster inspiration!"
   ]
  },
  {
   "cell_type": "markdown",
   "metadata": {
    "slideshow": {
     "slide_type": "slide"
    }
   },
   "source": [
    "# Thank You"
   ]
  },
  {
   "cell_type": "code",
   "execution_count": null,
   "metadata": {},
   "outputs": [],
   "source": []
  }
 ],
 "metadata": {
  "celltoolbar": "Slideshow",
  "kernelspec": {
   "display_name": "Python 3 (ipykernel)",
   "language": "python",
   "name": "python3"
  },
  "language_info": {
   "codemirror_mode": {
    "name": "ipython",
    "version": 3
   },
   "file_extension": ".py",
   "mimetype": "text/x-python",
   "name": "python",
   "nbconvert_exporter": "python",
   "pygments_lexer": "ipython3",
   "version": "3.10.11"
  },
  "rise": {
   "controls": false,
   "enable_chalkboard": true,
   "footer": "<h3 class='footer-title'>Visit our research group at <code>kraina.ai</code></h3>",
   "header": "<h3 class='header-title'>SRAI Tutorial - Geospatial Data</h3><div class='header-images'><img src='assets/srai-logo-transparent.png'/></div>",
   "progress": true,
   "scroll": true,
   "slideNumber": false,
   "theme": "simple",
   "width": 1280
  }
 },
 "nbformat": 4,
 "nbformat_minor": 2
}
