{
 "cells": [
  {
   "cell_type": "code",
   "execution_count": 1,
   "metadata": {},
   "outputs": [],
   "source": [
    "%load_ext autoreload\n",
    "%autoreload 2"
   ]
  },
  {
   "cell_type": "code",
   "execution_count": 2,
   "metadata": {},
   "outputs": [],
   "source": [
    "cities = [\n",
    "    \"Warszawa, Polska\",\n",
    "    \"Kraków, Polska\",\n",
    "    \"Łódź, Polska\",\n",
    "    \"Wrocław, Polska\",\n",
    "    \"Poznań, Polska\",\n",
    "    \"Gdańsk, Polska\",\n",
    "    \"Szczecin, Polska\",\n",
    "    \"Bydgoszcz, Polska\",\n",
    "    \"Lublin, Polska\",\n",
    "    \"Białystok, Polska\",\n",
    "    \"Katowice, Polska\",\n",
    "    \"Gdynia, Polska\",\n",
    "    \"Częstochowa, Polska\",\n",
    "    \"Radom, Polska\",\n",
    "    \"Toruń, Polska\",\n",
    "    \"Rzeszów, Polska\",\n",
    "    \"Sosnowiec, Polska\",\n",
    "    \"Kielce, Polska\",\n",
    "    \"Gliwice, Polska\",\n",
    "    \"Olsztyn, Polska\",\n",
    "    \"Zabrze, Polska\",\n",
    "    \"Bielsko-Biała, Polska\",\n",
    "    \"Bytom, Polska\",\n",
    "    \"Zielona Góra, Polska\",\n",
    "    \"Rybnik, Polska\",\n",
    "    \"Ruda Śląska, Polska\",\n",
    "    \"Opole, Polska\",\n",
    "    \"Tychy, Polska\",\n",
    "    \"Gorzów Wielkopolski, Polska\",\n",
    "    \"Elbląg, Polska\",\n",
    "    \"Dąbrowa Górnicza, Polska\",\n",
    "    \"Płock, Polska\",\n",
    "    \"Wałbrzych, Polska\",\n",
    "    \"Włocławek, Polska\",\n",
    "    \"Tarnów, Polska\",\n",
    "    \"Chorzów, Polska\",\n",
    "    \"Koszalin, Polska\",\n",
    "    ##50k\n",
    "    \"Kalisz, Polska\",\n",
    "    \"Legnica, Polska\",\n",
    "    \"Grudziądz, Polska\",\n",
    "    \"Jaworzno, Polska\",\n",
    "    \"Słupsk, Polska\",\n",
    "    \"Jastrzębie-Zdrój, Polska\",\n",
    "    \"Nowy Sącz, Polska\",\n",
    "    \"Jelenia Góra, Polska\",\n",
    "    \"Siedlce, Polska\",\n",
    "    \"Mysłowice, Polska\",\n",
    "    \"Konin, Polska\",\n",
    "    \"Piła, Polska\",\n",
    "    \"Piotrków Trybunalski, Polska\",\n",
    "    \"Lubin, Polska\",\n",
    "    \"Inowrocław, Polska\",\n",
    "    \"Ostrów Wielkopolski, Polska\",\n",
    "    \"Suwałki, Polska\",\n",
    "    \"Stargard, Polska\",\n",
    "    \"Gniezno, Polska\",\n",
    "    \"Ostrowiec Świętokrzyski, Polska\",\n",
    "    \"Siemianowice Śląskie, Polska\",\n",
    "    \"Głogów, Polska\",\n",
    "    \"Pabianice, Polska\",\n",
    "    \"Leszno, Polska\",\n",
    "    \"Żory, Polska\",\n",
    "    \"Zamość, Polska\",\n",
    "    \"Pruszków, Polska\",\n",
    "    \"Łomża, Polska\",\n",
    "    \"Ełk, Polska\",\n",
    "    \"Tarnowskie Góry, Polska\",\n",
    "    \"Tomaszów Mazowiecki, Polska\",\n",
    "    \"Chełm, Polska\",\n",
    "    \"Mielec, Polska\",\n",
    "    \"Kędzierzyn-Koźle, Polska\",\n",
    "    \"Przemyśl, Polska\",\n",
    "    \"Stalowa Wola, Polska\",\n",
    "    \"Tczew, Polska\",\n",
    "    \"Biała Podlaska, Polska\",\n",
    "    \"Bełchatów, Polska\",\n",
    "    \"Świdnica, Polska\",\n",
    "    \"Będzin, Polska\",\n",
    "    \"Zgierz, Polska\",\n",
    "    \"Piekary Śląskie, Polska\",\n",
    "    \"Racibórz, Polska\",\n",
    "    \"Legionowo, Polska\",\n",
    "    \"Ostrołęka, Polska\",\n",
    "]"
   ]
  },
  {
   "cell_type": "code",
   "execution_count": 3,
   "metadata": {},
   "outputs": [],
   "source": [
    "num_people = [\n",
    "    1794166,\n",
    "    779966,\n",
    "    672185,\n",
    "    641928,\n",
    "    532048,\n",
    "    470805,\n",
    "    398255,\n",
    "    344091,\n",
    "    338586,\n",
    "    296958,\n",
    "    290553,\n",
    "    244969,\n",
    "    217530,\n",
    "    209296,\n",
    "    198613,\n",
    "    197863,\n",
    "    197586,\n",
    "    193415,\n",
    "    177049,\n",
    "    171249,\n",
    "    170924,\n",
    "    169756,\n",
    "    163255,\n",
    "    140892,\n",
    "    137128,\n",
    "    136423,\n",
    "    127839,\n",
    "    126871,\n",
    "    122589,\n",
    "    118582,\n",
    "    118285,\n",
    "    118268,\n",
    "    109971,\n",
    "    108561,\n",
    "    107498,\n",
    "    106846,\n",
    "    106235,\n",
    "    99106,\n",
    "    98436,\n",
    "    93564,\n",
    "    90368,\n",
    "    89780,\n",
    "    88038,\n",
    "    83558,\n",
    "    78335,\n",
    "    77813,\n",
    "    74559,\n",
    "    72539,\n",
    "    72527,\n",
    "    72250,\n",
    "    71710,\n",
    "    71674,\n",
    "    71560,\n",
    "    69639,\n",
    "    67579,\n",
    "    67570,\n",
    "    67404,\n",
    "    66270,\n",
    "    66120,\n",
    "    63945,\n",
    "    62854,\n",
    "    62844,\n",
    "    62785,\n",
    "    62623,\n",
    "    62573,\n",
    "    61903,\n",
    "    61756,\n",
    "    61338,\n",
    "    61135,\n",
    "    60075,\n",
    "    60021,\n",
    "    59779,\n",
    "    59623,\n",
    "    59430,\n",
    "    56942,\n",
    "    56419,\n",
    "    56222,\n",
    "    56008,\n",
    "    55673,\n",
    "    54702,\n",
    "    54259,\n",
    "    53529,\n",
    "    51656,\n",
    "]"
   ]
  },
  {
   "cell_type": "code",
   "execution_count": 11,
   "metadata": {},
   "outputs": [],
   "source": [
    "RESOLUTION = 9"
   ]
  },
  {
   "cell_type": "code",
   "execution_count": 4,
   "metadata": {},
   "outputs": [
    {
     "data": {
      "text/html": [
       "<div>\n",
       "<style scoped>\n",
       "    .dataframe tbody tr th:only-of-type {\n",
       "        vertical-align: middle;\n",
       "    }\n",
       "\n",
       "    .dataframe tbody tr th {\n",
       "        vertical-align: top;\n",
       "    }\n",
       "\n",
       "    .dataframe thead th {\n",
       "        text-align: right;\n",
       "    }\n",
       "</style>\n",
       "<table border=\"1\" class=\"dataframe\">\n",
       "  <thead>\n",
       "    <tr style=\"text-align: right;\">\n",
       "      <th></th>\n",
       "      <th>city</th>\n",
       "      <th>num_people</th>\n",
       "      <th>stratify</th>\n",
       "    </tr>\n",
       "  </thead>\n",
       "  <tbody>\n",
       "    <tr>\n",
       "      <th>0</th>\n",
       "      <td>Warszawa, Polska</td>\n",
       "      <td>1794166</td>\n",
       "      <td>0</td>\n",
       "    </tr>\n",
       "    <tr>\n",
       "      <th>1</th>\n",
       "      <td>Kraków, Polska</td>\n",
       "      <td>779966</td>\n",
       "      <td>0</td>\n",
       "    </tr>\n",
       "    <tr>\n",
       "      <th>2</th>\n",
       "      <td>Łódź, Polska</td>\n",
       "      <td>672185</td>\n",
       "      <td>0</td>\n",
       "    </tr>\n",
       "    <tr>\n",
       "      <th>3</th>\n",
       "      <td>Wrocław, Polska</td>\n",
       "      <td>641928</td>\n",
       "      <td>0</td>\n",
       "    </tr>\n",
       "    <tr>\n",
       "      <th>4</th>\n",
       "      <td>Poznań, Polska</td>\n",
       "      <td>532048</td>\n",
       "      <td>0</td>\n",
       "    </tr>\n",
       "    <tr>\n",
       "      <th>...</th>\n",
       "      <td>...</td>\n",
       "      <td>...</td>\n",
       "      <td>...</td>\n",
       "    </tr>\n",
       "    <tr>\n",
       "      <th>78</th>\n",
       "      <td>Zgierz, Polska</td>\n",
       "      <td>55673</td>\n",
       "      <td>3</td>\n",
       "    </tr>\n",
       "    <tr>\n",
       "      <th>79</th>\n",
       "      <td>Piekary Śląskie, Polska</td>\n",
       "      <td>54702</td>\n",
       "      <td>3</td>\n",
       "    </tr>\n",
       "    <tr>\n",
       "      <th>80</th>\n",
       "      <td>Racibórz, Polska</td>\n",
       "      <td>54259</td>\n",
       "      <td>3</td>\n",
       "    </tr>\n",
       "    <tr>\n",
       "      <th>81</th>\n",
       "      <td>Legionowo, Polska</td>\n",
       "      <td>53529</td>\n",
       "      <td>3</td>\n",
       "    </tr>\n",
       "    <tr>\n",
       "      <th>82</th>\n",
       "      <td>Ostrołęka, Polska</td>\n",
       "      <td>51656</td>\n",
       "      <td>3</td>\n",
       "    </tr>\n",
       "  </tbody>\n",
       "</table>\n",
       "<p>83 rows × 3 columns</p>\n",
       "</div>"
      ],
      "text/plain": [
       "                       city  num_people  stratify\n",
       "0          Warszawa, Polska     1794166         0\n",
       "1            Kraków, Polska      779966         0\n",
       "2              Łódź, Polska      672185         0\n",
       "3           Wrocław, Polska      641928         0\n",
       "4            Poznań, Polska      532048         0\n",
       "..                      ...         ...       ...\n",
       "78           Zgierz, Polska       55673         3\n",
       "79  Piekary Śląskie, Polska       54702         3\n",
       "80         Racibórz, Polska       54259         3\n",
       "81        Legionowo, Polska       53529         3\n",
       "82        Ostrołęka, Polska       51656         3\n",
       "\n",
       "[83 rows x 3 columns]"
      ]
     },
     "execution_count": 4,
     "metadata": {},
     "output_type": "execute_result"
    }
   ],
   "source": [
    "import pandas as pd\n",
    "df = pd.DataFrame({\"city\": cities, \"num_people\": num_people})\n",
    "def get_stratify_index(num_people) -> int:\n",
    "    if num_people >= 500_000:\n",
    "        return 0\n",
    "    elif num_people >= 200_000:\n",
    "        return 1\n",
    "    elif num_people >= 100_000:\n",
    "        return 2\n",
    "    else:\n",
    "        return 3\n",
    "df[\"stratify\"] = df[\"num_people\"].apply(get_stratify_index)\n",
    "df"
   ]
  },
  {
   "cell_type": "code",
   "execution_count": 5,
   "metadata": {},
   "outputs": [],
   "source": [
    "from srai.regionalizers import H3Regionalizer\n",
    "from tqdm.auto import tqdm\n",
    "from srai.utils import geocode_to_region_gdf"
   ]
  },
  {
   "cell_type": "code",
   "execution_count": 6,
   "metadata": {},
   "outputs": [
    {
     "data": {
      "application/vnd.jupyter.widget-view+json": {
       "model_id": "564e97b829304eaeaacafcb81f86346e",
       "version_major": 2,
       "version_minor": 0
      },
      "text/plain": [
       "  0%|          | 0/83 [00:00<?, ?it/s]"
      ]
     },
     "metadata": {},
     "output_type": "display_data"
    }
   ],
   "source": [
    "areas = [\n",
    "    geocode_to_region_gdf(city) for city in tqdm(cities)\n",
    "]"
   ]
  },
  {
   "cell_type": "code",
   "execution_count": 11,
   "metadata": {},
   "outputs": [],
   "source": [
    "# import pandas as pd\n",
    "\n",
    "# pd.concat(areas).explore()"
   ]
  },
  {
   "cell_type": "code",
   "execution_count": 7,
   "metadata": {},
   "outputs": [],
   "source": [
    "import geopandas as gpd\n",
    "from typing import List\n",
    "\n",
    "def get_regions(cities: List[str], resolution: int) -> gpd.GeoDataFrame:\n",
    "    areas = [\n",
    "        geocode_to_region_gdf(city) for city in tqdm(cities)\n",
    "    ]\n",
    "    regionizer = H3Regionalizer(resolution=resolution)\n",
    "    regions_gdf = regionizer.transform(pd.concat(areas))\n",
    "    return regions_gdf"
   ]
  },
  {
   "cell_type": "code",
   "execution_count": 8,
   "metadata": {},
   "outputs": [],
   "source": [
    "from sklearn.model_selection import train_test_split\n",
    "\n",
    "train_df, val_df = train_test_split(df, test_size=0.2, random_state=42, stratify=df[\"stratify\"])\n",
    "train_df = train_df.sort_values(by=\"num_people\", ascending=False)\n",
    "val_df = val_df.sort_values(by=\"num_people\", ascending=False)"
   ]
  },
  {
   "cell_type": "code",
   "execution_count": 9,
   "metadata": {},
   "outputs": [],
   "source": [
    "train_cities = train_df[\"city\"].tolist()\n",
    "val_cities = val_df[\"city\"].tolist()"
   ]
  },
  {
   "cell_type": "code",
   "execution_count": 12,
   "metadata": {},
   "outputs": [
    {
     "data": {
      "application/vnd.jupyter.widget-view+json": {
       "model_id": "38bb8b59fe4243c7a628b67f93ef8151",
       "version_major": 2,
       "version_minor": 0
      },
      "text/plain": [
       "  0%|          | 0/66 [00:00<?, ?it/s]"
      ]
     },
     "metadata": {},
     "output_type": "display_data"
    },
    {
     "data": {
      "application/vnd.jupyter.widget-view+json": {
       "model_id": "7bdad35c4d1046eeb9f588063d6fb232",
       "version_major": 2,
       "version_minor": 0
      },
      "text/plain": [
       "  0%|          | 0/17 [00:00<?, ?it/s]"
      ]
     },
     "metadata": {},
     "output_type": "display_data"
    }
   ],
   "source": [
    "train_regions_gdf = get_regions(train_cities, resolution=RESOLUTION)\n",
    "val_regions_gdf = get_regions(val_cities, resolution=RESOLUTION)"
   ]
  },
  {
   "cell_type": "code",
   "execution_count": 14,
   "metadata": {},
   "outputs": [],
   "source": [
    "from srai.neighbourhoods import H3Neighbourhood\n",
    "\n",
    "train_neighbourhood = H3Neighbourhood(train_regions_gdf)\n",
    "val_neighbourhood = H3Neighbourhood(val_regions_gdf)"
   ]
  },
  {
   "cell_type": "code",
   "execution_count": 15,
   "metadata": {},
   "outputs": [],
   "source": [
    "from srai.loaders.osm_loaders.filters import HEX2VEC_FILTER"
   ]
  },
  {
   "cell_type": "code",
   "execution_count": 16,
   "metadata": {},
   "outputs": [
    {
     "data": {
      "text/plain": [
       "['aeroway_aerodrome',\n",
       " 'aeroway_apron',\n",
       " 'aeroway_gate',\n",
       " 'aeroway_hangar',\n",
       " 'aeroway_helipad',\n",
       " 'aeroway_heliport',\n",
       " 'aeroway_navigationaid',\n",
       " 'aeroway_runway',\n",
       " 'aeroway_taxiway',\n",
       " 'aeroway_terminal',\n",
       " 'aeroway_windsock',\n",
       " 'amenity_animal_boarding',\n",
       " 'amenity_animal_breeding',\n",
       " 'amenity_animal_shelter',\n",
       " 'amenity_arts_centre',\n",
       " 'amenity_atm',\n",
       " 'amenity_baby_hatch',\n",
       " 'amenity_bank',\n",
       " 'amenity_bar',\n",
       " 'amenity_bbq',\n",
       " 'amenity_bench',\n",
       " 'amenity_bicycle_parking',\n",
       " 'amenity_bicycle_rental',\n",
       " 'amenity_bicycle_repair_station',\n",
       " 'amenity_biergarten',\n",
       " 'amenity_boat_rental',\n",
       " 'amenity_boat_sharing',\n",
       " 'amenity_brothel',\n",
       " 'amenity_bureau_de_change',\n",
       " 'amenity_bus_station',\n",
       " 'amenity_cafe',\n",
       " 'amenity_car_rental',\n",
       " 'amenity_car_sharing',\n",
       " 'amenity_car_wash',\n",
       " 'amenity_casino',\n",
       " 'amenity_charging_station',\n",
       " 'amenity_childcare',\n",
       " 'amenity_cinema',\n",
       " 'amenity_clinic',\n",
       " 'amenity_clock',\n",
       " 'amenity_college',\n",
       " 'amenity_community_centre',\n",
       " 'amenity_conference_centre',\n",
       " 'amenity_courthouse',\n",
       " 'amenity_crematorium',\n",
       " 'amenity_dentist',\n",
       " 'amenity_dive_centre',\n",
       " 'amenity_doctors',\n",
       " 'amenity_dog_toilet',\n",
       " 'amenity_drinking_water',\n",
       " 'amenity_driving_school',\n",
       " 'amenity_embassy',\n",
       " 'amenity_events_venue',\n",
       " 'amenity_fast_food',\n",
       " 'amenity_ferry_terminal',\n",
       " 'amenity_fire_station',\n",
       " 'amenity_food_court',\n",
       " 'amenity_fountain',\n",
       " 'amenity_fuel',\n",
       " 'amenity_funeral_hall',\n",
       " 'amenity_gambling',\n",
       " 'amenity_give_box',\n",
       " 'amenity_grave_yard',\n",
       " 'amenity_grit_bin',\n",
       " 'amenity_gym',\n",
       " 'amenity_hospital',\n",
       " 'amenity_hunting_stand',\n",
       " 'amenity_ice_cream',\n",
       " 'amenity_internet_cafe',\n",
       " 'amenity_kindergarten',\n",
       " 'amenity_kitchen',\n",
       " 'amenity_kneipp_water_cure',\n",
       " 'amenity_language_school',\n",
       " 'amenity_library',\n",
       " 'amenity_lounger',\n",
       " 'amenity_love_hotel',\n",
       " 'amenity_marketplace',\n",
       " 'amenity_monastery',\n",
       " 'amenity_motorcycle_parking',\n",
       " 'amenity_music_school',\n",
       " 'amenity_nightclub',\n",
       " 'amenity_nursing_home',\n",
       " 'amenity_parking',\n",
       " 'amenity_parking_entrance',\n",
       " 'amenity_parking_space',\n",
       " 'amenity_pharmacy',\n",
       " 'amenity_photo_booth',\n",
       " 'amenity_place_of_mourning',\n",
       " 'amenity_place_of_worship',\n",
       " 'amenity_planetarium',\n",
       " 'amenity_police',\n",
       " 'amenity_post_box',\n",
       " 'amenity_post_depot',\n",
       " 'amenity_post_office',\n",
       " 'amenity_prison',\n",
       " 'amenity_pub',\n",
       " 'amenity_public_bath',\n",
       " 'amenity_public_bookcase',\n",
       " 'amenity_ranger_station',\n",
       " 'amenity_recycling',\n",
       " 'amenity_refugee_site',\n",
       " 'amenity_restaurant',\n",
       " 'amenity_sanitary_dump_station',\n",
       " 'amenity_school',\n",
       " 'amenity_shelter',\n",
       " 'amenity_shower',\n",
       " 'amenity_social_centre',\n",
       " 'amenity_social_facility',\n",
       " 'amenity_stripclub',\n",
       " 'amenity_studio',\n",
       " 'amenity_swingerclub',\n",
       " 'amenity_taxi',\n",
       " 'amenity_telephone',\n",
       " 'amenity_theatre',\n",
       " 'amenity_toilets',\n",
       " 'amenity_townhall',\n",
       " 'amenity_toy_library',\n",
       " 'amenity_university',\n",
       " 'amenity_vehicle_inspection',\n",
       " 'amenity_vending_machine',\n",
       " 'amenity_veterinary',\n",
       " 'amenity_waste_disposal',\n",
       " 'amenity_waste_transfer_station',\n",
       " 'amenity_water_point',\n",
       " 'amenity_watering_place',\n",
       " 'building_apartments',\n",
       " 'building_bakehouse',\n",
       " 'building_barn',\n",
       " 'building_bridge',\n",
       " 'building_bungalow',\n",
       " 'building_bunker',\n",
       " 'building_cabin',\n",
       " 'building_carport',\n",
       " 'building_cathedral',\n",
       " 'building_chapel',\n",
       " 'building_church',\n",
       " 'building_civic',\n",
       " 'building_college',\n",
       " 'building_commercial',\n",
       " 'building_conservatory',\n",
       " 'building_construction',\n",
       " 'building_container',\n",
       " 'building_cowshed',\n",
       " 'building_detached',\n",
       " 'building_dormitory',\n",
       " 'building_farm',\n",
       " 'building_farm_auxiliary',\n",
       " 'building_fire_station',\n",
       " 'building_garage',\n",
       " 'building_garages',\n",
       " 'building_gatehouse',\n",
       " 'building_government',\n",
       " 'building_grandstand',\n",
       " 'building_greenhouse',\n",
       " 'building_hangar',\n",
       " 'building_hospital',\n",
       " 'building_hotel',\n",
       " 'building_house',\n",
       " 'building_houseboat',\n",
       " 'building_hut',\n",
       " 'building_industrial',\n",
       " 'building_kindergarten',\n",
       " 'building_kiosk',\n",
       " 'building_military',\n",
       " 'building_monastery',\n",
       " 'building_mosque',\n",
       " 'building_office',\n",
       " 'building_parking',\n",
       " 'building_pavilion',\n",
       " 'building_presbytery',\n",
       " 'building_public',\n",
       " 'building_religious',\n",
       " 'building_residential',\n",
       " 'building_retail',\n",
       " 'building_riding_hall',\n",
       " 'building_roof',\n",
       " 'building_ruins',\n",
       " 'building_school',\n",
       " 'building_semidetached_house',\n",
       " 'building_service',\n",
       " 'building_shed',\n",
       " 'building_shrine',\n",
       " 'building_sports_hall',\n",
       " 'building_stable',\n",
       " 'building_stadium',\n",
       " 'building_static_caravan',\n",
       " 'building_sty',\n",
       " 'building_supermarket',\n",
       " 'building_synagogue',\n",
       " 'building_temple',\n",
       " 'building_terrace',\n",
       " 'building_toilets',\n",
       " 'building_train_station',\n",
       " 'building_transformer_tower',\n",
       " 'building_transportation',\n",
       " 'building_tree_house',\n",
       " 'building_university',\n",
       " 'building_warehouse',\n",
       " 'building_water_tower',\n",
       " 'building_yes',\n",
       " 'healthcare_alternative',\n",
       " 'healthcare_audiologist',\n",
       " 'healthcare_birthing_center',\n",
       " 'healthcare_blood_bank',\n",
       " 'healthcare_blood_donation',\n",
       " 'healthcare_counselling',\n",
       " 'healthcare_dialysis',\n",
       " 'healthcare_hospice',\n",
       " 'healthcare_laboratory',\n",
       " 'healthcare_midwife',\n",
       " 'healthcare_nurse',\n",
       " 'healthcare_occupational_therapist',\n",
       " 'healthcare_optometrist',\n",
       " 'healthcare_physiotherapist',\n",
       " 'healthcare_podiatrist',\n",
       " 'healthcare_psychotherapist',\n",
       " 'healthcare_rehabilitation',\n",
       " 'healthcare_sample_collection',\n",
       " 'healthcare_speech_therapist',\n",
       " 'healthcare_vaccination_centre',\n",
       " 'historic_aircraft',\n",
       " 'historic_aqueduct',\n",
       " 'historic_archaeological_site',\n",
       " 'historic_battlefield',\n",
       " 'historic_bomb_crater',\n",
       " 'historic_boundary_stone',\n",
       " 'historic_building',\n",
       " 'historic_cannon',\n",
       " 'historic_castle',\n",
       " 'historic_castle_wall',\n",
       " 'historic_charcoal_pile',\n",
       " 'historic_church',\n",
       " 'historic_city_gate',\n",
       " 'historic_citywalls',\n",
       " 'historic_farm',\n",
       " 'historic_fort',\n",
       " 'historic_highwater_mark',\n",
       " 'historic_locomotive',\n",
       " 'historic_manor',\n",
       " 'historic_memorial',\n",
       " 'historic_milestone',\n",
       " 'historic_monastery',\n",
       " 'historic_monument',\n",
       " 'historic_pillory',\n",
       " 'historic_railway_car',\n",
       " 'historic_ruins',\n",
       " 'historic_rune_stone',\n",
       " 'historic_ship',\n",
       " 'historic_tank',\n",
       " 'historic_tower',\n",
       " 'historic_wayside_cross',\n",
       " 'historic_wayside_shrine',\n",
       " 'historic_wreck',\n",
       " 'historic_yes',\n",
       " 'landuse_allotments',\n",
       " 'landuse_basin',\n",
       " 'landuse_brownfield',\n",
       " 'landuse_cemetery',\n",
       " 'landuse_commercial',\n",
       " 'landuse_conservation',\n",
       " 'landuse_construction',\n",
       " 'landuse_depot',\n",
       " 'landuse_farmland',\n",
       " 'landuse_farmyard',\n",
       " 'landuse_flowerbed',\n",
       " 'landuse_forest',\n",
       " 'landuse_garages',\n",
       " 'landuse_greenfield',\n",
       " 'landuse_greenhouse_horticulture',\n",
       " 'landuse_industrial',\n",
       " 'landuse_landfill',\n",
       " 'landuse_meadow',\n",
       " 'landuse_military',\n",
       " 'landuse_orchard',\n",
       " 'landuse_plant_nursery',\n",
       " 'landuse_port',\n",
       " 'landuse_quarry',\n",
       " 'landuse_railway',\n",
       " 'landuse_recreation_ground',\n",
       " 'landuse_religious',\n",
       " 'landuse_reservoir',\n",
       " 'landuse_residential',\n",
       " 'landuse_retail',\n",
       " 'landuse_village_green',\n",
       " 'landuse_vineyard',\n",
       " 'landuse_winter_sports',\n",
       " 'leisure_adult_gaming_centre',\n",
       " 'leisure_amusement_arcade',\n",
       " 'leisure_bandstand',\n",
       " 'leisure_beach_resort',\n",
       " 'leisure_bird_hide',\n",
       " 'leisure_common',\n",
       " 'leisure_dance',\n",
       " 'leisure_disc_golf_course',\n",
       " 'leisure_dog_park',\n",
       " 'leisure_escape_game',\n",
       " 'leisure_firepit',\n",
       " 'leisure_fishing',\n",
       " 'leisure_fitness_centre',\n",
       " 'leisure_fitness_station',\n",
       " 'leisure_garden',\n",
       " 'leisure_hackerspace',\n",
       " 'leisure_horse_riding',\n",
       " 'leisure_ice_rink',\n",
       " 'leisure_marina',\n",
       " 'leisure_miniature_golf',\n",
       " 'leisure_nature_reserve',\n",
       " 'leisure_park',\n",
       " 'leisure_picnic_table',\n",
       " 'leisure_pitch',\n",
       " 'leisure_playground',\n",
       " 'leisure_slipway',\n",
       " 'leisure_sports_centre',\n",
       " 'leisure_stadium',\n",
       " 'leisure_summer_camp',\n",
       " 'leisure_swimming_area',\n",
       " 'leisure_swimming_pool',\n",
       " 'leisure_track',\n",
       " 'leisure_water_park',\n",
       " 'military_airfield',\n",
       " 'military_barracks',\n",
       " 'military_bunker',\n",
       " 'military_checkpoint',\n",
       " 'military_danger_area',\n",
       " 'military_naval_base',\n",
       " 'military_obstacle_course',\n",
       " 'military_office',\n",
       " 'military_range',\n",
       " 'military_training_area',\n",
       " 'military_trench',\n",
       " 'natural_arete',\n",
       " 'natural_bare_rock',\n",
       " 'natural_bay',\n",
       " 'natural_beach',\n",
       " 'natural_cape',\n",
       " 'natural_cave_entrance',\n",
       " 'natural_cliff',\n",
       " 'natural_coastline',\n",
       " 'natural_dune',\n",
       " 'natural_fell',\n",
       " 'natural_grassland',\n",
       " 'natural_heath',\n",
       " 'natural_hot_spring',\n",
       " 'natural_isthmus',\n",
       " 'natural_mud',\n",
       " 'natural_peak',\n",
       " 'natural_peninsula',\n",
       " 'natural_reef',\n",
       " 'natural_ridge',\n",
       " 'natural_rock',\n",
       " 'natural_saddle',\n",
       " 'natural_sand',\n",
       " 'natural_scree',\n",
       " 'natural_scrub',\n",
       " 'natural_shingle',\n",
       " 'natural_sinkhole',\n",
       " 'natural_spring',\n",
       " 'natural_stone',\n",
       " 'natural_strait',\n",
       " 'natural_water',\n",
       " 'natural_wetland',\n",
       " 'natural_wood',\n",
       " 'office_accountant',\n",
       " 'office_advertising_agency',\n",
       " 'office_architect',\n",
       " 'office_association',\n",
       " 'office_charity',\n",
       " 'office_company',\n",
       " 'office_consulting',\n",
       " 'office_courier',\n",
       " 'office_coworking',\n",
       " 'office_diplomatic',\n",
       " 'office_educational_institution',\n",
       " 'office_employment_agency',\n",
       " 'office_energy_supplier',\n",
       " 'office_engineer',\n",
       " 'office_estate_agent',\n",
       " 'office_financial',\n",
       " 'office_financial_advisor',\n",
       " 'office_forestry',\n",
       " 'office_foundation',\n",
       " 'office_government',\n",
       " 'office_guide',\n",
       " 'office_insurance',\n",
       " 'office_it',\n",
       " 'office_lawyer',\n",
       " 'office_logistics',\n",
       " 'office_moving_company',\n",
       " 'office_newspaper',\n",
       " 'office_ngo',\n",
       " 'office_notary',\n",
       " 'office_political_party',\n",
       " 'office_property_management',\n",
       " 'office_quango',\n",
       " 'office_religion',\n",
       " 'office_research',\n",
       " 'office_surveyor',\n",
       " 'office_tax_advisor',\n",
       " 'office_telecommunication',\n",
       " 'office_visa',\n",
       " 'office_water_utility',\n",
       " 'office_yes',\n",
       " 'shop_agrarian',\n",
       " 'shop_alcohol',\n",
       " 'shop_anime',\n",
       " 'shop_antiques',\n",
       " 'shop_appliance',\n",
       " 'shop_art',\n",
       " 'shop_atv',\n",
       " 'shop_baby_goods',\n",
       " 'shop_bag',\n",
       " 'shop_bakery',\n",
       " 'shop_bathroom_furnishing',\n",
       " 'shop_beauty',\n",
       " 'shop_bed',\n",
       " 'shop_beverages',\n",
       " 'shop_bicycle',\n",
       " 'shop_boat',\n",
       " 'shop_bookmaker',\n",
       " 'shop_books',\n",
       " 'shop_boutique',\n",
       " 'shop_brewing_supplies',\n",
       " 'shop_butcher',\n",
       " 'shop_camera',\n",
       " 'shop_candles',\n",
       " 'shop_cannabis',\n",
       " 'shop_car',\n",
       " 'shop_car_parts',\n",
       " 'shop_car_repair',\n",
       " 'shop_caravan',\n",
       " 'shop_carpet',\n",
       " 'shop_charity',\n",
       " 'shop_cheese',\n",
       " 'shop_chemist',\n",
       " 'shop_chocolate',\n",
       " 'shop_clothes',\n",
       " 'shop_coffee',\n",
       " 'shop_collector',\n",
       " 'shop_computer',\n",
       " 'shop_confectionery',\n",
       " 'shop_convenience',\n",
       " 'shop_copyshop',\n",
       " 'shop_cosmetics',\n",
       " 'shop_craft',\n",
       " 'shop_curtain',\n",
       " 'shop_dairy',\n",
       " 'shop_deli',\n",
       " 'shop_department_store',\n",
       " 'shop_doityourself',\n",
       " 'shop_doors',\n",
       " 'shop_drugstore',\n",
       " 'shop_dry_cleaning',\n",
       " 'shop_electrical',\n",
       " 'shop_electronics',\n",
       " 'shop_energy',\n",
       " 'shop_erotic',\n",
       " 'shop_fabric',\n",
       " 'shop_farm',\n",
       " 'shop_fashion',\n",
       " 'shop_fashion_accessories',\n",
       " 'shop_fireplace',\n",
       " 'shop_fishing',\n",
       " 'shop_flooring',\n",
       " 'shop_florist',\n",
       " 'shop_frame',\n",
       " 'shop_frozen_food',\n",
       " 'shop_fuel',\n",
       " 'shop_funeral_directors',\n",
       " 'shop_furniture',\n",
       " 'shop_games',\n",
       " 'shop_garden_centre',\n",
       " 'shop_garden_furniture',\n",
       " 'shop_gas',\n",
       " 'shop_general',\n",
       " 'shop_gift',\n",
       " 'shop_glaziery',\n",
       " 'shop_golf',\n",
       " 'shop_greengrocer',\n",
       " 'shop_groundskeeping',\n",
       " 'shop_hairdresser',\n",
       " 'shop_hairdresser_supply',\n",
       " 'shop_hardware',\n",
       " 'shop_health_food',\n",
       " 'shop_hearing_aids',\n",
       " 'shop_herbalist',\n",
       " 'shop_hifi',\n",
       " 'shop_household_linen',\n",
       " 'shop_houseware',\n",
       " 'shop_hunting',\n",
       " 'shop_ice_cream',\n",
       " 'shop_interior_decoration',\n",
       " 'shop_jewelry',\n",
       " 'shop_kiosk',\n",
       " 'shop_kitchen',\n",
       " 'shop_lamps',\n",
       " 'shop_laundry',\n",
       " 'shop_leather',\n",
       " 'shop_lighting',\n",
       " 'shop_locksmith',\n",
       " 'shop_lottery',\n",
       " 'shop_mall',\n",
       " 'shop_massage',\n",
       " 'shop_medical_supply',\n",
       " 'shop_military_surplus',\n",
       " 'shop_mobile_phone',\n",
       " 'shop_model',\n",
       " 'shop_money_lender',\n",
       " 'shop_motorcycle',\n",
       " 'shop_music',\n",
       " 'shop_musical_instrument',\n",
       " 'shop_newsagent',\n",
       " 'shop_nutrition_supplements',\n",
       " 'shop_optician',\n",
       " 'shop_organic',\n",
       " 'shop_outdoor',\n",
       " 'shop_outpost',\n",
       " 'shop_paint',\n",
       " 'shop_party',\n",
       " 'shop_pasta',\n",
       " 'shop_pastry',\n",
       " 'shop_pawnbroker',\n",
       " 'shop_perfumery',\n",
       " 'shop_pest_control',\n",
       " 'shop_pet',\n",
       " 'shop_pet_grooming',\n",
       " 'shop_photo',\n",
       " 'shop_pyrotechnics',\n",
       " 'shop_radiotechnics',\n",
       " 'shop_religion',\n",
       " 'shop_scuba_diving',\n",
       " 'shop_seafood',\n",
       " 'shop_second_hand',\n",
       " 'shop_security',\n",
       " 'shop_sewing',\n",
       " 'shop_shoes',\n",
       " 'shop_ski',\n",
       " 'shop_spices',\n",
       " 'shop_sports',\n",
       " 'shop_stationery',\n",
       " 'shop_storage_rental',\n",
       " 'shop_supermarket',\n",
       " 'shop_swimming_pool',\n",
       " 'shop_tailor',\n",
       " 'shop_tattoo',\n",
       " 'shop_tea',\n",
       " 'shop_ticket',\n",
       " 'shop_tiles',\n",
       " 'shop_tobacco',\n",
       " 'shop_toys',\n",
       " 'shop_trade',\n",
       " 'shop_travel_agency',\n",
       " 'shop_trophy',\n",
       " 'shop_tyres',\n",
       " 'shop_vacant',\n",
       " 'shop_vacuum_cleaner',\n",
       " 'shop_variety_store',\n",
       " 'shop_video',\n",
       " 'shop_video_games',\n",
       " 'shop_watches',\n",
       " 'shop_water',\n",
       " 'shop_weapons',\n",
       " 'shop_wholesale',\n",
       " 'shop_window_blind',\n",
       " 'shop_windows',\n",
       " 'shop_wine',\n",
       " 'shop_wool',\n",
       " 'sport_10pin',\n",
       " 'sport_9pin',\n",
       " 'sport_aikido',\n",
       " 'sport_american_football',\n",
       " 'sport_archery',\n",
       " 'sport_athletics',\n",
       " 'sport_badminton',\n",
       " 'sport_bandy',\n",
       " 'sport_baseball',\n",
       " 'sport_basketball',\n",
       " 'sport_beachvolleyball',\n",
       " 'sport_biathlon',\n",
       " 'sport_billiards',\n",
       " 'sport_bmx',\n",
       " 'sport_bobsleigh',\n",
       " 'sport_boules',\n",
       " 'sport_bowls',\n",
       " 'sport_boxing',\n",
       " 'sport_bullfighting',\n",
       " 'sport_canadian_football',\n",
       " 'sport_canoe',\n",
       " 'sport_chess',\n",
       " 'sport_cliff_diving',\n",
       " 'sport_climbing',\n",
       " 'sport_climbing_adventure',\n",
       " 'sport_cricket',\n",
       " 'sport_croquet',\n",
       " 'sport_crossfit',\n",
       " 'sport_curling',\n",
       " 'sport_cycling',\n",
       " 'sport_darts',\n",
       " 'sport_dog_agility',\n",
       " 'sport_dog_racing',\n",
       " 'sport_equestrian',\n",
       " 'sport_fencing',\n",
       " 'sport_field_hockey',\n",
       " 'sport_fitness',\n",
       " 'sport_floorball',\n",
       " 'sport_free_flying',\n",
       " 'sport_futsal',\n",
       " 'sport_gaelic_games',\n",
       " 'sport_golf',\n",
       " 'sport_gymnastics',\n",
       " 'sport_handball',\n",
       " 'sport_hapkido',\n",
       " 'sport_horse_racing',\n",
       " 'sport_horseshoes',\n",
       " 'sport_ice_hockey',\n",
       " 'sport_ice_skating',\n",
       " 'sport_ice_stock',\n",
       " 'sport_judo',\n",
       " 'sport_karate',\n",
       " 'sport_karting',\n",
       " 'sport_kickboxing',\n",
       " 'sport_kitesurfing',\n",
       " 'sport_korfball',\n",
       " 'sport_lacrosse',\n",
       " 'sport_martial_arts',\n",
       " 'sport_miniature_golf',\n",
       " 'sport_model_aerodrome',\n",
       " 'sport_motocross',\n",
       " 'sport_motor',\n",
       " 'sport_multi',\n",
       " 'sport_netball',\n",
       " 'sport_obstacle_course',\n",
       " 'sport_orienteering',\n",
       " 'sport_paddle_tennis',\n",
       " 'sport_padel',\n",
       " 'sport_parachuting',\n",
       " 'sport_parkour',\n",
       " 'sport_pelota',\n",
       " 'sport_pickleball',\n",
       " 'sport_pilates',\n",
       " 'sport_pole_dance',\n",
       " 'sport_racquet',\n",
       " 'sport_rc_car',\n",
       " 'sport_roller_skating',\n",
       " 'sport_rowing',\n",
       " 'sport_rugby_league',\n",
       " 'sport_rugby_union',\n",
       " 'sport_running',\n",
       " 'sport_sailing',\n",
       " 'sport_scuba_diving',\n",
       " 'sport_shooting',\n",
       " 'sport_skateboard',\n",
       " 'sport_ski_jumping',\n",
       " 'sport_skiing',\n",
       " 'sport_snooker',\n",
       " 'sport_soccer',\n",
       " 'sport_speedway',\n",
       " 'sport_squash',\n",
       " 'sport_surfing',\n",
       " 'sport_swimming',\n",
       " 'sport_table_soccer',\n",
       " 'sport_table_tennis',\n",
       " 'sport_taekwondo',\n",
       " 'sport_tennis',\n",
       " 'sport_toboggan',\n",
       " 'sport_volleyball',\n",
       " 'sport_wakeboarding',\n",
       " 'sport_water_polo',\n",
       " 'sport_water_ski',\n",
       " 'sport_weightlifting',\n",
       " 'sport_wrestling',\n",
       " 'sport_yoga',\n",
       " 'tourism_alpine_hut',\n",
       " 'tourism_apartment',\n",
       " 'tourism_aquarium',\n",
       " 'tourism_artwork',\n",
       " 'tourism_attraction',\n",
       " 'tourism_camp_pitch',\n",
       " 'tourism_camp_site',\n",
       " 'tourism_caravan_site',\n",
       " 'tourism_chalet',\n",
       " 'tourism_gallery',\n",
       " 'tourism_guest_house',\n",
       " 'tourism_hostel',\n",
       " 'tourism_hotel',\n",
       " 'tourism_information',\n",
       " 'tourism_motel',\n",
       " 'tourism_museum',\n",
       " 'tourism_picnic_site',\n",
       " 'tourism_theme_park',\n",
       " 'tourism_viewpoint',\n",
       " 'tourism_wilderness_hut',\n",
       " 'tourism_yes',\n",
       " 'tourism_zoo',\n",
       " 'water_basin',\n",
       " 'water_canal',\n",
       " 'water_ditch',\n",
       " 'water_fish_pass',\n",
       " 'water_lagoon',\n",
       " 'water_lake',\n",
       " 'water_lock',\n",
       " 'water_moat',\n",
       " 'water_oxbow',\n",
       " 'water_pond',\n",
       " 'water_reflecting_pool',\n",
       " 'water_reservoir',\n",
       " 'water_river',\n",
       " 'water_wastewater',\n",
       " 'waterway_boatyard',\n",
       " 'waterway_canal',\n",
       " 'waterway_dam',\n",
       " 'waterway_ditch',\n",
       " 'waterway_dock',\n",
       " 'waterway_drain',\n",
       " 'waterway_fairway',\n",
       " 'waterway_fuel',\n",
       " 'waterway_lock_gate',\n",
       " 'waterway_pressurised',\n",
       " 'waterway_river',\n",
       " 'waterway_riverbank',\n",
       " 'waterway_stream',\n",
       " 'waterway_tidal_channel',\n",
       " 'waterway_turning_point',\n",
       " 'waterway_water_point',\n",
       " 'waterway_waterfall',\n",
       " 'waterway_weir']"
      ]
     },
     "execution_count": 16,
     "metadata": {},
     "output_type": "execute_result"
    }
   ],
   "source": [
    "from srai.embedders.hex2vec import Hex2VecEmbedder\n",
    "from functional import seq\n",
    "\n",
    "\n",
    "expected_output_features = seq(HEX2VEC_FILTER.items()).starmap(lambda k, v: list(map(lambda x: f\"{k}_{x}\", v))).flatten().list()\n",
    "expected_output_features"
   ]
  },
  {
   "cell_type": "code",
   "execution_count": 18,
   "metadata": {},
   "outputs": [],
   "source": [
    "def get_features(cities: List[str]) -> gpd.GeoDataFrame:\n",
    "    features = [\n",
    "        gpd.read_parquet(f\"data/raw/{city}.parquet\") for city in tqdm(cities)\n",
    "    ]\n",
    "    features = pd.concat(features)\n",
    "    features = features[~features.index.duplicated(keep='first')]\n",
    "    return features"
   ]
  },
  {
   "cell_type": "code",
   "execution_count": 19,
   "metadata": {},
   "outputs": [
    {
     "data": {
      "application/vnd.jupyter.widget-view+json": {
       "model_id": "b8e84c8748ba48ea829a4a75ec5f4310",
       "version_major": 2,
       "version_minor": 0
      },
      "text/plain": [
       "  0%|          | 0/66 [00:00<?, ?it/s]"
      ]
     },
     "metadata": {},
     "output_type": "display_data"
    },
    {
     "data": {
      "application/vnd.jupyter.widget-view+json": {
       "model_id": "2d520f52b5ba457da4bf9824ff2e34da",
       "version_major": 2,
       "version_minor": 0
      },
      "text/plain": [
       "  0%|          | 0/17 [00:00<?, ?it/s]"
      ]
     },
     "metadata": {},
     "output_type": "display_data"
    }
   ],
   "source": [
    "train_features = get_features(train_cities)\n",
    "val_features = get_features(val_cities)"
   ]
  },
  {
   "cell_type": "code",
   "execution_count": 20,
   "metadata": {},
   "outputs": [
    {
     "data": {
      "text/html": [
       "<div>\n",
       "<style scoped>\n",
       "    .dataframe tbody tr th:only-of-type {\n",
       "        vertical-align: middle;\n",
       "    }\n",
       "\n",
       "    .dataframe tbody tr th {\n",
       "        vertical-align: top;\n",
       "    }\n",
       "\n",
       "    .dataframe thead th {\n",
       "        text-align: right;\n",
       "    }\n",
       "</style>\n",
       "<table border=\"1\" class=\"dataframe\">\n",
       "  <thead>\n",
       "    <tr style=\"text-align: right;\">\n",
       "      <th></th>\n",
       "      <th>geometry</th>\n",
       "    </tr>\n",
       "    <tr>\n",
       "      <th>region_id</th>\n",
       "      <th></th>\n",
       "    </tr>\n",
       "  </thead>\n",
       "  <tbody>\n",
       "    <tr>\n",
       "      <th>891f53d9883ffff</th>\n",
       "      <td>POLYGON ((20.94988 52.35291, 20.94734 52.35374...</td>\n",
       "    </tr>\n",
       "    <tr>\n",
       "      <th>891f53ca6cfffff</th>\n",
       "      <td>POLYGON ((20.99257 52.32545, 20.99517 52.32626...</td>\n",
       "    </tr>\n",
       "    <tr>\n",
       "      <th>891f53514c3ffff</th>\n",
       "      <td>POLYGON ((21.07033 52.13857, 21.07026 52.13691...</td>\n",
       "    </tr>\n",
       "    <tr>\n",
       "      <th>891f53525cfffff</th>\n",
       "      <td>POLYGON ((21.16832 52.22027, 21.17092 52.22109...</td>\n",
       "    </tr>\n",
       "    <tr>\n",
       "      <th>891f5226bcbffff</th>\n",
       "      <td>POLYGON ((20.99968 52.16874, 21.00227 52.16956...</td>\n",
       "    </tr>\n",
       "    <tr>\n",
       "      <th>...</th>\n",
       "      <td>...</td>\n",
       "    </tr>\n",
       "    <tr>\n",
       "      <th>891f50308c7ffff</th>\n",
       "      <td>POLYGON ((21.54940 53.10493, 21.54933 53.10329...</td>\n",
       "    </tr>\n",
       "    <tr>\n",
       "      <th>891f5030aabffff</th>\n",
       "      <td>POLYGON ((21.54602 53.08778, 21.54594 53.08614...</td>\n",
       "    </tr>\n",
       "    <tr>\n",
       "      <th>891f503549bffff</th>\n",
       "      <td>POLYGON ((21.62243 53.10924, 21.62235 53.10761...</td>\n",
       "    </tr>\n",
       "    <tr>\n",
       "      <th>891f5030bafffff</th>\n",
       "      <td>POLYGON ((21.58760 53.08744, 21.58753 53.08581...</td>\n",
       "    </tr>\n",
       "    <tr>\n",
       "      <th>891f50220a3ffff</th>\n",
       "      <td>POLYGON ((21.58353 53.05556, 21.58345 53.05392...</td>\n",
       "    </tr>\n",
       "  </tbody>\n",
       "</table>\n",
       "<p>81999 rows × 1 columns</p>\n",
       "</div>"
      ],
      "text/plain": [
       "                                                          geometry\n",
       "region_id                                                         \n",
       "891f53d9883ffff  POLYGON ((20.94988 52.35291, 20.94734 52.35374...\n",
       "891f53ca6cfffff  POLYGON ((20.99257 52.32545, 20.99517 52.32626...\n",
       "891f53514c3ffff  POLYGON ((21.07033 52.13857, 21.07026 52.13691...\n",
       "891f53525cfffff  POLYGON ((21.16832 52.22027, 21.17092 52.22109...\n",
       "891f5226bcbffff  POLYGON ((20.99968 52.16874, 21.00227 52.16956...\n",
       "...                                                            ...\n",
       "891f50308c7ffff  POLYGON ((21.54940 53.10493, 21.54933 53.10329...\n",
       "891f5030aabffff  POLYGON ((21.54602 53.08778, 21.54594 53.08614...\n",
       "891f503549bffff  POLYGON ((21.62243 53.10924, 21.62235 53.10761...\n",
       "891f5030bafffff  POLYGON ((21.58760 53.08744, 21.58753 53.08581...\n",
       "891f50220a3ffff  POLYGON ((21.58353 53.05556, 21.58345 53.05392...\n",
       "\n",
       "[81999 rows x 1 columns]"
      ]
     },
     "execution_count": 20,
     "metadata": {},
     "output_type": "execute_result"
    }
   ],
   "source": [
    "train_regions_gdf"
   ]
  },
  {
   "cell_type": "code",
   "execution_count": 21,
   "metadata": {},
   "outputs": [],
   "source": [
    "from srai.joiners import IntersectionJoiner\n",
    "\n",
    "joiner = IntersectionJoiner()\n",
    "train_joint = joiner.transform(train_regions_gdf, train_features)\n",
    "val_joint = joiner.transform(val_regions_gdf, val_features)"
   ]
  },
  {
   "cell_type": "code",
   "execution_count": 22,
   "metadata": {},
   "outputs": [],
   "source": [
    "experiment_model_sizes = [\n",
    "    [256, 128, 64],\n",
    "    [128, 64],\n",
    "    [1024, 512],\n",
    "    [2048, 1024],\n",
    "    [2048, 1024, 512],\n",
    "    [256, 128, 64, 32],\n",
    "]"
   ]
  },
  {
   "cell_type": "code",
   "execution_count": 26,
   "metadata": {},
   "outputs": [],
   "source": [
    "EPOCHS = 20"
   ]
  },
  {
   "cell_type": "code",
   "execution_count": 27,
   "metadata": {},
   "outputs": [
    {
     "data": {
      "text/html": [
       "wandb version 0.15.5 is available!  To upgrade, please run:\n",
       " $ pip install wandb --upgrade"
      ],
      "text/plain": [
       "<IPython.core.display.HTML object>"
      ]
     },
     "metadata": {},
     "output_type": "display_data"
    },
    {
     "data": {
      "text/html": [
       "Tracking run with wandb version 0.15.3"
      ],
      "text/plain": [
       "<IPython.core.display.HTML object>"
      ]
     },
     "metadata": {},
     "output_type": "display_data"
    },
    {
     "data": {
      "text/html": [
       "Run data is saved locally in <code>./wandb/run-20230716_225906-ev0y5bl7</code>"
      ],
      "text/plain": [
       "<IPython.core.display.HTML object>"
      ]
     },
     "metadata": {},
     "output_type": "display_data"
    },
    {
     "data": {
      "text/html": [
       "Syncing run <strong><a href='https://wandb.ai/pwr-spatial-lab/hex2vec_pl_r9_b1024_50k/runs/ev0y5bl7' target=\"_blank\">model_sizes=[256, 128, 64]</a></strong> to <a href='https://wandb.ai/pwr-spatial-lab/hex2vec_pl_r9_b1024_50k' target=\"_blank\">Weights & Biases</a> (<a href='https://wandb.me/run' target=\"_blank\">docs</a>)<br/>"
      ],
      "text/plain": [
       "<IPython.core.display.HTML object>"
      ]
     },
     "metadata": {},
     "output_type": "display_data"
    },
    {
     "data": {
      "text/html": [
       " View project at <a href='https://wandb.ai/pwr-spatial-lab/hex2vec_pl_r9_b1024_50k' target=\"_blank\">https://wandb.ai/pwr-spatial-lab/hex2vec_pl_r9_b1024_50k</a>"
      ],
      "text/plain": [
       "<IPython.core.display.HTML object>"
      ]
     },
     "metadata": {},
     "output_type": "display_data"
    },
    {
     "data": {
      "text/html": [
       " View run at <a href='https://wandb.ai/pwr-spatial-lab/hex2vec_pl_r9_b1024_50k/runs/ev0y5bl7' target=\"_blank\">https://wandb.ai/pwr-spatial-lab/hex2vec_pl_r9_b1024_50k/runs/ev0y5bl7</a>"
      ],
      "text/plain": [
       "<IPython.core.display.HTML object>"
      ]
     },
     "metadata": {},
     "output_type": "display_data"
    },
    {
     "name": "stderr",
     "output_type": "stream",
     "text": [
      "100%|██████████| 81999/81999 [00:02<00:00, 35528.44it/s]\n",
      "GPU available: True (cuda), used: True\n",
      "TPU available: False, using: 0 TPU cores\n",
      "IPU available: False, using: 0 IPUs\n",
      "HPU available: False, using: 0 HPUs\n",
      "100%|██████████| 17613/17613 [00:00<00:00, 33277.15it/s]\n",
      "You are using a CUDA device ('NVIDIA GeForce RTX 4080') that has Tensor Cores. To properly utilize them, you should set `torch.set_float32_matmul_precision('medium' | 'high')` which will trade-off precision for performance. For more details, read https://pytorch.org/docs/stable/generated/torch.set_float32_matmul_precision.html#torch.set_float32_matmul_precision\n",
      "/home/swozniak/projects/srai/.venv/lib/python3.8/site-packages/pytorch_lightning/callbacks/model_checkpoint.py:612: UserWarning: Checkpoint directory /home/swozniak/projects/srai/models_9/[256, 128, 64] exists and is not empty.\n",
      "  rank_zero_warn(f\"Checkpoint directory {dirpath} exists and is not empty.\")\n",
      "LOCAL_RANK: 0 - CUDA_VISIBLE_DEVICES: [0]\n",
      "\n",
      "  | Name    | Type       | Params\n",
      "---------------------------------------\n",
      "0 | encoder | Sequential | 227 K \n",
      "---------------------------------------\n",
      "227 K     Trainable params\n",
      "0         Non-trainable params\n",
      "227 K     Total params\n",
      "0.908     Total estimated model params size (MB)\n"
     ]
    },
    {
     "data": {
      "application/vnd.jupyter.widget-view+json": {
       "model_id": "3f91e02bcb884552a4ea561cef61548d",
       "version_major": 2,
       "version_minor": 0
      },
      "text/plain": [
       "Sanity Checking: 0it [00:00, ?it/s]"
      ]
     },
     "metadata": {},
     "output_type": "display_data"
    },
    {
     "name": "stderr",
     "output_type": "stream",
     "text": [
      "/home/swozniak/projects/srai/.venv/lib/python3.8/site-packages/pytorch_lightning/trainer/connectors/data_connector.py:430: PossibleUserWarning: The dataloader, val_dataloader, does not have many workers which may be a bottleneck. Consider increasing the value of the `num_workers` argument` (try 16 which is the number of cpus on this machine) in the `DataLoader` init to improve performance.\n",
      "  rank_zero_warn(\n",
      "/home/swozniak/projects/srai/.venv/lib/python3.8/site-packages/pytorch_lightning/trainer/connectors/data_connector.py:430: PossibleUserWarning: The dataloader, train_dataloader, does not have many workers which may be a bottleneck. Consider increasing the value of the `num_workers` argument` (try 16 which is the number of cpus on this machine) in the `DataLoader` init to improve performance.\n",
      "  rank_zero_warn(\n"
     ]
    },
    {
     "data": {
      "application/vnd.jupyter.widget-view+json": {
       "model_id": "1b3b20c3802f41149a3ccc8f3100f5b5",
       "version_major": 2,
       "version_minor": 0
      },
      "text/plain": [
       "Training: 0it [00:00, ?it/s]"
      ]
     },
     "metadata": {},
     "output_type": "display_data"
    },
    {
     "data": {
      "application/vnd.jupyter.widget-view+json": {
       "model_id": "ad1af07ea4114364b48d81996aea5fe9",
       "version_major": 2,
       "version_minor": 0
      },
      "text/plain": [
       "Validation: 0it [00:00, ?it/s]"
      ]
     },
     "metadata": {},
     "output_type": "display_data"
    },
    {
     "data": {
      "application/vnd.jupyter.widget-view+json": {
       "model_id": "d3de123ddb164d2884a1e5bdbfbec8df",
       "version_major": 2,
       "version_minor": 0
      },
      "text/plain": [
       "Validation: 0it [00:00, ?it/s]"
      ]
     },
     "metadata": {},
     "output_type": "display_data"
    },
    {
     "data": {
      "application/vnd.jupyter.widget-view+json": {
       "model_id": "2bbf6bdd2ad2463794a56c06a59532d0",
       "version_major": 2,
       "version_minor": 0
      },
      "text/plain": [
       "Validation: 0it [00:00, ?it/s]"
      ]
     },
     "metadata": {},
     "output_type": "display_data"
    },
    {
     "data": {
      "application/vnd.jupyter.widget-view+json": {
       "model_id": "b7a22ffd998846dfb7c663347a5af948",
       "version_major": 2,
       "version_minor": 0
      },
      "text/plain": [
       "Validation: 0it [00:00, ?it/s]"
      ]
     },
     "metadata": {},
     "output_type": "display_data"
    },
    {
     "data": {
      "application/vnd.jupyter.widget-view+json": {
       "model_id": "3bf98c891a6f4595867aba0a3202403c",
       "version_major": 2,
       "version_minor": 0
      },
      "text/plain": [
       "Validation: 0it [00:00, ?it/s]"
      ]
     },
     "metadata": {},
     "output_type": "display_data"
    },
    {
     "data": {
      "application/vnd.jupyter.widget-view+json": {
       "model_id": "009a1b589bc348abaf5be8820c804bf9",
       "version_major": 2,
       "version_minor": 0
      },
      "text/plain": [
       "Validation: 0it [00:00, ?it/s]"
      ]
     },
     "metadata": {},
     "output_type": "display_data"
    },
    {
     "data": {
      "application/vnd.jupyter.widget-view+json": {
       "model_id": "cfcad14e2cd24d2a904862b5614ac7ee",
       "version_major": 2,
       "version_minor": 0
      },
      "text/plain": [
       "Validation: 0it [00:00, ?it/s]"
      ]
     },
     "metadata": {},
     "output_type": "display_data"
    },
    {
     "data": {
      "application/vnd.jupyter.widget-view+json": {
       "model_id": "a011421454ef4924b025de3854d84752",
       "version_major": 2,
       "version_minor": 0
      },
      "text/plain": [
       "Validation: 0it [00:00, ?it/s]"
      ]
     },
     "metadata": {},
     "output_type": "display_data"
    },
    {
     "data": {
      "application/vnd.jupyter.widget-view+json": {
       "model_id": "fe98a6253f774047b58930c5053e0a06",
       "version_major": 2,
       "version_minor": 0
      },
      "text/plain": [
       "Validation: 0it [00:00, ?it/s]"
      ]
     },
     "metadata": {},
     "output_type": "display_data"
    },
    {
     "data": {
      "application/vnd.jupyter.widget-view+json": {
       "model_id": "6531c25b330544a7b9238b6d500f5bf6",
       "version_major": 2,
       "version_minor": 0
      },
      "text/plain": [
       "Validation: 0it [00:00, ?it/s]"
      ]
     },
     "metadata": {},
     "output_type": "display_data"
    },
    {
     "data": {
      "application/vnd.jupyter.widget-view+json": {
       "model_id": "efb4850cd27d43c1a7aa60e04e4db1d8",
       "version_major": 2,
       "version_minor": 0
      },
      "text/plain": [
       "Validation: 0it [00:00, ?it/s]"
      ]
     },
     "metadata": {},
     "output_type": "display_data"
    },
    {
     "data": {
      "application/vnd.jupyter.widget-view+json": {
       "model_id": "c0a66a06b766488f9b2dfa04fdc29dfd",
       "version_major": 2,
       "version_minor": 0
      },
      "text/plain": [
       "Validation: 0it [00:00, ?it/s]"
      ]
     },
     "metadata": {},
     "output_type": "display_data"
    },
    {
     "data": {
      "application/vnd.jupyter.widget-view+json": {
       "model_id": "088586f298994b4b88f9d54b95fef34a",
       "version_major": 2,
       "version_minor": 0
      },
      "text/plain": [
       "Validation: 0it [00:00, ?it/s]"
      ]
     },
     "metadata": {},
     "output_type": "display_data"
    },
    {
     "data": {
      "application/vnd.jupyter.widget-view+json": {
       "model_id": "c610087ab70e47f5881c451be7e08675",
       "version_major": 2,
       "version_minor": 0
      },
      "text/plain": [
       "Validation: 0it [00:00, ?it/s]"
      ]
     },
     "metadata": {},
     "output_type": "display_data"
    },
    {
     "data": {
      "application/vnd.jupyter.widget-view+json": {
       "model_id": "5a32d66dd567456892c50e3eb56d95ca",
       "version_major": 2,
       "version_minor": 0
      },
      "text/plain": [
       "Validation: 0it [00:00, ?it/s]"
      ]
     },
     "metadata": {},
     "output_type": "display_data"
    },
    {
     "data": {
      "application/vnd.jupyter.widget-view+json": {
       "model_id": "b13cef71618c4e119ce6225bd1f8d821",
       "version_major": 2,
       "version_minor": 0
      },
      "text/plain": [
       "Validation: 0it [00:00, ?it/s]"
      ]
     },
     "metadata": {},
     "output_type": "display_data"
    },
    {
     "data": {
      "application/vnd.jupyter.widget-view+json": {
       "model_id": "8149b8b9d066428b8c08f3a9d32994ec",
       "version_major": 2,
       "version_minor": 0
      },
      "text/plain": [
       "Validation: 0it [00:00, ?it/s]"
      ]
     },
     "metadata": {},
     "output_type": "display_data"
    },
    {
     "data": {
      "application/vnd.jupyter.widget-view+json": {
       "model_id": "6e9e54ec6eb84c10ac61c2f8cddc1051",
       "version_major": 2,
       "version_minor": 0
      },
      "text/plain": [
       "Validation: 0it [00:00, ?it/s]"
      ]
     },
     "metadata": {},
     "output_type": "display_data"
    },
    {
     "data": {
      "application/vnd.jupyter.widget-view+json": {
       "model_id": "4a25638e5ffb41d4a8bf83db6132a425",
       "version_major": 2,
       "version_minor": 0
      },
      "text/plain": [
       "Validation: 0it [00:00, ?it/s]"
      ]
     },
     "metadata": {},
     "output_type": "display_data"
    },
    {
     "data": {
      "application/vnd.jupyter.widget-view+json": {
       "model_id": "b7b29ff82e1b427eb826813f2f0dc1ae",
       "version_major": 2,
       "version_minor": 0
      },
      "text/plain": [
       "Validation: 0it [00:00, ?it/s]"
      ]
     },
     "metadata": {},
     "output_type": "display_data"
    },
    {
     "name": "stderr",
     "output_type": "stream",
     "text": [
      "`Trainer.fit` stopped: `max_epochs=20` reached.\n"
     ]
    },
    {
     "data": {
      "text/html": [
       "Waiting for W&B process to finish... <strong style=\"color:green\">(success).</strong>"
      ],
      "text/plain": [
       "<IPython.core.display.HTML object>"
      ]
     },
     "metadata": {},
     "output_type": "display_data"
    },
    {
     "data": {
      "text/html": [
       "<style>\n",
       "    table.wandb td:nth-child(1) { padding: 0 10px; text-align: left ; width: auto;} td:nth-child(2) {text-align: left ; width: 100%}\n",
       "    .wandb-row { display: flex; flex-direction: row; flex-wrap: wrap; justify-content: flex-start; width: 100% }\n",
       "    .wandb-col { display: flex; flex-direction: column; flex-basis: 100%; flex: 1; padding: 10px; }\n",
       "    </style>\n",
       "<div class=\"wandb-row\"><div class=\"wandb-col\"><h3>Run history:</h3><br/><table class=\"wandb\"><tr><td>epoch</td><td>▁▁▁▁▂▂▂▂▂▂▃▃▃▃▄▄▄▄▄▄▅▅▅▅▅▅▆▆▆▆▇▇▇▇▇▇████</td></tr><tr><td>train_f1_epoch</td><td>▁▅▆▆▆▆▆▇▇▇▇▇▇▇██████</td></tr><tr><td>train_f1_step</td><td>▁▅▄▅▅▅▅▅▆▅▅▅▆▄▅▆▅▇▆▇▆▆▆▆▆▆▆▅▇▇▅▇▇▆▇▇▆▇▆█</td></tr><tr><td>train_loss_epoch</td><td>█▄▃▃▂▂▂▂▂▁▂▁▁▁▁▁▁▁▁▁</td></tr><tr><td>train_loss_step</td><td>█▄▄▄▃▃▃▃▂▂▃▂▃▄▃▂▃▂▂▂▂▃▂▂▂▃▃▂▁▂▃▁▂▂▃▂▁▁▃▃</td></tr><tr><td>trainer/global_step</td><td>▁▁▁▁▂▁▁▁▃▁▁▁▁▂▂▂▂▂▄▂▂▂▅▂▂▂▆▂▂▂▂▂▂▂▂▂█▃▃▃</td></tr><tr><td>val_f1_epoch</td><td>▁▃▄▅▅▅▆▅▆▇▆▆▆▇▇██▇▇▇</td></tr><tr><td>val_f1_step</td><td>▃▄▁▂▃▅▅▄▃▄▄▆▃▆▃▃▆▄▅▅▃▄▃▅▁▅▄▆▆▆█▇▆▂▇▅▆▃▆▇</td></tr><tr><td>val_loss_epoch</td><td>█▅▅▄▃▃▄▄▃▂▄▂▃▂▄▁▁▄▂▃</td></tr><tr><td>val_loss_step</td><td>▆▄█▄▅▃▄▂▅▃▃▂▆▁▅▅▃▃▃▃▇▃▃▂▅▃▄▁▄▂▁▁▂▄▄▄▁▅▄▃</td></tr></table><br/></div><div class=\"wandb-col\"><h3>Run summary:</h3><br/><table class=\"wandb\"><tr><td>epoch</td><td>19</td></tr><tr><td>train_f1_epoch</td><td>0.85507</td></tr><tr><td>train_f1_step</td><td>0.87411</td></tr><tr><td>train_loss_epoch</td><td>0.43292</td></tr><tr><td>train_loss_step</td><td>0.44766</td></tr><tr><td>trainer/global_step</td><td>9199</td></tr><tr><td>val_f1_epoch</td><td>0.80341</td></tr><tr><td>val_f1_step</td><td>0.79412</td></tr><tr><td>val_loss_epoch</td><td>0.51127</td></tr><tr><td>val_loss_step</td><td>0.47083</td></tr></table><br/></div></div>"
      ],
      "text/plain": [
       "<IPython.core.display.HTML object>"
      ]
     },
     "metadata": {},
     "output_type": "display_data"
    },
    {
     "data": {
      "text/html": [
       " View run <strong style=\"color:#cdcd00\">model_sizes=[256, 128, 64]</strong> at: <a href='https://wandb.ai/pwr-spatial-lab/hex2vec_pl_r9_b1024_50k/runs/ev0y5bl7' target=\"_blank\">https://wandb.ai/pwr-spatial-lab/hex2vec_pl_r9_b1024_50k/runs/ev0y5bl7</a><br/>Synced 5 W&B file(s), 0 media file(s), 0 artifact file(s) and 0 other file(s)"
      ],
      "text/plain": [
       "<IPython.core.display.HTML object>"
      ]
     },
     "metadata": {},
     "output_type": "display_data"
    },
    {
     "data": {
      "text/html": [
       "Find logs at: <code>./wandb/run-20230716_225906-ev0y5bl7/logs</code>"
      ],
      "text/plain": [
       "<IPython.core.display.HTML object>"
      ]
     },
     "metadata": {},
     "output_type": "display_data"
    },
    {
     "data": {
      "application/vnd.jupyter.widget-view+json": {
       "model_id": "45ad679834ec44c0bba387537552a9e5",
       "version_major": 2,
       "version_minor": 0
      },
      "text/plain": [
       "VBox(children=(Label(value='Waiting for wandb.init()...\\r'), FloatProgress(value=0.01666899661666624, max=1.0)…"
      ]
     },
     "metadata": {},
     "output_type": "display_data"
    },
    {
     "data": {
      "text/html": [
       "wandb version 0.15.5 is available!  To upgrade, please run:\n",
       " $ pip install wandb --upgrade"
      ],
      "text/plain": [
       "<IPython.core.display.HTML object>"
      ]
     },
     "metadata": {},
     "output_type": "display_data"
    },
    {
     "data": {
      "text/html": [
       "Tracking run with wandb version 0.15.3"
      ],
      "text/plain": [
       "<IPython.core.display.HTML object>"
      ]
     },
     "metadata": {},
     "output_type": "display_data"
    },
    {
     "data": {
      "text/html": [
       "Run data is saved locally in <code>./wandb/run-20230716_230520-l62lm166</code>"
      ],
      "text/plain": [
       "<IPython.core.display.HTML object>"
      ]
     },
     "metadata": {},
     "output_type": "display_data"
    },
    {
     "data": {
      "text/html": [
       "Syncing run <strong><a href='https://wandb.ai/pwr-spatial-lab/hex2vec_pl_r9_b1024_50k/runs/l62lm166' target=\"_blank\">model_sizes=[128, 64]</a></strong> to <a href='https://wandb.ai/pwr-spatial-lab/hex2vec_pl_r9_b1024_50k' target=\"_blank\">Weights & Biases</a> (<a href='https://wandb.me/run' target=\"_blank\">docs</a>)<br/>"
      ],
      "text/plain": [
       "<IPython.core.display.HTML object>"
      ]
     },
     "metadata": {},
     "output_type": "display_data"
    },
    {
     "data": {
      "text/html": [
       " View project at <a href='https://wandb.ai/pwr-spatial-lab/hex2vec_pl_r9_b1024_50k' target=\"_blank\">https://wandb.ai/pwr-spatial-lab/hex2vec_pl_r9_b1024_50k</a>"
      ],
      "text/plain": [
       "<IPython.core.display.HTML object>"
      ]
     },
     "metadata": {},
     "output_type": "display_data"
    },
    {
     "data": {
      "text/html": [
       " View run at <a href='https://wandb.ai/pwr-spatial-lab/hex2vec_pl_r9_b1024_50k/runs/l62lm166' target=\"_blank\">https://wandb.ai/pwr-spatial-lab/hex2vec_pl_r9_b1024_50k/runs/l62lm166</a>"
      ],
      "text/plain": [
       "<IPython.core.display.HTML object>"
      ]
     },
     "metadata": {},
     "output_type": "display_data"
    },
    {
     "name": "stderr",
     "output_type": "stream",
     "text": [
      "100%|██████████| 81999/81999 [00:02<00:00, 37198.66it/s]\n",
      "GPU available: True (cuda), used: True\n",
      "TPU available: False, using: 0 TPU cores\n",
      "IPU available: False, using: 0 IPUs\n",
      "HPU available: False, using: 0 HPUs\n",
      "100%|██████████| 17613/17613 [00:00<00:00, 41340.96it/s]\n",
      "You are using a CUDA device ('NVIDIA GeForce RTX 4080') that has Tensor Cores. To properly utilize them, you should set `torch.set_float32_matmul_precision('medium' | 'high')` which will trade-off precision for performance. For more details, read https://pytorch.org/docs/stable/generated/torch.set_float32_matmul_precision.html#torch.set_float32_matmul_precision\n",
      "/home/swozniak/projects/srai/.venv/lib/python3.8/site-packages/pytorch_lightning/callbacks/model_checkpoint.py:612: UserWarning: Checkpoint directory /home/swozniak/projects/srai/models_9/[128, 64] exists and is not empty.\n",
      "  rank_zero_warn(f\"Checkpoint directory {dirpath} exists and is not empty.\")\n",
      "LOCAL_RANK: 0 - CUDA_VISIBLE_DEVICES: [0]\n",
      "\n",
      "  | Name    | Type       | Params\n",
      "---------------------------------------\n",
      "0 | encoder | Sequential | 101 K \n",
      "---------------------------------------\n",
      "101 K     Trainable params\n",
      "0         Non-trainable params\n",
      "101 K     Total params\n",
      "0.405     Total estimated model params size (MB)\n"
     ]
    },
    {
     "data": {
      "application/vnd.jupyter.widget-view+json": {
       "model_id": "031c8d48e90141d7a8aa27eaf5e5ed36",
       "version_major": 2,
       "version_minor": 0
      },
      "text/plain": [
       "Sanity Checking: 0it [00:00, ?it/s]"
      ]
     },
     "metadata": {},
     "output_type": "display_data"
    },
    {
     "name": "stderr",
     "output_type": "stream",
     "text": [
      "/home/swozniak/projects/srai/.venv/lib/python3.8/site-packages/pytorch_lightning/trainer/connectors/data_connector.py:430: PossibleUserWarning: The dataloader, val_dataloader, does not have many workers which may be a bottleneck. Consider increasing the value of the `num_workers` argument` (try 16 which is the number of cpus on this machine) in the `DataLoader` init to improve performance.\n",
      "  rank_zero_warn(\n",
      "/home/swozniak/projects/srai/.venv/lib/python3.8/site-packages/pytorch_lightning/trainer/connectors/data_connector.py:430: PossibleUserWarning: The dataloader, train_dataloader, does not have many workers which may be a bottleneck. Consider increasing the value of the `num_workers` argument` (try 16 which is the number of cpus on this machine) in the `DataLoader` init to improve performance.\n",
      "  rank_zero_warn(\n"
     ]
    },
    {
     "data": {
      "application/vnd.jupyter.widget-view+json": {
       "model_id": "3d2a82c18b124aebbe99fadb437d2279",
       "version_major": 2,
       "version_minor": 0
      },
      "text/plain": [
       "Training: 0it [00:00, ?it/s]"
      ]
     },
     "metadata": {},
     "output_type": "display_data"
    },
    {
     "data": {
      "application/vnd.jupyter.widget-view+json": {
       "model_id": "b7887d72c1fb4a9692385c10f06957f6",
       "version_major": 2,
       "version_minor": 0
      },
      "text/plain": [
       "Validation: 0it [00:00, ?it/s]"
      ]
     },
     "metadata": {},
     "output_type": "display_data"
    },
    {
     "data": {
      "application/vnd.jupyter.widget-view+json": {
       "model_id": "e5e365efb3d3410584335afe0ec739af",
       "version_major": 2,
       "version_minor": 0
      },
      "text/plain": [
       "Validation: 0it [00:00, ?it/s]"
      ]
     },
     "metadata": {},
     "output_type": "display_data"
    },
    {
     "data": {
      "application/vnd.jupyter.widget-view+json": {
       "model_id": "b059c750e2e4490c9b64413453a50677",
       "version_major": 2,
       "version_minor": 0
      },
      "text/plain": [
       "Validation: 0it [00:00, ?it/s]"
      ]
     },
     "metadata": {},
     "output_type": "display_data"
    },
    {
     "data": {
      "application/vnd.jupyter.widget-view+json": {
       "model_id": "18b6a3b8984645adb9c2b91741c8a962",
       "version_major": 2,
       "version_minor": 0
      },
      "text/plain": [
       "Validation: 0it [00:00, ?it/s]"
      ]
     },
     "metadata": {},
     "output_type": "display_data"
    },
    {
     "data": {
      "application/vnd.jupyter.widget-view+json": {
       "model_id": "036f483a71c6451c9f1413e84dfa622f",
       "version_major": 2,
       "version_minor": 0
      },
      "text/plain": [
       "Validation: 0it [00:00, ?it/s]"
      ]
     },
     "metadata": {},
     "output_type": "display_data"
    },
    {
     "data": {
      "application/vnd.jupyter.widget-view+json": {
       "model_id": "fdc9fe0e52f44701b5ee665a3ea56ee3",
       "version_major": 2,
       "version_minor": 0
      },
      "text/plain": [
       "Validation: 0it [00:00, ?it/s]"
      ]
     },
     "metadata": {},
     "output_type": "display_data"
    },
    {
     "data": {
      "application/vnd.jupyter.widget-view+json": {
       "model_id": "3194f4dc3d48443c98efe1a1be3b0afc",
       "version_major": 2,
       "version_minor": 0
      },
      "text/plain": [
       "Validation: 0it [00:00, ?it/s]"
      ]
     },
     "metadata": {},
     "output_type": "display_data"
    },
    {
     "data": {
      "application/vnd.jupyter.widget-view+json": {
       "model_id": "2617d3177f304b3ba40496c1946a2d0f",
       "version_major": 2,
       "version_minor": 0
      },
      "text/plain": [
       "Validation: 0it [00:00, ?it/s]"
      ]
     },
     "metadata": {},
     "output_type": "display_data"
    },
    {
     "data": {
      "application/vnd.jupyter.widget-view+json": {
       "model_id": "2fec925ba58849e89b65219dbd20bedd",
       "version_major": 2,
       "version_minor": 0
      },
      "text/plain": [
       "Validation: 0it [00:00, ?it/s]"
      ]
     },
     "metadata": {},
     "output_type": "display_data"
    },
    {
     "data": {
      "application/vnd.jupyter.widget-view+json": {
       "model_id": "17bc5778454e4e58ba89f551c8a104a9",
       "version_major": 2,
       "version_minor": 0
      },
      "text/plain": [
       "Validation: 0it [00:00, ?it/s]"
      ]
     },
     "metadata": {},
     "output_type": "display_data"
    },
    {
     "data": {
      "application/vnd.jupyter.widget-view+json": {
       "model_id": "0894b24d1d0d419bbe757275ebca4817",
       "version_major": 2,
       "version_minor": 0
      },
      "text/plain": [
       "Validation: 0it [00:00, ?it/s]"
      ]
     },
     "metadata": {},
     "output_type": "display_data"
    },
    {
     "data": {
      "application/vnd.jupyter.widget-view+json": {
       "model_id": "8354522694c64da898cd590ceedb2ce6",
       "version_major": 2,
       "version_minor": 0
      },
      "text/plain": [
       "Validation: 0it [00:00, ?it/s]"
      ]
     },
     "metadata": {},
     "output_type": "display_data"
    },
    {
     "data": {
      "application/vnd.jupyter.widget-view+json": {
       "model_id": "928dd361d4424b3ebed04bc6f017e9fe",
       "version_major": 2,
       "version_minor": 0
      },
      "text/plain": [
       "Validation: 0it [00:00, ?it/s]"
      ]
     },
     "metadata": {},
     "output_type": "display_data"
    },
    {
     "data": {
      "application/vnd.jupyter.widget-view+json": {
       "model_id": "08cb7612a2dd48bfbbfd5c8482733029",
       "version_major": 2,
       "version_minor": 0
      },
      "text/plain": [
       "Validation: 0it [00:00, ?it/s]"
      ]
     },
     "metadata": {},
     "output_type": "display_data"
    },
    {
     "data": {
      "application/vnd.jupyter.widget-view+json": {
       "model_id": "7f18032f52984f8080682f2d3cb72b95",
       "version_major": 2,
       "version_minor": 0
      },
      "text/plain": [
       "Validation: 0it [00:00, ?it/s]"
      ]
     },
     "metadata": {},
     "output_type": "display_data"
    },
    {
     "data": {
      "application/vnd.jupyter.widget-view+json": {
       "model_id": "629a368fcb304d1f954f948e9f0e588d",
       "version_major": 2,
       "version_minor": 0
      },
      "text/plain": [
       "Validation: 0it [00:00, ?it/s]"
      ]
     },
     "metadata": {},
     "output_type": "display_data"
    },
    {
     "data": {
      "application/vnd.jupyter.widget-view+json": {
       "model_id": "bcf2b59739e9453d9bd94b26f342a4e9",
       "version_major": 2,
       "version_minor": 0
      },
      "text/plain": [
       "Validation: 0it [00:00, ?it/s]"
      ]
     },
     "metadata": {},
     "output_type": "display_data"
    },
    {
     "data": {
      "application/vnd.jupyter.widget-view+json": {
       "model_id": "75927a1552ee496c821ee8ac2a4725f1",
       "version_major": 2,
       "version_minor": 0
      },
      "text/plain": [
       "Validation: 0it [00:00, ?it/s]"
      ]
     },
     "metadata": {},
     "output_type": "display_data"
    },
    {
     "data": {
      "application/vnd.jupyter.widget-view+json": {
       "model_id": "5485fe5edf53427fbd2a1224997afd44",
       "version_major": 2,
       "version_minor": 0
      },
      "text/plain": [
       "Validation: 0it [00:00, ?it/s]"
      ]
     },
     "metadata": {},
     "output_type": "display_data"
    },
    {
     "data": {
      "application/vnd.jupyter.widget-view+json": {
       "model_id": "eb2b38b6089942beac0c45514941b2da",
       "version_major": 2,
       "version_minor": 0
      },
      "text/plain": [
       "Validation: 0it [00:00, ?it/s]"
      ]
     },
     "metadata": {},
     "output_type": "display_data"
    },
    {
     "name": "stderr",
     "output_type": "stream",
     "text": [
      "`Trainer.fit` stopped: `max_epochs=20` reached.\n"
     ]
    },
    {
     "data": {
      "text/html": [
       "Waiting for W&B process to finish... <strong style=\"color:green\">(success).</strong>"
      ],
      "text/plain": [
       "<IPython.core.display.HTML object>"
      ]
     },
     "metadata": {},
     "output_type": "display_data"
    },
    {
     "data": {
      "application/vnd.jupyter.widget-view+json": {
       "model_id": "9bf28ced53644f42865db30fa36683d2",
       "version_major": 2,
       "version_minor": 0
      },
      "text/plain": [
       "VBox(children=(Label(value='0.003 MB of 0.003 MB uploaded (0.000 MB deduped)\\r'), FloatProgress(value=1.0, max…"
      ]
     },
     "metadata": {},
     "output_type": "display_data"
    },
    {
     "data": {
      "text/html": [
       "<style>\n",
       "    table.wandb td:nth-child(1) { padding: 0 10px; text-align: left ; width: auto;} td:nth-child(2) {text-align: left ; width: 100%}\n",
       "    .wandb-row { display: flex; flex-direction: row; flex-wrap: wrap; justify-content: flex-start; width: 100% }\n",
       "    .wandb-col { display: flex; flex-direction: column; flex-basis: 100%; flex: 1; padding: 10px; }\n",
       "    </style>\n",
       "<div class=\"wandb-row\"><div class=\"wandb-col\"><h3>Run history:</h3><br/><table class=\"wandb\"><tr><td>epoch</td><td>▁▁▁▁▂▂▂▂▂▂▃▃▃▃▄▄▄▄▄▄▅▅▅▅▅▅▆▆▆▆▇▇▇▇▇▇████</td></tr><tr><td>train_f1_epoch</td><td>▁▆▇▇▇▇▇█████████████</td></tr><tr><td>train_f1_step</td><td>▁▄▆▆▅▅▇▆▆█▇▆▆█▇▇▇▆▇▇▇▇▆▇▆▇▇▆▇█▇█▅▆█▆▇▇▆█</td></tr><tr><td>train_loss_epoch</td><td>█▄▃▂▂▂▂▂▂▂▁▁▁▁▁▁▁▁▁▁</td></tr><tr><td>train_loss_step</td><td>█▅▄▃▄▄▂▃▃▂▃▄▃▂▂▃▂▃▂▂▂▃▃▂▂▂▂▂▂▂▂▂▃▂▂▃▂▂▃▁</td></tr><tr><td>trainer/global_step</td><td>▁▁▁▁▂▁▁▁▃▁▁▁▁▂▂▂▂▂▄▂▂▂▅▂▂▂▆▂▂▂▂▂▂▂▂▂█▃▃▃</td></tr><tr><td>val_f1_epoch</td><td>▁▃▄▄▆▆▆▆▆▆█▆▆█▇▇▅▅▆█</td></tr><tr><td>val_f1_step</td><td>▃▃▁▂▄▂▂▅▃▃▄▃▂▄▄▃▅▁▄▅▃▃▅▄▄▅▅▅▄▅▆▇▂▁▃▅▄▁▆█</td></tr><tr><td>val_loss_epoch</td><td>█▆▅▅▄▃▃▃▃▂▂▃▃▁▃▂▄▂▂▁</td></tr><tr><td>val_loss_step</td><td>▆▅█▆▆▆▅▃▅▆▅▃▅▃▃▅▄▅▄▂▅▃▄▅▃▂▄▃▄▂▁▂█▅▅▃▃▆▂▁</td></tr></table><br/></div><div class=\"wandb-col\"><h3>Run summary:</h3><br/><table class=\"wandb\"><tr><td>epoch</td><td>19</td></tr><tr><td>train_f1_epoch</td><td>0.83503</td></tr><tr><td>train_f1_step</td><td>0.84651</td></tr><tr><td>train_loss_epoch</td><td>0.44018</td></tr><tr><td>train_loss_step</td><td>0.41452</td></tr><tr><td>trainer/global_step</td><td>9199</td></tr><tr><td>val_f1_epoch</td><td>0.79824</td></tr><tr><td>val_f1_step</td><td>0.82353</td></tr><tr><td>val_loss_epoch</td><td>0.49769</td></tr><tr><td>val_loss_step</td><td>0.41401</td></tr></table><br/></div></div>"
      ],
      "text/plain": [
       "<IPython.core.display.HTML object>"
      ]
     },
     "metadata": {},
     "output_type": "display_data"
    },
    {
     "data": {
      "text/html": [
       " View run <strong style=\"color:#cdcd00\">model_sizes=[128, 64]</strong> at: <a href='https://wandb.ai/pwr-spatial-lab/hex2vec_pl_r9_b1024_50k/runs/l62lm166' target=\"_blank\">https://wandb.ai/pwr-spatial-lab/hex2vec_pl_r9_b1024_50k/runs/l62lm166</a><br/>Synced 5 W&B file(s), 0 media file(s), 0 artifact file(s) and 0 other file(s)"
      ],
      "text/plain": [
       "<IPython.core.display.HTML object>"
      ]
     },
     "metadata": {},
     "output_type": "display_data"
    },
    {
     "data": {
      "text/html": [
       "Find logs at: <code>./wandb/run-20230716_230520-l62lm166/logs</code>"
      ],
      "text/plain": [
       "<IPython.core.display.HTML object>"
      ]
     },
     "metadata": {},
     "output_type": "display_data"
    },
    {
     "data": {
      "application/vnd.jupyter.widget-view+json": {
       "model_id": "98b6f52d14a6438da7d052aa4d66c279",
       "version_major": 2,
       "version_minor": 0
      },
      "text/plain": [
       "VBox(children=(Label(value='Waiting for wandb.init()...\\r'), FloatProgress(value=0.016668926200009083, max=1.0…"
      ]
     },
     "metadata": {},
     "output_type": "display_data"
    },
    {
     "data": {
      "text/html": [
       "wandb version 0.15.5 is available!  To upgrade, please run:\n",
       " $ pip install wandb --upgrade"
      ],
      "text/plain": [
       "<IPython.core.display.HTML object>"
      ]
     },
     "metadata": {},
     "output_type": "display_data"
    },
    {
     "data": {
      "text/html": [
       "Tracking run with wandb version 0.15.3"
      ],
      "text/plain": [
       "<IPython.core.display.HTML object>"
      ]
     },
     "metadata": {},
     "output_type": "display_data"
    },
    {
     "data": {
      "text/html": [
       "Run data is saved locally in <code>./wandb/run-20230716_231130-2gru4135</code>"
      ],
      "text/plain": [
       "<IPython.core.display.HTML object>"
      ]
     },
     "metadata": {},
     "output_type": "display_data"
    },
    {
     "data": {
      "text/html": [
       "Syncing run <strong><a href='https://wandb.ai/pwr-spatial-lab/hex2vec_pl_r9_b1024_50k/runs/2gru4135' target=\"_blank\">model_sizes=[1024, 512]</a></strong> to <a href='https://wandb.ai/pwr-spatial-lab/hex2vec_pl_r9_b1024_50k' target=\"_blank\">Weights & Biases</a> (<a href='https://wandb.me/run' target=\"_blank\">docs</a>)<br/>"
      ],
      "text/plain": [
       "<IPython.core.display.HTML object>"
      ]
     },
     "metadata": {},
     "output_type": "display_data"
    },
    {
     "data": {
      "text/html": [
       " View project at <a href='https://wandb.ai/pwr-spatial-lab/hex2vec_pl_r9_b1024_50k' target=\"_blank\">https://wandb.ai/pwr-spatial-lab/hex2vec_pl_r9_b1024_50k</a>"
      ],
      "text/plain": [
       "<IPython.core.display.HTML object>"
      ]
     },
     "metadata": {},
     "output_type": "display_data"
    },
    {
     "data": {
      "text/html": [
       " View run at <a href='https://wandb.ai/pwr-spatial-lab/hex2vec_pl_r9_b1024_50k/runs/2gru4135' target=\"_blank\">https://wandb.ai/pwr-spatial-lab/hex2vec_pl_r9_b1024_50k/runs/2gru4135</a>"
      ],
      "text/plain": [
       "<IPython.core.display.HTML object>"
      ]
     },
     "metadata": {},
     "output_type": "display_data"
    },
    {
     "name": "stderr",
     "output_type": "stream",
     "text": [
      "100%|██████████| 81999/81999 [00:02<00:00, 30739.17it/s]\n",
      "GPU available: True (cuda), used: True\n",
      "TPU available: False, using: 0 TPU cores\n",
      "IPU available: False, using: 0 IPUs\n",
      "HPU available: False, using: 0 HPUs\n",
      "100%|██████████| 17613/17613 [00:00<00:00, 41842.62it/s]\n",
      "You are using a CUDA device ('NVIDIA GeForce RTX 4080') that has Tensor Cores. To properly utilize them, you should set `torch.set_float32_matmul_precision('medium' | 'high')` which will trade-off precision for performance. For more details, read https://pytorch.org/docs/stable/generated/torch.set_float32_matmul_precision.html#torch.set_float32_matmul_precision\n",
      "/home/swozniak/projects/srai/.venv/lib/python3.8/site-packages/pytorch_lightning/callbacks/model_checkpoint.py:612: UserWarning: Checkpoint directory /home/swozniak/projects/srai/models_9/[1024, 512] exists and is not empty.\n",
      "  rank_zero_warn(f\"Checkpoint directory {dirpath} exists and is not empty.\")\n",
      "LOCAL_RANK: 0 - CUDA_VISIBLE_DEVICES: [0]\n",
      "\n",
      "  | Name    | Type       | Params\n",
      "---------------------------------------\n",
      "0 | encoder | Sequential | 1.3 M \n",
      "---------------------------------------\n",
      "1.3 M     Trainable params\n",
      "0         Non-trainable params\n",
      "1.3 M     Total params\n",
      "5.073     Total estimated model params size (MB)\n"
     ]
    },
    {
     "data": {
      "application/vnd.jupyter.widget-view+json": {
       "model_id": "891838fd0c474cc9962cb45ab1ee7aa7",
       "version_major": 2,
       "version_minor": 0
      },
      "text/plain": [
       "Sanity Checking: 0it [00:00, ?it/s]"
      ]
     },
     "metadata": {},
     "output_type": "display_data"
    },
    {
     "name": "stderr",
     "output_type": "stream",
     "text": [
      "/home/swozniak/projects/srai/.venv/lib/python3.8/site-packages/pytorch_lightning/trainer/connectors/data_connector.py:430: PossibleUserWarning: The dataloader, val_dataloader, does not have many workers which may be a bottleneck. Consider increasing the value of the `num_workers` argument` (try 16 which is the number of cpus on this machine) in the `DataLoader` init to improve performance.\n",
      "  rank_zero_warn(\n",
      "/home/swozniak/projects/srai/.venv/lib/python3.8/site-packages/pytorch_lightning/trainer/connectors/data_connector.py:430: PossibleUserWarning: The dataloader, train_dataloader, does not have many workers which may be a bottleneck. Consider increasing the value of the `num_workers` argument` (try 16 which is the number of cpus on this machine) in the `DataLoader` init to improve performance.\n",
      "  rank_zero_warn(\n"
     ]
    },
    {
     "data": {
      "application/vnd.jupyter.widget-view+json": {
       "model_id": "0a507334f8b8408986c0974b1c97bec5",
       "version_major": 2,
       "version_minor": 0
      },
      "text/plain": [
       "Training: 0it [00:00, ?it/s]"
      ]
     },
     "metadata": {},
     "output_type": "display_data"
    },
    {
     "data": {
      "application/vnd.jupyter.widget-view+json": {
       "model_id": "8299d4a7ff7e4de6a32687bb9b36261b",
       "version_major": 2,
       "version_minor": 0
      },
      "text/plain": [
       "Validation: 0it [00:00, ?it/s]"
      ]
     },
     "metadata": {},
     "output_type": "display_data"
    },
    {
     "data": {
      "application/vnd.jupyter.widget-view+json": {
       "model_id": "02f7edca65324edf858458491d85cb07",
       "version_major": 2,
       "version_minor": 0
      },
      "text/plain": [
       "Validation: 0it [00:00, ?it/s]"
      ]
     },
     "metadata": {},
     "output_type": "display_data"
    },
    {
     "data": {
      "application/vnd.jupyter.widget-view+json": {
       "model_id": "bb2c7e97d6b14f0f86163f348a950c98",
       "version_major": 2,
       "version_minor": 0
      },
      "text/plain": [
       "Validation: 0it [00:00, ?it/s]"
      ]
     },
     "metadata": {},
     "output_type": "display_data"
    },
    {
     "data": {
      "application/vnd.jupyter.widget-view+json": {
       "model_id": "af12449f99904149b35940f32b76e3c2",
       "version_major": 2,
       "version_minor": 0
      },
      "text/plain": [
       "Validation: 0it [00:00, ?it/s]"
      ]
     },
     "metadata": {},
     "output_type": "display_data"
    },
    {
     "data": {
      "application/vnd.jupyter.widget-view+json": {
       "model_id": "1940376a3fb4485884bc6e3eda397da9",
       "version_major": 2,
       "version_minor": 0
      },
      "text/plain": [
       "Validation: 0it [00:00, ?it/s]"
      ]
     },
     "metadata": {},
     "output_type": "display_data"
    },
    {
     "data": {
      "application/vnd.jupyter.widget-view+json": {
       "model_id": "547b7231ba3c49b8b781ae8cbdbe7299",
       "version_major": 2,
       "version_minor": 0
      },
      "text/plain": [
       "Validation: 0it [00:00, ?it/s]"
      ]
     },
     "metadata": {},
     "output_type": "display_data"
    },
    {
     "data": {
      "application/vnd.jupyter.widget-view+json": {
       "model_id": "d9ad35a8b7fd4bc8a47b3c078c18812d",
       "version_major": 2,
       "version_minor": 0
      },
      "text/plain": [
       "Validation: 0it [00:00, ?it/s]"
      ]
     },
     "metadata": {},
     "output_type": "display_data"
    },
    {
     "data": {
      "application/vnd.jupyter.widget-view+json": {
       "model_id": "42cb80be9b744697bcb3e3b08a7352b2",
       "version_major": 2,
       "version_minor": 0
      },
      "text/plain": [
       "Validation: 0it [00:00, ?it/s]"
      ]
     },
     "metadata": {},
     "output_type": "display_data"
    },
    {
     "data": {
      "application/vnd.jupyter.widget-view+json": {
       "model_id": "d593fd2ea6664ebc9c8958d865d535dc",
       "version_major": 2,
       "version_minor": 0
      },
      "text/plain": [
       "Validation: 0it [00:00, ?it/s]"
      ]
     },
     "metadata": {},
     "output_type": "display_data"
    },
    {
     "data": {
      "application/vnd.jupyter.widget-view+json": {
       "model_id": "4cc6d305609f44bb845f44a20324513a",
       "version_major": 2,
       "version_minor": 0
      },
      "text/plain": [
       "Validation: 0it [00:00, ?it/s]"
      ]
     },
     "metadata": {},
     "output_type": "display_data"
    },
    {
     "data": {
      "application/vnd.jupyter.widget-view+json": {
       "model_id": "6886f0a623a542b48e0371ade578f49c",
       "version_major": 2,
       "version_minor": 0
      },
      "text/plain": [
       "Validation: 0it [00:00, ?it/s]"
      ]
     },
     "metadata": {},
     "output_type": "display_data"
    },
    {
     "data": {
      "application/vnd.jupyter.widget-view+json": {
       "model_id": "ee14f96460784e3bab0f0c01eee0a7bd",
       "version_major": 2,
       "version_minor": 0
      },
      "text/plain": [
       "Validation: 0it [00:00, ?it/s]"
      ]
     },
     "metadata": {},
     "output_type": "display_data"
    },
    {
     "data": {
      "application/vnd.jupyter.widget-view+json": {
       "model_id": "4bbdb750268b43f7acf6a1cc1f7ef1f7",
       "version_major": 2,
       "version_minor": 0
      },
      "text/plain": [
       "Validation: 0it [00:00, ?it/s]"
      ]
     },
     "metadata": {},
     "output_type": "display_data"
    },
    {
     "data": {
      "application/vnd.jupyter.widget-view+json": {
       "model_id": "365aa4738b614e89b9642f1e4c1e5fbc",
       "version_major": 2,
       "version_minor": 0
      },
      "text/plain": [
       "Validation: 0it [00:00, ?it/s]"
      ]
     },
     "metadata": {},
     "output_type": "display_data"
    },
    {
     "data": {
      "application/vnd.jupyter.widget-view+json": {
       "model_id": "1cd37453948c4a5bb1f36028be0b8cb9",
       "version_major": 2,
       "version_minor": 0
      },
      "text/plain": [
       "Validation: 0it [00:00, ?it/s]"
      ]
     },
     "metadata": {},
     "output_type": "display_data"
    },
    {
     "data": {
      "application/vnd.jupyter.widget-view+json": {
       "model_id": "3b244549633044fd85af23c22f89c1dc",
       "version_major": 2,
       "version_minor": 0
      },
      "text/plain": [
       "Validation: 0it [00:00, ?it/s]"
      ]
     },
     "metadata": {},
     "output_type": "display_data"
    },
    {
     "data": {
      "application/vnd.jupyter.widget-view+json": {
       "model_id": "e6bb4a5baffd4233b118240ef09c3e97",
       "version_major": 2,
       "version_minor": 0
      },
      "text/plain": [
       "Validation: 0it [00:00, ?it/s]"
      ]
     },
     "metadata": {},
     "output_type": "display_data"
    },
    {
     "data": {
      "application/vnd.jupyter.widget-view+json": {
       "model_id": "e52ec9c1a32d4535af8d3a22286549e3",
       "version_major": 2,
       "version_minor": 0
      },
      "text/plain": [
       "Validation: 0it [00:00, ?it/s]"
      ]
     },
     "metadata": {},
     "output_type": "display_data"
    },
    {
     "data": {
      "application/vnd.jupyter.widget-view+json": {
       "model_id": "a13b807d92834cf5bdfff42c2ef7f53a",
       "version_major": 2,
       "version_minor": 0
      },
      "text/plain": [
       "Validation: 0it [00:00, ?it/s]"
      ]
     },
     "metadata": {},
     "output_type": "display_data"
    },
    {
     "data": {
      "application/vnd.jupyter.widget-view+json": {
       "model_id": "45a1ec954c25486b8b8088624923ca97",
       "version_major": 2,
       "version_minor": 0
      },
      "text/plain": [
       "Validation: 0it [00:00, ?it/s]"
      ]
     },
     "metadata": {},
     "output_type": "display_data"
    },
    {
     "name": "stderr",
     "output_type": "stream",
     "text": [
      "`Trainer.fit` stopped: `max_epochs=20` reached.\n"
     ]
    },
    {
     "data": {
      "text/html": [
       "Waiting for W&B process to finish... <strong style=\"color:green\">(success).</strong>"
      ],
      "text/plain": [
       "<IPython.core.display.HTML object>"
      ]
     },
     "metadata": {},
     "output_type": "display_data"
    },
    {
     "data": {
      "application/vnd.jupyter.widget-view+json": {
       "model_id": "75df6e8b5f48438199cc124dd9f78667",
       "version_major": 2,
       "version_minor": 0
      },
      "text/plain": [
       "VBox(children=(Label(value='0.003 MB of 0.003 MB uploaded (0.000 MB deduped)\\r'), FloatProgress(value=1.0, max…"
      ]
     },
     "metadata": {},
     "output_type": "display_data"
    },
    {
     "data": {
      "text/html": [
       "<style>\n",
       "    table.wandb td:nth-child(1) { padding: 0 10px; text-align: left ; width: auto;} td:nth-child(2) {text-align: left ; width: 100%}\n",
       "    .wandb-row { display: flex; flex-direction: row; flex-wrap: wrap; justify-content: flex-start; width: 100% }\n",
       "    .wandb-col { display: flex; flex-direction: column; flex-basis: 100%; flex: 1; padding: 10px; }\n",
       "    </style>\n",
       "<div class=\"wandb-row\"><div class=\"wandb-col\"><h3>Run history:</h3><br/><table class=\"wandb\"><tr><td>epoch</td><td>▁▁▁▁▂▂▂▂▂▂▃▃▃▃▄▄▄▄▄▄▅▅▅▅▅▅▆▆▆▆▇▇▇▇▇▇████</td></tr><tr><td>train_f1_epoch</td><td>▁▇▇█████████████████</td></tr><tr><td>train_f1_step</td><td>▁▆▆▆▅▇▆▆▆▆▆▆▅▇▅▆▆▆▆▅▇▆▆▇▆▆▆▆▆▇▆▇█▆▆▆▇▅▇█</td></tr><tr><td>train_loss_epoch</td><td>█▃▂▂▁▁▁▁▁▁▁▁▁▁▁▁▁▁▁▁</td></tr><tr><td>train_loss_step</td><td>█▅▄▃▄▃▃▃▂▃▃▂▃▂▃▃▂▂▃▃▂▃▂▂▃▁▂▂▂▂▂▂▁▂▂▂▂▃▁▁</td></tr><tr><td>trainer/global_step</td><td>▁▁▁▁▂▁▁▁▃▁▁▁▁▂▂▂▂▂▄▂▂▂▅▂▂▂▆▂▂▂▂▂▂▂▂▂█▃▃▃</td></tr><tr><td>val_f1_epoch</td><td>▁▁▄▅▆▄▆▆█▃▄▅█▆▅▆▆▆▆▆</td></tr><tr><td>val_f1_step</td><td>▄▄▁▂▄▅▃▄▄▆▃▅▅▃▄▄▇▅▅▄▃▄▅▆▅▆▅▄▅▇▆█▃▁▅█▆▄▅▅</td></tr><tr><td>val_loss_epoch</td><td>█▇▅▃▂▄▂▂▁▂▃▂▂▃▂▂▃▂▂▁</td></tr><tr><td>val_loss_step</td><td>▇▇█▇▆▄▅▄▅▃█▄▅▄▄▇▃▃▃▄▅▃▅▃▃▃▄▄▄▃▄▁▅█▆▂▃▄▃▃</td></tr></table><br/></div><div class=\"wandb-col\"><h3>Run summary:</h3><br/><table class=\"wandb\"><tr><td>epoch</td><td>19</td></tr><tr><td>train_f1_epoch</td><td>0.83321</td></tr><tr><td>train_f1_step</td><td>0.85714</td></tr><tr><td>train_loss_epoch</td><td>0.44287</td></tr><tr><td>train_loss_step</td><td>0.42289</td></tr><tr><td>trainer/global_step</td><td>9199</td></tr><tr><td>val_f1_epoch</td><td>0.78942</td></tr><tr><td>val_f1_step</td><td>0.78873</td></tr><tr><td>val_loss_epoch</td><td>0.5096</td></tr><tr><td>val_loss_step</td><td>0.60895</td></tr></table><br/></div></div>"
      ],
      "text/plain": [
       "<IPython.core.display.HTML object>"
      ]
     },
     "metadata": {},
     "output_type": "display_data"
    },
    {
     "data": {
      "text/html": [
       " View run <strong style=\"color:#cdcd00\">model_sizes=[1024, 512]</strong> at: <a href='https://wandb.ai/pwr-spatial-lab/hex2vec_pl_r9_b1024_50k/runs/2gru4135' target=\"_blank\">https://wandb.ai/pwr-spatial-lab/hex2vec_pl_r9_b1024_50k/runs/2gru4135</a><br/>Synced 5 W&B file(s), 0 media file(s), 0 artifact file(s) and 0 other file(s)"
      ],
      "text/plain": [
       "<IPython.core.display.HTML object>"
      ]
     },
     "metadata": {},
     "output_type": "display_data"
    },
    {
     "data": {
      "text/html": [
       "Find logs at: <code>./wandb/run-20230716_231130-2gru4135/logs</code>"
      ],
      "text/plain": [
       "<IPython.core.display.HTML object>"
      ]
     },
     "metadata": {},
     "output_type": "display_data"
    },
    {
     "data": {
      "application/vnd.jupyter.widget-view+json": {
       "model_id": "b08c0a1aee7442488c3af3816b63fa38",
       "version_major": 2,
       "version_minor": 0
      },
      "text/plain": [
       "VBox(children=(Label(value='Waiting for wandb.init()...\\r'), FloatProgress(value=0.016668716966675372, max=1.0…"
      ]
     },
     "metadata": {},
     "output_type": "display_data"
    },
    {
     "data": {
      "text/html": [
       "wandb version 0.15.5 is available!  To upgrade, please run:\n",
       " $ pip install wandb --upgrade"
      ],
      "text/plain": [
       "<IPython.core.display.HTML object>"
      ]
     },
     "metadata": {},
     "output_type": "display_data"
    },
    {
     "data": {
      "text/html": [
       "Tracking run with wandb version 0.15.3"
      ],
      "text/plain": [
       "<IPython.core.display.HTML object>"
      ]
     },
     "metadata": {},
     "output_type": "display_data"
    },
    {
     "data": {
      "text/html": [
       "Run data is saved locally in <code>./wandb/run-20230716_231753-75llhgeo</code>"
      ],
      "text/plain": [
       "<IPython.core.display.HTML object>"
      ]
     },
     "metadata": {},
     "output_type": "display_data"
    },
    {
     "data": {
      "text/html": [
       "Syncing run <strong><a href='https://wandb.ai/pwr-spatial-lab/hex2vec_pl_r9_b1024_50k/runs/75llhgeo' target=\"_blank\">model_sizes=[2048, 1024]</a></strong> to <a href='https://wandb.ai/pwr-spatial-lab/hex2vec_pl_r9_b1024_50k' target=\"_blank\">Weights & Biases</a> (<a href='https://wandb.me/run' target=\"_blank\">docs</a>)<br/>"
      ],
      "text/plain": [
       "<IPython.core.display.HTML object>"
      ]
     },
     "metadata": {},
     "output_type": "display_data"
    },
    {
     "data": {
      "text/html": [
       " View project at <a href='https://wandb.ai/pwr-spatial-lab/hex2vec_pl_r9_b1024_50k' target=\"_blank\">https://wandb.ai/pwr-spatial-lab/hex2vec_pl_r9_b1024_50k</a>"
      ],
      "text/plain": [
       "<IPython.core.display.HTML object>"
      ]
     },
     "metadata": {},
     "output_type": "display_data"
    },
    {
     "data": {
      "text/html": [
       " View run at <a href='https://wandb.ai/pwr-spatial-lab/hex2vec_pl_r9_b1024_50k/runs/75llhgeo' target=\"_blank\">https://wandb.ai/pwr-spatial-lab/hex2vec_pl_r9_b1024_50k/runs/75llhgeo</a>"
      ],
      "text/plain": [
       "<IPython.core.display.HTML object>"
      ]
     },
     "metadata": {},
     "output_type": "display_data"
    },
    {
     "name": "stderr",
     "output_type": "stream",
     "text": [
      "100%|██████████| 81999/81999 [00:02<00:00, 37091.31it/s]\n",
      "GPU available: True (cuda), used: True\n",
      "TPU available: False, using: 0 TPU cores\n",
      "IPU available: False, using: 0 IPUs\n",
      "HPU available: False, using: 0 HPUs\n",
      "100%|██████████| 17613/17613 [00:00<00:00, 35135.73it/s]\n",
      "You are using a CUDA device ('NVIDIA GeForce RTX 4080') that has Tensor Cores. To properly utilize them, you should set `torch.set_float32_matmul_precision('medium' | 'high')` which will trade-off precision for performance. For more details, read https://pytorch.org/docs/stable/generated/torch.set_float32_matmul_precision.html#torch.set_float32_matmul_precision\n",
      "/home/swozniak/projects/srai/.venv/lib/python3.8/site-packages/pytorch_lightning/callbacks/model_checkpoint.py:612: UserWarning: Checkpoint directory /home/swozniak/projects/srai/models_9/[2048, 1024] exists and is not empty.\n",
      "  rank_zero_warn(f\"Checkpoint directory {dirpath} exists and is not empty.\")\n",
      "LOCAL_RANK: 0 - CUDA_VISIBLE_DEVICES: [0]\n",
      "\n",
      "  | Name    | Type       | Params\n",
      "---------------------------------------\n",
      "0 | encoder | Sequential | 3.6 M \n",
      "---------------------------------------\n",
      "3.6 M     Trainable params\n",
      "0         Non-trainable params\n",
      "3.6 M     Total params\n",
      "14.340    Total estimated model params size (MB)\n"
     ]
    },
    {
     "data": {
      "application/vnd.jupyter.widget-view+json": {
       "model_id": "d3a8553cecbd44f4b1064443bb558bde",
       "version_major": 2,
       "version_minor": 0
      },
      "text/plain": [
       "Sanity Checking: 0it [00:00, ?it/s]"
      ]
     },
     "metadata": {},
     "output_type": "display_data"
    },
    {
     "name": "stderr",
     "output_type": "stream",
     "text": [
      "/home/swozniak/projects/srai/.venv/lib/python3.8/site-packages/pytorch_lightning/trainer/connectors/data_connector.py:430: PossibleUserWarning: The dataloader, val_dataloader, does not have many workers which may be a bottleneck. Consider increasing the value of the `num_workers` argument` (try 16 which is the number of cpus on this machine) in the `DataLoader` init to improve performance.\n",
      "  rank_zero_warn(\n",
      "/home/swozniak/projects/srai/.venv/lib/python3.8/site-packages/pytorch_lightning/trainer/connectors/data_connector.py:430: PossibleUserWarning: The dataloader, train_dataloader, does not have many workers which may be a bottleneck. Consider increasing the value of the `num_workers` argument` (try 16 which is the number of cpus on this machine) in the `DataLoader` init to improve performance.\n",
      "  rank_zero_warn(\n"
     ]
    },
    {
     "data": {
      "application/vnd.jupyter.widget-view+json": {
       "model_id": "604eb073a5ab4addadc482895e97d704",
       "version_major": 2,
       "version_minor": 0
      },
      "text/plain": [
       "Training: 0it [00:00, ?it/s]"
      ]
     },
     "metadata": {},
     "output_type": "display_data"
    },
    {
     "data": {
      "application/vnd.jupyter.widget-view+json": {
       "model_id": "53d5d734b21c49a5ab256400269b9f8e",
       "version_major": 2,
       "version_minor": 0
      },
      "text/plain": [
       "Validation: 0it [00:00, ?it/s]"
      ]
     },
     "metadata": {},
     "output_type": "display_data"
    },
    {
     "data": {
      "application/vnd.jupyter.widget-view+json": {
       "model_id": "4982e639f3f442a8a897f0b5defc8b38",
       "version_major": 2,
       "version_minor": 0
      },
      "text/plain": [
       "Validation: 0it [00:00, ?it/s]"
      ]
     },
     "metadata": {},
     "output_type": "display_data"
    },
    {
     "data": {
      "application/vnd.jupyter.widget-view+json": {
       "model_id": "21925e0b1d0146fda2ac18dcd22db0b6",
       "version_major": 2,
       "version_minor": 0
      },
      "text/plain": [
       "Validation: 0it [00:00, ?it/s]"
      ]
     },
     "metadata": {},
     "output_type": "display_data"
    },
    {
     "data": {
      "application/vnd.jupyter.widget-view+json": {
       "model_id": "b0cf4046e88a4ba8ac0d497b236186cb",
       "version_major": 2,
       "version_minor": 0
      },
      "text/plain": [
       "Validation: 0it [00:00, ?it/s]"
      ]
     },
     "metadata": {},
     "output_type": "display_data"
    },
    {
     "data": {
      "application/vnd.jupyter.widget-view+json": {
       "model_id": "146ba142939a4f22baa67441e084db96",
       "version_major": 2,
       "version_minor": 0
      },
      "text/plain": [
       "Validation: 0it [00:00, ?it/s]"
      ]
     },
     "metadata": {},
     "output_type": "display_data"
    },
    {
     "data": {
      "application/vnd.jupyter.widget-view+json": {
       "model_id": "f9d14510f484445dbb2cdbdf50da8990",
       "version_major": 2,
       "version_minor": 0
      },
      "text/plain": [
       "Validation: 0it [00:00, ?it/s]"
      ]
     },
     "metadata": {},
     "output_type": "display_data"
    },
    {
     "data": {
      "application/vnd.jupyter.widget-view+json": {
       "model_id": "1564ac4786c4463fbcab1207f145fd37",
       "version_major": 2,
       "version_minor": 0
      },
      "text/plain": [
       "Validation: 0it [00:00, ?it/s]"
      ]
     },
     "metadata": {},
     "output_type": "display_data"
    },
    {
     "data": {
      "application/vnd.jupyter.widget-view+json": {
       "model_id": "297b2c8508814753a1d35af77ca3ad75",
       "version_major": 2,
       "version_minor": 0
      },
      "text/plain": [
       "Validation: 0it [00:00, ?it/s]"
      ]
     },
     "metadata": {},
     "output_type": "display_data"
    },
    {
     "data": {
      "application/vnd.jupyter.widget-view+json": {
       "model_id": "090300d3b5df44e196fc833ee24c4f40",
       "version_major": 2,
       "version_minor": 0
      },
      "text/plain": [
       "Validation: 0it [00:00, ?it/s]"
      ]
     },
     "metadata": {},
     "output_type": "display_data"
    },
    {
     "data": {
      "application/vnd.jupyter.widget-view+json": {
       "model_id": "5f2ca2cb7e474b6fa79ae9e439b6eb5a",
       "version_major": 2,
       "version_minor": 0
      },
      "text/plain": [
       "Validation: 0it [00:00, ?it/s]"
      ]
     },
     "metadata": {},
     "output_type": "display_data"
    },
    {
     "data": {
      "application/vnd.jupyter.widget-view+json": {
       "model_id": "099ef93d70d44980935433bb591755e6",
       "version_major": 2,
       "version_minor": 0
      },
      "text/plain": [
       "Validation: 0it [00:00, ?it/s]"
      ]
     },
     "metadata": {},
     "output_type": "display_data"
    },
    {
     "data": {
      "application/vnd.jupyter.widget-view+json": {
       "model_id": "3f37ee112c844a908f2316ab4d6d3e9c",
       "version_major": 2,
       "version_minor": 0
      },
      "text/plain": [
       "Validation: 0it [00:00, ?it/s]"
      ]
     },
     "metadata": {},
     "output_type": "display_data"
    },
    {
     "data": {
      "application/vnd.jupyter.widget-view+json": {
       "model_id": "404926d8ebe24bda933f071378c2d5aa",
       "version_major": 2,
       "version_minor": 0
      },
      "text/plain": [
       "Validation: 0it [00:00, ?it/s]"
      ]
     },
     "metadata": {},
     "output_type": "display_data"
    },
    {
     "data": {
      "application/vnd.jupyter.widget-view+json": {
       "model_id": "dd39ebbaf70941a18c54e7784cae6154",
       "version_major": 2,
       "version_minor": 0
      },
      "text/plain": [
       "Validation: 0it [00:00, ?it/s]"
      ]
     },
     "metadata": {},
     "output_type": "display_data"
    },
    {
     "data": {
      "application/vnd.jupyter.widget-view+json": {
       "model_id": "567fb9788b1245fa9b46f84edb2c4f49",
       "version_major": 2,
       "version_minor": 0
      },
      "text/plain": [
       "Validation: 0it [00:00, ?it/s]"
      ]
     },
     "metadata": {},
     "output_type": "display_data"
    },
    {
     "data": {
      "application/vnd.jupyter.widget-view+json": {
       "model_id": "dd245b2e90094c088a3fbdee2232512b",
       "version_major": 2,
       "version_minor": 0
      },
      "text/plain": [
       "Validation: 0it [00:00, ?it/s]"
      ]
     },
     "metadata": {},
     "output_type": "display_data"
    },
    {
     "data": {
      "application/vnd.jupyter.widget-view+json": {
       "model_id": "61451338be1f41988b67b8481ae2b4a1",
       "version_major": 2,
       "version_minor": 0
      },
      "text/plain": [
       "Validation: 0it [00:00, ?it/s]"
      ]
     },
     "metadata": {},
     "output_type": "display_data"
    },
    {
     "data": {
      "application/vnd.jupyter.widget-view+json": {
       "model_id": "d166a5c0a4b54ed8a5e4d79429df1e1f",
       "version_major": 2,
       "version_minor": 0
      },
      "text/plain": [
       "Validation: 0it [00:00, ?it/s]"
      ]
     },
     "metadata": {},
     "output_type": "display_data"
    },
    {
     "data": {
      "application/vnd.jupyter.widget-view+json": {
       "model_id": "287539e6e36f4c82a8778894d3805fbf",
       "version_major": 2,
       "version_minor": 0
      },
      "text/plain": [
       "Validation: 0it [00:00, ?it/s]"
      ]
     },
     "metadata": {},
     "output_type": "display_data"
    },
    {
     "data": {
      "application/vnd.jupyter.widget-view+json": {
       "model_id": "fc88a305d62547f7a4614bd8d790ce69",
       "version_major": 2,
       "version_minor": 0
      },
      "text/plain": [
       "Validation: 0it [00:00, ?it/s]"
      ]
     },
     "metadata": {},
     "output_type": "display_data"
    },
    {
     "name": "stderr",
     "output_type": "stream",
     "text": [
      "`Trainer.fit` stopped: `max_epochs=20` reached.\n"
     ]
    },
    {
     "data": {
      "text/html": [
       "Waiting for W&B process to finish... <strong style=\"color:green\">(success).</strong>"
      ],
      "text/plain": [
       "<IPython.core.display.HTML object>"
      ]
     },
     "metadata": {},
     "output_type": "display_data"
    },
    {
     "data": {
      "application/vnd.jupyter.widget-view+json": {
       "model_id": "adb3e58535934100b0e085395443b197",
       "version_major": 2,
       "version_minor": 0
      },
      "text/plain": [
       "VBox(children=(Label(value='0.003 MB of 0.003 MB uploaded (0.000 MB deduped)\\r'), FloatProgress(value=1.0, max…"
      ]
     },
     "metadata": {},
     "output_type": "display_data"
    },
    {
     "data": {
      "text/html": [
       "<style>\n",
       "    table.wandb td:nth-child(1) { padding: 0 10px; text-align: left ; width: auto;} td:nth-child(2) {text-align: left ; width: 100%}\n",
       "    .wandb-row { display: flex; flex-direction: row; flex-wrap: wrap; justify-content: flex-start; width: 100% }\n",
       "    .wandb-col { display: flex; flex-direction: column; flex-basis: 100%; flex: 1; padding: 10px; }\n",
       "    </style>\n",
       "<div class=\"wandb-row\"><div class=\"wandb-col\"><h3>Run history:</h3><br/><table class=\"wandb\"><tr><td>epoch</td><td>▁▁▁▁▂▂▂▂▂▂▃▃▃▃▄▄▄▄▄▄▅▅▅▅▅▅▆▆▆▆▇▇▇▇▇▇████</td></tr><tr><td>train_f1_epoch</td><td>▁▇██████████████████</td></tr><tr><td>train_f1_step</td><td>▁▆▇▇▇▇▇▇▇▇█▇▇▇▇▇█▇▇▇▇▇█▇▇▇▇█▇▇▇▇▇▇█▇█▇▇█</td></tr><tr><td>train_loss_epoch</td><td>█▂▁▁▁▁▁▁▁▁▁▁▁▁▁▁▁▁▁▁</td></tr><tr><td>train_loss_step</td><td>█▄▃▂▂▃▂▂▂▂▁▁▂▁▂▂▁▁▂▂▂▂▁▂▁▁▂▁▁▁▂▁▂▂▂▁▂▂▁▂</td></tr><tr><td>trainer/global_step</td><td>▁▁▁▁▂▁▁▁▃▁▁▁▁▂▂▂▂▂▄▂▂▂▅▂▂▂▆▂▂▂▂▂▂▂▂▂█▃▃▃</td></tr><tr><td>val_f1_epoch</td><td>▁▂▃▇▇█▇▆▇▄▄▄▅▄▅▄▄▄▃▁</td></tr><tr><td>val_f1_step</td><td>▅▃▃▃▅▂▃▅▄▇▄█▅▃▇▇▆▆▃▆▃▅▃▂▃▂▃▂▂▅▄█▂▁▁▄▁▂▄▅</td></tr><tr><td>val_loss_epoch</td><td>█▄▃▂▂▂▁▁▂▂▃▂▂▂▃▃▂▁▂▃</td></tr><tr><td>val_loss_step</td><td>▆▄▄▄▃▄▅▂▁▂▅▁▄▂▁▃▃▂▂▂▃▂▂▄▂▄▃▂█▂▅▁▂▃▆▂▅▄▃▂</td></tr></table><br/></div><div class=\"wandb-col\"><h3>Run summary:</h3><br/><table class=\"wandb\"><tr><td>epoch</td><td>19</td></tr><tr><td>train_f1_epoch</td><td>0.83161</td></tr><tr><td>train_f1_step</td><td>0.83796</td></tr><tr><td>train_loss_epoch</td><td>0.4476</td></tr><tr><td>train_loss_step</td><td>0.4498</td></tr><tr><td>trainer/global_step</td><td>9199</td></tr><tr><td>val_f1_epoch</td><td>0.78209</td></tr><tr><td>val_f1_step</td><td>0.75362</td></tr><tr><td>val_loss_epoch</td><td>0.52774</td></tr><tr><td>val_loss_step</td><td>0.49001</td></tr></table><br/></div></div>"
      ],
      "text/plain": [
       "<IPython.core.display.HTML object>"
      ]
     },
     "metadata": {},
     "output_type": "display_data"
    },
    {
     "data": {
      "text/html": [
       " View run <strong style=\"color:#cdcd00\">model_sizes=[2048, 1024]</strong> at: <a href='https://wandb.ai/pwr-spatial-lab/hex2vec_pl_r9_b1024_50k/runs/75llhgeo' target=\"_blank\">https://wandb.ai/pwr-spatial-lab/hex2vec_pl_r9_b1024_50k/runs/75llhgeo</a><br/>Synced 5 W&B file(s), 0 media file(s), 0 artifact file(s) and 0 other file(s)"
      ],
      "text/plain": [
       "<IPython.core.display.HTML object>"
      ]
     },
     "metadata": {},
     "output_type": "display_data"
    },
    {
     "data": {
      "text/html": [
       "Find logs at: <code>./wandb/run-20230716_231753-75llhgeo/logs</code>"
      ],
      "text/plain": [
       "<IPython.core.display.HTML object>"
      ]
     },
     "metadata": {},
     "output_type": "display_data"
    },
    {
     "data": {
      "application/vnd.jupyter.widget-view+json": {
       "model_id": "ace23e5ebc9541dfa66b694be36bbfe2",
       "version_major": 2,
       "version_minor": 0
      },
      "text/plain": [
       "VBox(children=(Label(value='Waiting for wandb.init()...\\r'), FloatProgress(value=0.016668776899996372, max=1.0…"
      ]
     },
     "metadata": {},
     "output_type": "display_data"
    },
    {
     "data": {
      "text/html": [
       "wandb version 0.15.5 is available!  To upgrade, please run:\n",
       " $ pip install wandb --upgrade"
      ],
      "text/plain": [
       "<IPython.core.display.HTML object>"
      ]
     },
     "metadata": {},
     "output_type": "display_data"
    },
    {
     "data": {
      "text/html": [
       "Tracking run with wandb version 0.15.3"
      ],
      "text/plain": [
       "<IPython.core.display.HTML object>"
      ]
     },
     "metadata": {},
     "output_type": "display_data"
    },
    {
     "data": {
      "text/html": [
       "Run data is saved locally in <code>./wandb/run-20230716_232425-rf9clfc6</code>"
      ],
      "text/plain": [
       "<IPython.core.display.HTML object>"
      ]
     },
     "metadata": {},
     "output_type": "display_data"
    },
    {
     "data": {
      "text/html": [
       "Syncing run <strong><a href='https://wandb.ai/pwr-spatial-lab/hex2vec_pl_r9_b1024_50k/runs/rf9clfc6' target=\"_blank\">model_sizes=[2048, 1024, 512]</a></strong> to <a href='https://wandb.ai/pwr-spatial-lab/hex2vec_pl_r9_b1024_50k' target=\"_blank\">Weights & Biases</a> (<a href='https://wandb.me/run' target=\"_blank\">docs</a>)<br/>"
      ],
      "text/plain": [
       "<IPython.core.display.HTML object>"
      ]
     },
     "metadata": {},
     "output_type": "display_data"
    },
    {
     "data": {
      "text/html": [
       " View project at <a href='https://wandb.ai/pwr-spatial-lab/hex2vec_pl_r9_b1024_50k' target=\"_blank\">https://wandb.ai/pwr-spatial-lab/hex2vec_pl_r9_b1024_50k</a>"
      ],
      "text/plain": [
       "<IPython.core.display.HTML object>"
      ]
     },
     "metadata": {},
     "output_type": "display_data"
    },
    {
     "data": {
      "text/html": [
       " View run at <a href='https://wandb.ai/pwr-spatial-lab/hex2vec_pl_r9_b1024_50k/runs/rf9clfc6' target=\"_blank\">https://wandb.ai/pwr-spatial-lab/hex2vec_pl_r9_b1024_50k/runs/rf9clfc6</a>"
      ],
      "text/plain": [
       "<IPython.core.display.HTML object>"
      ]
     },
     "metadata": {},
     "output_type": "display_data"
    },
    {
     "name": "stderr",
     "output_type": "stream",
     "text": [
      "100%|██████████| 81999/81999 [00:02<00:00, 37569.92it/s]\n",
      "GPU available: True (cuda), used: True\n",
      "TPU available: False, using: 0 TPU cores\n",
      "IPU available: False, using: 0 IPUs\n",
      "HPU available: False, using: 0 HPUs\n",
      "100%|██████████| 17613/17613 [00:00<00:00, 20416.49it/s]\n",
      "You are using a CUDA device ('NVIDIA GeForce RTX 4080') that has Tensor Cores. To properly utilize them, you should set `torch.set_float32_matmul_precision('medium' | 'high')` which will trade-off precision for performance. For more details, read https://pytorch.org/docs/stable/generated/torch.set_float32_matmul_precision.html#torch.set_float32_matmul_precision\n",
      "/home/swozniak/projects/srai/.venv/lib/python3.8/site-packages/pytorch_lightning/callbacks/model_checkpoint.py:612: UserWarning: Checkpoint directory /home/swozniak/projects/srai/models_9/[2048, 1024, 512] exists and is not empty.\n",
      "  rank_zero_warn(f\"Checkpoint directory {dirpath} exists and is not empty.\")\n",
      "LOCAL_RANK: 0 - CUDA_VISIBLE_DEVICES: [0]\n",
      "\n",
      "  | Name    | Type       | Params\n",
      "---------------------------------------\n",
      "0 | encoder | Sequential | 4.1 M \n",
      "---------------------------------------\n",
      "4.1 M     Trainable params\n",
      "0         Non-trainable params\n",
      "4.1 M     Total params\n",
      "16.439    Total estimated model params size (MB)\n"
     ]
    },
    {
     "data": {
      "application/vnd.jupyter.widget-view+json": {
       "model_id": "6a60747e12204478a7e4e3a5d0c5e563",
       "version_major": 2,
       "version_minor": 0
      },
      "text/plain": [
       "Sanity Checking: 0it [00:00, ?it/s]"
      ]
     },
     "metadata": {},
     "output_type": "display_data"
    },
    {
     "name": "stderr",
     "output_type": "stream",
     "text": [
      "/home/swozniak/projects/srai/.venv/lib/python3.8/site-packages/pytorch_lightning/trainer/connectors/data_connector.py:430: PossibleUserWarning: The dataloader, val_dataloader, does not have many workers which may be a bottleneck. Consider increasing the value of the `num_workers` argument` (try 16 which is the number of cpus on this machine) in the `DataLoader` init to improve performance.\n",
      "  rank_zero_warn(\n",
      "/home/swozniak/projects/srai/.venv/lib/python3.8/site-packages/pytorch_lightning/trainer/connectors/data_connector.py:430: PossibleUserWarning: The dataloader, train_dataloader, does not have many workers which may be a bottleneck. Consider increasing the value of the `num_workers` argument` (try 16 which is the number of cpus on this machine) in the `DataLoader` init to improve performance.\n",
      "  rank_zero_warn(\n"
     ]
    },
    {
     "data": {
      "application/vnd.jupyter.widget-view+json": {
       "model_id": "4f9defccf9424fcbbab7df2da93dda13",
       "version_major": 2,
       "version_minor": 0
      },
      "text/plain": [
       "Training: 0it [00:00, ?it/s]"
      ]
     },
     "metadata": {},
     "output_type": "display_data"
    },
    {
     "data": {
      "application/vnd.jupyter.widget-view+json": {
       "model_id": "4546896785a64b9fbe48a05a341e79d4",
       "version_major": 2,
       "version_minor": 0
      },
      "text/plain": [
       "Validation: 0it [00:00, ?it/s]"
      ]
     },
     "metadata": {},
     "output_type": "display_data"
    },
    {
     "data": {
      "application/vnd.jupyter.widget-view+json": {
       "model_id": "9458b3f2dbda4e03a404fa21fc7bd5a3",
       "version_major": 2,
       "version_minor": 0
      },
      "text/plain": [
       "Validation: 0it [00:00, ?it/s]"
      ]
     },
     "metadata": {},
     "output_type": "display_data"
    },
    {
     "data": {
      "application/vnd.jupyter.widget-view+json": {
       "model_id": "1d3619c591864afe8af8e0c599a099e1",
       "version_major": 2,
       "version_minor": 0
      },
      "text/plain": [
       "Validation: 0it [00:00, ?it/s]"
      ]
     },
     "metadata": {},
     "output_type": "display_data"
    },
    {
     "data": {
      "application/vnd.jupyter.widget-view+json": {
       "model_id": "5fbbf654b94c4c7085f047b888b67347",
       "version_major": 2,
       "version_minor": 0
      },
      "text/plain": [
       "Validation: 0it [00:00, ?it/s]"
      ]
     },
     "metadata": {},
     "output_type": "display_data"
    },
    {
     "data": {
      "application/vnd.jupyter.widget-view+json": {
       "model_id": "802fdb482c9c46a4909bd64b031ff3fc",
       "version_major": 2,
       "version_minor": 0
      },
      "text/plain": [
       "Validation: 0it [00:00, ?it/s]"
      ]
     },
     "metadata": {},
     "output_type": "display_data"
    },
    {
     "data": {
      "application/vnd.jupyter.widget-view+json": {
       "model_id": "8bab2afd88f148a0b51d639cc04b9458",
       "version_major": 2,
       "version_minor": 0
      },
      "text/plain": [
       "Validation: 0it [00:00, ?it/s]"
      ]
     },
     "metadata": {},
     "output_type": "display_data"
    },
    {
     "data": {
      "application/vnd.jupyter.widget-view+json": {
       "model_id": "3d49726fdc3b48859f88abc4febf61ee",
       "version_major": 2,
       "version_minor": 0
      },
      "text/plain": [
       "Validation: 0it [00:00, ?it/s]"
      ]
     },
     "metadata": {},
     "output_type": "display_data"
    },
    {
     "data": {
      "application/vnd.jupyter.widget-view+json": {
       "model_id": "7b35210aaed946748088fee60f171663",
       "version_major": 2,
       "version_minor": 0
      },
      "text/plain": [
       "Validation: 0it [00:00, ?it/s]"
      ]
     },
     "metadata": {},
     "output_type": "display_data"
    },
    {
     "data": {
      "application/vnd.jupyter.widget-view+json": {
       "model_id": "96e82435a7af46ba84d10ee3672e3488",
       "version_major": 2,
       "version_minor": 0
      },
      "text/plain": [
       "Validation: 0it [00:00, ?it/s]"
      ]
     },
     "metadata": {},
     "output_type": "display_data"
    },
    {
     "data": {
      "application/vnd.jupyter.widget-view+json": {
       "model_id": "8eb7d4216c2840449fa954dbe3a31756",
       "version_major": 2,
       "version_minor": 0
      },
      "text/plain": [
       "Validation: 0it [00:00, ?it/s]"
      ]
     },
     "metadata": {},
     "output_type": "display_data"
    },
    {
     "data": {
      "application/vnd.jupyter.widget-view+json": {
       "model_id": "0cab8c20bea441e1920ed238d16fae63",
       "version_major": 2,
       "version_minor": 0
      },
      "text/plain": [
       "Validation: 0it [00:00, ?it/s]"
      ]
     },
     "metadata": {},
     "output_type": "display_data"
    },
    {
     "data": {
      "application/vnd.jupyter.widget-view+json": {
       "model_id": "297c9f8105e94d90bb6f11727b3a56de",
       "version_major": 2,
       "version_minor": 0
      },
      "text/plain": [
       "Validation: 0it [00:00, ?it/s]"
      ]
     },
     "metadata": {},
     "output_type": "display_data"
    },
    {
     "data": {
      "application/vnd.jupyter.widget-view+json": {
       "model_id": "b0b5e41504834aa98b73990c104a22ee",
       "version_major": 2,
       "version_minor": 0
      },
      "text/plain": [
       "Validation: 0it [00:00, ?it/s]"
      ]
     },
     "metadata": {},
     "output_type": "display_data"
    },
    {
     "data": {
      "application/vnd.jupyter.widget-view+json": {
       "model_id": "0a031eef2017489fa0d793575a4688b0",
       "version_major": 2,
       "version_minor": 0
      },
      "text/plain": [
       "Validation: 0it [00:00, ?it/s]"
      ]
     },
     "metadata": {},
     "output_type": "display_data"
    },
    {
     "data": {
      "application/vnd.jupyter.widget-view+json": {
       "model_id": "468ab9c70fe2497488e2baf737eb1759",
       "version_major": 2,
       "version_minor": 0
      },
      "text/plain": [
       "Validation: 0it [00:00, ?it/s]"
      ]
     },
     "metadata": {},
     "output_type": "display_data"
    },
    {
     "data": {
      "application/vnd.jupyter.widget-view+json": {
       "model_id": "409d3c3d144a4989b11bd3e589246176",
       "version_major": 2,
       "version_minor": 0
      },
      "text/plain": [
       "Validation: 0it [00:00, ?it/s]"
      ]
     },
     "metadata": {},
     "output_type": "display_data"
    },
    {
     "data": {
      "application/vnd.jupyter.widget-view+json": {
       "model_id": "0af5732eafd942e99d109d97226a0ac3",
       "version_major": 2,
       "version_minor": 0
      },
      "text/plain": [
       "Validation: 0it [00:00, ?it/s]"
      ]
     },
     "metadata": {},
     "output_type": "display_data"
    },
    {
     "data": {
      "application/vnd.jupyter.widget-view+json": {
       "model_id": "ed6513487f304037b289cb998b8c6d27",
       "version_major": 2,
       "version_minor": 0
      },
      "text/plain": [
       "Validation: 0it [00:00, ?it/s]"
      ]
     },
     "metadata": {},
     "output_type": "display_data"
    },
    {
     "data": {
      "application/vnd.jupyter.widget-view+json": {
       "model_id": "25ffd8125e8b4303829bbe27fe6da03d",
       "version_major": 2,
       "version_minor": 0
      },
      "text/plain": [
       "Validation: 0it [00:00, ?it/s]"
      ]
     },
     "metadata": {},
     "output_type": "display_data"
    },
    {
     "data": {
      "application/vnd.jupyter.widget-view+json": {
       "model_id": "f23e25eb6bfd4800a3a4ffbaf810fa3c",
       "version_major": 2,
       "version_minor": 0
      },
      "text/plain": [
       "Validation: 0it [00:00, ?it/s]"
      ]
     },
     "metadata": {},
     "output_type": "display_data"
    },
    {
     "name": "stderr",
     "output_type": "stream",
     "text": [
      "`Trainer.fit` stopped: `max_epochs=20` reached.\n"
     ]
    },
    {
     "data": {
      "text/html": [
       "Waiting for W&B process to finish... <strong style=\"color:green\">(success).</strong>"
      ],
      "text/plain": [
       "<IPython.core.display.HTML object>"
      ]
     },
     "metadata": {},
     "output_type": "display_data"
    },
    {
     "data": {
      "application/vnd.jupyter.widget-view+json": {
       "model_id": "37af8e46b2854a1a985af4ae2cce2ebb",
       "version_major": 2,
       "version_minor": 0
      },
      "text/plain": [
       "VBox(children=(Label(value='0.003 MB of 0.003 MB uploaded (0.000 MB deduped)\\r'), FloatProgress(value=1.0, max…"
      ]
     },
     "metadata": {},
     "output_type": "display_data"
    },
    {
     "data": {
      "text/html": [
       "<style>\n",
       "    table.wandb td:nth-child(1) { padding: 0 10px; text-align: left ; width: auto;} td:nth-child(2) {text-align: left ; width: 100%}\n",
       "    .wandb-row { display: flex; flex-direction: row; flex-wrap: wrap; justify-content: flex-start; width: 100% }\n",
       "    .wandb-col { display: flex; flex-direction: column; flex-basis: 100%; flex: 1; padding: 10px; }\n",
       "    </style>\n",
       "<div class=\"wandb-row\"><div class=\"wandb-col\"><h3>Run history:</h3><br/><table class=\"wandb\"><tr><td>epoch</td><td>▁▁▁▁▂▂▂▂▂▂▃▃▃▃▄▄▄▄▄▄▅▅▅▅▅▅▆▆▆▆▇▇▇▇▇▇████</td></tr><tr><td>train_f1_epoch</td><td>▁▅▆▆▇▇▇▇▇▇▇▇▇▇▇█████</td></tr><tr><td>train_f1_step</td><td>▁▃▅▅▆▆▆▅▅▇▆▆▇▇█▇▇▇▇▇▇▇▇█▇▇▇▇▇▇▇▇▇█▇█▇▇▇▇</td></tr><tr><td>train_loss_epoch</td><td>█▄▃▃▂▂▂▂▂▂▂▂▂▁▁▁▁▁▁▁</td></tr><tr><td>train_loss_step</td><td>█▆▅▄▄▃▄▄▃▄▃▃▃▃▂▂▃▂▃▃▂▂▂▂▂▃▂▂▂▂▂▂▂▁▂▂▂▂▂▁</td></tr><tr><td>trainer/global_step</td><td>▁▁▁▁▂▁▁▁▃▁▁▁▁▂▂▂▂▂▄▂▂▂▅▂▂▂▆▂▂▂▂▂▂▂▂▂█▃▃▃</td></tr><tr><td>val_f1_epoch</td><td>▁▄▅▆▆▅▆▆▆▆▆▆▇▇▇▇█▇▇█</td></tr><tr><td>val_f1_step</td><td>▂▂▁▄▅▄▃▆▃▅▄▅▅▅▆▆▇▅▆▆▆▄▅▅▆▄▅▅▅▆█▆▄▃▆▆▄▅▇█</td></tr><tr><td>val_loss_epoch</td><td>█▄▄▃▃▃▃▂▃▂▂▂▂▂▂▂▁▂▃▁</td></tr><tr><td>val_loss_step</td><td>▆█▆▆▆▅▅▂▄▅▄▄▅▆▄▄▃▄▂▃▅▄▄▃▂▄▄▄▃▄▂▃▄▄▃▂▅▆▁▄</td></tr></table><br/></div><div class=\"wandb-col\"><h3>Run summary:</h3><br/><table class=\"wandb\"><tr><td>epoch</td><td>19</td></tr><tr><td>train_f1_epoch</td><td>0.84281</td></tr><tr><td>train_f1_step</td><td>0.83945</td></tr><tr><td>train_loss_epoch</td><td>0.44437</td></tr><tr><td>train_loss_step</td><td>0.42807</td></tr><tr><td>trainer/global_step</td><td>9199</td></tr><tr><td>val_f1_epoch</td><td>0.79733</td></tr><tr><td>val_f1_step</td><td>0.75676</td></tr><tr><td>val_loss_epoch</td><td>0.51741</td></tr><tr><td>val_loss_step</td><td>0.58511</td></tr></table><br/></div></div>"
      ],
      "text/plain": [
       "<IPython.core.display.HTML object>"
      ]
     },
     "metadata": {},
     "output_type": "display_data"
    },
    {
     "data": {
      "text/html": [
       " View run <strong style=\"color:#cdcd00\">model_sizes=[2048, 1024, 512]</strong> at: <a href='https://wandb.ai/pwr-spatial-lab/hex2vec_pl_r9_b1024_50k/runs/rf9clfc6' target=\"_blank\">https://wandb.ai/pwr-spatial-lab/hex2vec_pl_r9_b1024_50k/runs/rf9clfc6</a><br/>Synced 5 W&B file(s), 0 media file(s), 0 artifact file(s) and 0 other file(s)"
      ],
      "text/plain": [
       "<IPython.core.display.HTML object>"
      ]
     },
     "metadata": {},
     "output_type": "display_data"
    },
    {
     "data": {
      "text/html": [
       "Find logs at: <code>./wandb/run-20230716_232425-rf9clfc6/logs</code>"
      ],
      "text/plain": [
       "<IPython.core.display.HTML object>"
      ]
     },
     "metadata": {},
     "output_type": "display_data"
    },
    {
     "data": {
      "application/vnd.jupyter.widget-view+json": {
       "model_id": "b08d5d26f5364d51a656e18d601aa863",
       "version_major": 2,
       "version_minor": 0
      },
      "text/plain": [
       "VBox(children=(Label(value='Waiting for wandb.init()...\\r'), FloatProgress(value=0.016668654266671485, max=1.0…"
      ]
     },
     "metadata": {},
     "output_type": "display_data"
    },
    {
     "data": {
      "text/html": [
       "wandb version 0.15.5 is available!  To upgrade, please run:\n",
       " $ pip install wandb --upgrade"
      ],
      "text/plain": [
       "<IPython.core.display.HTML object>"
      ]
     },
     "metadata": {},
     "output_type": "display_data"
    },
    {
     "data": {
      "text/html": [
       "Tracking run with wandb version 0.15.3"
      ],
      "text/plain": [
       "<IPython.core.display.HTML object>"
      ]
     },
     "metadata": {},
     "output_type": "display_data"
    },
    {
     "data": {
      "text/html": [
       "Run data is saved locally in <code>./wandb/run-20230716_233052-26r3vme9</code>"
      ],
      "text/plain": [
       "<IPython.core.display.HTML object>"
      ]
     },
     "metadata": {},
     "output_type": "display_data"
    },
    {
     "data": {
      "text/html": [
       "Syncing run <strong><a href='https://wandb.ai/pwr-spatial-lab/hex2vec_pl_r9_b1024_50k/runs/26r3vme9' target=\"_blank\">model_sizes=[256, 128, 64, 32]</a></strong> to <a href='https://wandb.ai/pwr-spatial-lab/hex2vec_pl_r9_b1024_50k' target=\"_blank\">Weights & Biases</a> (<a href='https://wandb.me/run' target=\"_blank\">docs</a>)<br/>"
      ],
      "text/plain": [
       "<IPython.core.display.HTML object>"
      ]
     },
     "metadata": {},
     "output_type": "display_data"
    },
    {
     "data": {
      "text/html": [
       " View project at <a href='https://wandb.ai/pwr-spatial-lab/hex2vec_pl_r9_b1024_50k' target=\"_blank\">https://wandb.ai/pwr-spatial-lab/hex2vec_pl_r9_b1024_50k</a>"
      ],
      "text/plain": [
       "<IPython.core.display.HTML object>"
      ]
     },
     "metadata": {},
     "output_type": "display_data"
    },
    {
     "data": {
      "text/html": [
       " View run at <a href='https://wandb.ai/pwr-spatial-lab/hex2vec_pl_r9_b1024_50k/runs/26r3vme9' target=\"_blank\">https://wandb.ai/pwr-spatial-lab/hex2vec_pl_r9_b1024_50k/runs/26r3vme9</a>"
      ],
      "text/plain": [
       "<IPython.core.display.HTML object>"
      ]
     },
     "metadata": {},
     "output_type": "display_data"
    },
    {
     "name": "stderr",
     "output_type": "stream",
     "text": [
      "100%|██████████| 81999/81999 [00:02<00:00, 37420.80it/s]\n",
      "GPU available: True (cuda), used: True\n",
      "TPU available: False, using: 0 TPU cores\n",
      "IPU available: False, using: 0 IPUs\n",
      "HPU available: False, using: 0 HPUs\n",
      "100%|██████████| 17613/17613 [00:00<00:00, 40879.56it/s]\n",
      "You are using a CUDA device ('NVIDIA GeForce RTX 4080') that has Tensor Cores. To properly utilize them, you should set `torch.set_float32_matmul_precision('medium' | 'high')` which will trade-off precision for performance. For more details, read https://pytorch.org/docs/stable/generated/torch.set_float32_matmul_precision.html#torch.set_float32_matmul_precision\n",
      "/home/swozniak/projects/srai/.venv/lib/python3.8/site-packages/pytorch_lightning/callbacks/model_checkpoint.py:612: UserWarning: Checkpoint directory /home/swozniak/projects/srai/models_9/[256, 128, 64, 32] exists and is not empty.\n",
      "  rank_zero_warn(f\"Checkpoint directory {dirpath} exists and is not empty.\")\n",
      "LOCAL_RANK: 0 - CUDA_VISIBLE_DEVICES: [0]\n",
      "\n",
      "  | Name    | Type       | Params\n",
      "---------------------------------------\n",
      "0 | encoder | Sequential | 229 K \n",
      "---------------------------------------\n",
      "229 K     Trainable params\n",
      "0         Non-trainable params\n",
      "229 K     Total params\n",
      "0.916     Total estimated model params size (MB)\n"
     ]
    },
    {
     "data": {
      "application/vnd.jupyter.widget-view+json": {
       "model_id": "411b4a4656a5467bafa33cb3dfe1bc80",
       "version_major": 2,
       "version_minor": 0
      },
      "text/plain": [
       "Sanity Checking: 0it [00:00, ?it/s]"
      ]
     },
     "metadata": {},
     "output_type": "display_data"
    },
    {
     "name": "stderr",
     "output_type": "stream",
     "text": [
      "/home/swozniak/projects/srai/.venv/lib/python3.8/site-packages/pytorch_lightning/trainer/connectors/data_connector.py:430: PossibleUserWarning: The dataloader, val_dataloader, does not have many workers which may be a bottleneck. Consider increasing the value of the `num_workers` argument` (try 16 which is the number of cpus on this machine) in the `DataLoader` init to improve performance.\n",
      "  rank_zero_warn(\n",
      "/home/swozniak/projects/srai/.venv/lib/python3.8/site-packages/pytorch_lightning/trainer/connectors/data_connector.py:430: PossibleUserWarning: The dataloader, train_dataloader, does not have many workers which may be a bottleneck. Consider increasing the value of the `num_workers` argument` (try 16 which is the number of cpus on this machine) in the `DataLoader` init to improve performance.\n",
      "  rank_zero_warn(\n"
     ]
    },
    {
     "data": {
      "application/vnd.jupyter.widget-view+json": {
       "model_id": "ce48a804a39a401ba712c73a85f89844",
       "version_major": 2,
       "version_minor": 0
      },
      "text/plain": [
       "Training: 0it [00:00, ?it/s]"
      ]
     },
     "metadata": {},
     "output_type": "display_data"
    },
    {
     "data": {
      "application/vnd.jupyter.widget-view+json": {
       "model_id": "48567b5c559940d8a5613a3d7e13b563",
       "version_major": 2,
       "version_minor": 0
      },
      "text/plain": [
       "Validation: 0it [00:00, ?it/s]"
      ]
     },
     "metadata": {},
     "output_type": "display_data"
    },
    {
     "data": {
      "application/vnd.jupyter.widget-view+json": {
       "model_id": "2c518de6c9754495bec9f9a73fcf84e4",
       "version_major": 2,
       "version_minor": 0
      },
      "text/plain": [
       "Validation: 0it [00:00, ?it/s]"
      ]
     },
     "metadata": {},
     "output_type": "display_data"
    },
    {
     "data": {
      "application/vnd.jupyter.widget-view+json": {
       "model_id": "cad9d49a00f146bba91885017e22f347",
       "version_major": 2,
       "version_minor": 0
      },
      "text/plain": [
       "Validation: 0it [00:00, ?it/s]"
      ]
     },
     "metadata": {},
     "output_type": "display_data"
    },
    {
     "data": {
      "application/vnd.jupyter.widget-view+json": {
       "model_id": "b9de786f4b2940939fa5a3f71719a101",
       "version_major": 2,
       "version_minor": 0
      },
      "text/plain": [
       "Validation: 0it [00:00, ?it/s]"
      ]
     },
     "metadata": {},
     "output_type": "display_data"
    },
    {
     "data": {
      "application/vnd.jupyter.widget-view+json": {
       "model_id": "d7719628f5f24ffa8b53847b3e507914",
       "version_major": 2,
       "version_minor": 0
      },
      "text/plain": [
       "Validation: 0it [00:00, ?it/s]"
      ]
     },
     "metadata": {},
     "output_type": "display_data"
    },
    {
     "data": {
      "application/vnd.jupyter.widget-view+json": {
       "model_id": "f30b4a758bfc411299718d3377026567",
       "version_major": 2,
       "version_minor": 0
      },
      "text/plain": [
       "Validation: 0it [00:00, ?it/s]"
      ]
     },
     "metadata": {},
     "output_type": "display_data"
    },
    {
     "data": {
      "application/vnd.jupyter.widget-view+json": {
       "model_id": "faa66c426ad949c893b5b35ddc1ada13",
       "version_major": 2,
       "version_minor": 0
      },
      "text/plain": [
       "Validation: 0it [00:00, ?it/s]"
      ]
     },
     "metadata": {},
     "output_type": "display_data"
    },
    {
     "data": {
      "application/vnd.jupyter.widget-view+json": {
       "model_id": "999cea5a9e51473b9e0a99eb9d7fadcd",
       "version_major": 2,
       "version_minor": 0
      },
      "text/plain": [
       "Validation: 0it [00:00, ?it/s]"
      ]
     },
     "metadata": {},
     "output_type": "display_data"
    },
    {
     "data": {
      "application/vnd.jupyter.widget-view+json": {
       "model_id": "ff958bd312714b18bf9e9e9db6dffc66",
       "version_major": 2,
       "version_minor": 0
      },
      "text/plain": [
       "Validation: 0it [00:00, ?it/s]"
      ]
     },
     "metadata": {},
     "output_type": "display_data"
    },
    {
     "data": {
      "application/vnd.jupyter.widget-view+json": {
       "model_id": "ac7bf7ba26b54c11800aaa17eb702257",
       "version_major": 2,
       "version_minor": 0
      },
      "text/plain": [
       "Validation: 0it [00:00, ?it/s]"
      ]
     },
     "metadata": {},
     "output_type": "display_data"
    },
    {
     "data": {
      "application/vnd.jupyter.widget-view+json": {
       "model_id": "ed84d35757fa45f68a3e5aafb895657f",
       "version_major": 2,
       "version_minor": 0
      },
      "text/plain": [
       "Validation: 0it [00:00, ?it/s]"
      ]
     },
     "metadata": {},
     "output_type": "display_data"
    },
    {
     "data": {
      "application/vnd.jupyter.widget-view+json": {
       "model_id": "d71230093e244042af42d8d31a18de4b",
       "version_major": 2,
       "version_minor": 0
      },
      "text/plain": [
       "Validation: 0it [00:00, ?it/s]"
      ]
     },
     "metadata": {},
     "output_type": "display_data"
    },
    {
     "data": {
      "application/vnd.jupyter.widget-view+json": {
       "model_id": "f62404bf1ad3415fa6314d7e5c0fb046",
       "version_major": 2,
       "version_minor": 0
      },
      "text/plain": [
       "Validation: 0it [00:00, ?it/s]"
      ]
     },
     "metadata": {},
     "output_type": "display_data"
    },
    {
     "data": {
      "application/vnd.jupyter.widget-view+json": {
       "model_id": "30354a289f98464ab9eaff7e24c92224",
       "version_major": 2,
       "version_minor": 0
      },
      "text/plain": [
       "Validation: 0it [00:00, ?it/s]"
      ]
     },
     "metadata": {},
     "output_type": "display_data"
    },
    {
     "data": {
      "application/vnd.jupyter.widget-view+json": {
       "model_id": "906cc227a4704ab1b0ad5a52ed1951f4",
       "version_major": 2,
       "version_minor": 0
      },
      "text/plain": [
       "Validation: 0it [00:00, ?it/s]"
      ]
     },
     "metadata": {},
     "output_type": "display_data"
    },
    {
     "data": {
      "application/vnd.jupyter.widget-view+json": {
       "model_id": "094782f776664372a91c43b83bab3595",
       "version_major": 2,
       "version_minor": 0
      },
      "text/plain": [
       "Validation: 0it [00:00, ?it/s]"
      ]
     },
     "metadata": {},
     "output_type": "display_data"
    },
    {
     "data": {
      "application/vnd.jupyter.widget-view+json": {
       "model_id": "44847f002ceb4c05b915f7044699a6fc",
       "version_major": 2,
       "version_minor": 0
      },
      "text/plain": [
       "Validation: 0it [00:00, ?it/s]"
      ]
     },
     "metadata": {},
     "output_type": "display_data"
    },
    {
     "data": {
      "application/vnd.jupyter.widget-view+json": {
       "model_id": "1787b35676fb4a25aa874ceee11b3b6c",
       "version_major": 2,
       "version_minor": 0
      },
      "text/plain": [
       "Validation: 0it [00:00, ?it/s]"
      ]
     },
     "metadata": {},
     "output_type": "display_data"
    },
    {
     "data": {
      "application/vnd.jupyter.widget-view+json": {
       "model_id": "be19dfcb8e4b4097bba5a08fb5b8151b",
       "version_major": 2,
       "version_minor": 0
      },
      "text/plain": [
       "Validation: 0it [00:00, ?it/s]"
      ]
     },
     "metadata": {},
     "output_type": "display_data"
    },
    {
     "data": {
      "application/vnd.jupyter.widget-view+json": {
       "model_id": "81ed4ae9c4994c34806d9f9db73bc57e",
       "version_major": 2,
       "version_minor": 0
      },
      "text/plain": [
       "Validation: 0it [00:00, ?it/s]"
      ]
     },
     "metadata": {},
     "output_type": "display_data"
    },
    {
     "name": "stderr",
     "output_type": "stream",
     "text": [
      "`Trainer.fit` stopped: `max_epochs=20` reached.\n"
     ]
    },
    {
     "data": {
      "text/html": [
       "Waiting for W&B process to finish... <strong style=\"color:green\">(success).</strong>"
      ],
      "text/plain": [
       "<IPython.core.display.HTML object>"
      ]
     },
     "metadata": {},
     "output_type": "display_data"
    },
    {
     "data": {
      "application/vnd.jupyter.widget-view+json": {
       "model_id": "af98b83ca60f4af5b91c79d8b0ef3c62",
       "version_major": 2,
       "version_minor": 0
      },
      "text/plain": [
       "VBox(children=(Label(value='0.003 MB of 0.011 MB uploaded (0.000 MB deduped)\\r'), FloatProgress(value=0.247049…"
      ]
     },
     "metadata": {},
     "output_type": "display_data"
    },
    {
     "data": {
      "text/html": [
       "<style>\n",
       "    table.wandb td:nth-child(1) { padding: 0 10px; text-align: left ; width: auto;} td:nth-child(2) {text-align: left ; width: 100%}\n",
       "    .wandb-row { display: flex; flex-direction: row; flex-wrap: wrap; justify-content: flex-start; width: 100% }\n",
       "    .wandb-col { display: flex; flex-direction: column; flex-basis: 100%; flex: 1; padding: 10px; }\n",
       "    </style>\n",
       "<div class=\"wandb-row\"><div class=\"wandb-col\"><h3>Run history:</h3><br/><table class=\"wandb\"><tr><td>epoch</td><td>▁▁▁▁▂▂▂▂▂▂▃▃▃▃▄▄▄▄▄▄▅▅▅▅▅▅▆▆▆▆▇▇▇▇▇▇████</td></tr><tr><td>train_f1_epoch</td><td>▁▅▆▆▆▇▇▇▇▇▇▇████████</td></tr><tr><td>train_f1_step</td><td>▁▄▄▄▄▅▅▆▆▆▆▆▆▅▆▇▆▇▇▆▆▇▆▇▇▇█▆▆▇▆▇▆▆▆█▇▆█▆</td></tr><tr><td>train_loss_epoch</td><td>█▄▃▃▂▂▂▂▂▂▂▂▁▁▁▁▁▁▁▁</td></tr><tr><td>train_loss_step</td><td>█▆▅▅▅▄▃▃▂▃▃▃▂▃▃▂▃▂▂▂▃▃▃▂▂▂▁▃▂▂▃▂▃▂▂▂▂▃▁▃</td></tr><tr><td>trainer/global_step</td><td>▁▁▁▁▂▁▁▁▃▁▁▁▁▂▂▂▂▂▄▂▂▂▅▂▂▂▆▂▂▂▂▂▂▂▂▂█▃▃▃</td></tr><tr><td>val_f1_epoch</td><td>▁▃▅▅▅▆▇▇▇▇█▇▇███▇███</td></tr><tr><td>val_f1_step</td><td>▁▃▃▂▇▄▄▃▄▅▅▇▅▄▇▅▆▄▆▅▅▇▆▆▃▅▇▇▆▇▇█▅▃▇▅▆▃▆▆</td></tr><tr><td>val_loss_epoch</td><td>█▅▅▄▄▅▂▄▄▃▁▂▂▂▂▁▃▂▂▁</td></tr><tr><td>val_loss_step</td><td>█▇█▅▄▆▅▆▅▄▇▅▅▅▄▅▅▆▆▆▆▂▄▃▄▃▅▃▅▃▃▁▄▆▄▅▄▆▄▄</td></tr></table><br/></div><div class=\"wandb-col\"><h3>Run summary:</h3><br/><table class=\"wandb\"><tr><td>epoch</td><td>19</td></tr><tr><td>train_f1_epoch</td><td>0.85225</td></tr><tr><td>train_f1_step</td><td>0.84138</td></tr><tr><td>train_loss_epoch</td><td>0.43772</td></tr><tr><td>train_loss_step</td><td>0.45022</td></tr><tr><td>trainer/global_step</td><td>9199</td></tr><tr><td>val_f1_epoch</td><td>0.80036</td></tr><tr><td>val_f1_step</td><td>0.81159</td></tr><tr><td>val_loss_epoch</td><td>0.51368</td></tr><tr><td>val_loss_step</td><td>0.44544</td></tr></table><br/></div></div>"
      ],
      "text/plain": [
       "<IPython.core.display.HTML object>"
      ]
     },
     "metadata": {},
     "output_type": "display_data"
    },
    {
     "data": {
      "text/html": [
       " View run <strong style=\"color:#cdcd00\">model_sizes=[256, 128, 64, 32]</strong> at: <a href='https://wandb.ai/pwr-spatial-lab/hex2vec_pl_r9_b1024_50k/runs/26r3vme9' target=\"_blank\">https://wandb.ai/pwr-spatial-lab/hex2vec_pl_r9_b1024_50k/runs/26r3vme9</a><br/>Synced 5 W&B file(s), 0 media file(s), 0 artifact file(s) and 0 other file(s)"
      ],
      "text/plain": [
       "<IPython.core.display.HTML object>"
      ]
     },
     "metadata": {},
     "output_type": "display_data"
    },
    {
     "data": {
      "text/html": [
       "Find logs at: <code>./wandb/run-20230716_233052-26r3vme9/logs</code>"
      ],
      "text/plain": [
       "<IPython.core.display.HTML object>"
      ]
     },
     "metadata": {},
     "output_type": "display_data"
    }
   ],
   "source": [
    "from pytorch_lightning.loggers import WandbLogger\n",
    "from pytorch_lightning.callbacks import ModelCheckpoint\n",
    "import wandb\n",
    "from srai.embedders import Hex2VecEmbedder\n",
    "\n",
    "for sizes in experiment_model_sizes:\n",
    "    checkpoint_callback = ModelCheckpoint(save_top_k=2, monitor=\"val_f1\", mode=\"max\", filename=\"{epoch}-{val_f1:.2f}\", dirpath=f\"models_{RESOLUTION}/{sizes}\")\n",
    "    embedder = Hex2VecEmbedder(encoder_sizes=sizes, expected_output_features=expected_output_features)\n",
    "    logger = WandbLogger(project=f\"hex2vec_pl_r{RESOLUTION}_b1024_50k\", name=f\"model_sizes={sizes}\")\n",
    "    embedder.fit_transform(train_regions_gdf, train_features, train_joint, train_neighbourhood, val_regions_gdf, val_features, val_joint, val_neighbourhood, batch_size=1024, trainer_kwargs={\"max_epochs\": EPOCHS, \"accelerator\": \"gpu\", \"logger\": logger, \"callbacks\": [checkpoint_callback]})\n",
    "    wandb.finish()"
   ]
  },
  {
   "cell_type": "code",
   "execution_count": 33,
   "metadata": {},
   "outputs": [
    {
     "data": {
      "text/plain": [
       "{'epoch': 4,\n",
       " 'global_step': 15660,\n",
       " 'pytorch-lightning_version': '2.0.2',\n",
       " 'state_dict': OrderedDict([('encoder.0.weight',\n",
       "               tensor([[ 0.1185, -0.0679, -0.0759,  ...,  0.1910, -0.0199,  0.0439],\n",
       "                       [ 0.0261, -0.1147, -0.0818,  ..., -0.0096,  0.1501,  0.0937],\n",
       "                       [ 0.2804, -0.0689, -0.0469,  ...,  0.1040,  0.0130, -0.1599],\n",
       "                       ...,\n",
       "                       [-0.1363, -0.0415, -0.0739,  ..., -0.1396, -0.0171,  0.1324],\n",
       "                       [-0.1597, -0.0621, -0.0465,  ...,  0.0469,  0.0422, -0.1400],\n",
       "                       [-0.1683,  0.0277, -0.1053,  ..., -0.1481,  0.2068,  0.0496]],\n",
       "                      device='cuda:0')),\n",
       "              ('encoder.0.bias',\n",
       "               tensor([-1.3661e-02, -8.9733e-03, -1.4578e-04,  2.4494e-02,  9.3286e-03,\n",
       "                       -5.2716e-02,  1.5052e-01, -2.5846e-01,  1.4060e-01, -1.0114e-01,\n",
       "                        1.7142e-01,  1.0915e-01, -9.3597e-02, -1.4510e-02,  1.2225e-01,\n",
       "                        1.3991e-02,  5.2022e-02,  1.0271e-01, -6.4511e-01,  1.3752e-01,\n",
       "                        1.5879e-01, -7.5954e-02,  1.3151e-01,  1.6623e-01,  1.3985e-01,\n",
       "                        2.3922e-01,  1.4319e-01,  2.3816e-01, -8.7650e-02,  7.1186e-02,\n",
       "                        3.4820e-02,  2.2250e-01, -1.2235e-01,  9.5051e-02, -5.6240e-03,\n",
       "                        2.0026e-02,  9.3712e-02,  8.1961e-02,  3.5048e-01,  9.0892e-02,\n",
       "                        2.1351e-01,  1.8835e-01,  1.5146e-01,  3.2056e-01,  2.0587e-02,\n",
       "                        2.0601e-01,  3.6446e-01, -3.7381e-01, -2.3162e-03,  3.2587e-01,\n",
       "                        9.3016e-02,  4.2545e-02,  1.1095e-01, -6.9565e-02,  1.9672e-01,\n",
       "                        1.3580e-01,  1.6517e-01,  2.0426e-01, -6.3628e-03,  1.1382e-01,\n",
       "                        2.4887e-01,  1.9804e-01,  1.4782e-01, -1.1768e-01,  1.5130e-01,\n",
       "                       -9.5237e-02,  1.8769e-01,  2.2663e-01,  1.0324e-01,  2.4728e-01,\n",
       "                        2.6689e-01, -1.2585e-01,  2.7102e-01,  4.0262e-02,  1.5206e-01,\n",
       "                        2.1788e-03,  6.0181e-02,  1.1760e-01, -1.6106e-01, -3.1078e-02,\n",
       "                        1.7091e-02, -2.0660e-02,  1.2430e-01,  2.1255e-01,  2.3355e-01,\n",
       "                        1.7725e-01, -2.3345e-01, -2.4730e-02, -1.7147e-02,  2.0051e-01,\n",
       "                        2.2884e-01,  1.2636e-01,  1.8960e-01, -1.6448e-01,  1.9330e-01,\n",
       "                        6.9844e-02,  3.1397e-01,  2.4018e-01, -2.0653e-02,  2.3387e-01,\n",
       "                       -4.3137e-02,  1.4500e-01,  2.0600e-01,  1.1479e-01,  1.2182e-01,\n",
       "                        7.8725e-02,  3.2305e-01, -5.2284e-02, -3.4417e-03,  2.6309e-01,\n",
       "                        2.2023e-01, -1.5731e-01,  1.3978e-01,  1.1125e-01,  1.2909e-01,\n",
       "                        1.0121e-01,  1.2121e-01,  1.2463e-01, -2.9937e-02,  1.5712e-01,\n",
       "                       -2.7299e-02, -1.2428e-01,  2.0460e-01,  3.2592e-01,  1.3159e-01,\n",
       "                        1.5586e-01,  1.0809e-01,  1.3548e-01,  1.4168e-01,  1.6616e-01,\n",
       "                        1.7340e-01,  1.1260e-01,  9.0424e-02, -4.5613e-02, -9.4355e-04,\n",
       "                       -8.7934e-02, -1.2370e-01,  2.3555e-01,  1.3628e-01,  2.3418e-01,\n",
       "                        1.8696e-01,  1.8646e-01,  2.9021e-01, -6.1899e-01, -2.5048e-01,\n",
       "                        2.0908e-01,  2.1473e-01,  2.8161e-01,  3.4301e-01,  1.6458e-01,\n",
       "                        1.5699e-01,  2.6722e-01, -1.9878e-01, -7.0365e-03, -1.9183e-02,\n",
       "                        3.5092e-01,  2.3129e-01,  3.4065e-02, -4.7071e-02,  2.6376e-01,\n",
       "                        1.9761e-01,  8.4030e-02, -1.9994e-02,  1.2399e-01, -9.4631e-02,\n",
       "                        2.8380e-01,  1.5506e-01, -1.0499e-01, -3.9758e-02, -8.9963e-01,\n",
       "                        1.3941e-01,  1.5275e-01,  2.9802e-02,  1.5304e-01,  1.0412e-01,\n",
       "                        2.2257e-01,  8.4775e-03,  1.0561e-01,  2.3779e-01, -1.8566e-02,\n",
       "                       -4.6761e-03,  2.8342e-01,  1.3608e-01, -7.0111e-02, -8.6744e-01,\n",
       "                        1.2514e-01, -9.9347e-02,  1.9222e-02,  2.3164e-01,  1.9550e-01,\n",
       "                       -9.5534e-02,  2.4971e-01, -6.8456e-03,  1.7306e-01,  2.3534e-01,\n",
       "                       -7.2981e-02,  1.4936e-01,  2.3733e-01,  1.9897e-01,  7.4197e-02,\n",
       "                       -6.1815e-03,  1.2812e-01,  1.4983e-01, -9.4869e-02,  1.3006e-02,\n",
       "                        2.5482e-01,  7.4878e-02,  1.3099e-01,  1.7133e-01,  2.5959e-01,\n",
       "                        2.0361e-03, -4.5799e-03,  2.2807e-01, -2.3076e-02, -6.3431e-02,\n",
       "                       -3.7678e-02, -1.1314e-01,  3.3118e-01, -4.3356e-02, -1.0063e-01,\n",
       "                        2.4000e-01, -2.3330e-02,  3.2627e-01,  1.7923e-01,  2.3710e-01,\n",
       "                        1.5699e-01,  1.4444e-01, -8.4245e-01, -3.6867e-01,  1.8411e-01,\n",
       "                       -7.6574e-02, -7.2844e-01,  2.4169e-01,  1.8193e-03, -1.2612e-01,\n",
       "                        1.3587e-01,  1.5571e-01,  1.2661e-01,  1.8183e-02, -4.2917e-01,\n",
       "                        1.2092e-02,  2.0943e-01,  1.1064e-02,  1.2149e-01,  6.4669e-02,\n",
       "                        2.0269e-01,  2.7323e-01,  6.2830e-02,  7.6877e-02,  3.7792e-02,\n",
       "                       -1.2963e-01, -5.6299e-02,  1.1594e-01,  9.3425e-02,  1.9051e-01,\n",
       "                        9.1349e-02], device='cuda:0')),\n",
       "              ('encoder.2.weight',\n",
       "               tensor([[-0.0093, -0.0291, -0.0704,  ...,  0.0255,  0.0733,  0.0842],\n",
       "                       [-0.1189, -0.0348, -0.0119,  ...,  0.0081,  0.0382, -0.0857],\n",
       "                       [ 0.0187,  0.0558,  0.0908,  ..., -0.0614,  0.0495, -0.0953],\n",
       "                       ...,\n",
       "                       [-0.0607, -0.0824, -0.1153,  ..., -0.0644,  0.1324, -0.0889],\n",
       "                       [ 0.0194, -0.1809, -0.1128,  ..., -0.1591,  0.0445, -0.2058],\n",
       "                       [-0.0458, -0.0763,  0.0521,  ..., -0.0280, -0.0630, -0.0620]],\n",
       "                      device='cuda:0')),\n",
       "              ('encoder.2.bias',\n",
       "               tensor([ 0.1212,  0.2431,  0.1106,  0.1898,  0.2501,  0.2424,  0.1184,  0.0841,\n",
       "                        0.1093,  0.3609,  0.1137,  0.2674,  0.1394,  0.1879,  0.1491,  0.1446,\n",
       "                        0.1538,  0.1904,  0.2342,  0.2185,  0.2058,  0.1112,  0.2456,  0.2223,\n",
       "                        0.1542,  0.2175,  0.0819,  0.1444,  0.1421,  0.1790,  0.1471,  0.2032,\n",
       "                        0.0845,  0.2784,  0.2908,  0.2701,  0.1547,  0.1923,  0.1995,  0.2436,\n",
       "                        0.1816,  0.2274,  0.1561,  0.1580, -0.0368,  0.1302,  0.1687,  0.0818,\n",
       "                        0.0475,  0.2339, -0.0176,  0.0592,  0.0468,  0.2696,  0.1927,  0.0029,\n",
       "                        0.4488,  0.1649,  0.1432,  0.3277,  0.2886,  0.1951,  0.1191,  0.2679,\n",
       "                        0.1537,  0.1515, -0.0902,  0.0712, -0.0229, -0.0013,  0.0627,  0.0807,\n",
       "                        0.1613,  0.1139,  0.1271,  0.0659,  0.1028,  0.2320,  0.1389,  0.0817,\n",
       "                        0.2366, -0.0622,  0.1706,  0.1497,  0.1404,  0.3354,  0.0764,  0.0458,\n",
       "                        0.2210,  0.0581, -0.0859,  0.2800,  0.1183,  0.0648,  0.2207,  0.0328,\n",
       "                        0.3217,  0.2567,  0.1916,  0.0700,  0.2179,  0.0723,  0.0945,  0.1447,\n",
       "                        0.0756,  0.1506,  0.1789,  0.2668,  0.1898,  0.2970, -0.0633,  0.0477,\n",
       "                        0.0718,  0.2173,  0.1230,  0.1479,  0.1990,  0.0984,  0.1364,  0.2023,\n",
       "                        0.2298, -0.0986,  0.3079,  0.1620,  0.0725,  0.2018,  0.1543, -0.0016],\n",
       "                      device='cuda:0')),\n",
       "              ('encoder.4.weight',\n",
       "               tensor([[ 0.1039, -0.0167,  0.0026,  ...,  0.0615,  0.0461, -0.0437],\n",
       "                       [ 0.0811, -0.0425,  0.0148,  ..., -0.0416,  0.0510, -0.0389],\n",
       "                       [ 0.0496,  0.0246,  0.0686,  ..., -0.0782,  0.0148,  0.0230],\n",
       "                       ...,\n",
       "                       [ 0.1284, -0.0125, -0.0133,  ..., -0.1112, -0.1343,  0.0465],\n",
       "                       [ 0.1067, -0.1321,  0.0787,  ..., -0.1956, -0.1972,  0.0631],\n",
       "                       [-0.2360,  0.0074,  0.1316,  ..., -0.0611,  0.0376, -0.0307]],\n",
       "                      device='cuda:0')),\n",
       "              ('encoder.4.bias',\n",
       "               tensor([-0.0513, -0.0299,  0.0215, -0.0888, -0.0201,  0.0374,  0.0896,  0.0257,\n",
       "                        0.0716, -0.0595, -0.0749, -0.0791,  0.1163,  0.0371, -0.0964, -0.0912,\n",
       "                        0.0218, -0.0399, -0.0452, -0.0149, -0.0613, -0.0027, -0.0945,  0.0293,\n",
       "                       -0.0121,  0.1009, -0.0233,  0.0759,  0.0435,  0.0653, -0.0378,  0.0415,\n",
       "                        0.0843, -0.0898,  0.1082, -0.0034, -0.1233, -0.1104,  0.0022, -0.0354,\n",
       "                        0.0633, -0.0885, -0.0289,  0.0921,  0.0317,  0.1037, -0.1093,  0.0112,\n",
       "                       -0.0927,  0.2032,  0.0434, -0.0721,  0.0900,  0.0297, -0.0446,  0.0605,\n",
       "                        0.0721, -0.0520, -0.0162,  0.0316,  0.0400, -0.1531,  0.0106,  0.0409],\n",
       "                      device='cuda:0'))]),\n",
       " 'loops': {'fit_loop': {'state_dict': {},\n",
       "   'epoch_loop.state_dict': {'_batches_that_stepped': 15660},\n",
       "   'epoch_loop.batch_progress': {'total': {'ready': 15660,\n",
       "     'completed': 15660,\n",
       "     'started': 15660,\n",
       "     'processed': 15660},\n",
       "    'current': {'ready': 3132,\n",
       "     'completed': 3132,\n",
       "     'started': 3132,\n",
       "     'processed': 3132},\n",
       "    'is_last_batch': True},\n",
       "   'epoch_loop.scheduler_progress': {'total': {'ready': 0, 'completed': 0},\n",
       "    'current': {'ready': 0, 'completed': 0}},\n",
       "   'epoch_loop.automatic_optimization.state_dict': {},\n",
       "   'epoch_loop.automatic_optimization.optim_progress': {'optimizer': {'step': {'total': {'ready': 15660,\n",
       "       'completed': 15660},\n",
       "      'current': {'ready': 3132, 'completed': 3132}},\n",
       "     'zero_grad': {'total': {'ready': 15660,\n",
       "       'completed': 15660,\n",
       "       'started': 15660},\n",
       "      'current': {'ready': 3132, 'completed': 3132, 'started': 3132}}}},\n",
       "   'epoch_loop.manual_optimization.state_dict': {},\n",
       "   'epoch_loop.manual_optimization.optim_step_progress': {'total': {'ready': 0,\n",
       "     'completed': 0},\n",
       "    'current': {'ready': 0, 'completed': 0}},\n",
       "   'epoch_loop.val_loop.state_dict': {},\n",
       "   'epoch_loop.val_loop.batch_progress': {'total': {'ready': 667,\n",
       "     'completed': 667,\n",
       "     'started': 667,\n",
       "     'processed': 667},\n",
       "    'current': {'ready': 667,\n",
       "     'completed': 667,\n",
       "     'started': 667,\n",
       "     'processed': 667},\n",
       "    'is_last_batch': True},\n",
       "   'epoch_progress': {'total': {'ready': 5,\n",
       "     'completed': 4,\n",
       "     'started': 5,\n",
       "     'processed': 5},\n",
       "    'current': {'ready': 5, 'completed': 4, 'started': 5, 'processed': 5}}},\n",
       "  'validate_loop': {'state_dict': {},\n",
       "   'batch_progress': {'total': {'ready': 0,\n",
       "     'completed': 0,\n",
       "     'started': 0,\n",
       "     'processed': 0},\n",
       "    'current': {'ready': 0, 'completed': 0, 'started': 0, 'processed': 0},\n",
       "    'is_last_batch': False}},\n",
       "  'test_loop': {'state_dict': {},\n",
       "   'batch_progress': {'total': {'ready': 0,\n",
       "     'completed': 0,\n",
       "     'started': 0,\n",
       "     'processed': 0},\n",
       "    'current': {'ready': 0, 'completed': 0, 'started': 0, 'processed': 0},\n",
       "    'is_last_batch': False}},\n",
       "  'predict_loop': {'state_dict': {},\n",
       "   'batch_progress': {'total': {'ready': 0,\n",
       "     'completed': 0,\n",
       "     'started': 0,\n",
       "     'processed': 0},\n",
       "    'current': {'ready': 0, 'completed': 0, 'started': 0, 'processed': 0}}}},\n",
       " 'callbacks': {\"ModelCheckpoint{'monitor': 'val_f1', 'mode': 'max', 'every_n_train_steps': 0, 'every_n_epochs': 1, 'train_time_interval': None}\": {'monitor': 'val_f1',\n",
       "   'best_model_score': tensor(0.8414, device='cuda:0'),\n",
       "   'best_model_path': '/home/swozniak/projects/srai/models/[256, 128, 64]/epoch=4-val_f1=0.84.ckpt',\n",
       "   'current_score': tensor(0.8414, device='cuda:0'),\n",
       "   'dirpath': '/home/swozniak/projects/srai/models/[256, 128, 64]',\n",
       "   'best_k_models': {'/home/swozniak/projects/srai/models/[256, 128, 64]/epoch=3-val_f1=0.84.ckpt': tensor(0.8352, device='cuda:0'),\n",
       "    '/home/swozniak/projects/srai/models/[256, 128, 64]/epoch=4-val_f1=0.84.ckpt': tensor(0.8414, device='cuda:0')},\n",
       "   'kth_best_model_path': '/home/swozniak/projects/srai/models/[256, 128, 64]/epoch=3-val_f1=0.84.ckpt',\n",
       "   'kth_value': tensor(0.8352, device='cuda:0'),\n",
       "   'last_model_path': ''}},\n",
       " 'optimizer_states': [{'state': {0: {'step': tensor(15660.),\n",
       "     'exp_avg': tensor([[ 2.6387e-05, -3.5763e-06, -4.1943e-07,  ...,  3.4100e-19,\n",
       "              -7.5484e-08,  1.9139e-06],\n",
       "             [ 1.3739e-05,  5.9853e-07, -5.6052e-45,  ...,  0.0000e+00,\n",
       "              -1.2480e-06,  2.6916e-06],\n",
       "             [-1.4788e-06, -3.8864e-06, -2.3879e-08,  ..., -3.2173e-20,\n",
       "               7.0021e-15,  2.3928e-07],\n",
       "             ...,\n",
       "             [-1.7091e-06, -2.7308e-08,  5.6052e-45,  ..., -5.3902e-19,\n",
       "               1.0646e-10, -2.9086e-05],\n",
       "             [ 2.3742e-05,  1.9799e-07, -6.3757e-11,  ..., -1.1629e-19,\n",
       "              -2.4083e-10,  2.5633e-07],\n",
       "             [-4.3681e-06, -4.4167e-07, -7.6668e-08,  ...,  5.6052e-45,\n",
       "              -3.1784e-06,  1.5285e-05]], device='cuda:0'),\n",
       "     'exp_avg_sq': tensor([[5.4549e-09, 2.7604e-10, 1.6486e-10,  ..., 9.7002e-13, 3.4948e-10,\n",
       "              2.8457e-09],\n",
       "             [4.3538e-09, 1.9497e-10, 1.7032e-11,  ..., 0.0000e+00, 7.0917e-10,\n",
       "              5.4035e-10],\n",
       "             [5.0013e-09, 7.1499e-10, 1.4530e-10,  ..., 1.3115e-12, 6.3786e-12,\n",
       "              2.5567e-10],\n",
       "             ...,\n",
       "             [1.7487e-09, 2.2199e-10, 1.1169e-12,  ..., 9.2131e-13, 3.1946e-11,\n",
       "              2.5471e-09],\n",
       "             [8.4921e-09, 1.7920e-10, 6.4045e-10,  ..., 4.2548e-12, 2.6291e-11,\n",
       "              3.4147e-10],\n",
       "             [4.9411e-10, 1.7699e-10, 2.6265e-11,  ..., 9.6364e-16, 9.0835e-10,\n",
       "              1.0848e-09]], device='cuda:0')},\n",
       "    1: {'step': tensor(15660.),\n",
       "     'exp_avg': tensor([ 1.4409e-05, -7.1739e-05,  9.8795e-05,  1.8043e-04, -2.6139e-04,\n",
       "             -4.3920e-04, -1.2350e-04, -3.2449e-04, -4.8419e-04, -3.7033e-04,\n",
       "              2.4253e-04, -6.7870e-04,  7.6679e-05, -1.1719e-04,  2.0705e-04,\n",
       "              7.9829e-06,  1.9522e-04,  1.5691e-04, -2.3835e-04,  1.1120e-04,\n",
       "              1.7278e-04,  2.7646e-04, -1.9251e-04,  2.9263e-05,  3.2651e-04,\n",
       "              6.0317e-04,  1.5264e-04,  8.5189e-05, -2.1306e-04, -4.9469e-05,\n",
       "              1.7347e-04, -3.9569e-04, -1.4577e-04,  3.3694e-04,  9.1384e-05,\n",
       "             -3.6919e-05,  1.0996e-04, -5.8170e-04,  1.7650e-04, -3.6527e-05,\n",
       "              2.8334e-04,  6.8701e-04,  2.0898e-05, -3.7736e-04,  6.7663e-05,\n",
       "              2.3238e-04, -7.4056e-05, -2.6888e-04, -3.8305e-05,  6.4542e-04,\n",
       "             -1.4971e-04, -3.1357e-04, -6.5589e-05, -6.0035e-05,  3.6679e-05,\n",
       "              4.2703e-05, -3.4800e-04, -7.0532e-04, -7.1741e-05, -9.2353e-06,\n",
       "              1.8073e-04, -5.8855e-06, -3.5649e-04, -1.5416e-04, -2.6508e-04,\n",
       "             -1.6586e-04,  5.6731e-04,  3.1036e-04,  1.7423e-04,  3.3470e-04,\n",
       "              2.0723e-05, -4.9906e-05,  8.3870e-05, -2.8380e-04, -2.9627e-04,\n",
       "             -2.0079e-04, -7.1841e-06, -3.0302e-04,  3.2931e-04,  2.7855e-05,\n",
       "             -3.1143e-04,  1.8577e-04, -9.3957e-05, -2.9248e-04,  6.9753e-04,\n",
       "              7.5335e-04, -2.0358e-05,  3.0732e-05, -4.9289e-04,  1.5141e-04,\n",
       "              2.9126e-04,  1.2713e-04,  2.3309e-05, -1.5315e-04,  4.5479e-04,\n",
       "             -1.5575e-04,  5.4684e-04, -3.0420e-04, -3.4913e-04,  6.1699e-04,\n",
       "              1.0387e-04, -1.3494e-04,  1.5552e-04,  1.1408e-04,  7.8765e-04,\n",
       "             -1.3748e-04, -5.5850e-04,  9.6226e-05, -3.2719e-05, -9.4381e-05,\n",
       "              4.4812e-04,  3.4967e-05,  7.3455e-04,  5.5765e-05, -2.0232e-04,\n",
       "              1.4320e-04, -2.6535e-05, -4.7900e-04, -8.5007e-06, -4.5231e-04,\n",
       "              2.3321e-04,  7.9632e-05, -2.1593e-04, -3.3219e-04,  3.4156e-04,\n",
       "             -1.1839e-04,  1.6611e-04, -6.3983e-07,  4.7218e-04,  4.7175e-05,\n",
       "              1.9830e-04,  5.2188e-04, -3.4086e-04, -3.5773e-04,  3.9755e-05,\n",
       "              6.6705e-05,  2.1235e-04, -5.7198e-05,  5.4393e-05, -2.6721e-04,\n",
       "              3.7482e-04, -1.1312e-04, -9.1295e-04, -1.3489e-04, -7.3969e-05,\n",
       "              2.9297e-04, -1.4734e-04,  1.3227e-04,  7.7442e-05,  7.7708e-05,\n",
       "              9.1401e-05,  2.8049e-04, -7.9634e-05, -1.9760e-04,  5.2405e-05,\n",
       "             -2.7782e-04,  1.5228e-04, -1.9838e-04, -6.2471e-05,  7.3706e-05,\n",
       "             -2.3339e-04, -1.1908e-04, -8.7996e-05,  3.2874e-04, -1.2793e-05,\n",
       "             -1.0454e-04,  3.4601e-04, -5.7346e-05, -6.7226e-04, -5.7119e-05,\n",
       "              1.2409e-04,  5.0561e-04, -1.7450e-04, -1.3841e-05, -2.3634e-04,\n",
       "              4.3224e-04, -2.8633e-04,  7.4690e-05,  4.5997e-04,  2.1364e-04,\n",
       "             -2.4650e-04, -8.3816e-05,  8.8247e-04, -1.4805e-04, -1.3323e-04,\n",
       "             -1.5758e-04,  2.0680e-05, -3.6847e-04, -4.1768e-05, -3.4776e-04,\n",
       "             -2.3731e-04,  6.7452e-04,  1.5163e-05,  2.7218e-04,  1.7649e-04,\n",
       "              5.9101e-05, -2.1864e-05,  2.4598e-04,  2.8863e-04, -3.8023e-05,\n",
       "              3.1014e-04, -5.6516e-05,  1.5500e-04,  2.3759e-04,  1.1205e-04,\n",
       "             -6.6273e-04, -1.9971e-04,  2.3280e-04,  5.7114e-06,  5.8383e-06,\n",
       "             -6.7357e-04,  8.0755e-05,  1.9216e-04, -2.3920e-04,  9.2578e-05,\n",
       "             -9.8057e-05, -8.3399e-05, -3.0047e-05,  8.9124e-06, -1.8199e-04,\n",
       "              9.9985e-05,  1.5779e-04,  9.4968e-04, -3.9039e-04,  2.5829e-04,\n",
       "              2.3184e-04, -1.5659e-04,  1.1132e-05, -1.5939e-04,  2.4219e-04,\n",
       "             -5.2872e-05, -3.0456e-04,  4.5931e-05, -3.6310e-04, -8.3692e-05,\n",
       "             -8.7993e-05, -1.7774e-05, -3.7080e-04,  1.3049e-04, -8.1716e-05,\n",
       "              2.1025e-04,  6.4927e-05, -4.6639e-04, -1.4990e-04, -1.6965e-04,\n",
       "              2.8908e-04,  3.9113e-04,  7.6287e-05,  1.1118e-04,  6.2618e-05,\n",
       "             -2.2309e-04, -1.6214e-04, -2.0572e-04, -1.0024e-04, -9.7234e-05,\n",
       "             -1.6131e-05], device='cuda:0'),\n",
       "     'exp_avg_sq': tensor([9.1235e-07, 8.7891e-07, 1.6060e-06, 2.9632e-06, 1.5500e-06, 2.3413e-06,\n",
       "             1.9204e-06, 2.3855e-06, 3.8046e-06, 3.0948e-07, 1.1921e-06, 1.7890e-06,\n",
       "             5.2864e-07, 2.3353e-06, 1.6146e-06, 2.9130e-06, 2.9889e-07, 9.3087e-07,\n",
       "             7.2342e-07, 1.5339e-06, 1.1332e-06, 6.2683e-07, 1.4485e-06, 1.0575e-06,\n",
       "             1.3955e-06, 2.6625e-06, 9.6689e-07, 2.1481e-06, 6.1480e-07, 7.9407e-07,\n",
       "             1.6247e-06, 1.8435e-06, 1.5817e-06, 1.9834e-06, 1.1220e-06, 2.7220e-06,\n",
       "             1.1499e-06, 2.2286e-06, 4.6934e-06, 1.9626e-06, 3.1813e-06, 2.1806e-06,\n",
       "             1.3956e-06, 3.3888e-06, 1.7757e-06, 1.8913e-06, 4.9460e-06, 1.7962e-06,\n",
       "             1.0422e-06, 6.9631e-06, 1.6660e-06, 1.3865e-06, 2.3326e-06, 5.9245e-07,\n",
       "             1.2662e-06, 2.3558e-06, 1.5292e-06, 2.6697e-06, 3.2764e-06, 1.1257e-06,\n",
       "             3.3439e-06, 1.5225e-06, 1.3998e-06, 3.3706e-07, 2.2357e-06, 6.0148e-07,\n",
       "             3.5071e-06, 2.0022e-06, 7.6573e-07, 1.6506e-06, 3.1834e-06, 6.6662e-07,\n",
       "             3.9341e-06, 2.1252e-06, 2.3790e-06, 5.7902e-07, 5.3402e-07, 2.0764e-06,\n",
       "             1.3999e-06, 4.9431e-07, 1.2828e-06, 9.0606e-07, 1.5701e-06, 2.5402e-06,\n",
       "             1.8174e-06, 2.0933e-06, 2.5042e-07, 9.0330e-07, 2.0651e-06, 2.1902e-06,\n",
       "             4.6072e-06, 1.0267e-06, 1.6682e-06, 2.0696e-06, 1.7026e-06, 5.3696e-07,\n",
       "             4.1225e-06, 2.1359e-06, 1.5071e-06, 2.5804e-06, 1.1242e-06, 1.1372e-06,\n",
       "             3.3896e-06, 1.0509e-06, 1.8762e-06, 6.7091e-07, 4.6695e-06, 9.4139e-07,\n",
       "             1.1903e-06, 4.5662e-06, 2.9112e-06, 2.4280e-07, 2.3483e-06, 1.6461e-06,\n",
       "             1.2530e-06, 4.2855e-07, 3.9341e-06, 1.1909e-06, 4.9517e-07, 1.2657e-06,\n",
       "             1.0203e-06, 1.0251e-06, 1.7592e-06, 5.3782e-06, 2.0280e-06, 2.1456e-06,\n",
       "             6.8766e-07, 1.4400e-06, 2.2971e-06, 2.9004e-06, 2.5550e-06, 1.8094e-06,\n",
       "             1.8019e-06, 3.2778e-06, 1.5462e-07, 2.9394e-07, 6.6055e-07, 2.6041e-06,\n",
       "             1.5820e-06, 1.6513e-06, 1.8675e-06, 2.7994e-06, 5.1291e-06, 3.9113e-07,\n",
       "             4.6374e-07, 1.8556e-06, 2.6229e-06, 2.0222e-06, 7.4459e-06, 2.4291e-06,\n",
       "             1.3304e-06, 1.7075e-06, 4.6468e-07, 1.4470e-06, 1.9077e-06, 6.7932e-06,\n",
       "             2.6202e-06, 9.1366e-07, 1.0257e-06, 2.2178e-06, 3.7067e-06, 1.2076e-06,\n",
       "             3.9587e-07, 2.3901e-06, 2.0981e-07, 2.2589e-06, 1.6447e-06, 3.6688e-07,\n",
       "             1.4181e-06, 6.8834e-07, 1.9002e-06, 2.7251e-06, 1.1739e-06, 2.3550e-06,\n",
       "             1.0137e-06, 3.2307e-06, 2.6644e-06, 1.4585e-06, 3.5195e-06, 6.4809e-07,\n",
       "             1.7312e-06, 2.4910e-06, 1.9006e-06, 1.4016e-06, 1.1961e-06, 1.2271e-06,\n",
       "             2.5362e-07, 1.2964e-06, 2.2177e-06, 2.3679e-06, 4.7157e-07, 4.4935e-06,\n",
       "             7.7975e-07, 2.1675e-06, 3.0023e-06, 1.0071e-06, 2.7985e-06, 1.4088e-06,\n",
       "             2.4508e-06, 9.4985e-07, 8.0886e-07, 2.5600e-06, 1.8090e-06, 9.9756e-07,\n",
       "             7.4224e-07, 4.6319e-06, 1.1875e-06, 1.4324e-06, 9.2369e-07, 2.0958e-06,\n",
       "             2.4051e-06, 2.3394e-06, 2.1502e-06, 1.5309e-06, 3.8454e-07, 5.7816e-07,\n",
       "             1.2705e-06, 3.5423e-06, 6.9681e-07, 4.4484e-07, 2.9606e-06, 1.4236e-06,\n",
       "             4.6226e-06, 1.7366e-06, 2.5541e-06, 2.2898e-06, 7.0662e-07, 8.3206e-07,\n",
       "             7.3941e-07, 1.8159e-06, 6.3640e-07, 9.1908e-07, 3.6681e-06, 1.2783e-06,\n",
       "             1.1256e-06, 1.3973e-06, 1.3804e-06, 1.7510e-06, 2.2837e-06, 2.4067e-06,\n",
       "             1.3164e-06, 2.7979e-06, 3.1949e-06, 2.7184e-06, 1.4647e-06, 2.9990e-06,\n",
       "             3.2417e-06, 6.3137e-07, 1.3995e-06, 5.7880e-07, 1.7718e-06, 9.0486e-07,\n",
       "             9.8926e-07, 9.1495e-07, 2.6558e-06, 4.0342e-07], device='cuda:0')},\n",
       "    2: {'step': tensor(15660.),\n",
       "     'exp_avg': tensor([[-1.9432e-06,  1.7941e-11, -2.6428e-06,  ...,  2.6414e-05,\n",
       "               7.4505e-06,  1.0077e-05],\n",
       "             [-8.6693e-05, -1.4422e-05,  1.0874e-05,  ..., -5.0631e-05,\n",
       "              -2.8788e-05, -5.8331e-05],\n",
       "             [-1.5904e-05,  5.1051e-06, -2.7147e-05,  ...,  6.9960e-06,\n",
       "              -2.6101e-05,  3.2125e-05],\n",
       "             ...,\n",
       "             [-1.5117e-05,  3.4975e-05,  1.0572e-04,  ...,  2.5837e-05,\n",
       "               1.6879e-04,  3.1900e-06],\n",
       "             [ 7.6849e-06, -6.8136e-06, -2.5184e-05,  ..., -2.0078e-05,\n",
       "              -7.7349e-05,  5.8991e-06],\n",
       "             [-5.6052e-45, -5.6052e-45, -5.6052e-45,  ...,  5.6052e-45,\n",
       "               5.6052e-45,  5.6052e-45]], device='cuda:0'),\n",
       "     'exp_avg_sq': tensor([[4.7397e-09, 1.6415e-11, 5.9663e-08,  ..., 3.0782e-09, 4.3923e-08,\n",
       "              4.2635e-10],\n",
       "             [4.6212e-08, 2.7214e-09, 4.4591e-08,  ..., 3.0901e-08, 7.8248e-08,\n",
       "              2.4164e-08],\n",
       "             [3.7900e-08, 7.6020e-09, 2.8668e-08,  ..., 5.7091e-09, 3.2709e-08,\n",
       "              8.7958e-09],\n",
       "             ...,\n",
       "             [6.2203e-08, 3.7431e-09, 3.2917e-08,  ..., 1.5664e-08, 8.7664e-08,\n",
       "              1.7772e-08],\n",
       "             [1.4454e-07, 1.0253e-08, 7.1666e-08,  ..., 4.1734e-08, 5.6788e-08,\n",
       "              1.0044e-08],\n",
       "             [7.1407e-17, 8.8583e-18, 1.3798e-16,  ..., 3.4787e-17, 6.8326e-17,\n",
       "              1.0695e-15]], device='cuda:0')},\n",
       "    3: {'step': tensor(15660.),\n",
       "     'exp_avg': tensor([-1.1151e-04, -2.7827e-04, -5.5204e-05,  4.2621e-04, -1.5503e-04,\n",
       "             -5.7392e-05,  7.4282e-05, -9.1070e-05, -2.7878e-04,  2.8110e-04,\n",
       "             -1.5311e-04, -1.3369e-04, -1.1571e-04, -5.1264e-04, -7.2348e-05,\n",
       "              1.8914e-04, -2.4637e-05, -7.9155e-05, -1.1846e-05, -3.0559e-04,\n",
       "              2.5198e-04,  1.3867e-03,  9.5881e-04,  2.2681e-04, -1.2782e-04,\n",
       "              1.7760e-05,  1.7701e-04, -4.8345e-04, -1.6331e-04, -2.9463e-04,\n",
       "              1.5693e-04,  6.3999e-04, -8.0581e-04,  9.3161e-05,  2.9044e-04,\n",
       "              6.6543e-04, -1.2791e-03,  8.3035e-04, -3.8439e-06,  4.9485e-04,\n",
       "              9.0155e-05,  4.8149e-04,  1.4812e-04, -2.8165e-04,  5.6052e-45,\n",
       "              1.6496e-04, -1.5504e-05, -6.9275e-04,  7.6046e-05, -2.0113e-04,\n",
       "              5.6052e-45,  9.3335e-04, -1.6338e-04,  2.4392e-04, -1.2716e-04,\n",
       "             -8.5718e-06,  2.9458e-04, -2.4924e-04,  1.5163e-03, -2.2327e-04,\n",
       "              1.3989e-05,  8.2559e-04, -4.5164e-06, -8.3501e-05,  3.8564e-04,\n",
       "              2.5445e-04,  5.6052e-45,  5.6052e-45,  5.6052e-45, -1.9325e-04,\n",
       "             -6.0356e-05,  4.4883e-04, -7.6551e-05, -7.9450e-04,  2.4565e-05,\n",
       "             -3.0074e-05,  1.3655e-04,  2.1407e-04, -1.2725e-04, -2.7177e-04,\n",
       "              9.2708e-04,  5.6052e-45, -3.0587e-04, -8.6649e-06,  6.2728e-05,\n",
       "             -2.2625e-04,  5.7006e-04, -1.8451e-05, -3.0102e-04,  2.3839e-04,\n",
       "              5.6052e-45, -7.9456e-06,  6.0379e-04,  1.7800e-04, -3.0299e-04,\n",
       "              3.7696e-07, -3.5397e-04,  6.1892e-04, -5.4041e-04,  4.1423e-04,\n",
       "             -1.3110e-05,  1.3310e-04,  1.4649e-05,  2.8291e-04,  3.0344e-04,\n",
       "             -5.7183e-04,  1.0548e-04, -3.6672e-04, -2.0697e-04,  8.8465e-05,\n",
       "              5.6052e-45, -1.3426e-04, -4.7374e-04, -3.4875e-04, -3.5775e-04,\n",
       "             -2.2589e-04, -1.4308e-04,  2.3481e-05,  3.6272e-04, -2.1011e-04,\n",
       "              5.8193e-04,  5.6052e-45, -3.4721e-04, -4.5976e-04, -8.2156e-05,\n",
       "              7.6354e-04, -2.4905e-04,  5.6052e-45], device='cuda:0'),\n",
       "     'exp_avg_sq': tensor([6.8501e-06, 2.2082e-06, 9.2368e-07, 1.7506e-05, 6.6158e-06, 2.1145e-06,\n",
       "             2.3055e-06, 1.9766e-06, 1.5008e-06, 2.7990e-06, 2.5922e-06, 2.9900e-06,\n",
       "             1.6173e-06, 2.3763e-06, 2.1472e-06, 2.5892e-06, 9.9692e-07, 2.3212e-06,\n",
       "             2.0032e-06, 1.5400e-06, 2.3646e-06, 4.1176e-06, 8.8323e-06, 1.2155e-06,\n",
       "             1.3828e-07, 4.5819e-06, 9.0278e-07, 4.6911e-06, 2.2884e-06, 3.0893e-06,\n",
       "             1.9915e-06, 3.8703e-06, 2.5358e-06, 4.2647e-06, 4.6895e-06, 4.5186e-06,\n",
       "             2.7434e-05, 1.2767e-05, 2.9263e-06, 2.4367e-06, 1.4657e-05, 3.5083e-06,\n",
       "             8.1432e-07, 3.3995e-06, 6.2634e-16, 2.1608e-06, 1.4201e-05, 3.3032e-05,\n",
       "             3.8576e-06, 2.3035e-06, 2.1633e-11, 5.6686e-06, 4.9725e-06, 2.4825e-06,\n",
       "             3.2817e-06, 1.7315e-06, 4.2908e-06, 1.2219e-06, 6.1148e-06, 3.5468e-06,\n",
       "             2.2665e-06, 2.7993e-06, 1.5520e-06, 2.5488e-06, 8.3773e-07, 1.6720e-06,\n",
       "             2.3986e-19, 3.1178e-10, 3.9088e-17, 2.3325e-06, 7.1078e-08, 4.2466e-06,\n",
       "             1.5734e-06, 1.2419e-05, 2.6449e-06, 5.3343e-07, 6.5837e-07, 2.3460e-06,\n",
       "             1.5871e-06, 1.1015e-06, 5.8312e-06, 1.4727e-19, 3.2278e-06, 2.0068e-06,\n",
       "             2.2751e-06, 4.0062e-06, 2.1925e-06, 1.4799e-06, 2.0927e-06, 4.4045e-06,\n",
       "             1.3039e-12, 2.6672e-06, 2.8150e-06, 8.2083e-07, 1.7415e-06, 1.4117e-08,\n",
       "             2.8917e-06, 5.8107e-06, 6.5444e-06, 3.5430e-06, 1.1983e-06, 3.7692e-06,\n",
       "             1.7727e-06, 3.0302e-06, 1.1512e-06, 5.5718e-06, 1.6019e-06, 2.1419e-06,\n",
       "             1.2161e-06, 2.6218e-06, 1.8122e-14, 2.5922e-06, 1.3319e-06, 2.2833e-06,\n",
       "             3.4401e-06, 8.9670e-06, 1.9798e-06, 6.8022e-08, 1.3844e-06, 6.4773e-06,\n",
       "             1.9377e-06, 4.7875e-15, 2.7277e-06, 3.1615e-06, 7.4587e-07, 2.4100e-06,\n",
       "             2.8458e-06, 1.4185e-14], device='cuda:0')},\n",
       "    4: {'step': tensor(15660.),\n",
       "     'exp_avg': tensor([[ 9.4860e-06,  8.5094e-05,  2.1518e-04,  ..., -9.0217e-05,\n",
       "               2.6878e-05, -5.6052e-45],\n",
       "             [ 6.0988e-05,  9.7564e-06,  1.1611e-04,  ...,  1.3553e-04,\n",
       "              -6.4718e-05, -5.6052e-45],\n",
       "             [ 1.7611e-05,  1.6508e-04,  8.9682e-05,  ..., -1.6166e-04,\n",
       "               2.9433e-04, -5.6052e-45],\n",
       "             ...,\n",
       "             [-2.4474e-05,  1.6709e-04, -2.0233e-04,  ..., -1.5617e-04,\n",
       "               2.5939e-05, -5.6052e-45],\n",
       "             [-3.8808e-05, -1.9126e-04,  8.0797e-05,  ..., -7.9528e-05,\n",
       "               1.3052e-04,  5.6052e-45],\n",
       "             [ 6.4363e-05,  3.1220e-05, -3.2205e-05,  ...,  2.3638e-04,\n",
       "              -3.7860e-05,  5.6052e-45]], device='cuda:0'),\n",
       "     'exp_avg_sq': tensor([[1.7289e-07, 2.5687e-07, 1.0523e-07,  ..., 2.6202e-07, 5.6426e-07,\n",
       "              1.1441e-16],\n",
       "             [8.4066e-08, 2.3634e-07, 9.8896e-08,  ..., 2.5035e-07, 5.0672e-07,\n",
       "              5.4465e-17],\n",
       "             [9.9708e-08, 2.5861e-07, 1.0672e-07,  ..., 2.7606e-07, 5.7136e-07,\n",
       "              2.8017e-17],\n",
       "             ...,\n",
       "             [1.0032e-07, 2.7466e-07, 1.1768e-07,  ..., 2.8052e-07, 6.0278e-07,\n",
       "              8.8323e-17],\n",
       "             [6.3740e-08, 2.1203e-07, 9.1775e-08,  ..., 2.1585e-07, 4.9866e-07,\n",
       "              2.2753e-16],\n",
       "             [3.6397e-07, 2.8829e-07, 1.1576e-07,  ..., 2.8805e-07, 5.3835e-07,\n",
       "              7.2410e-17]], device='cuda:0')},\n",
       "    5: {'step': tensor(15660.),\n",
       "     'exp_avg': tensor([-6.8608e-04,  1.6248e-03, -3.2578e-04, -9.1636e-04, -2.0548e-04,\n",
       "             -4.9871e-04, -3.7520e-04, -5.5552e-04,  2.7130e-03, -9.9251e-04,\n",
       "              2.2577e-04, -1.8849e-04,  2.2786e-04, -1.9176e-04,  7.7303e-04,\n",
       "              1.2788e-03, -6.5873e-04,  1.0596e-03,  8.4744e-04,  4.6284e-04,\n",
       "              9.5957e-04, -1.7290e-03, -1.4571e-03,  4.6279e-04,  2.9178e-03,\n",
       "             -8.7905e-04,  8.0124e-05,  1.2325e-03, -3.0955e-04,  1.2041e-03,\n",
       "             -5.4994e-04,  5.4409e-04, -6.6370e-05,  8.9732e-04, -1.7394e-03,\n",
       "             -7.1889e-04, -2.4677e-04, -1.5112e-03, -1.2677e-03, -9.2762e-04,\n",
       "              1.9785e-03,  4.4033e-05,  5.7460e-05, -1.3805e-03,  2.4562e-03,\n",
       "              1.5040e-03,  1.6894e-03, -1.9786e-03,  2.4334e-03,  1.0378e-03,\n",
       "              3.3801e-04,  1.8113e-03,  9.4843e-04, -1.2878e-03,  2.9276e-03,\n",
       "             -2.7831e-04,  1.5455e-03,  2.3676e-04, -4.3507e-04,  3.7700e-04,\n",
       "              1.6476e-03, -5.1306e-04,  3.2467e-04,  2.1933e-03], device='cuda:0'),\n",
       "     'exp_avg_sq': tensor([2.0100e-05, 1.7072e-05, 1.9866e-05, 1.8549e-05, 2.0496e-05, 1.2778e-05,\n",
       "             1.6059e-05, 1.3795e-05, 2.1366e-05, 1.6443e-05, 1.7025e-05, 2.4500e-05,\n",
       "             1.6341e-05, 1.8308e-05, 1.5716e-05, 1.8695e-05, 1.6180e-05, 1.8929e-05,\n",
       "             1.9898e-05, 1.4496e-05, 1.7691e-05, 1.6500e-05, 2.0336e-05, 1.8481e-05,\n",
       "             2.0013e-05, 2.6696e-05, 1.4623e-05, 1.7350e-05, 2.7132e-05, 2.3212e-05,\n",
       "             1.4341e-05, 1.7219e-05, 1.8041e-05, 2.1312e-05, 1.8839e-05, 1.3653e-05,\n",
       "             2.3800e-05, 2.3651e-05, 2.0001e-05, 2.0074e-05, 1.6115e-05, 2.6554e-05,\n",
       "             1.6729e-05, 1.4961e-05, 2.5913e-05, 1.3228e-05, 2.2389e-05, 1.9735e-05,\n",
       "             1.7254e-05, 2.3417e-05, 1.3552e-05, 1.9724e-05, 2.1316e-05, 2.1774e-05,\n",
       "             1.7189e-05, 1.4823e-05, 1.2644e-05, 1.4353e-05, 1.8238e-05, 1.4229e-05,\n",
       "             1.6741e-05, 1.9595e-05, 1.5698e-05, 2.0469e-05], device='cuda:0')}},\n",
       "   'param_groups': [{'lr': 0.001,\n",
       "     'betas': (0.9, 0.999),\n",
       "     'eps': 1e-08,\n",
       "     'weight_decay': 0,\n",
       "     'amsgrad': False,\n",
       "     'maximize': False,\n",
       "     'foreach': None,\n",
       "     'capturable': False,\n",
       "     'differentiable': False,\n",
       "     'fused': None,\n",
       "     'params': [0, 1, 2, 3, 4, 5]}]}],\n",
       " 'lr_schedulers': []}"
      ]
     },
     "execution_count": 33,
     "metadata": {},
     "output_type": "execute_result"
    }
   ],
   "source": [
    "import torch\n",
    "with open(\"models/[256, 128, 64]/epoch=4-val_f1=0.84.ckpt\", \"rb\") as f:\n",
    "    ble = torch.load(f)\n",
    "ble"
   ]
  },
  {
   "cell_type": "code",
   "execution_count": 34,
   "metadata": {},
   "outputs": [
    {
     "data": {
      "text/plain": [
       "<All keys matched successfully>"
      ]
     },
     "execution_count": 34,
     "metadata": {},
     "output_type": "execute_result"
    }
   ],
   "source": [
    "embedder._model.load_state_dict(ble[\"state_dict\"])"
   ]
  },
  {
   "cell_type": "code",
   "execution_count": 35,
   "metadata": {},
   "outputs": [],
   "source": [
    "embedder.save(\"embedder_50k_no_bikes\")"
   ]
  },
  {
   "cell_type": "code",
   "execution_count": 20,
   "metadata": {},
   "outputs": [
    {
     "ename": "ValueError",
     "evalue": "",
     "output_type": "error",
     "traceback": [
      "\u001b[0;31m---------------------------------------------------------------------------\u001b[0m",
      "\u001b[0;31mValueError\u001b[0m                                Traceback (most recent call last)",
      "Cell \u001b[0;32mIn[20], line 1\u001b[0m\n\u001b[0;32m----> 1\u001b[0m \u001b[39mraise\u001b[39;00m \u001b[39mValueError\u001b[39;00m\n",
      "\u001b[0;31mValueError\u001b[0m: "
     ]
    }
   ],
   "source": [
    "raise ValueError"
   ]
  },
  {
   "cell_type": "code",
   "execution_count": null,
   "metadata": {},
   "outputs": [],
   "source": [
    "wro_area = geocode_to_region_gdf(\"Wrocław, Polska\")\n",
    "wro_regions = H3Regionizer(resolution=10).transform(wro_area)"
   ]
  },
  {
   "cell_type": "code",
   "execution_count": null,
   "metadata": {},
   "outputs": [],
   "source": [
    "wro_features = gpd.read_parquet(\"data/raw/Wrocław, Polska.parquet\")\n",
    "wro_joint = joiner.transform(wro_regions, wro_features)"
   ]
  },
  {
   "cell_type": "code",
   "execution_count": null,
   "metadata": {},
   "outputs": [
    {
     "data": {
      "text/html": [
       "<div>\n",
       "<style scoped>\n",
       "    .dataframe tbody tr th:only-of-type {\n",
       "        vertical-align: middle;\n",
       "    }\n",
       "\n",
       "    .dataframe tbody tr th {\n",
       "        vertical-align: top;\n",
       "    }\n",
       "\n",
       "    .dataframe thead th {\n",
       "        text-align: right;\n",
       "    }\n",
       "</style>\n",
       "<table border=\"1\" class=\"dataframe\">\n",
       "  <thead>\n",
       "    <tr style=\"text-align: right;\">\n",
       "      <th></th>\n",
       "      <th>0</th>\n",
       "      <th>1</th>\n",
       "      <th>2</th>\n",
       "      <th>3</th>\n",
       "      <th>4</th>\n",
       "      <th>5</th>\n",
       "      <th>6</th>\n",
       "      <th>7</th>\n",
       "      <th>8</th>\n",
       "      <th>9</th>\n",
       "      <th>...</th>\n",
       "      <th>22</th>\n",
       "      <th>23</th>\n",
       "      <th>24</th>\n",
       "      <th>25</th>\n",
       "      <th>26</th>\n",
       "      <th>27</th>\n",
       "      <th>28</th>\n",
       "      <th>29</th>\n",
       "      <th>30</th>\n",
       "      <th>31</th>\n",
       "    </tr>\n",
       "    <tr>\n",
       "      <th>region_id</th>\n",
       "      <th></th>\n",
       "      <th></th>\n",
       "      <th></th>\n",
       "      <th></th>\n",
       "      <th></th>\n",
       "      <th></th>\n",
       "      <th></th>\n",
       "      <th></th>\n",
       "      <th></th>\n",
       "      <th></th>\n",
       "      <th></th>\n",
       "      <th></th>\n",
       "      <th></th>\n",
       "      <th></th>\n",
       "      <th></th>\n",
       "      <th></th>\n",
       "      <th></th>\n",
       "      <th></th>\n",
       "      <th></th>\n",
       "      <th></th>\n",
       "      <th></th>\n",
       "    </tr>\n",
       "  </thead>\n",
       "  <tbody>\n",
       "    <tr>\n",
       "      <th>8a1e2042019ffff</th>\n",
       "      <td>0.173556</td>\n",
       "      <td>0.288988</td>\n",
       "      <td>0.048884</td>\n",
       "      <td>0.295544</td>\n",
       "      <td>-0.381908</td>\n",
       "      <td>0.176133</td>\n",
       "      <td>-0.449802</td>\n",
       "      <td>0.089579</td>\n",
       "      <td>0.383911</td>\n",
       "      <td>0.196264</td>\n",
       "      <td>...</td>\n",
       "      <td>-0.154303</td>\n",
       "      <td>0.115035</td>\n",
       "      <td>0.443080</td>\n",
       "      <td>0.278701</td>\n",
       "      <td>-0.177178</td>\n",
       "      <td>0.440510</td>\n",
       "      <td>0.042160</td>\n",
       "      <td>-0.166764</td>\n",
       "      <td>0.857604</td>\n",
       "      <td>0.265572</td>\n",
       "    </tr>\n",
       "    <tr>\n",
       "      <th>8a1e2040e4c7fff</th>\n",
       "      <td>0.569120</td>\n",
       "      <td>-0.269827</td>\n",
       "      <td>-0.026317</td>\n",
       "      <td>0.138060</td>\n",
       "      <td>0.303489</td>\n",
       "      <td>0.177815</td>\n",
       "      <td>-0.224048</td>\n",
       "      <td>0.628205</td>\n",
       "      <td>0.362004</td>\n",
       "      <td>-0.376314</td>\n",
       "      <td>...</td>\n",
       "      <td>0.446630</td>\n",
       "      <td>0.482390</td>\n",
       "      <td>0.026622</td>\n",
       "      <td>-0.041049</td>\n",
       "      <td>-0.581953</td>\n",
       "      <td>-0.223292</td>\n",
       "      <td>0.333704</td>\n",
       "      <td>0.174272</td>\n",
       "      <td>0.054007</td>\n",
       "      <td>0.327932</td>\n",
       "    </tr>\n",
       "    <tr>\n",
       "      <th>8a1e204e4057fff</th>\n",
       "      <td>0.116785</td>\n",
       "      <td>-0.110424</td>\n",
       "      <td>0.035945</td>\n",
       "      <td>0.420315</td>\n",
       "      <td>0.147762</td>\n",
       "      <td>0.444220</td>\n",
       "      <td>-0.189481</td>\n",
       "      <td>-0.118806</td>\n",
       "      <td>0.144089</td>\n",
       "      <td>-0.606665</td>\n",
       "      <td>...</td>\n",
       "      <td>0.680880</td>\n",
       "      <td>0.405082</td>\n",
       "      <td>0.180536</td>\n",
       "      <td>-0.008628</td>\n",
       "      <td>0.020352</td>\n",
       "      <td>-0.109906</td>\n",
       "      <td>-0.094148</td>\n",
       "      <td>-0.110837</td>\n",
       "      <td>-0.249448</td>\n",
       "      <td>0.363240</td>\n",
       "    </tr>\n",
       "    <tr>\n",
       "      <th>8a1e2040a857fff</th>\n",
       "      <td>-0.174507</td>\n",
       "      <td>0.335021</td>\n",
       "      <td>-0.044738</td>\n",
       "      <td>0.184399</td>\n",
       "      <td>-0.130447</td>\n",
       "      <td>0.036740</td>\n",
       "      <td>0.000599</td>\n",
       "      <td>0.494398</td>\n",
       "      <td>-0.314822</td>\n",
       "      <td>-0.505360</td>\n",
       "      <td>...</td>\n",
       "      <td>0.118521</td>\n",
       "      <td>-0.206467</td>\n",
       "      <td>-0.393964</td>\n",
       "      <td>0.636533</td>\n",
       "      <td>-0.712550</td>\n",
       "      <td>0.087959</td>\n",
       "      <td>0.680310</td>\n",
       "      <td>0.801508</td>\n",
       "      <td>-0.370114</td>\n",
       "      <td>-0.547396</td>\n",
       "    </tr>\n",
       "    <tr>\n",
       "      <th>8a1e20409987fff</th>\n",
       "      <td>0.024551</td>\n",
       "      <td>0.387958</td>\n",
       "      <td>-0.330577</td>\n",
       "      <td>0.063520</td>\n",
       "      <td>-0.216052</td>\n",
       "      <td>0.465252</td>\n",
       "      <td>0.269703</td>\n",
       "      <td>-0.127062</td>\n",
       "      <td>-0.678566</td>\n",
       "      <td>-0.356191</td>\n",
       "      <td>...</td>\n",
       "      <td>0.152853</td>\n",
       "      <td>-0.394317</td>\n",
       "      <td>0.273484</td>\n",
       "      <td>0.336321</td>\n",
       "      <td>-0.575704</td>\n",
       "      <td>0.525373</td>\n",
       "      <td>0.018739</td>\n",
       "      <td>0.823310</td>\n",
       "      <td>-0.849898</td>\n",
       "      <td>-0.920894</td>\n",
       "    </tr>\n",
       "    <tr>\n",
       "      <th>...</th>\n",
       "      <td>...</td>\n",
       "      <td>...</td>\n",
       "      <td>...</td>\n",
       "      <td>...</td>\n",
       "      <td>...</td>\n",
       "      <td>...</td>\n",
       "      <td>...</td>\n",
       "      <td>...</td>\n",
       "      <td>...</td>\n",
       "      <td>...</td>\n",
       "      <td>...</td>\n",
       "      <td>...</td>\n",
       "      <td>...</td>\n",
       "      <td>...</td>\n",
       "      <td>...</td>\n",
       "      <td>...</td>\n",
       "      <td>...</td>\n",
       "      <td>...</td>\n",
       "      <td>...</td>\n",
       "      <td>...</td>\n",
       "      <td>...</td>\n",
       "    </tr>\n",
       "    <tr>\n",
       "      <th>8a1e2040b15ffff</th>\n",
       "      <td>0.044890</td>\n",
       "      <td>-0.369053</td>\n",
       "      <td>0.119655</td>\n",
       "      <td>0.062009</td>\n",
       "      <td>0.310631</td>\n",
       "      <td>0.285013</td>\n",
       "      <td>-0.399880</td>\n",
       "      <td>0.677543</td>\n",
       "      <td>-0.033250</td>\n",
       "      <td>-0.578567</td>\n",
       "      <td>...</td>\n",
       "      <td>-0.000411</td>\n",
       "      <td>0.254198</td>\n",
       "      <td>-0.384687</td>\n",
       "      <td>0.339833</td>\n",
       "      <td>-0.660461</td>\n",
       "      <td>-0.392639</td>\n",
       "      <td>0.371422</td>\n",
       "      <td>0.184200</td>\n",
       "      <td>-0.597203</td>\n",
       "      <td>-0.451025</td>\n",
       "    </tr>\n",
       "    <tr>\n",
       "      <th>8a1e20425017fff</th>\n",
       "      <td>-0.321903</td>\n",
       "      <td>0.463967</td>\n",
       "      <td>0.170445</td>\n",
       "      <td>-0.350112</td>\n",
       "      <td>0.230916</td>\n",
       "      <td>-0.205377</td>\n",
       "      <td>0.548455</td>\n",
       "      <td>0.685074</td>\n",
       "      <td>0.510162</td>\n",
       "      <td>0.676436</td>\n",
       "      <td>...</td>\n",
       "      <td>0.546984</td>\n",
       "      <td>0.338335</td>\n",
       "      <td>-0.094369</td>\n",
       "      <td>-0.529648</td>\n",
       "      <td>0.397240</td>\n",
       "      <td>0.241065</td>\n",
       "      <td>0.272673</td>\n",
       "      <td>0.214156</td>\n",
       "      <td>-0.562904</td>\n",
       "      <td>-0.122838</td>\n",
       "    </tr>\n",
       "    <tr>\n",
       "      <th>8a1e20431257fff</th>\n",
       "      <td>-0.733405</td>\n",
       "      <td>0.116287</td>\n",
       "      <td>-0.143508</td>\n",
       "      <td>0.058409</td>\n",
       "      <td>0.062472</td>\n",
       "      <td>0.137480</td>\n",
       "      <td>0.200453</td>\n",
       "      <td>0.830312</td>\n",
       "      <td>-0.078465</td>\n",
       "      <td>0.415744</td>\n",
       "      <td>...</td>\n",
       "      <td>-0.213926</td>\n",
       "      <td>-0.603942</td>\n",
       "      <td>0.375143</td>\n",
       "      <td>-0.624577</td>\n",
       "      <td>0.141776</td>\n",
       "      <td>-0.395584</td>\n",
       "      <td>-0.335985</td>\n",
       "      <td>0.149248</td>\n",
       "      <td>0.190093</td>\n",
       "      <td>-0.162821</td>\n",
       "    </tr>\n",
       "    <tr>\n",
       "      <th>8a1e2042e71ffff</th>\n",
       "      <td>0.314414</td>\n",
       "      <td>-0.202565</td>\n",
       "      <td>0.664569</td>\n",
       "      <td>-0.529364</td>\n",
       "      <td>-0.723449</td>\n",
       "      <td>0.375500</td>\n",
       "      <td>0.324761</td>\n",
       "      <td>-0.080636</td>\n",
       "      <td>-0.110163</td>\n",
       "      <td>0.064297</td>\n",
       "      <td>...</td>\n",
       "      <td>0.232649</td>\n",
       "      <td>-0.324888</td>\n",
       "      <td>-0.076382</td>\n",
       "      <td>0.283153</td>\n",
       "      <td>0.461791</td>\n",
       "      <td>-0.021642</td>\n",
       "      <td>-0.042521</td>\n",
       "      <td>-0.705153</td>\n",
       "      <td>0.201204</td>\n",
       "      <td>-0.121293</td>\n",
       "    </tr>\n",
       "    <tr>\n",
       "      <th>8a1e204226b7fff</th>\n",
       "      <td>-0.131664</td>\n",
       "      <td>-0.006007</td>\n",
       "      <td>-0.160693</td>\n",
       "      <td>0.372370</td>\n",
       "      <td>0.160571</td>\n",
       "      <td>-0.083065</td>\n",
       "      <td>-0.845148</td>\n",
       "      <td>-0.044270</td>\n",
       "      <td>0.362122</td>\n",
       "      <td>-0.211324</td>\n",
       "      <td>...</td>\n",
       "      <td>-0.421183</td>\n",
       "      <td>0.364651</td>\n",
       "      <td>0.361249</td>\n",
       "      <td>0.462768</td>\n",
       "      <td>-0.117167</td>\n",
       "      <td>-0.162958</td>\n",
       "      <td>-0.346925</td>\n",
       "      <td>-0.262590</td>\n",
       "      <td>-0.245325</td>\n",
       "      <td>-1.069344</td>\n",
       "    </tr>\n",
       "  </tbody>\n",
       "</table>\n",
       "<p>21336 rows × 32 columns</p>\n",
       "</div>"
      ],
      "text/plain": [
       "                       0         1         2         3         4         5    \n",
       "region_id                                                                     \n",
       "8a1e2042019ffff  0.173556  0.288988  0.048884  0.295544 -0.381908  0.176133  \\\n",
       "8a1e2040e4c7fff  0.569120 -0.269827 -0.026317  0.138060  0.303489  0.177815   \n",
       "8a1e204e4057fff  0.116785 -0.110424  0.035945  0.420315  0.147762  0.444220   \n",
       "8a1e2040a857fff -0.174507  0.335021 -0.044738  0.184399 -0.130447  0.036740   \n",
       "8a1e20409987fff  0.024551  0.387958 -0.330577  0.063520 -0.216052  0.465252   \n",
       "...                   ...       ...       ...       ...       ...       ...   \n",
       "8a1e2040b15ffff  0.044890 -0.369053  0.119655  0.062009  0.310631  0.285013   \n",
       "8a1e20425017fff -0.321903  0.463967  0.170445 -0.350112  0.230916 -0.205377   \n",
       "8a1e20431257fff -0.733405  0.116287 -0.143508  0.058409  0.062472  0.137480   \n",
       "8a1e2042e71ffff  0.314414 -0.202565  0.664569 -0.529364 -0.723449  0.375500   \n",
       "8a1e204226b7fff -0.131664 -0.006007 -0.160693  0.372370  0.160571 -0.083065   \n",
       "\n",
       "                       6         7         8         9   ...        22   \n",
       "region_id                                                ...             \n",
       "8a1e2042019ffff -0.449802  0.089579  0.383911  0.196264  ... -0.154303  \\\n",
       "8a1e2040e4c7fff -0.224048  0.628205  0.362004 -0.376314  ...  0.446630   \n",
       "8a1e204e4057fff -0.189481 -0.118806  0.144089 -0.606665  ...  0.680880   \n",
       "8a1e2040a857fff  0.000599  0.494398 -0.314822 -0.505360  ...  0.118521   \n",
       "8a1e20409987fff  0.269703 -0.127062 -0.678566 -0.356191  ...  0.152853   \n",
       "...                   ...       ...       ...       ...  ...       ...   \n",
       "8a1e2040b15ffff -0.399880  0.677543 -0.033250 -0.578567  ... -0.000411   \n",
       "8a1e20425017fff  0.548455  0.685074  0.510162  0.676436  ...  0.546984   \n",
       "8a1e20431257fff  0.200453  0.830312 -0.078465  0.415744  ... -0.213926   \n",
       "8a1e2042e71ffff  0.324761 -0.080636 -0.110163  0.064297  ...  0.232649   \n",
       "8a1e204226b7fff -0.845148 -0.044270  0.362122 -0.211324  ... -0.421183   \n",
       "\n",
       "                       23        24        25        26        27        28   \n",
       "region_id                                                                     \n",
       "8a1e2042019ffff  0.115035  0.443080  0.278701 -0.177178  0.440510  0.042160  \\\n",
       "8a1e2040e4c7fff  0.482390  0.026622 -0.041049 -0.581953 -0.223292  0.333704   \n",
       "8a1e204e4057fff  0.405082  0.180536 -0.008628  0.020352 -0.109906 -0.094148   \n",
       "8a1e2040a857fff -0.206467 -0.393964  0.636533 -0.712550  0.087959  0.680310   \n",
       "8a1e20409987fff -0.394317  0.273484  0.336321 -0.575704  0.525373  0.018739   \n",
       "...                   ...       ...       ...       ...       ...       ...   \n",
       "8a1e2040b15ffff  0.254198 -0.384687  0.339833 -0.660461 -0.392639  0.371422   \n",
       "8a1e20425017fff  0.338335 -0.094369 -0.529648  0.397240  0.241065  0.272673   \n",
       "8a1e20431257fff -0.603942  0.375143 -0.624577  0.141776 -0.395584 -0.335985   \n",
       "8a1e2042e71ffff -0.324888 -0.076382  0.283153  0.461791 -0.021642 -0.042521   \n",
       "8a1e204226b7fff  0.364651  0.361249  0.462768 -0.117167 -0.162958 -0.346925   \n",
       "\n",
       "                       29        30        31  \n",
       "region_id                                      \n",
       "8a1e2042019ffff -0.166764  0.857604  0.265572  \n",
       "8a1e2040e4c7fff  0.174272  0.054007  0.327932  \n",
       "8a1e204e4057fff -0.110837 -0.249448  0.363240  \n",
       "8a1e2040a857fff  0.801508 -0.370114 -0.547396  \n",
       "8a1e20409987fff  0.823310 -0.849898 -0.920894  \n",
       "...                   ...       ...       ...  \n",
       "8a1e2040b15ffff  0.184200 -0.597203 -0.451025  \n",
       "8a1e20425017fff  0.214156 -0.562904 -0.122838  \n",
       "8a1e20431257fff  0.149248  0.190093 -0.162821  \n",
       "8a1e2042e71ffff -0.705153  0.201204 -0.121293  \n",
       "8a1e204226b7fff -0.262590 -0.245325 -1.069344  \n",
       "\n",
       "[21336 rows x 32 columns]"
      ]
     },
     "execution_count": 48,
     "metadata": {},
     "output_type": "execute_result"
    }
   ],
   "source": [
    "embeddings = embedder.transform(wro_regions, wro_features, wro_joint)\n",
    "embeddings"
   ]
  },
  {
   "cell_type": "code",
   "execution_count": null,
   "metadata": {},
   "outputs": [],
   "source": [
    "from sklearn.cluster import KMeans\n",
    "from srai.plotting import plot_numeric_data"
   ]
  },
  {
   "cell_type": "code",
   "execution_count": null,
   "metadata": {},
   "outputs": [
    {
     "name": "stderr",
     "output_type": "stream",
     "text": [
      "/home/swozniak/projects/srai/.venv/lib/python3.8/site-packages/sklearn/cluster/_kmeans.py:870: FutureWarning:\n",
      "\n",
      "The default value of `n_init` will change from 10 to 'auto' in 1.4. Set the value of `n_init` explicitly to suppress the warning\n",
      "\n"
     ]
    },
    {
     "data": {
      "text/plain": [
       "array([1, 1, 1, ..., 7, 3, 9], dtype=int32)"
      ]
     },
     "execution_count": 50,
     "metadata": {},
     "output_type": "execute_result"
    }
   ],
   "source": [
    "cluster = KMeans(n_clusters=10)\n",
    "clusters = cluster.fit_predict(embeddings)\n",
    "clusters"
   ]
  },
  {
   "cell_type": "code",
   "execution_count": null,
   "metadata": {},
   "outputs": [],
   "source": [
    "plot_gdf = wro_regions.copy()\n",
    "plot_gdf[\"cluster\"] = clusters\n",
    "\n",
    "plot_numeric_data(wro_regions, plot_gdf, \"cluster\", colormap=\"tab10\")"
   ]
  },
  {
   "cell_type": "code",
   "execution_count": null,
   "metadata": {},
   "outputs": [
    {
     "data": {
      "text/html": [
       "<div>\n",
       "<style scoped>\n",
       "    .dataframe tbody tr th:only-of-type {\n",
       "        vertical-align: middle;\n",
       "    }\n",
       "\n",
       "    .dataframe tbody tr th {\n",
       "        vertical-align: top;\n",
       "    }\n",
       "\n",
       "    .dataframe thead th {\n",
       "        text-align: right;\n",
       "    }\n",
       "</style>\n",
       "<table border=\"1\" class=\"dataframe\">\n",
       "  <thead>\n",
       "    <tr style=\"text-align: right;\">\n",
       "      <th></th>\n",
       "      <th>aeroway</th>\n",
       "      <th>amenity</th>\n",
       "      <th>building</th>\n",
       "      <th>healthcare</th>\n",
       "      <th>historic</th>\n",
       "      <th>landuse</th>\n",
       "      <th>leisure</th>\n",
       "      <th>military</th>\n",
       "      <th>natural</th>\n",
       "      <th>office</th>\n",
       "      <th>shop</th>\n",
       "      <th>sport</th>\n",
       "      <th>tourism</th>\n",
       "      <th>water</th>\n",
       "      <th>waterway</th>\n",
       "    </tr>\n",
       "    <tr>\n",
       "      <th>region_id</th>\n",
       "      <th></th>\n",
       "      <th></th>\n",
       "      <th></th>\n",
       "      <th></th>\n",
       "      <th></th>\n",
       "      <th></th>\n",
       "      <th></th>\n",
       "      <th></th>\n",
       "      <th></th>\n",
       "      <th></th>\n",
       "      <th></th>\n",
       "      <th></th>\n",
       "      <th></th>\n",
       "      <th></th>\n",
       "      <th></th>\n",
       "    </tr>\n",
       "  </thead>\n",
       "  <tbody>\n",
       "    <tr>\n",
       "      <th>8a1e20475787fff</th>\n",
       "      <td>0</td>\n",
       "      <td>1</td>\n",
       "      <td>0</td>\n",
       "      <td>0</td>\n",
       "      <td>0</td>\n",
       "      <td>2</td>\n",
       "      <td>1</td>\n",
       "      <td>0</td>\n",
       "      <td>0</td>\n",
       "      <td>0</td>\n",
       "      <td>0</td>\n",
       "      <td>0</td>\n",
       "      <td>0</td>\n",
       "      <td>0</td>\n",
       "      <td>0</td>\n",
       "    </tr>\n",
       "    <tr>\n",
       "      <th>8a1e2042e437fff</th>\n",
       "      <td>0</td>\n",
       "      <td>0</td>\n",
       "      <td>1</td>\n",
       "      <td>0</td>\n",
       "      <td>0</td>\n",
       "      <td>4</td>\n",
       "      <td>1</td>\n",
       "      <td>0</td>\n",
       "      <td>1</td>\n",
       "      <td>0</td>\n",
       "      <td>0</td>\n",
       "      <td>0</td>\n",
       "      <td>0</td>\n",
       "      <td>0</td>\n",
       "      <td>0</td>\n",
       "    </tr>\n",
       "    <tr>\n",
       "      <th>8a1e20471a77fff</th>\n",
       "      <td>0</td>\n",
       "      <td>2</td>\n",
       "      <td>0</td>\n",
       "      <td>0</td>\n",
       "      <td>0</td>\n",
       "      <td>2</td>\n",
       "      <td>0</td>\n",
       "      <td>0</td>\n",
       "      <td>0</td>\n",
       "      <td>0</td>\n",
       "      <td>0</td>\n",
       "      <td>0</td>\n",
       "      <td>1</td>\n",
       "      <td>0</td>\n",
       "      <td>1</td>\n",
       "    </tr>\n",
       "    <tr>\n",
       "      <th>8a1e20450567fff</th>\n",
       "      <td>0</td>\n",
       "      <td>0</td>\n",
       "      <td>0</td>\n",
       "      <td>0</td>\n",
       "      <td>0</td>\n",
       "      <td>0</td>\n",
       "      <td>0</td>\n",
       "      <td>0</td>\n",
       "      <td>2</td>\n",
       "      <td>0</td>\n",
       "      <td>0</td>\n",
       "      <td>0</td>\n",
       "      <td>0</td>\n",
       "      <td>1</td>\n",
       "      <td>1</td>\n",
       "    </tr>\n",
       "    <tr>\n",
       "      <th>8a1e204e611ffff</th>\n",
       "      <td>0</td>\n",
       "      <td>0</td>\n",
       "      <td>0</td>\n",
       "      <td>0</td>\n",
       "      <td>0</td>\n",
       "      <td>0</td>\n",
       "      <td>0</td>\n",
       "      <td>0</td>\n",
       "      <td>1</td>\n",
       "      <td>0</td>\n",
       "      <td>0</td>\n",
       "      <td>0</td>\n",
       "      <td>0</td>\n",
       "      <td>0</td>\n",
       "      <td>0</td>\n",
       "    </tr>\n",
       "    <tr>\n",
       "      <th>...</th>\n",
       "      <td>...</td>\n",
       "      <td>...</td>\n",
       "      <td>...</td>\n",
       "      <td>...</td>\n",
       "      <td>...</td>\n",
       "      <td>...</td>\n",
       "      <td>...</td>\n",
       "      <td>...</td>\n",
       "      <td>...</td>\n",
       "      <td>...</td>\n",
       "      <td>...</td>\n",
       "      <td>...</td>\n",
       "      <td>...</td>\n",
       "      <td>...</td>\n",
       "      <td>...</td>\n",
       "    </tr>\n",
       "    <tr>\n",
       "      <th>8a1e20472a8ffff</th>\n",
       "      <td>0</td>\n",
       "      <td>1</td>\n",
       "      <td>2</td>\n",
       "      <td>0</td>\n",
       "      <td>0</td>\n",
       "      <td>2</td>\n",
       "      <td>1</td>\n",
       "      <td>0</td>\n",
       "      <td>0</td>\n",
       "      <td>0</td>\n",
       "      <td>0</td>\n",
       "      <td>0</td>\n",
       "      <td>0</td>\n",
       "      <td>0</td>\n",
       "      <td>0</td>\n",
       "    </tr>\n",
       "    <tr>\n",
       "      <th>8a1e20556507fff</th>\n",
       "      <td>0</td>\n",
       "      <td>0</td>\n",
       "      <td>0</td>\n",
       "      <td>0</td>\n",
       "      <td>0</td>\n",
       "      <td>1</td>\n",
       "      <td>0</td>\n",
       "      <td>0</td>\n",
       "      <td>0</td>\n",
       "      <td>0</td>\n",
       "      <td>0</td>\n",
       "      <td>0</td>\n",
       "      <td>0</td>\n",
       "      <td>0</td>\n",
       "      <td>0</td>\n",
       "    </tr>\n",
       "    <tr>\n",
       "      <th>8a1e204e5177fff</th>\n",
       "      <td>0</td>\n",
       "      <td>0</td>\n",
       "      <td>26</td>\n",
       "      <td>0</td>\n",
       "      <td>0</td>\n",
       "      <td>1</td>\n",
       "      <td>0</td>\n",
       "      <td>0</td>\n",
       "      <td>0</td>\n",
       "      <td>0</td>\n",
       "      <td>0</td>\n",
       "      <td>0</td>\n",
       "      <td>0</td>\n",
       "      <td>0</td>\n",
       "      <td>0</td>\n",
       "    </tr>\n",
       "    <tr>\n",
       "      <th>8a1e2040c327fff</th>\n",
       "      <td>0</td>\n",
       "      <td>2</td>\n",
       "      <td>4</td>\n",
       "      <td>0</td>\n",
       "      <td>0</td>\n",
       "      <td>2</td>\n",
       "      <td>0</td>\n",
       "      <td>0</td>\n",
       "      <td>0</td>\n",
       "      <td>0</td>\n",
       "      <td>0</td>\n",
       "      <td>0</td>\n",
       "      <td>0</td>\n",
       "      <td>0</td>\n",
       "      <td>0</td>\n",
       "    </tr>\n",
       "    <tr>\n",
       "      <th>8a1e20425a1ffff</th>\n",
       "      <td>0</td>\n",
       "      <td>0</td>\n",
       "      <td>0</td>\n",
       "      <td>0</td>\n",
       "      <td>0</td>\n",
       "      <td>1</td>\n",
       "      <td>0</td>\n",
       "      <td>0</td>\n",
       "      <td>1</td>\n",
       "      <td>0</td>\n",
       "      <td>0</td>\n",
       "      <td>0</td>\n",
       "      <td>0</td>\n",
       "      <td>0</td>\n",
       "      <td>0</td>\n",
       "    </tr>\n",
       "  </tbody>\n",
       "</table>\n",
       "<p>21336 rows × 15 columns</p>\n",
       "</div>"
      ],
      "text/plain": [
       "                 aeroway  amenity  building  healthcare  historic  landuse   \n",
       "region_id                                                                    \n",
       "8a1e20475787fff        0        1         0           0         0        2  \\\n",
       "8a1e2042e437fff        0        0         1           0         0        4   \n",
       "8a1e20471a77fff        0        2         0           0         0        2   \n",
       "8a1e20450567fff        0        0         0           0         0        0   \n",
       "8a1e204e611ffff        0        0         0           0         0        0   \n",
       "...                  ...      ...       ...         ...       ...      ...   \n",
       "8a1e20472a8ffff        0        1         2           0         0        2   \n",
       "8a1e20556507fff        0        0         0           0         0        1   \n",
       "8a1e204e5177fff        0        0        26           0         0        1   \n",
       "8a1e2040c327fff        0        2         4           0         0        2   \n",
       "8a1e20425a1ffff        0        0         0           0         0        1   \n",
       "\n",
       "                 leisure  military  natural  office  shop  sport  tourism   \n",
       "region_id                                                                   \n",
       "8a1e20475787fff        1         0        0       0     0      0        0  \\\n",
       "8a1e2042e437fff        1         0        1       0     0      0        0   \n",
       "8a1e20471a77fff        0         0        0       0     0      0        1   \n",
       "8a1e20450567fff        0         0        2       0     0      0        0   \n",
       "8a1e204e611ffff        0         0        1       0     0      0        0   \n",
       "...                  ...       ...      ...     ...   ...    ...      ...   \n",
       "8a1e20472a8ffff        1         0        0       0     0      0        0   \n",
       "8a1e20556507fff        0         0        0       0     0      0        0   \n",
       "8a1e204e5177fff        0         0        0       0     0      0        0   \n",
       "8a1e2040c327fff        0         0        0       0     0      0        0   \n",
       "8a1e20425a1ffff        0         0        1       0     0      0        0   \n",
       "\n",
       "                 water  waterway  \n",
       "region_id                         \n",
       "8a1e20475787fff      0         0  \n",
       "8a1e2042e437fff      0         0  \n",
       "8a1e20471a77fff      0         1  \n",
       "8a1e20450567fff      1         1  \n",
       "8a1e204e611ffff      0         0  \n",
       "...                ...       ...  \n",
       "8a1e20472a8ffff      0         0  \n",
       "8a1e20556507fff      0         0  \n",
       "8a1e204e5177fff      0         0  \n",
       "8a1e2040c327fff      0         0  \n",
       "8a1e20425a1ffff      0         0  \n",
       "\n",
       "[21336 rows x 15 columns]"
      ]
     },
     "execution_count": 44,
     "metadata": {},
     "output_type": "execute_result"
    }
   ],
   "source": [
    "from srai.embedders import CountEmbedder\n",
    "\n",
    "count_embedder = CountEmbedder(count_subcategories=False)\n",
    "\n",
    "count_embeddings = count_embedder.transform(wro_regions, wro_features, wro_joint)\n",
    "count_embeddings"
   ]
  },
  {
   "cell_type": "code",
   "execution_count": null,
   "metadata": {},
   "outputs": [],
   "source": [
    "from sklearn.cluster import KMeans\n",
    "from srai.plotting import plot_numeric_data"
   ]
  },
  {
   "cell_type": "code",
   "execution_count": null,
   "metadata": {},
   "outputs": [],
   "source": [
    "cluster = KMeans(n_clusters=10)\n",
    "clusters = cluster.fit_predict(count_embeddings)\n",
    "plot_gdf = wro_regions.copy()\n",
    "plot_gdf[\"cluster\"] = clusters\n",
    "plot_numeric_data(wro_regions, plot_gdf, \"cluster\", colormap=\"tab10\")"
   ]
  },
  {
   "cell_type": "code",
   "execution_count": null,
   "metadata": {},
   "outputs": [],
   "source": [
    "from pathlib import Path\n",
    "import pandas as pd"
   ]
  },
  {
   "cell_type": "code",
   "execution_count": null,
   "metadata": {},
   "outputs": [],
   "source": [
    "embedder = Hex2VecEmbedder.load(Path(\"r10_pl_100k\"))"
   ]
  },
  {
   "cell_type": "code",
   "execution_count": null,
   "metadata": {},
   "outputs": [],
   "source": [
    "from srai.joiners import IntersectionJoiner\n",
    "from srai.regionizers import H3Regionizer\n",
    "joiner = IntersectionJoiner()"
   ]
  },
  {
   "cell_type": "code",
   "execution_count": null,
   "metadata": {},
   "outputs": [],
   "source": [
    "area = geocode_to_region_gdf(\"Gdańsk, Polska\")\n",
    "regions = H3Regionizer(resolution=10).transform(area)\n",
    "features = gpd.read_parquet(\"data/raw/Gdańsk, Polska.parquet\")\n",
    "joint = joiner.transform(regions, features)"
   ]
  },
  {
   "cell_type": "code",
   "execution_count": null,
   "metadata": {},
   "outputs": [
    {
     "data": {
      "text/html": [
       "<div>\n",
       "<style scoped>\n",
       "    .dataframe tbody tr th:only-of-type {\n",
       "        vertical-align: middle;\n",
       "    }\n",
       "\n",
       "    .dataframe tbody tr th {\n",
       "        vertical-align: top;\n",
       "    }\n",
       "\n",
       "    .dataframe thead th {\n",
       "        text-align: right;\n",
       "    }\n",
       "</style>\n",
       "<table border=\"1\" class=\"dataframe\">\n",
       "  <thead>\n",
       "    <tr style=\"text-align: right;\">\n",
       "      <th></th>\n",
       "      <th>0</th>\n",
       "      <th>1</th>\n",
       "      <th>2</th>\n",
       "      <th>3</th>\n",
       "      <th>4</th>\n",
       "      <th>5</th>\n",
       "      <th>6</th>\n",
       "      <th>7</th>\n",
       "      <th>8</th>\n",
       "      <th>9</th>\n",
       "      <th>...</th>\n",
       "      <th>54</th>\n",
       "      <th>55</th>\n",
       "      <th>56</th>\n",
       "      <th>57</th>\n",
       "      <th>58</th>\n",
       "      <th>59</th>\n",
       "      <th>60</th>\n",
       "      <th>61</th>\n",
       "      <th>62</th>\n",
       "      <th>63</th>\n",
       "    </tr>\n",
       "    <tr>\n",
       "      <th>region_id</th>\n",
       "      <th></th>\n",
       "      <th></th>\n",
       "      <th></th>\n",
       "      <th></th>\n",
       "      <th></th>\n",
       "      <th></th>\n",
       "      <th></th>\n",
       "      <th></th>\n",
       "      <th></th>\n",
       "      <th></th>\n",
       "      <th></th>\n",
       "      <th></th>\n",
       "      <th></th>\n",
       "      <th></th>\n",
       "      <th></th>\n",
       "      <th></th>\n",
       "      <th></th>\n",
       "      <th></th>\n",
       "      <th></th>\n",
       "      <th></th>\n",
       "      <th></th>\n",
       "    </tr>\n",
       "  </thead>\n",
       "  <tbody>\n",
       "    <tr>\n",
       "      <th>8a1f724e125ffff</th>\n",
       "      <td>0.231239</td>\n",
       "      <td>-0.196225</td>\n",
       "      <td>0.224774</td>\n",
       "      <td>-0.204577</td>\n",
       "      <td>0.272633</td>\n",
       "      <td>0.339952</td>\n",
       "      <td>0.119712</td>\n",
       "      <td>-0.009222</td>\n",
       "      <td>0.140706</td>\n",
       "      <td>-0.017214</td>\n",
       "      <td>...</td>\n",
       "      <td>-0.186627</td>\n",
       "      <td>0.006933</td>\n",
       "      <td>-0.003167</td>\n",
       "      <td>0.170422</td>\n",
       "      <td>0.066978</td>\n",
       "      <td>0.155175</td>\n",
       "      <td>-0.002860</td>\n",
       "      <td>0.052813</td>\n",
       "      <td>0.157953</td>\n",
       "      <td>-0.415896</td>\n",
       "    </tr>\n",
       "    <tr>\n",
       "      <th>8a1f724e5aa7fff</th>\n",
       "      <td>0.231239</td>\n",
       "      <td>-0.196225</td>\n",
       "      <td>0.224774</td>\n",
       "      <td>-0.204577</td>\n",
       "      <td>0.272633</td>\n",
       "      <td>0.339952</td>\n",
       "      <td>0.119712</td>\n",
       "      <td>-0.009222</td>\n",
       "      <td>0.140706</td>\n",
       "      <td>-0.017214</td>\n",
       "      <td>...</td>\n",
       "      <td>-0.186627</td>\n",
       "      <td>0.006933</td>\n",
       "      <td>-0.003167</td>\n",
       "      <td>0.170422</td>\n",
       "      <td>0.066978</td>\n",
       "      <td>0.155175</td>\n",
       "      <td>-0.002860</td>\n",
       "      <td>0.052813</td>\n",
       "      <td>0.157953</td>\n",
       "      <td>-0.415896</td>\n",
       "    </tr>\n",
       "    <tr>\n",
       "      <th>8a1f72498d2ffff</th>\n",
       "      <td>-0.357695</td>\n",
       "      <td>-0.133341</td>\n",
       "      <td>0.298338</td>\n",
       "      <td>-0.660436</td>\n",
       "      <td>0.296341</td>\n",
       "      <td>0.297462</td>\n",
       "      <td>-0.129616</td>\n",
       "      <td>-0.105311</td>\n",
       "      <td>0.297201</td>\n",
       "      <td>0.434056</td>\n",
       "      <td>...</td>\n",
       "      <td>-0.091607</td>\n",
       "      <td>-0.357733</td>\n",
       "      <td>0.301568</td>\n",
       "      <td>-0.043104</td>\n",
       "      <td>-0.410060</td>\n",
       "      <td>-0.551953</td>\n",
       "      <td>0.133317</td>\n",
       "      <td>0.425072</td>\n",
       "      <td>-0.048675</td>\n",
       "      <td>0.239983</td>\n",
       "    </tr>\n",
       "    <tr>\n",
       "      <th>8a1f7248c177fff</th>\n",
       "      <td>-0.286190</td>\n",
       "      <td>0.011620</td>\n",
       "      <td>0.180642</td>\n",
       "      <td>-0.288589</td>\n",
       "      <td>-0.002698</td>\n",
       "      <td>-0.037762</td>\n",
       "      <td>-0.320312</td>\n",
       "      <td>0.084955</td>\n",
       "      <td>0.086787</td>\n",
       "      <td>-0.191180</td>\n",
       "      <td>...</td>\n",
       "      <td>0.047522</td>\n",
       "      <td>0.052893</td>\n",
       "      <td>0.430177</td>\n",
       "      <td>0.054441</td>\n",
       "      <td>-0.542808</td>\n",
       "      <td>-0.310894</td>\n",
       "      <td>-0.151308</td>\n",
       "      <td>0.275078</td>\n",
       "      <td>0.050520</td>\n",
       "      <td>-0.078827</td>\n",
       "    </tr>\n",
       "    <tr>\n",
       "      <th>8a1f724c0937fff</th>\n",
       "      <td>0.231239</td>\n",
       "      <td>-0.196225</td>\n",
       "      <td>0.224774</td>\n",
       "      <td>-0.204577</td>\n",
       "      <td>0.272633</td>\n",
       "      <td>0.339952</td>\n",
       "      <td>0.119712</td>\n",
       "      <td>-0.009222</td>\n",
       "      <td>0.140706</td>\n",
       "      <td>-0.017214</td>\n",
       "      <td>...</td>\n",
       "      <td>-0.186627</td>\n",
       "      <td>0.006933</td>\n",
       "      <td>-0.003167</td>\n",
       "      <td>0.170422</td>\n",
       "      <td>0.066978</td>\n",
       "      <td>0.155175</td>\n",
       "      <td>-0.002860</td>\n",
       "      <td>0.052813</td>\n",
       "      <td>0.157953</td>\n",
       "      <td>-0.415896</td>\n",
       "    </tr>\n",
       "    <tr>\n",
       "      <th>...</th>\n",
       "      <td>...</td>\n",
       "      <td>...</td>\n",
       "      <td>...</td>\n",
       "      <td>...</td>\n",
       "      <td>...</td>\n",
       "      <td>...</td>\n",
       "      <td>...</td>\n",
       "      <td>...</td>\n",
       "      <td>...</td>\n",
       "      <td>...</td>\n",
       "      <td>...</td>\n",
       "      <td>...</td>\n",
       "      <td>...</td>\n",
       "      <td>...</td>\n",
       "      <td>...</td>\n",
       "      <td>...</td>\n",
       "      <td>...</td>\n",
       "      <td>...</td>\n",
       "      <td>...</td>\n",
       "      <td>...</td>\n",
       "      <td>...</td>\n",
       "    </tr>\n",
       "    <tr>\n",
       "      <th>8a1f0986c957fff</th>\n",
       "      <td>0.181489</td>\n",
       "      <td>0.382292</td>\n",
       "      <td>0.154497</td>\n",
       "      <td>0.007077</td>\n",
       "      <td>-0.205120</td>\n",
       "      <td>0.086614</td>\n",
       "      <td>0.175767</td>\n",
       "      <td>0.023460</td>\n",
       "      <td>0.363786</td>\n",
       "      <td>-0.154332</td>\n",
       "      <td>...</td>\n",
       "      <td>0.363855</td>\n",
       "      <td>-0.192280</td>\n",
       "      <td>-0.096331</td>\n",
       "      <td>-0.182033</td>\n",
       "      <td>0.137739</td>\n",
       "      <td>0.162328</td>\n",
       "      <td>-0.273333</td>\n",
       "      <td>-0.062072</td>\n",
       "      <td>-0.035979</td>\n",
       "      <td>-0.111762</td>\n",
       "    </tr>\n",
       "    <tr>\n",
       "      <th>8a1f7248cd77fff</th>\n",
       "      <td>0.071181</td>\n",
       "      <td>0.587175</td>\n",
       "      <td>-0.045538</td>\n",
       "      <td>-0.300783</td>\n",
       "      <td>-0.064654</td>\n",
       "      <td>0.072767</td>\n",
       "      <td>-0.338590</td>\n",
       "      <td>-0.750539</td>\n",
       "      <td>-0.104153</td>\n",
       "      <td>0.203407</td>\n",
       "      <td>...</td>\n",
       "      <td>-0.498614</td>\n",
       "      <td>0.224562</td>\n",
       "      <td>0.368970</td>\n",
       "      <td>0.182191</td>\n",
       "      <td>-0.056294</td>\n",
       "      <td>-0.289853</td>\n",
       "      <td>0.172294</td>\n",
       "      <td>0.298320</td>\n",
       "      <td>-0.160956</td>\n",
       "      <td>-0.179076</td>\n",
       "    </tr>\n",
       "    <tr>\n",
       "      <th>8a1f09b44da7fff</th>\n",
       "      <td>-0.408609</td>\n",
       "      <td>0.143905</td>\n",
       "      <td>-0.246527</td>\n",
       "      <td>-0.177357</td>\n",
       "      <td>0.290274</td>\n",
       "      <td>-0.370556</td>\n",
       "      <td>0.320862</td>\n",
       "      <td>0.267324</td>\n",
       "      <td>0.071227</td>\n",
       "      <td>0.264836</td>\n",
       "      <td>...</td>\n",
       "      <td>-0.598449</td>\n",
       "      <td>0.115370</td>\n",
       "      <td>-0.324746</td>\n",
       "      <td>-0.012693</td>\n",
       "      <td>0.133477</td>\n",
       "      <td>-0.468858</td>\n",
       "      <td>0.262236</td>\n",
       "      <td>-0.069581</td>\n",
       "      <td>0.043581</td>\n",
       "      <td>-0.447354</td>\n",
       "    </tr>\n",
       "    <tr>\n",
       "      <th>8a1f7247029ffff</th>\n",
       "      <td>0.231239</td>\n",
       "      <td>-0.196225</td>\n",
       "      <td>0.224774</td>\n",
       "      <td>-0.204577</td>\n",
       "      <td>0.272633</td>\n",
       "      <td>0.339952</td>\n",
       "      <td>0.119712</td>\n",
       "      <td>-0.009222</td>\n",
       "      <td>0.140706</td>\n",
       "      <td>-0.017214</td>\n",
       "      <td>...</td>\n",
       "      <td>-0.186627</td>\n",
       "      <td>0.006933</td>\n",
       "      <td>-0.003167</td>\n",
       "      <td>0.170422</td>\n",
       "      <td>0.066978</td>\n",
       "      <td>0.155175</td>\n",
       "      <td>-0.002860</td>\n",
       "      <td>0.052813</td>\n",
       "      <td>0.157953</td>\n",
       "      <td>-0.415896</td>\n",
       "    </tr>\n",
       "    <tr>\n",
       "      <th>8a1f09b0429ffff</th>\n",
       "      <td>-0.212256</td>\n",
       "      <td>0.081573</td>\n",
       "      <td>-0.363161</td>\n",
       "      <td>-0.185152</td>\n",
       "      <td>0.182648</td>\n",
       "      <td>-0.135646</td>\n",
       "      <td>0.231782</td>\n",
       "      <td>0.018104</td>\n",
       "      <td>-0.063354</td>\n",
       "      <td>-0.017646</td>\n",
       "      <td>...</td>\n",
       "      <td>-0.312238</td>\n",
       "      <td>0.009932</td>\n",
       "      <td>-0.119272</td>\n",
       "      <td>0.276183</td>\n",
       "      <td>0.183513</td>\n",
       "      <td>-0.389292</td>\n",
       "      <td>0.296642</td>\n",
       "      <td>-0.495589</td>\n",
       "      <td>-0.217922</td>\n",
       "      <td>-0.500890</td>\n",
       "    </tr>\n",
       "  </tbody>\n",
       "</table>\n",
       "<p>52923 rows × 64 columns</p>\n",
       "</div>"
      ],
      "text/plain": [
       "                       0         1         2         3         4         5    \n",
       "region_id                                                                     \n",
       "8a1f724e125ffff  0.231239 -0.196225  0.224774 -0.204577  0.272633  0.339952  \\\n",
       "8a1f724e5aa7fff  0.231239 -0.196225  0.224774 -0.204577  0.272633  0.339952   \n",
       "8a1f72498d2ffff -0.357695 -0.133341  0.298338 -0.660436  0.296341  0.297462   \n",
       "8a1f7248c177fff -0.286190  0.011620  0.180642 -0.288589 -0.002698 -0.037762   \n",
       "8a1f724c0937fff  0.231239 -0.196225  0.224774 -0.204577  0.272633  0.339952   \n",
       "...                   ...       ...       ...       ...       ...       ...   \n",
       "8a1f0986c957fff  0.181489  0.382292  0.154497  0.007077 -0.205120  0.086614   \n",
       "8a1f7248cd77fff  0.071181  0.587175 -0.045538 -0.300783 -0.064654  0.072767   \n",
       "8a1f09b44da7fff -0.408609  0.143905 -0.246527 -0.177357  0.290274 -0.370556   \n",
       "8a1f7247029ffff  0.231239 -0.196225  0.224774 -0.204577  0.272633  0.339952   \n",
       "8a1f09b0429ffff -0.212256  0.081573 -0.363161 -0.185152  0.182648 -0.135646   \n",
       "\n",
       "                       6         7         8         9   ...        54   \n",
       "region_id                                                ...             \n",
       "8a1f724e125ffff  0.119712 -0.009222  0.140706 -0.017214  ... -0.186627  \\\n",
       "8a1f724e5aa7fff  0.119712 -0.009222  0.140706 -0.017214  ... -0.186627   \n",
       "8a1f72498d2ffff -0.129616 -0.105311  0.297201  0.434056  ... -0.091607   \n",
       "8a1f7248c177fff -0.320312  0.084955  0.086787 -0.191180  ...  0.047522   \n",
       "8a1f724c0937fff  0.119712 -0.009222  0.140706 -0.017214  ... -0.186627   \n",
       "...                   ...       ...       ...       ...  ...       ...   \n",
       "8a1f0986c957fff  0.175767  0.023460  0.363786 -0.154332  ...  0.363855   \n",
       "8a1f7248cd77fff -0.338590 -0.750539 -0.104153  0.203407  ... -0.498614   \n",
       "8a1f09b44da7fff  0.320862  0.267324  0.071227  0.264836  ... -0.598449   \n",
       "8a1f7247029ffff  0.119712 -0.009222  0.140706 -0.017214  ... -0.186627   \n",
       "8a1f09b0429ffff  0.231782  0.018104 -0.063354 -0.017646  ... -0.312238   \n",
       "\n",
       "                       55        56        57        58        59        60   \n",
       "region_id                                                                     \n",
       "8a1f724e125ffff  0.006933 -0.003167  0.170422  0.066978  0.155175 -0.002860  \\\n",
       "8a1f724e5aa7fff  0.006933 -0.003167  0.170422  0.066978  0.155175 -0.002860   \n",
       "8a1f72498d2ffff -0.357733  0.301568 -0.043104 -0.410060 -0.551953  0.133317   \n",
       "8a1f7248c177fff  0.052893  0.430177  0.054441 -0.542808 -0.310894 -0.151308   \n",
       "8a1f724c0937fff  0.006933 -0.003167  0.170422  0.066978  0.155175 -0.002860   \n",
       "...                   ...       ...       ...       ...       ...       ...   \n",
       "8a1f0986c957fff -0.192280 -0.096331 -0.182033  0.137739  0.162328 -0.273333   \n",
       "8a1f7248cd77fff  0.224562  0.368970  0.182191 -0.056294 -0.289853  0.172294   \n",
       "8a1f09b44da7fff  0.115370 -0.324746 -0.012693  0.133477 -0.468858  0.262236   \n",
       "8a1f7247029ffff  0.006933 -0.003167  0.170422  0.066978  0.155175 -0.002860   \n",
       "8a1f09b0429ffff  0.009932 -0.119272  0.276183  0.183513 -0.389292  0.296642   \n",
       "\n",
       "                       61        62        63  \n",
       "region_id                                      \n",
       "8a1f724e125ffff  0.052813  0.157953 -0.415896  \n",
       "8a1f724e5aa7fff  0.052813  0.157953 -0.415896  \n",
       "8a1f72498d2ffff  0.425072 -0.048675  0.239983  \n",
       "8a1f7248c177fff  0.275078  0.050520 -0.078827  \n",
       "8a1f724c0937fff  0.052813  0.157953 -0.415896  \n",
       "...                   ...       ...       ...  \n",
       "8a1f0986c957fff -0.062072 -0.035979 -0.111762  \n",
       "8a1f7248cd77fff  0.298320 -0.160956 -0.179076  \n",
       "8a1f09b44da7fff -0.069581  0.043581 -0.447354  \n",
       "8a1f7247029ffff  0.052813  0.157953 -0.415896  \n",
       "8a1f09b0429ffff -0.495589 -0.217922 -0.500890  \n",
       "\n",
       "[52923 rows x 64 columns]"
      ]
     },
     "execution_count": 33,
     "metadata": {},
     "output_type": "execute_result"
    }
   ],
   "source": [
    "embeddings = embedder.transform(regions, features, joint)\n",
    "embeddings"
   ]
  },
  {
   "cell_type": "code",
   "execution_count": null,
   "metadata": {},
   "outputs": [],
   "source": [
    "from sklearn.cluster import KMeans\n",
    "from srai.plotting import plot_numeric_data\n",
    "cluster = KMeans(n_clusters=10)\n",
    "clusters = cluster.fit_predict(embeddings)\n",
    "clusters\n",
    "plot_gdf = regions.copy()\n",
    "plot_gdf[\"cluster\"] = clusters\n",
    "\n",
    "plot_numeric_data(regions, plot_gdf, \"cluster\", colormap=\"tab10\")"
   ]
  },
  {
   "cell_type": "code",
   "execution_count": null,
   "metadata": {},
   "outputs": [
    {
     "data": {
      "text/html": [
       "<div>\n",
       "<style scoped>\n",
       "    .dataframe tbody tr th:only-of-type {\n",
       "        vertical-align: middle;\n",
       "    }\n",
       "\n",
       "    .dataframe tbody tr th {\n",
       "        vertical-align: top;\n",
       "    }\n",
       "\n",
       "    .dataframe thead th {\n",
       "        text-align: right;\n",
       "    }\n",
       "</style>\n",
       "<table border=\"1\" class=\"dataframe\">\n",
       "  <thead>\n",
       "    <tr style=\"text-align: right;\">\n",
       "      <th></th>\n",
       "      <th>aeroway_aerodrome</th>\n",
       "      <th>aeroway_apron</th>\n",
       "      <th>aeroway_gate</th>\n",
       "      <th>aeroway_hangar</th>\n",
       "      <th>aeroway_helipad</th>\n",
       "      <th>aeroway_heliport</th>\n",
       "      <th>aeroway_navigationaid</th>\n",
       "      <th>aeroway_runway</th>\n",
       "      <th>aeroway_taxiway</th>\n",
       "      <th>aeroway_terminal</th>\n",
       "      <th>...</th>\n",
       "      <th>waterway_lock_gate</th>\n",
       "      <th>waterway_pressurised</th>\n",
       "      <th>waterway_river</th>\n",
       "      <th>waterway_riverbank</th>\n",
       "      <th>waterway_stream</th>\n",
       "      <th>waterway_tidal_channel</th>\n",
       "      <th>waterway_turning_point</th>\n",
       "      <th>waterway_water_point</th>\n",
       "      <th>waterway_waterfall</th>\n",
       "      <th>waterway_weir</th>\n",
       "    </tr>\n",
       "    <tr>\n",
       "      <th>region_id</th>\n",
       "      <th></th>\n",
       "      <th></th>\n",
       "      <th></th>\n",
       "      <th></th>\n",
       "      <th></th>\n",
       "      <th></th>\n",
       "      <th></th>\n",
       "      <th></th>\n",
       "      <th></th>\n",
       "      <th></th>\n",
       "      <th></th>\n",
       "      <th></th>\n",
       "      <th></th>\n",
       "      <th></th>\n",
       "      <th></th>\n",
       "      <th></th>\n",
       "      <th></th>\n",
       "      <th></th>\n",
       "      <th></th>\n",
       "      <th></th>\n",
       "      <th></th>\n",
       "    </tr>\n",
       "  </thead>\n",
       "  <tbody>\n",
       "    <tr>\n",
       "      <th>8a1e20475787fff</th>\n",
       "      <td>0</td>\n",
       "      <td>0</td>\n",
       "      <td>0</td>\n",
       "      <td>0</td>\n",
       "      <td>0</td>\n",
       "      <td>0</td>\n",
       "      <td>0</td>\n",
       "      <td>0</td>\n",
       "      <td>0</td>\n",
       "      <td>0</td>\n",
       "      <td>...</td>\n",
       "      <td>0</td>\n",
       "      <td>0</td>\n",
       "      <td>0</td>\n",
       "      <td>0</td>\n",
       "      <td>0</td>\n",
       "      <td>0</td>\n",
       "      <td>0</td>\n",
       "      <td>0</td>\n",
       "      <td>0</td>\n",
       "      <td>0</td>\n",
       "    </tr>\n",
       "    <tr>\n",
       "      <th>8a1e2042e437fff</th>\n",
       "      <td>0</td>\n",
       "      <td>0</td>\n",
       "      <td>0</td>\n",
       "      <td>0</td>\n",
       "      <td>0</td>\n",
       "      <td>0</td>\n",
       "      <td>0</td>\n",
       "      <td>0</td>\n",
       "      <td>0</td>\n",
       "      <td>0</td>\n",
       "      <td>...</td>\n",
       "      <td>0</td>\n",
       "      <td>0</td>\n",
       "      <td>0</td>\n",
       "      <td>0</td>\n",
       "      <td>0</td>\n",
       "      <td>0</td>\n",
       "      <td>0</td>\n",
       "      <td>0</td>\n",
       "      <td>0</td>\n",
       "      <td>0</td>\n",
       "    </tr>\n",
       "    <tr>\n",
       "      <th>8a1e20471a77fff</th>\n",
       "      <td>0</td>\n",
       "      <td>0</td>\n",
       "      <td>0</td>\n",
       "      <td>0</td>\n",
       "      <td>0</td>\n",
       "      <td>0</td>\n",
       "      <td>0</td>\n",
       "      <td>0</td>\n",
       "      <td>0</td>\n",
       "      <td>0</td>\n",
       "      <td>...</td>\n",
       "      <td>0</td>\n",
       "      <td>0</td>\n",
       "      <td>0</td>\n",
       "      <td>0</td>\n",
       "      <td>0</td>\n",
       "      <td>0</td>\n",
       "      <td>0</td>\n",
       "      <td>0</td>\n",
       "      <td>0</td>\n",
       "      <td>0</td>\n",
       "    </tr>\n",
       "    <tr>\n",
       "      <th>8a1e20450567fff</th>\n",
       "      <td>0</td>\n",
       "      <td>0</td>\n",
       "      <td>0</td>\n",
       "      <td>0</td>\n",
       "      <td>0</td>\n",
       "      <td>0</td>\n",
       "      <td>0</td>\n",
       "      <td>0</td>\n",
       "      <td>0</td>\n",
       "      <td>0</td>\n",
       "      <td>...</td>\n",
       "      <td>0</td>\n",
       "      <td>0</td>\n",
       "      <td>1</td>\n",
       "      <td>0</td>\n",
       "      <td>0</td>\n",
       "      <td>0</td>\n",
       "      <td>0</td>\n",
       "      <td>0</td>\n",
       "      <td>0</td>\n",
       "      <td>0</td>\n",
       "    </tr>\n",
       "    <tr>\n",
       "      <th>8a1e204e611ffff</th>\n",
       "      <td>0</td>\n",
       "      <td>0</td>\n",
       "      <td>0</td>\n",
       "      <td>0</td>\n",
       "      <td>0</td>\n",
       "      <td>0</td>\n",
       "      <td>0</td>\n",
       "      <td>0</td>\n",
       "      <td>0</td>\n",
       "      <td>0</td>\n",
       "      <td>...</td>\n",
       "      <td>0</td>\n",
       "      <td>0</td>\n",
       "      <td>0</td>\n",
       "      <td>0</td>\n",
       "      <td>0</td>\n",
       "      <td>0</td>\n",
       "      <td>0</td>\n",
       "      <td>0</td>\n",
       "      <td>0</td>\n",
       "      <td>0</td>\n",
       "    </tr>\n",
       "    <tr>\n",
       "      <th>...</th>\n",
       "      <td>...</td>\n",
       "      <td>...</td>\n",
       "      <td>...</td>\n",
       "      <td>...</td>\n",
       "      <td>...</td>\n",
       "      <td>...</td>\n",
       "      <td>...</td>\n",
       "      <td>...</td>\n",
       "      <td>...</td>\n",
       "      <td>...</td>\n",
       "      <td>...</td>\n",
       "      <td>...</td>\n",
       "      <td>...</td>\n",
       "      <td>...</td>\n",
       "      <td>...</td>\n",
       "      <td>...</td>\n",
       "      <td>...</td>\n",
       "      <td>...</td>\n",
       "      <td>...</td>\n",
       "      <td>...</td>\n",
       "      <td>...</td>\n",
       "    </tr>\n",
       "    <tr>\n",
       "      <th>8a1e20472a8ffff</th>\n",
       "      <td>0</td>\n",
       "      <td>0</td>\n",
       "      <td>0</td>\n",
       "      <td>0</td>\n",
       "      <td>0</td>\n",
       "      <td>0</td>\n",
       "      <td>0</td>\n",
       "      <td>0</td>\n",
       "      <td>0</td>\n",
       "      <td>0</td>\n",
       "      <td>...</td>\n",
       "      <td>0</td>\n",
       "      <td>0</td>\n",
       "      <td>0</td>\n",
       "      <td>0</td>\n",
       "      <td>0</td>\n",
       "      <td>0</td>\n",
       "      <td>0</td>\n",
       "      <td>0</td>\n",
       "      <td>0</td>\n",
       "      <td>0</td>\n",
       "    </tr>\n",
       "    <tr>\n",
       "      <th>8a1e20556507fff</th>\n",
       "      <td>0</td>\n",
       "      <td>0</td>\n",
       "      <td>0</td>\n",
       "      <td>0</td>\n",
       "      <td>0</td>\n",
       "      <td>0</td>\n",
       "      <td>0</td>\n",
       "      <td>0</td>\n",
       "      <td>0</td>\n",
       "      <td>0</td>\n",
       "      <td>...</td>\n",
       "      <td>0</td>\n",
       "      <td>0</td>\n",
       "      <td>0</td>\n",
       "      <td>0</td>\n",
       "      <td>0</td>\n",
       "      <td>0</td>\n",
       "      <td>0</td>\n",
       "      <td>0</td>\n",
       "      <td>0</td>\n",
       "      <td>0</td>\n",
       "    </tr>\n",
       "    <tr>\n",
       "      <th>8a1e204e5177fff</th>\n",
       "      <td>0</td>\n",
       "      <td>0</td>\n",
       "      <td>0</td>\n",
       "      <td>0</td>\n",
       "      <td>0</td>\n",
       "      <td>0</td>\n",
       "      <td>0</td>\n",
       "      <td>0</td>\n",
       "      <td>0</td>\n",
       "      <td>0</td>\n",
       "      <td>...</td>\n",
       "      <td>0</td>\n",
       "      <td>0</td>\n",
       "      <td>0</td>\n",
       "      <td>0</td>\n",
       "      <td>0</td>\n",
       "      <td>0</td>\n",
       "      <td>0</td>\n",
       "      <td>0</td>\n",
       "      <td>0</td>\n",
       "      <td>0</td>\n",
       "    </tr>\n",
       "    <tr>\n",
       "      <th>8a1e2040c327fff</th>\n",
       "      <td>0</td>\n",
       "      <td>0</td>\n",
       "      <td>0</td>\n",
       "      <td>0</td>\n",
       "      <td>0</td>\n",
       "      <td>0</td>\n",
       "      <td>0</td>\n",
       "      <td>0</td>\n",
       "      <td>0</td>\n",
       "      <td>0</td>\n",
       "      <td>...</td>\n",
       "      <td>0</td>\n",
       "      <td>0</td>\n",
       "      <td>0</td>\n",
       "      <td>0</td>\n",
       "      <td>0</td>\n",
       "      <td>0</td>\n",
       "      <td>0</td>\n",
       "      <td>0</td>\n",
       "      <td>0</td>\n",
       "      <td>0</td>\n",
       "    </tr>\n",
       "    <tr>\n",
       "      <th>8a1e20425a1ffff</th>\n",
       "      <td>0</td>\n",
       "      <td>0</td>\n",
       "      <td>0</td>\n",
       "      <td>0</td>\n",
       "      <td>0</td>\n",
       "      <td>0</td>\n",
       "      <td>0</td>\n",
       "      <td>0</td>\n",
       "      <td>0</td>\n",
       "      <td>0</td>\n",
       "      <td>...</td>\n",
       "      <td>0</td>\n",
       "      <td>0</td>\n",
       "      <td>0</td>\n",
       "      <td>0</td>\n",
       "      <td>0</td>\n",
       "      <td>0</td>\n",
       "      <td>0</td>\n",
       "      <td>0</td>\n",
       "      <td>0</td>\n",
       "      <td>0</td>\n",
       "    </tr>\n",
       "  </tbody>\n",
       "</table>\n",
       "<p>21336 rows × 725 columns</p>\n",
       "</div>"
      ],
      "text/plain": [
       "                 aeroway_aerodrome  aeroway_apron  aeroway_gate   \n",
       "region_id                                                         \n",
       "8a1e20475787fff                  0              0             0  \\\n",
       "8a1e2042e437fff                  0              0             0   \n",
       "8a1e20471a77fff                  0              0             0   \n",
       "8a1e20450567fff                  0              0             0   \n",
       "8a1e204e611ffff                  0              0             0   \n",
       "...                            ...            ...           ...   \n",
       "8a1e20472a8ffff                  0              0             0   \n",
       "8a1e20556507fff                  0              0             0   \n",
       "8a1e204e5177fff                  0              0             0   \n",
       "8a1e2040c327fff                  0              0             0   \n",
       "8a1e20425a1ffff                  0              0             0   \n",
       "\n",
       "                 aeroway_hangar  aeroway_helipad  aeroway_heliport   \n",
       "region_id                                                            \n",
       "8a1e20475787fff               0                0                 0  \\\n",
       "8a1e2042e437fff               0                0                 0   \n",
       "8a1e20471a77fff               0                0                 0   \n",
       "8a1e20450567fff               0                0                 0   \n",
       "8a1e204e611ffff               0                0                 0   \n",
       "...                         ...              ...               ...   \n",
       "8a1e20472a8ffff               0                0                 0   \n",
       "8a1e20556507fff               0                0                 0   \n",
       "8a1e204e5177fff               0                0                 0   \n",
       "8a1e2040c327fff               0                0                 0   \n",
       "8a1e20425a1ffff               0                0                 0   \n",
       "\n",
       "                 aeroway_navigationaid  aeroway_runway  aeroway_taxiway   \n",
       "region_id                                                                 \n",
       "8a1e20475787fff                      0               0                0  \\\n",
       "8a1e2042e437fff                      0               0                0   \n",
       "8a1e20471a77fff                      0               0                0   \n",
       "8a1e20450567fff                      0               0                0   \n",
       "8a1e204e611ffff                      0               0                0   \n",
       "...                                ...             ...              ...   \n",
       "8a1e20472a8ffff                      0               0                0   \n",
       "8a1e20556507fff                      0               0                0   \n",
       "8a1e204e5177fff                      0               0                0   \n",
       "8a1e2040c327fff                      0               0                0   \n",
       "8a1e20425a1ffff                      0               0                0   \n",
       "\n",
       "                 aeroway_terminal  ...  waterway_lock_gate   \n",
       "region_id                          ...                       \n",
       "8a1e20475787fff                 0  ...                   0  \\\n",
       "8a1e2042e437fff                 0  ...                   0   \n",
       "8a1e20471a77fff                 0  ...                   0   \n",
       "8a1e20450567fff                 0  ...                   0   \n",
       "8a1e204e611ffff                 0  ...                   0   \n",
       "...                           ...  ...                 ...   \n",
       "8a1e20472a8ffff                 0  ...                   0   \n",
       "8a1e20556507fff                 0  ...                   0   \n",
       "8a1e204e5177fff                 0  ...                   0   \n",
       "8a1e2040c327fff                 0  ...                   0   \n",
       "8a1e20425a1ffff                 0  ...                   0   \n",
       "\n",
       "                 waterway_pressurised  waterway_river  waterway_riverbank   \n",
       "region_id                                                                   \n",
       "8a1e20475787fff                     0               0                   0  \\\n",
       "8a1e2042e437fff                     0               0                   0   \n",
       "8a1e20471a77fff                     0               0                   0   \n",
       "8a1e20450567fff                     0               1                   0   \n",
       "8a1e204e611ffff                     0               0                   0   \n",
       "...                               ...             ...                 ...   \n",
       "8a1e20472a8ffff                     0               0                   0   \n",
       "8a1e20556507fff                     0               0                   0   \n",
       "8a1e204e5177fff                     0               0                   0   \n",
       "8a1e2040c327fff                     0               0                   0   \n",
       "8a1e20425a1ffff                     0               0                   0   \n",
       "\n",
       "                 waterway_stream  waterway_tidal_channel   \n",
       "region_id                                                  \n",
       "8a1e20475787fff                0                       0  \\\n",
       "8a1e2042e437fff                0                       0   \n",
       "8a1e20471a77fff                0                       0   \n",
       "8a1e20450567fff                0                       0   \n",
       "8a1e204e611ffff                0                       0   \n",
       "...                          ...                     ...   \n",
       "8a1e20472a8ffff                0                       0   \n",
       "8a1e20556507fff                0                       0   \n",
       "8a1e204e5177fff                0                       0   \n",
       "8a1e2040c327fff                0                       0   \n",
       "8a1e20425a1ffff                0                       0   \n",
       "\n",
       "                 waterway_turning_point  waterway_water_point   \n",
       "region_id                                                       \n",
       "8a1e20475787fff                       0                     0  \\\n",
       "8a1e2042e437fff                       0                     0   \n",
       "8a1e20471a77fff                       0                     0   \n",
       "8a1e20450567fff                       0                     0   \n",
       "8a1e204e611ffff                       0                     0   \n",
       "...                                 ...                   ...   \n",
       "8a1e20472a8ffff                       0                     0   \n",
       "8a1e20556507fff                       0                     0   \n",
       "8a1e204e5177fff                       0                     0   \n",
       "8a1e2040c327fff                       0                     0   \n",
       "8a1e20425a1ffff                       0                     0   \n",
       "\n",
       "                 waterway_waterfall  waterway_weir  \n",
       "region_id                                           \n",
       "8a1e20475787fff                   0              0  \n",
       "8a1e2042e437fff                   0              0  \n",
       "8a1e20471a77fff                   0              0  \n",
       "8a1e20450567fff                   0              0  \n",
       "8a1e204e611ffff                   0              0  \n",
       "...                             ...            ...  \n",
       "8a1e20472a8ffff                   0              0  \n",
       "8a1e20556507fff                   0              0  \n",
       "8a1e204e5177fff                   0              0  \n",
       "8a1e2040c327fff                   0              0  \n",
       "8a1e20425a1ffff                   0              0  \n",
       "\n",
       "[21336 rows x 725 columns]"
      ]
     },
     "execution_count": 64,
     "metadata": {},
     "output_type": "execute_result"
    }
   ],
   "source": [
    "from srai.embedders import CountEmbedder\n",
    "\n",
    "count_embedder = CountEmbedder(expected_output_features=expected_output_features)\n",
    "\n",
    "count_embeddings = count_embedder.transform(wro_regions, wro_features, wro_joint)\n",
    "count_embeddings"
   ]
  },
  {
   "cell_type": "code",
   "execution_count": null,
   "metadata": {},
   "outputs": [],
   "source": [
    "from umap import UMAP\n",
    "\n",
    "umapped = UMAP(n_components=64).fit_transform(count_embeddings)"
   ]
  },
  {
   "cell_type": "code",
   "execution_count": null,
   "metadata": {},
   "outputs": [],
   "source": [
    "cluster = KMeans(n_clusters=10)\n",
    "clusters = cluster.fit_predict(umapped)\n",
    "clusters\n",
    "plot_gdf = wro_regions.copy()\n",
    "plot_gdf[\"cluster\"] = clusters\n",
    "\n",
    "plot_numeric_data(wro_regions, plot_gdf, \"cluster\", colormap=\"tab10\")"
   ]
  },
  {
   "cell_type": "code",
   "execution_count": null,
   "metadata": {},
   "outputs": [
    {
     "data": {
      "text/plain": [
       "['Kielce, Polska',\n",
       " 'Radom, Polska',\n",
       " 'Poznań, Polska',\n",
       " 'Elbląg, Polska',\n",
       " 'Chorzów, Polska',\n",
       " 'Ruda Śląska, Polska',\n",
       " 'Szczecin, Polska',\n",
       " 'Opole, Polska']"
      ]
     },
     "execution_count": 68,
     "metadata": {},
     "output_type": "execute_result"
    }
   ],
   "source": [
    "val_cities"
   ]
  },
  {
   "cell_type": "code",
   "execution_count": null,
   "metadata": {},
   "outputs": [],
   "source": [
    "area = geocode_to_region_gdf(\"Poznań, Polska\")\n",
    "regions = H3Regionizer(resolution=10).transform(area)\n",
    "features = gpd.read_parquet(\"data/raw/Poznań, Polska.parquet\")\n",
    "joint = joiner.transform(regions, features)"
   ]
  },
  {
   "cell_type": "code",
   "execution_count": null,
   "metadata": {},
   "outputs": [
    {
     "data": {
      "text/html": [
       "<div>\n",
       "<style scoped>\n",
       "    .dataframe tbody tr th:only-of-type {\n",
       "        vertical-align: middle;\n",
       "    }\n",
       "\n",
       "    .dataframe tbody tr th {\n",
       "        vertical-align: top;\n",
       "    }\n",
       "\n",
       "    .dataframe thead th {\n",
       "        text-align: right;\n",
       "    }\n",
       "</style>\n",
       "<table border=\"1\" class=\"dataframe\">\n",
       "  <thead>\n",
       "    <tr style=\"text-align: right;\">\n",
       "      <th></th>\n",
       "      <th>0</th>\n",
       "      <th>1</th>\n",
       "      <th>2</th>\n",
       "      <th>3</th>\n",
       "      <th>4</th>\n",
       "      <th>5</th>\n",
       "      <th>6</th>\n",
       "      <th>7</th>\n",
       "      <th>8</th>\n",
       "      <th>9</th>\n",
       "      <th>...</th>\n",
       "      <th>54</th>\n",
       "      <th>55</th>\n",
       "      <th>56</th>\n",
       "      <th>57</th>\n",
       "      <th>58</th>\n",
       "      <th>59</th>\n",
       "      <th>60</th>\n",
       "      <th>61</th>\n",
       "      <th>62</th>\n",
       "      <th>63</th>\n",
       "    </tr>\n",
       "    <tr>\n",
       "      <th>region_id</th>\n",
       "      <th></th>\n",
       "      <th></th>\n",
       "      <th></th>\n",
       "      <th></th>\n",
       "      <th></th>\n",
       "      <th></th>\n",
       "      <th></th>\n",
       "      <th></th>\n",
       "      <th></th>\n",
       "      <th></th>\n",
       "      <th></th>\n",
       "      <th></th>\n",
       "      <th></th>\n",
       "      <th></th>\n",
       "      <th></th>\n",
       "      <th></th>\n",
       "      <th></th>\n",
       "      <th></th>\n",
       "      <th></th>\n",
       "      <th></th>\n",
       "      <th></th>\n",
       "    </tr>\n",
       "  </thead>\n",
       "  <tbody>\n",
       "    <tr>\n",
       "      <th>8a1e24a1104ffff</th>\n",
       "      <td>-0.230435</td>\n",
       "      <td>0.146009</td>\n",
       "      <td>0.030841</td>\n",
       "      <td>-0.187705</td>\n",
       "      <td>-0.209398</td>\n",
       "      <td>0.106841</td>\n",
       "      <td>-0.325555</td>\n",
       "      <td>0.157971</td>\n",
       "      <td>-0.209766</td>\n",
       "      <td>-0.359187</td>\n",
       "      <td>...</td>\n",
       "      <td>0.260583</td>\n",
       "      <td>-0.252027</td>\n",
       "      <td>-0.202288</td>\n",
       "      <td>0.206585</td>\n",
       "      <td>-0.247984</td>\n",
       "      <td>-0.036301</td>\n",
       "      <td>-0.109473</td>\n",
       "      <td>-0.269359</td>\n",
       "      <td>0.504744</td>\n",
       "      <td>0.314436</td>\n",
       "    </tr>\n",
       "    <tr>\n",
       "      <th>8a1e24aaa9affff</th>\n",
       "      <td>-0.231022</td>\n",
       "      <td>0.096924</td>\n",
       "      <td>-0.389670</td>\n",
       "      <td>-0.391343</td>\n",
       "      <td>0.146649</td>\n",
       "      <td>-0.003101</td>\n",
       "      <td>0.007737</td>\n",
       "      <td>0.083627</td>\n",
       "      <td>0.065311</td>\n",
       "      <td>-0.191573</td>\n",
       "      <td>...</td>\n",
       "      <td>-0.173618</td>\n",
       "      <td>-0.001557</td>\n",
       "      <td>-0.073462</td>\n",
       "      <td>0.141525</td>\n",
       "      <td>0.201009</td>\n",
       "      <td>-0.348623</td>\n",
       "      <td>0.320697</td>\n",
       "      <td>-0.457041</td>\n",
       "      <td>-0.224055</td>\n",
       "      <td>-0.434583</td>\n",
       "    </tr>\n",
       "    <tr>\n",
       "      <th>8a1e24b8ba9ffff</th>\n",
       "      <td>-0.590725</td>\n",
       "      <td>-0.655228</td>\n",
       "      <td>0.334008</td>\n",
       "      <td>-0.066888</td>\n",
       "      <td>0.020288</td>\n",
       "      <td>0.448003</td>\n",
       "      <td>-0.534694</td>\n",
       "      <td>-0.039649</td>\n",
       "      <td>-0.104514</td>\n",
       "      <td>0.210112</td>\n",
       "      <td>...</td>\n",
       "      <td>0.076609</td>\n",
       "      <td>0.080391</td>\n",
       "      <td>-0.370678</td>\n",
       "      <td>0.092443</td>\n",
       "      <td>0.070986</td>\n",
       "      <td>-0.616261</td>\n",
       "      <td>-0.207067</td>\n",
       "      <td>0.145081</td>\n",
       "      <td>0.484168</td>\n",
       "      <td>0.529770</td>\n",
       "    </tr>\n",
       "    <tr>\n",
       "      <th>8a1e24b819affff</th>\n",
       "      <td>0.451259</td>\n",
       "      <td>0.103240</td>\n",
       "      <td>-0.147869</td>\n",
       "      <td>0.249194</td>\n",
       "      <td>0.125329</td>\n",
       "      <td>-0.208991</td>\n",
       "      <td>0.003606</td>\n",
       "      <td>-0.137312</td>\n",
       "      <td>-0.037852</td>\n",
       "      <td>0.064119</td>\n",
       "      <td>...</td>\n",
       "      <td>0.286621</td>\n",
       "      <td>-0.158282</td>\n",
       "      <td>-0.030330</td>\n",
       "      <td>-0.047827</td>\n",
       "      <td>0.134048</td>\n",
       "      <td>0.076079</td>\n",
       "      <td>-0.085485</td>\n",
       "      <td>0.167294</td>\n",
       "      <td>0.107046</td>\n",
       "      <td>0.529015</td>\n",
       "    </tr>\n",
       "    <tr>\n",
       "      <th>8a1e24a85337fff</th>\n",
       "      <td>-0.242026</td>\n",
       "      <td>-0.205650</td>\n",
       "      <td>-0.079857</td>\n",
       "      <td>-0.007808</td>\n",
       "      <td>0.327113</td>\n",
       "      <td>0.260520</td>\n",
       "      <td>-0.153551</td>\n",
       "      <td>0.245878</td>\n",
       "      <td>-0.675985</td>\n",
       "      <td>-0.277530</td>\n",
       "      <td>...</td>\n",
       "      <td>-0.261230</td>\n",
       "      <td>-0.222018</td>\n",
       "      <td>0.336282</td>\n",
       "      <td>-0.465637</td>\n",
       "      <td>0.021872</td>\n",
       "      <td>0.189414</td>\n",
       "      <td>-0.096297</td>\n",
       "      <td>0.212082</td>\n",
       "      <td>-0.319121</td>\n",
       "      <td>-0.182670</td>\n",
       "    </tr>\n",
       "    <tr>\n",
       "      <th>...</th>\n",
       "      <td>...</td>\n",
       "      <td>...</td>\n",
       "      <td>...</td>\n",
       "      <td>...</td>\n",
       "      <td>...</td>\n",
       "      <td>...</td>\n",
       "      <td>...</td>\n",
       "      <td>...</td>\n",
       "      <td>...</td>\n",
       "      <td>...</td>\n",
       "      <td>...</td>\n",
       "      <td>...</td>\n",
       "      <td>...</td>\n",
       "      <td>...</td>\n",
       "      <td>...</td>\n",
       "      <td>...</td>\n",
       "      <td>...</td>\n",
       "      <td>...</td>\n",
       "      <td>...</td>\n",
       "      <td>...</td>\n",
       "      <td>...</td>\n",
       "    </tr>\n",
       "    <tr>\n",
       "      <th>8a1e24a0260ffff</th>\n",
       "      <td>-0.325921</td>\n",
       "      <td>0.068947</td>\n",
       "      <td>0.257563</td>\n",
       "      <td>0.255301</td>\n",
       "      <td>-0.121066</td>\n",
       "      <td>-0.080549</td>\n",
       "      <td>-0.019385</td>\n",
       "      <td>0.577814</td>\n",
       "      <td>-0.559995</td>\n",
       "      <td>-0.132585</td>\n",
       "      <td>...</td>\n",
       "      <td>0.230132</td>\n",
       "      <td>0.172570</td>\n",
       "      <td>0.185074</td>\n",
       "      <td>-0.159591</td>\n",
       "      <td>-0.350715</td>\n",
       "      <td>-0.280529</td>\n",
       "      <td>-0.017984</td>\n",
       "      <td>-0.271788</td>\n",
       "      <td>0.141725</td>\n",
       "      <td>0.270948</td>\n",
       "    </tr>\n",
       "    <tr>\n",
       "      <th>8a1e24af674ffff</th>\n",
       "      <td>0.020054</td>\n",
       "      <td>0.210567</td>\n",
       "      <td>0.099235</td>\n",
       "      <td>0.244769</td>\n",
       "      <td>0.177670</td>\n",
       "      <td>-0.555532</td>\n",
       "      <td>0.463252</td>\n",
       "      <td>-0.347973</td>\n",
       "      <td>0.185183</td>\n",
       "      <td>-0.202271</td>\n",
       "      <td>...</td>\n",
       "      <td>0.242616</td>\n",
       "      <td>-0.276998</td>\n",
       "      <td>0.163584</td>\n",
       "      <td>0.217420</td>\n",
       "      <td>0.360064</td>\n",
       "      <td>-0.417928</td>\n",
       "      <td>0.200024</td>\n",
       "      <td>0.401340</td>\n",
       "      <td>0.333782</td>\n",
       "      <td>0.305902</td>\n",
       "    </tr>\n",
       "    <tr>\n",
       "      <th>8a1e24a125affff</th>\n",
       "      <td>-0.379483</td>\n",
       "      <td>-0.503757</td>\n",
       "      <td>-0.279412</td>\n",
       "      <td>-0.175121</td>\n",
       "      <td>-0.036091</td>\n",
       "      <td>0.288348</td>\n",
       "      <td>-0.254106</td>\n",
       "      <td>0.585136</td>\n",
       "      <td>0.489879</td>\n",
       "      <td>0.500766</td>\n",
       "      <td>...</td>\n",
       "      <td>-0.539271</td>\n",
       "      <td>0.430331</td>\n",
       "      <td>0.380616</td>\n",
       "      <td>0.887893</td>\n",
       "      <td>0.860620</td>\n",
       "      <td>1.065669</td>\n",
       "      <td>-0.275282</td>\n",
       "      <td>0.419437</td>\n",
       "      <td>-0.003069</td>\n",
       "      <td>-0.319620</td>\n",
       "    </tr>\n",
       "    <tr>\n",
       "      <th>8a1e24aae917fff</th>\n",
       "      <td>-0.307433</td>\n",
       "      <td>-0.129514</td>\n",
       "      <td>-0.398371</td>\n",
       "      <td>-0.529262</td>\n",
       "      <td>0.084712</td>\n",
       "      <td>-0.304866</td>\n",
       "      <td>0.394391</td>\n",
       "      <td>0.322065</td>\n",
       "      <td>-0.110648</td>\n",
       "      <td>0.113958</td>\n",
       "      <td>...</td>\n",
       "      <td>-0.028052</td>\n",
       "      <td>0.406635</td>\n",
       "      <td>-0.226792</td>\n",
       "      <td>-0.224602</td>\n",
       "      <td>0.045345</td>\n",
       "      <td>0.032769</td>\n",
       "      <td>-0.050952</td>\n",
       "      <td>-0.176709</td>\n",
       "      <td>-0.124544</td>\n",
       "      <td>0.002756</td>\n",
       "    </tr>\n",
       "    <tr>\n",
       "      <th>8a1e24af6567fff</th>\n",
       "      <td>-0.044587</td>\n",
       "      <td>-0.294488</td>\n",
       "      <td>0.057769</td>\n",
       "      <td>0.330725</td>\n",
       "      <td>0.387787</td>\n",
       "      <td>-0.164789</td>\n",
       "      <td>0.343547</td>\n",
       "      <td>0.006796</td>\n",
       "      <td>0.562430</td>\n",
       "      <td>-0.462061</td>\n",
       "      <td>...</td>\n",
       "      <td>-0.239838</td>\n",
       "      <td>0.148736</td>\n",
       "      <td>0.108568</td>\n",
       "      <td>0.198609</td>\n",
       "      <td>-0.082543</td>\n",
       "      <td>0.089803</td>\n",
       "      <td>0.149395</td>\n",
       "      <td>0.100868</td>\n",
       "      <td>-0.091185</td>\n",
       "      <td>-0.006060</td>\n",
       "    </tr>\n",
       "  </tbody>\n",
       "</table>\n",
       "<p>19731 rows × 64 columns</p>\n",
       "</div>"
      ],
      "text/plain": [
       "                       0         1         2         3         4         5    \n",
       "region_id                                                                     \n",
       "8a1e24a1104ffff -0.230435  0.146009  0.030841 -0.187705 -0.209398  0.106841  \\\n",
       "8a1e24aaa9affff -0.231022  0.096924 -0.389670 -0.391343  0.146649 -0.003101   \n",
       "8a1e24b8ba9ffff -0.590725 -0.655228  0.334008 -0.066888  0.020288  0.448003   \n",
       "8a1e24b819affff  0.451259  0.103240 -0.147869  0.249194  0.125329 -0.208991   \n",
       "8a1e24a85337fff -0.242026 -0.205650 -0.079857 -0.007808  0.327113  0.260520   \n",
       "...                   ...       ...       ...       ...       ...       ...   \n",
       "8a1e24a0260ffff -0.325921  0.068947  0.257563  0.255301 -0.121066 -0.080549   \n",
       "8a1e24af674ffff  0.020054  0.210567  0.099235  0.244769  0.177670 -0.555532   \n",
       "8a1e24a125affff -0.379483 -0.503757 -0.279412 -0.175121 -0.036091  0.288348   \n",
       "8a1e24aae917fff -0.307433 -0.129514 -0.398371 -0.529262  0.084712 -0.304866   \n",
       "8a1e24af6567fff -0.044587 -0.294488  0.057769  0.330725  0.387787 -0.164789   \n",
       "\n",
       "                       6         7         8         9   ...        54   \n",
       "region_id                                                ...             \n",
       "8a1e24a1104ffff -0.325555  0.157971 -0.209766 -0.359187  ...  0.260583  \\\n",
       "8a1e24aaa9affff  0.007737  0.083627  0.065311 -0.191573  ... -0.173618   \n",
       "8a1e24b8ba9ffff -0.534694 -0.039649 -0.104514  0.210112  ...  0.076609   \n",
       "8a1e24b819affff  0.003606 -0.137312 -0.037852  0.064119  ...  0.286621   \n",
       "8a1e24a85337fff -0.153551  0.245878 -0.675985 -0.277530  ... -0.261230   \n",
       "...                   ...       ...       ...       ...  ...       ...   \n",
       "8a1e24a0260ffff -0.019385  0.577814 -0.559995 -0.132585  ...  0.230132   \n",
       "8a1e24af674ffff  0.463252 -0.347973  0.185183 -0.202271  ...  0.242616   \n",
       "8a1e24a125affff -0.254106  0.585136  0.489879  0.500766  ... -0.539271   \n",
       "8a1e24aae917fff  0.394391  0.322065 -0.110648  0.113958  ... -0.028052   \n",
       "8a1e24af6567fff  0.343547  0.006796  0.562430 -0.462061  ... -0.239838   \n",
       "\n",
       "                       55        56        57        58        59        60   \n",
       "region_id                                                                     \n",
       "8a1e24a1104ffff -0.252027 -0.202288  0.206585 -0.247984 -0.036301 -0.109473  \\\n",
       "8a1e24aaa9affff -0.001557 -0.073462  0.141525  0.201009 -0.348623  0.320697   \n",
       "8a1e24b8ba9ffff  0.080391 -0.370678  0.092443  0.070986 -0.616261 -0.207067   \n",
       "8a1e24b819affff -0.158282 -0.030330 -0.047827  0.134048  0.076079 -0.085485   \n",
       "8a1e24a85337fff -0.222018  0.336282 -0.465637  0.021872  0.189414 -0.096297   \n",
       "...                   ...       ...       ...       ...       ...       ...   \n",
       "8a1e24a0260ffff  0.172570  0.185074 -0.159591 -0.350715 -0.280529 -0.017984   \n",
       "8a1e24af674ffff -0.276998  0.163584  0.217420  0.360064 -0.417928  0.200024   \n",
       "8a1e24a125affff  0.430331  0.380616  0.887893  0.860620  1.065669 -0.275282   \n",
       "8a1e24aae917fff  0.406635 -0.226792 -0.224602  0.045345  0.032769 -0.050952   \n",
       "8a1e24af6567fff  0.148736  0.108568  0.198609 -0.082543  0.089803  0.149395   \n",
       "\n",
       "                       61        62        63  \n",
       "region_id                                      \n",
       "8a1e24a1104ffff -0.269359  0.504744  0.314436  \n",
       "8a1e24aaa9affff -0.457041 -0.224055 -0.434583  \n",
       "8a1e24b8ba9ffff  0.145081  0.484168  0.529770  \n",
       "8a1e24b819affff  0.167294  0.107046  0.529015  \n",
       "8a1e24a85337fff  0.212082 -0.319121 -0.182670  \n",
       "...                   ...       ...       ...  \n",
       "8a1e24a0260ffff -0.271788  0.141725  0.270948  \n",
       "8a1e24af674ffff  0.401340  0.333782  0.305902  \n",
       "8a1e24a125affff  0.419437 -0.003069 -0.319620  \n",
       "8a1e24aae917fff -0.176709 -0.124544  0.002756  \n",
       "8a1e24af6567fff  0.100868 -0.091185 -0.006060  \n",
       "\n",
       "[19731 rows x 64 columns]"
      ]
     },
     "execution_count": 78,
     "metadata": {},
     "output_type": "execute_result"
    }
   ],
   "source": [
    "embeddings = embedder.transform(regions, features, joint)\n",
    "embeddings"
   ]
  },
  {
   "cell_type": "code",
   "execution_count": null,
   "metadata": {},
   "outputs": [],
   "source": [
    "cluster = KMeans(n_clusters=10)\n",
    "clusters = cluster.fit_predict(embeddings)\n",
    "plot_gdf = regions.copy()\n",
    "plot_gdf[\"cluster\"] = clusters\n",
    "\n",
    "plot_numeric_data(regions, plot_gdf, \"cluster\", colormap=\"tab10\")"
   ]
  }
 ],
 "metadata": {
  "kernelspec": {
   "display_name": ".venv",
   "language": "python",
   "name": "python3"
  },
  "language_info": {
   "codemirror_mode": {
    "name": "ipython",
    "version": 3
   },
   "file_extension": ".py",
   "mimetype": "text/x-python",
   "name": "python",
   "nbconvert_exporter": "python",
   "pygments_lexer": "ipython3",
   "version": "3.8.16"
  },
  "orig_nbformat": 4
 },
 "nbformat": 4,
 "nbformat_minor": 2
}
