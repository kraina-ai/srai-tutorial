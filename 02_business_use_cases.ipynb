{
 "cells": [
  {
   "cell_type": "code",
   "execution_count": null,
   "metadata": {
    "slideshow": {
     "slide_type": "skip"
    }
   },
   "outputs": [],
   "source": [
    "%load_ext autoreload\n",
    "%autoreload 2"
   ]
  },
  {
   "cell_type": "markdown",
   "metadata": {
    "slideshow": {
     "slide_type": "slide"
    }
   },
   "source": [
    "# Market share analysis\n",
    "\n",
    "*Based on fast food restaurants in Prague, Czechia.*\n",
    "\n",
    "The example will show how to analyse the local market share, defined by the nearest restaurant to a particular Prague resident.\n",
    "\n",
    "The analysis uses demographic data from the Czech Statistical Office, with residential buildings and fast food restaurant positions downloaded from OpenStreetMap."
   ]
  },
  {
   "cell_type": "code",
   "execution_count": null,
   "metadata": {
    "slideshow": {
     "slide_type": "subslide"
    }
   },
   "outputs": [],
   "source": [
    "from srai.regionalizers import geocode_to_region_gdf\n",
    "\n",
    "prague_area = geocode_to_region_gdf('Praha, CZ')\n",
    "prague_area.explore(height=600)"
   ]
  },
  {
   "cell_type": "markdown",
   "metadata": {
    "slideshow": {
     "slide_type": "slide"
    }
   },
   "source": [
    "## Load demographic data"
   ]
  },
  {
   "cell_type": "code",
   "execution_count": null,
   "metadata": {
    "scrolled": false,
    "slideshow": {
     "slide_type": "-"
    }
   },
   "outputs": [],
   "source": [
    "import geopandas as gpd\n",
    "\n",
    "cadastral_data = gpd.read_file('data/cadastral_data.geojson')\n",
    "cadastral_data.explore(column='population', tiles=\"CartoDB positron\", style_kwds=dict(opacity=0.25), height=600)"
   ]
  },
  {
   "cell_type": "markdown",
   "metadata": {
    "slideshow": {
     "slide_type": "slide"
    }
   },
   "source": [
    "## Load residential buildings from OpenStreetMap\n",
    "\n",
    "Data that we need is defined by [`building=residential`](https://wiki.openstreetmap.org/wiki/Tag:building%3Dresidential) tag in OSM.\n",
    "We will be using `osmnx` library directly to keep all the additional tags (we want to use `building:flats` information)."
   ]
  },
  {
   "cell_type": "code",
   "execution_count": null,
   "metadata": {
    "scrolled": false,
    "slideshow": {
     "slide_type": "-"
    }
   },
   "outputs": [],
   "source": [
    "import osmnx as ox\n",
    "\n",
    "residential_buildings = ox.features_from_place(query='Praha, CZ', tags={\"building\": \"residential\"})\n",
    "residential_buildings.head()"
   ]
  },
  {
   "cell_type": "markdown",
   "metadata": {
    "slideshow": {
     "slide_type": "subslide"
    }
   },
   "source": [
    "Parse numer of flats per building to a number (OSM tags values are strings)."
   ]
  },
  {
   "cell_type": "code",
   "execution_count": null,
   "metadata": {
    "slideshow": {
     "slide_type": "-"
    }
   },
   "outputs": [],
   "source": [
    "def map_flats(flats_value: str) -> int:\n",
    "    try:\n",
    "        flats = int(flats_value)\n",
    "    except:\n",
    "        flats = 1\n",
    "\n",
    "    return flats\n",
    "\n",
    "residential_buildings['flats'] = residential_buildings['building:flats'].apply(map_flats)\n",
    "residential_buildings = residential_buildings.reset_index()[['osmid', 'geometry', 'flats']]\n",
    "residential_buildings.geometry = residential_buildings.geometry.apply(lambda geometry: geometry.centroid)\n",
    "\n",
    "residential_buildings.head()"
   ]
  },
  {
   "cell_type": "markdown",
   "metadata": {
    "slideshow": {
     "slide_type": "subslide"
    }
   },
   "source": [
    "## Population interpolation\n",
    "\n",
    "Using cadastral information and exact buildings positions, we will interpolate the population over each building using flats number as a weight."
   ]
  },
  {
   "cell_type": "code",
   "execution_count": null,
   "metadata": {
    "slideshow": {
     "slide_type": "-"
    }
   },
   "outputs": [],
   "source": [
    "from tqdm import tqdm\n",
    "\n",
    "# bsu - basic settlement unit\n",
    "for bsu in tqdm(cadastral_data.to_dict(orient='records')):\n",
    "    matching_buildings = residential_buildings[residential_buildings.intersects(bsu['geometry'])]\n",
    "    total_flats = matching_buildings['flats'].sum()\n",
    "    for building_index, building_row in matching_buildings.iterrows():\n",
    "        residential_buildings.loc[building_index, 'population'] = bsu['population'] * (building_row['flats'] / total_flats)\n",
    "        \n",
    "residential_buildings.head()"
   ]
  },
  {
   "cell_type": "markdown",
   "metadata": {
    "slideshow": {
     "slide_type": "subslide"
    }
   },
   "source": [
    "Plotting buildings with population"
   ]
  },
  {
   "cell_type": "code",
   "execution_count": null,
   "metadata": {
    "scrolled": false,
    "slideshow": {
     "slide_type": "-"
    }
   },
   "outputs": [],
   "source": [
    "import matplotlib.pyplot as plt\n",
    "\n",
    "fig, (ax1, ax2) = plt.subplots(1, 2, figsize=(20,8), dpi=300)\n",
    "residential_buildings.plot('population', markersize=2, cmap='Spectral', alpha=0.1, ax=ax1)\n",
    "residential_buildings.cx[14.42:14.47, 50.06:50.085].plot('population', cmap='Spectral', markersize=4, ax=ax2)\n",
    "_ = ax1.axis('off'), ax2.axis('off'), fig.show()"
   ]
  },
  {
   "cell_type": "markdown",
   "metadata": {
    "slideshow": {
     "slide_type": "slide"
    }
   },
   "source": [
    "## Loading data about fast food restaurants\n",
    "\n",
    "Those features are defined in OSM with [`amenity=fast_food`](https://wiki.openstreetmap.org/wiki/Tag:amenity%3Dfast_food) tag."
   ]
  },
  {
   "cell_type": "code",
   "execution_count": null,
   "metadata": {
    "slideshow": {
     "slide_type": "-"
    }
   },
   "outputs": [],
   "source": [
    "pois  = ox.features_from_place(query='Praha, CZ', tags={\"amenity\": \"fast_food\"})\n",
    "pois.head()"
   ]
  },
  {
   "cell_type": "markdown",
   "metadata": {
    "slideshow": {
     "slide_type": "subslide"
    }
   },
   "source": [
    "From those, we will filter out `KFC` and `McDonald's` to simplify the analysis."
   ]
  },
  {
   "cell_type": "code",
   "execution_count": null,
   "metadata": {
    "slideshow": {
     "slide_type": "-"
    }
   },
   "outputs": [],
   "source": [
    "brands = [\"KFC\", \"McDonald's\"]"
   ]
  },
  {
   "cell_type": "markdown",
   "metadata": {
    "slideshow": {
     "slide_type": "skip"
    }
   },
   "source": [
    "Cafes"
   ]
  },
  {
   "cell_type": "code",
   "execution_count": null,
   "metadata": {
    "slideshow": {
     "slide_type": "skip"
    }
   },
   "outputs": [],
   "source": [
    "# brands = [\"Starbucks\", \"Costa\"]\n",
    "# pois  = ox.features_from_place(query='Praha, CZ', tags={\"amenity\":\"cafe\"})\n",
    "# pois.head()"
   ]
  },
  {
   "cell_type": "markdown",
   "metadata": {
    "slideshow": {
     "slide_type": "skip"
    }
   },
   "source": [
    "Shops"
   ]
  },
  {
   "cell_type": "code",
   "execution_count": null,
   "metadata": {
    "slideshow": {
     "slide_type": "skip"
    }
   },
   "outputs": [],
   "source": [
    "# brands = [\"Albert\", \"Billa\", \"Lidl\", \"PENNY\", \"Kaufland\", \"Tesco\"]\n",
    "# pois  = ox.features_from_place(query='Praha, CZ', tags={\"shop\":\"supermarket\"})\n",
    "# pois.head()"
   ]
  },
  {
   "cell_type": "code",
   "execution_count": null,
   "metadata": {
    "slideshow": {
     "slide_type": "-"
    }
   },
   "outputs": [],
   "source": [
    "pois = pois.reset_index()[['osmid', 'geometry', 'brand']]\n",
    "pois = pois[pois.brand.isin(brands)]\n",
    "pois.geometry = pois.geometry.apply(lambda geometry: geometry.centroid)\n",
    "pois.set_index('osmid', inplace=True)\n",
    "pois.head()"
   ]
  },
  {
   "cell_type": "code",
   "execution_count": null,
   "metadata": {
    "slideshow": {
     "slide_type": "-"
    }
   },
   "outputs": [],
   "source": [
    "pois.brand.value_counts()"
   ]
  },
  {
   "cell_type": "markdown",
   "metadata": {
    "slideshow": {
     "slide_type": "slide"
    }
   },
   "source": [
    "## Segmenting the area\n",
    "\n",
    "Using `VoronoiRegionalizer` from `srai` library, we can divide the geospatial space into regions using Voronoi diagram.\n",
    "\n",
    "Here we will be using restaurants as seeds to segment the Prague."
   ]
  },
  {
   "cell_type": "code",
   "execution_count": null,
   "metadata": {
    "scrolled": false,
    "slideshow": {
     "slide_type": "-"
    }
   },
   "outputs": [],
   "source": [
    "from srai.regionalizers import VoronoiRegionalizer\n",
    "\n",
    "voronoi_regions = VoronoiRegionalizer(seeds=pois).transform(gdf=prague_area)\n",
    "voronoi_regions.head()"
   ]
  },
  {
   "cell_type": "markdown",
   "metadata": {
    "slideshow": {
     "slide_type": "subslide"
    }
   },
   "source": [
    "Now we can join buildings with population into those generated regions. This way, we can assign the closest restaurant to each building."
   ]
  },
  {
   "cell_type": "code",
   "execution_count": null,
   "metadata": {
    "scrolled": true,
    "slideshow": {
     "slide_type": "-"
    }
   },
   "outputs": [],
   "source": [
    "population_in_regions = voronoi_regions.sjoin(residential_buildings).groupby('region_id')['population'].sum()\n",
    "regions_with_population = voronoi_regions.join(pois[['brand']]).join(population_in_regions).fillna(0)\n",
    "regions_with_population.head()"
   ]
  },
  {
   "cell_type": "markdown",
   "metadata": {
    "slideshow": {
     "slide_type": "subslide"
    }
   },
   "source": [
    "Using simple grouping operation, we can see what is the Prague's market share between those two brands."
   ]
  },
  {
   "cell_type": "code",
   "execution_count": null,
   "metadata": {
    "slideshow": {
     "slide_type": "-"
    }
   },
   "outputs": [],
   "source": [
    "brand_closest_population = regions_with_population.groupby('brand').agg({'population': 'sum', 'geometry': 'count'}).reset_index()\n",
    "brand_closest_population.rename(columns={\"geometry\": \"locations\"}, inplace=True)\n",
    "brand_closest_population['percentage'] = 100 * brand_closest_population['population'] / brand_closest_population['population'].sum()\n",
    "brand_closest_population"
   ]
  },
  {
   "cell_type": "markdown",
   "metadata": {
    "slideshow": {
     "slide_type": "slide"
    }
   },
   "source": [
    "## Map plotting\n",
    "\n",
    "To analyse this market further, we will plot the regions in two distinc gradients based on brand's color."
   ]
  },
  {
   "cell_type": "code",
   "execution_count": null,
   "metadata": {
    "slideshow": {
     "slide_type": "-"
    }
   },
   "outputs": [],
   "source": [
    "brand_color_mapping = { \"KFC\": (\"#fa9ea0\", \"#a3080c\"), \"McDonald's\": (\"#ffeec0\", \"#ffc72c\") }"
   ]
  },
  {
   "cell_type": "code",
   "execution_count": null,
   "metadata": {
    "slideshow": {
     "slide_type": "skip"
    }
   },
   "outputs": [],
   "source": [
    "# brand_color_mapping = {\n",
    "#     \"KFC\": (\"#fa9ea0\", \"#a3080c\"),\n",
    "#     \"McDonald's\": (\"#ffeec0\", \"#ffc72c\"),\n",
    "\n",
    "#     \"Starbucks\": (\"#88ffd6\", \"#00704A\"),\n",
    "#     \"Costa\": (\"#fe638a\", \"#74011e\"),\n",
    "\n",
    "#     \"Albert\": (\"#66c2a5\", \"#1b9e77\"),\n",
    "#     \"Billa\": (\"#fc8d62\", \"#d95f02\"),\n",
    "#     \"Kaufland\": (\"#8da0cb\", \"#7570b3\"),\n",
    "#     \"Lidl\": (\"#e78ac3\", \"#e7298a\"),\n",
    "#     \"PENNY\": (\"#a6d854\", \"#66a61e\"),\n",
    "#     \"Tesco\": (\"#ffd92f\", \"#e6ab02\"),\n",
    "# }"
   ]
  },
  {
   "cell_type": "code",
   "execution_count": null,
   "metadata": {
    "slideshow": {
     "slide_type": "-"
    }
   },
   "outputs": [],
   "source": [
    "from srai.plotting.folium_wrapper import _generate_linear_colormap\n",
    "\n",
    "prague_map = None\n",
    "\n",
    "for brand, colors in brand_color_mapping.items():\n",
    "    regions_subset = regions_with_population[regions_with_population[\"brand\"] == brand]\n",
    "    if not len(regions_subset):\n",
    "        continue\n",
    "    colormap = _generate_linear_colormap(colors, min_value=0, max_value=regions_subset[\"population\"].max())\n",
    "    colormap.caption = brand\n",
    "    prague_map = regions_subset.explore(\n",
    "        m=prague_map, column=\"population\", cmap=colormap,\n",
    "        tiles=\"CartoDB positron\", style_kwds=dict(opacity=0.25, color=colors[1]),\n",
    "    )"
   ]
  },
  {
   "cell_type": "code",
   "execution_count": null,
   "metadata": {
    "slideshow": {
     "slide_type": "-"
    }
   },
   "outputs": [],
   "source": [
    "prague_map = pois.explore(\n",
    "    m=prague_map, marker_kwds=dict(radius=3),\n",
    "    style_kwds=dict(color=\"#444\", opacity=1, fillColor=\"#f2f2f2\", fillOpacity=1)\n",
    ")"
   ]
  },
  {
   "cell_type": "code",
   "execution_count": null,
   "metadata": {
    "scrolled": false,
    "slideshow": {
     "slide_type": "subslide"
    }
   },
   "outputs": [],
   "source": [
    "prague_map"
   ]
  },
  {
   "cell_type": "code",
   "execution_count": null,
   "metadata": {
    "slideshow": {
     "slide_type": "skip"
    }
   },
   "outputs": [],
   "source": []
  }
 ],
 "metadata": {
  "celltoolbar": "Slideshow",
  "kernelspec": {
   "display_name": "Python 3 (ipykernel)",
   "language": "python",
   "name": "python3"
  },
  "language_info": {
   "codemirror_mode": {
    "name": "ipython",
    "version": 3
   },
   "file_extension": ".py",
   "mimetype": "text/x-python",
   "name": "python",
   "nbconvert_exporter": "python",
   "pygments_lexer": "ipython3",
   "version": "3.11.4"
  }
 },
 "nbformat": 4,
 "nbformat_minor": 2
}
