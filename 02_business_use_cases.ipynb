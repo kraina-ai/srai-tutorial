{
 "cells": [
  {
   "cell_type": "code",
   "execution_count": null,
   "metadata": {},
   "outputs": [],
   "source": [
    "from srai.regionalizers import geocode_to_region_gdf\n",
    "\n",
    "prague_area = geocode_to_region_gdf('Praha, CZ')\n",
    "prague_area.explore()"
   ]
  },
  {
   "cell_type": "code",
   "execution_count": null,
   "metadata": {},
   "outputs": [],
   "source": [
    "import osmnx as ox\n",
    "\n",
    "def map_flats(flats_value: str) -> int:\n",
    "    try:\n",
    "        flats = int(flats_value)\n",
    "    except:\n",
    "        flats = 1\n",
    "\n",
    "    return flats\n",
    "\n",
    "residential_buildings = ox.geometries_from_place(query='Praha, CZ', tags={\"building\": \"residential\"})\n",
    "\n",
    "residential_buildings['flats'] = residential_buildings['building:flats'].apply(map_flats)\n",
    "residential_buildings = residential_buildings.reset_index()[['osmid', 'geometry', 'flats']]\n",
    "residential_buildings.geometry = residential_buildings.geometry.apply(lambda geometry: geometry.centroid)\n",
    "\n",
    "residential_buildings"
   ]
  },
  {
   "cell_type": "code",
   "execution_count": null,
   "metadata": {},
   "outputs": [],
   "source": [
    "import geopandas as gpd\n",
    "\n",
    "cadastral_data = gpd.read_file('data/cadastral_data.geojson')\n",
    "cadastral_data.explore(column='population', tiles=\"CartoDB positron\", style_kwds=dict(opacity=0))"
   ]
  },
  {
   "cell_type": "code",
   "execution_count": null,
   "metadata": {},
   "outputs": [],
   "source": [
    "from tqdm import tqdm\n",
    "\n",
    "# bsu - basic settlement unit\n",
    "for bsu in tqdm(cadastral_data.to_dict(orient='records')):\n",
    "    matching_buildings = residential_buildings[residential_buildings.intersects(bsu['geometry'])]\n",
    "    total_flats = matching_buildings['flats'].sum()\n",
    "    for building_index, building_row in matching_buildings.iterrows():\n",
    "        residential_buildings.loc[building_index, 'population'] = bsu['population'] * (building_row['flats'] / total_flats)\n",
    "        \n",
    "residential_buildings.plot('population')"
   ]
  },
  {
   "cell_type": "code",
   "execution_count": null,
   "metadata": {},
   "outputs": [],
   "source": [
    "fast_foods  = ox.geometries_from_place(query='Praha, CZ', tags={\"amenity\": \"fast_food\"})\n",
    "fast_foods = fast_foods.reset_index()[['osmid', 'geometry', 'brand']]\n",
    "fast_foods = fast_foods[fast_foods.brand.isin(['KFC', \"McDonald's\"])]\n",
    "fast_foods.geometry = fast_foods.geometry.apply(lambda geometry: geometry.centroid)\n",
    "fast_foods.set_index('osmid', inplace=True)\n",
    "fast_foods"
   ]
  },
  {
   "cell_type": "code",
   "execution_count": null,
   "metadata": {},
   "outputs": [],
   "source": [
    "fast_foods.brand.value_counts()"
   ]
  },
  {
   "cell_type": "code",
   "execution_count": null,
   "metadata": {},
   "outputs": [],
   "source": [
    "from srai.regionalizers import VoronoiRegionalizer\n",
    "\n",
    "voronoi_regions = VoronoiRegionalizer(seeds=fast_foods).transform(gdf=prague_area)\n",
    "voronoi_regions"
   ]
  },
  {
   "cell_type": "code",
   "execution_count": null,
   "metadata": {},
   "outputs": [],
   "source": [
    "population_in_regions = voronoi_regions.sjoin(residential_buildings).groupby('region_id')['population'].sum()\n",
    "population_in_regions"
   ]
  },
  {
   "cell_type": "code",
   "execution_count": null,
   "metadata": {},
   "outputs": [],
   "source": [
    "regions_with_population = voronoi_regions.join(fast_foods[['brand']]).join(population_in_regions)\n",
    "regions_with_population"
   ]
  },
  {
   "cell_type": "code",
   "execution_count": null,
   "metadata": {},
   "outputs": [],
   "source": [
    "brand_closest_population = voronoi_regions.groupby('brand').agg({'population': 'sum'}).reset_index()\n",
    "brand_closest_population['percentage'] = 100 * brand_closest_population['population'] / brand_closest_population['population'].sum()\n",
    "brand_closest_population"
   ]
  },
  {
   "cell_type": "code",
   "execution_count": null,
   "metadata": {},
   "outputs": [],
   "source": [
    "from srai.plotting.folium_wrapper import _generate_linear_colormap\n",
    "\n",
    "brand_color_mapping = {\"KFC\": (\"#fa9ea0\", \"#a3080c\"), \"McDonald's\": (\"#ffeec0\", \"#ffc72c\")}\n",
    "\n",
    "m = None\n",
    "\n",
    "for brand, colors in brand_color_mapping.items():\n",
    "    regions_subset = voronoi_regions[voronoi_regions[\"brand\"] == brand]\n",
    "    m = regions_subset.explore(\n",
    "        m=m,\n",
    "        column=\"population\",\n",
    "        cmap=_generate_linear_colormap(\n",
    "            colors,\n",
    "            min_value=0,\n",
    "            max_value=regions_subset[\"population\"].max(),\n",
    "        ),\n",
    "        tiles=\"CartoDB positron\",\n",
    "        style_kwds=dict(opacity=0.25, color=colors[1]),\n",
    "    )\n",
    "\n",
    "fast_foods.explore(\n",
    "    m=m,\n",
    "    style_kwds=dict(color=\"#444\", opacity=1, fillColor=\"#f2f2f2\", fillOpacity=1),\n",
    "    marker_kwds=dict(radius=3),\n",
    ")"
   ]
  }
 ],
 "metadata": {
  "kernelspec": {
   "display_name": ".venv",
   "language": "python",
   "name": "python3"
  },
  "language_info": {
   "codemirror_mode": {
    "name": "ipython",
    "version": 3
   },
   "file_extension": ".py",
   "mimetype": "text/x-python",
   "name": "python",
   "nbconvert_exporter": "python",
   "pygments_lexer": "ipython3",
   "version": "3.11.2"
  },
  "orig_nbformat": 4
 },
 "nbformat": 4,
 "nbformat_minor": 2
}
