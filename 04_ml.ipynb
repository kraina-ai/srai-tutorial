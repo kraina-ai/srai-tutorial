{
 "cells": [
  {
   "cell_type": "markdown",
   "metadata": {},
   "source": [
    "# Transfer learning with bicycle rental stations\n",
    "\n",
    "In this part we will see:\n",
    "* How to use a pre-trained hex2vec model with srai\n",
    "* How to train classification model based on srai embeddings\n",
    "* How to use srai to gather training data"
   ]
  },
  {
   "cell_type": "code",
   "execution_count": null,
   "metadata": {},
   "outputs": [],
   "source": [
    "# srai components used in this lesson\n",
    "from srai.loaders import OSMOnlineLoader, OSMPbfLoader\n",
    "from srai.regionalizers import geocode_to_region_gdf\n",
    "from srai.joiners import IntersectionJoiner\n",
    "from srai.embedders import Hex2VecEmbedder\n",
    "from srai.regionalizers import H3Regionalizer\n",
    "\n",
    "# classification model using scikit-learn\n",
    "from sklearn.model_selection import train_test_split\n",
    "from sklearn.svm import SVC\n",
    "from sklearn.metrics import classification_report\n",
    "\n",
    "from utils import CB_SAFE_PALLETE\n",
    "import pandas as pd"
   ]
  },
  {
   "cell_type": "markdown",
   "metadata": {},
   "source": [
    "### Experiment description"
   ]
  },
  {
   "cell_type": "code",
   "execution_count": 40,
   "metadata": {},
   "outputs": [],
   "source": [
    "SOURCE_CITY = \"Wrocław, Poland\"\n",
    "TARGET_CITY = \"Basel, Switzerland\"\n",
    "H3_RESOLUTION = 10\n",
    "\n",
    "bike_stations_osm_tag = {\"amenity\": \"bicycle_rental\"}"
   ]
  },
  {
   "cell_type": "code",
   "execution_count": 38,
   "metadata": {},
   "outputs": [],
   "source": [
    "source_area = geocode_to_region_gdf(SOURCE_CITY)\n",
    "target_area = geocode_to_region_gdf(TARGET_CITY)"
   ]
  },
  {
   "cell_type": "markdown",
   "metadata": {},
   "source": [
    "### Downloading bike rental stations"
   ]
  },
  {
   "cell_type": "code",
   "execution_count": 39,
   "metadata": {},
   "outputs": [
    {
     "name": "stderr",
     "output_type": "stream",
     "text": [
      "Downloading amenity: bicycle_rental: 100%|██████████| 1/1 [00:00<00:00,  3.99it/s]\n"
     ]
    },
    {
     "data": {
      "text/html": [
       "<div style=\"width:100%;\"><div style=\"position:relative;width:100%;height:0;padding-bottom:60%;\"><span style=\"color:#565656\">Make this Notebook Trusted to load map: File -> Trust Notebook</span><iframe srcdoc=\"&lt;!DOCTYPE html&gt;\n",
       "&lt;html&gt;\n",
       "&lt;head&gt;\n",
       "    \n",
       "    &lt;meta http-equiv=&quot;content-type&quot; content=&quot;text/html; charset=UTF-8&quot; /&gt;\n",
       "    \n",
       "        &lt;script&gt;\n",
       "            L_NO_TOUCH = false;\n",
       "            L_DISABLE_3D = false;\n",
       "        &lt;/script&gt;\n",
       "    \n",
       "    &lt;style&gt;html, body {width: 100%;height: 100%;margin: 0;padding: 0;}&lt;/style&gt;\n",
       "    &lt;style&gt;#map {position:absolute;top:0;bottom:0;right:0;left:0;}&lt;/style&gt;\n",
       "    &lt;script src=&quot;https://cdn.jsdelivr.net/npm/leaflet@1.9.3/dist/leaflet.js&quot;&gt;&lt;/script&gt;\n",
       "    &lt;script src=&quot;https://code.jquery.com/jquery-1.12.4.min.js&quot;&gt;&lt;/script&gt;\n",
       "    &lt;script src=&quot;https://cdn.jsdelivr.net/npm/bootstrap@5.2.2/dist/js/bootstrap.bundle.min.js&quot;&gt;&lt;/script&gt;\n",
       "    &lt;script src=&quot;https://cdnjs.cloudflare.com/ajax/libs/Leaflet.awesome-markers/2.0.2/leaflet.awesome-markers.js&quot;&gt;&lt;/script&gt;\n",
       "    &lt;link rel=&quot;stylesheet&quot; href=&quot;https://cdn.jsdelivr.net/npm/leaflet@1.9.3/dist/leaflet.css&quot;/&gt;\n",
       "    &lt;link rel=&quot;stylesheet&quot; href=&quot;https://cdn.jsdelivr.net/npm/bootstrap@5.2.2/dist/css/bootstrap.min.css&quot;/&gt;\n",
       "    &lt;link rel=&quot;stylesheet&quot; href=&quot;https://netdna.bootstrapcdn.com/bootstrap/3.0.0/css/bootstrap.min.css&quot;/&gt;\n",
       "    &lt;link rel=&quot;stylesheet&quot; href=&quot;https://cdn.jsdelivr.net/npm/@fortawesome/fontawesome-free@6.2.0/css/all.min.css&quot;/&gt;\n",
       "    &lt;link rel=&quot;stylesheet&quot; href=&quot;https://cdnjs.cloudflare.com/ajax/libs/Leaflet.awesome-markers/2.0.2/leaflet.awesome-markers.css&quot;/&gt;\n",
       "    &lt;link rel=&quot;stylesheet&quot; href=&quot;https://cdn.jsdelivr.net/gh/python-visualization/folium/folium/templates/leaflet.awesome.rotate.min.css&quot;/&gt;\n",
       "    \n",
       "            &lt;meta name=&quot;viewport&quot; content=&quot;width=device-width,\n",
       "                initial-scale=1.0, maximum-scale=1.0, user-scalable=no&quot; /&gt;\n",
       "            &lt;style&gt;\n",
       "                #map_23309e5442c0a132e153f45506398e99 {\n",
       "                    position: relative;\n",
       "                    width: 100.0%;\n",
       "                    height: 100.0%;\n",
       "                    left: 0.0%;\n",
       "                    top: 0.0%;\n",
       "                }\n",
       "                .leaflet-container { font-size: 1rem; }\n",
       "            &lt;/style&gt;\n",
       "        \n",
       "    \n",
       "                    &lt;style&gt;\n",
       "                        .foliumtooltip {\n",
       "                            \n",
       "                        }\n",
       "                       .foliumtooltip table{\n",
       "                            margin: auto;\n",
       "                        }\n",
       "                        .foliumtooltip tr{\n",
       "                            text-align: left;\n",
       "                        }\n",
       "                        .foliumtooltip th{\n",
       "                            padding: 2px; padding-right: 8px;\n",
       "                        }\n",
       "                    &lt;/style&gt;\n",
       "            \n",
       "&lt;/head&gt;\n",
       "&lt;body&gt;\n",
       "    \n",
       "    \n",
       "            &lt;div class=&quot;folium-map&quot; id=&quot;map_23309e5442c0a132e153f45506398e99&quot; &gt;&lt;/div&gt;\n",
       "        \n",
       "&lt;/body&gt;\n",
       "&lt;script&gt;\n",
       "    \n",
       "    \n",
       "            var map_23309e5442c0a132e153f45506398e99 = L.map(\n",
       "                &quot;map_23309e5442c0a132e153f45506398e99&quot;,\n",
       "                {\n",
       "                    center: [51.114170349999995, 17.004278550000002],\n",
       "                    crs: L.CRS.EPSG3857,\n",
       "                    zoom: 10,\n",
       "                    zoomControl: true,\n",
       "                    preferCanvas: false,\n",
       "                }\n",
       "            );\n",
       "            L.control.scale().addTo(map_23309e5442c0a132e153f45506398e99);\n",
       "\n",
       "            \n",
       "\n",
       "        \n",
       "    \n",
       "            var tile_layer_57c9e634d8c749389ed54e6fa62fa49a = L.tileLayer(\n",
       "                &quot;https://{s}.tile.openstreetmap.org/{z}/{x}/{y}.png&quot;,\n",
       "                {&quot;attribution&quot;: &quot;Data by \\u0026copy; \\u003ca target=\\&quot;_blank\\&quot; href=\\&quot;http://openstreetmap.org\\&quot;\\u003eOpenStreetMap\\u003c/a\\u003e, under \\u003ca target=\\&quot;_blank\\&quot; href=\\&quot;http://www.openstreetmap.org/copyright\\&quot;\\u003eODbL\\u003c/a\\u003e.&quot;, &quot;detectRetina&quot;: false, &quot;maxNativeZoom&quot;: 18, &quot;maxZoom&quot;: 18, &quot;minZoom&quot;: 0, &quot;noWrap&quot;: false, &quot;opacity&quot;: 1, &quot;subdomains&quot;: &quot;abc&quot;, &quot;tms&quot;: false}\n",
       "            ).addTo(map_23309e5442c0a132e153f45506398e99);\n",
       "        \n",
       "    \n",
       "            map_23309e5442c0a132e153f45506398e99.fitBounds(\n",
       "                [[51.0475645, 16.8656009], [51.1807762, 17.1429562]],\n",
       "                {}\n",
       "            );\n",
       "        \n",
       "    \n",
       "        function geo_json_9d69cd4ecac98b767ecb537563573796_styler(feature) {\n",
       "            switch(feature.id) {\n",
       "                default:\n",
       "                    return {&quot;fillOpacity&quot;: 0.5, &quot;weight&quot;: 2};\n",
       "            }\n",
       "        }\n",
       "        function geo_json_9d69cd4ecac98b767ecb537563573796_highlighter(feature) {\n",
       "            switch(feature.id) {\n",
       "                default:\n",
       "                    return {&quot;fillOpacity&quot;: 0.75};\n",
       "            }\n",
       "        }\n",
       "        function geo_json_9d69cd4ecac98b767ecb537563573796_pointToLayer(feature, latlng) {\n",
       "            var opts = {&quot;bubblingMouseEvents&quot;: true, &quot;color&quot;: &quot;#3388ff&quot;, &quot;dashArray&quot;: null, &quot;dashOffset&quot;: null, &quot;fill&quot;: true, &quot;fillColor&quot;: &quot;#3388ff&quot;, &quot;fillOpacity&quot;: 0.2, &quot;fillRule&quot;: &quot;evenodd&quot;, &quot;lineCap&quot;: &quot;round&quot;, &quot;lineJoin&quot;: &quot;round&quot;, &quot;opacity&quot;: 1.0, &quot;radius&quot;: 2, &quot;stroke&quot;: true, &quot;weight&quot;: 3};\n",
       "            \n",
       "            let style = geo_json_9d69cd4ecac98b767ecb537563573796_styler(feature)\n",
       "            Object.assign(opts, style)\n",
       "            \n",
       "            return new L.CircleMarker(latlng, opts)\n",
       "        }\n",
       "\n",
       "        function geo_json_9d69cd4ecac98b767ecb537563573796_onEachFeature(feature, layer) {\n",
       "            layer.on({\n",
       "                mouseout: function(e) {\n",
       "                    if(typeof e.target.setStyle === &quot;function&quot;){\n",
       "                        geo_json_9d69cd4ecac98b767ecb537563573796.resetStyle(e.target);\n",
       "                    }\n",
       "                },\n",
       "                mouseover: function(e) {\n",
       "                    if(typeof e.target.setStyle === &quot;function&quot;){\n",
       "                        const highlightStyle = geo_json_9d69cd4ecac98b767ecb537563573796_highlighter(e.target.feature)\n",
       "                        e.target.setStyle(highlightStyle);\n",
       "                    }\n",
       "                },\n",
       "            });\n",
       "        };\n",
       "        var geo_json_9d69cd4ecac98b767ecb537563573796 = L.geoJson(null, {\n",
       "                onEachFeature: geo_json_9d69cd4ecac98b767ecb537563573796_onEachFeature,\n",
       "            \n",
       "                style: geo_json_9d69cd4ecac98b767ecb537563573796_styler,\n",
       "                pointToLayer: geo_json_9d69cd4ecac98b767ecb537563573796_pointToLayer\n",
       "        });\n",
       "\n",
       "        function geo_json_9d69cd4ecac98b767ecb537563573796_add (data) {\n",
       "            geo_json_9d69cd4ecac98b767ecb537563573796\n",
       "                .addData(data)\n",
       "                .addTo(map_23309e5442c0a132e153f45506398e99);\n",
       "        }\n",
       "            geo_json_9d69cd4ecac98b767ecb537563573796_add({&quot;bbox&quot;: [16.8656009, 51.0475645, 17.1429562, 51.1807762], &quot;features&quot;: [{&quot;bbox&quot;: [17.0345308, 51.1138313, 17.0345308, 51.1138313], &quot;geometry&quot;: {&quot;coordinates&quot;: [17.0345308, 51.1138313], &quot;type&quot;: &quot;Point&quot;}, &quot;id&quot;: &quot;0&quot;, &quot;properties&quot;: {&quot;amenity&quot;: &quot;bicycle_rental&quot;, &quot;feature_id&quot;: &quot;node/1334739700&quot;}, &quot;type&quot;: &quot;Feature&quot;}, {&quot;bbox&quot;: [17.0608192, 51.1072437, 17.0608192, 51.1072437], &quot;geometry&quot;: {&quot;coordinates&quot;: [17.0608192, 51.1072437], &quot;type&quot;: &quot;Point&quot;}, &quot;id&quot;: &quot;1&quot;, &quot;properties&quot;: {&quot;amenity&quot;: &quot;bicycle_rental&quot;, &quot;feature_id&quot;: &quot;node/1341220484&quot;}, &quot;type&quot;: &quot;Feature&quot;}, {&quot;bbox&quot;: [17.0847903, 51.1040636, 17.0847903, 51.1040636], &quot;geometry&quot;: {&quot;coordinates&quot;: [17.0847903, 51.1040636], &quot;type&quot;: &quot;Point&quot;}, &quot;id&quot;: &quot;2&quot;, &quot;properties&quot;: {&quot;amenity&quot;: &quot;bicycle_rental&quot;, &quot;feature_id&quot;: &quot;node/1341220491&quot;}, &quot;type&quot;: &quot;Feature&quot;}, {&quot;bbox&quot;: [17.0366512, 51.120534, 17.0366512, 51.120534], &quot;geometry&quot;: {&quot;coordinates&quot;: [17.0366512, 51.120534], &quot;type&quot;: &quot;Point&quot;}, &quot;id&quot;: &quot;3&quot;, &quot;properties&quot;: {&quot;amenity&quot;: &quot;bicycle_rental&quot;, &quot;feature_id&quot;: &quot;node/1341220498&quot;}, &quot;type&quot;: &quot;Feature&quot;}, {&quot;bbox&quot;: [17.0285099, 51.1013095, 17.0285099, 51.1013095], &quot;geometry&quot;: {&quot;coordinates&quot;: [17.0285099, 51.1013095], &quot;type&quot;: &quot;Point&quot;}, &quot;id&quot;: &quot;4&quot;, &quot;properties&quot;: {&quot;amenity&quot;: &quot;bicycle_rental&quot;, &quot;feature_id&quot;: &quot;node/1341220502&quot;}, &quot;type&quot;: &quot;Feature&quot;}, {&quot;bbox&quot;: [17.0362584, 51.0997411, 17.0362584, 51.0997411], &quot;geometry&quot;: {&quot;coordinates&quot;: [17.0362584, 51.0997411], &quot;type&quot;: &quot;Point&quot;}, &quot;id&quot;: &quot;5&quot;, &quot;properties&quot;: {&quot;amenity&quot;: &quot;bicycle_rental&quot;, &quot;feature_id&quot;: &quot;node/1341220506&quot;}, &quot;type&quot;: &quot;Feature&quot;}, {&quot;bbox&quot;: [17.0555748, 51.1103925, 17.0555748, 51.1103925], &quot;geometry&quot;: {&quot;coordinates&quot;: [17.0555748, 51.1103925], &quot;type&quot;: &quot;Point&quot;}, &quot;id&quot;: &quot;6&quot;, &quot;properties&quot;: {&quot;amenity&quot;: &quot;bicycle_rental&quot;, &quot;feature_id&quot;: &quot;node/1341220514&quot;}, &quot;type&quot;: &quot;Feature&quot;}, {&quot;bbox&quot;: [17.020982, 51.1115329, 17.020982, 51.1115329], &quot;geometry&quot;: {&quot;coordinates&quot;: [17.020982, 51.1115329], &quot;type&quot;: &quot;Point&quot;}, &quot;id&quot;: &quot;7&quot;, &quot;properties&quot;: {&quot;amenity&quot;: &quot;bicycle_rental&quot;, &quot;feature_id&quot;: &quot;node/1341220524&quot;}, &quot;type&quot;: &quot;Feature&quot;}, {&quot;bbox&quot;: [17.0647836, 51.1081442, 17.0647836, 51.1081442], &quot;geometry&quot;: {&quot;coordinates&quot;: [17.0647836, 51.1081442], &quot;type&quot;: &quot;Point&quot;}, &quot;id&quot;: &quot;8&quot;, &quot;properties&quot;: {&quot;amenity&quot;: &quot;bicycle_rental&quot;, &quot;feature_id&quot;: &quot;node/1341220547&quot;}, &quot;type&quot;: &quot;Feature&quot;}, {&quot;bbox&quot;: [17.0301895, 51.1097672, 17.0301895, 51.1097672], &quot;geometry&quot;: {&quot;coordinates&quot;: [17.0301895, 51.1097672], &quot;type&quot;: &quot;Point&quot;}, &quot;id&quot;: &quot;9&quot;, &quot;properties&quot;: {&quot;amenity&quot;: &quot;bicycle_rental&quot;, &quot;feature_id&quot;: &quot;node/1341220549&quot;}, &quot;type&quot;: &quot;Feature&quot;}, {&quot;bbox&quot;: [17.0349239, 51.1102777, 17.0349239, 51.1102777], &quot;geometry&quot;: {&quot;coordinates&quot;: [17.0349239, 51.1102777], &quot;type&quot;: &quot;Point&quot;}, &quot;id&quot;: &quot;10&quot;, &quot;properties&quot;: {&quot;amenity&quot;: &quot;bicycle_rental&quot;, &quot;feature_id&quot;: &quot;node/1341220562&quot;}, &quot;type&quot;: &quot;Feature&quot;}, {&quot;bbox&quot;: [17.0212283, 51.1052202, 17.0212283, 51.1052202], &quot;geometry&quot;: {&quot;coordinates&quot;: [17.0212283, 51.1052202], &quot;type&quot;: &quot;Point&quot;}, &quot;id&quot;: &quot;11&quot;, &quot;properties&quot;: {&quot;amenity&quot;: &quot;bicycle_rental&quot;, &quot;feature_id&quot;: &quot;node/2892134701&quot;}, &quot;type&quot;: &quot;Feature&quot;}, {&quot;bbox&quot;: [17.0014844, 51.0893218, 17.0014844, 51.0893218], &quot;geometry&quot;: {&quot;coordinates&quot;: [17.0014844, 51.0893218], &quot;type&quot;: &quot;Point&quot;}, &quot;id&quot;: &quot;12&quot;, &quot;properties&quot;: {&quot;amenity&quot;: &quot;bicycle_rental&quot;, &quot;feature_id&quot;: &quot;node/3133731887&quot;}, &quot;type&quot;: &quot;Feature&quot;}, {&quot;bbox&quot;: [17.0606915, 51.1154752, 17.0606915, 51.1154752], &quot;geometry&quot;: {&quot;coordinates&quot;: [17.0606915, 51.1154752], &quot;type&quot;: &quot;Point&quot;}, &quot;id&quot;: &quot;13&quot;, &quot;properties&quot;: {&quot;amenity&quot;: &quot;bicycle_rental&quot;, &quot;feature_id&quot;: &quot;node/3438342170&quot;}, &quot;type&quot;: &quot;Feature&quot;}, {&quot;bbox&quot;: [17.0029522, 51.0934349, 17.0029522, 51.0934349], &quot;geometry&quot;: {&quot;coordinates&quot;: [17.0029522, 51.0934349], &quot;type&quot;: &quot;Point&quot;}, &quot;id&quot;: &quot;14&quot;, &quot;properties&quot;: {&quot;amenity&quot;: &quot;bicycle_rental&quot;, &quot;feature_id&quot;: &quot;node/3447505914&quot;}, &quot;type&quot;: &quot;Feature&quot;}, {&quot;bbox&quot;: [16.9930811, 51.1210754, 16.9930811, 51.1210754], &quot;geometry&quot;: {&quot;coordinates&quot;: [16.9930811, 51.1210754], &quot;type&quot;: &quot;Point&quot;}, &quot;id&quot;: &quot;15&quot;, &quot;properties&quot;: {&quot;amenity&quot;: &quot;bicycle_rental&quot;, &quot;feature_id&quot;: &quot;node/3451665998&quot;}, &quot;type&quot;: &quot;Feature&quot;}, {&quot;bbox&quot;: [17.0062866, 51.1137225, 17.0062866, 51.1137225], &quot;geometry&quot;: {&quot;coordinates&quot;: [17.0062866, 51.1137225], &quot;type&quot;: &quot;Point&quot;}, &quot;id&quot;: &quot;16&quot;, &quot;properties&quot;: {&quot;amenity&quot;: &quot;bicycle_rental&quot;, &quot;feature_id&quot;: &quot;node/3451665999&quot;}, &quot;type&quot;: &quot;Feature&quot;}, {&quot;bbox&quot;: [17.0125593, 51.0867254, 17.0125593, 51.0867254], &quot;geometry&quot;: {&quot;coordinates&quot;: [17.0125593, 51.0867254], &quot;type&quot;: &quot;Point&quot;}, &quot;id&quot;: &quot;17&quot;, &quot;properties&quot;: {&quot;amenity&quot;: &quot;bicycle_rental&quot;, &quot;feature_id&quot;: &quot;node/3451867785&quot;}, &quot;type&quot;: &quot;Feature&quot;}, {&quot;bbox&quot;: [17.0282379, 51.0898273, 17.0282379, 51.0898273], &quot;geometry&quot;: {&quot;coordinates&quot;: [17.0282379, 51.0898273], &quot;type&quot;: &quot;Point&quot;}, &quot;id&quot;: &quot;18&quot;, &quot;properties&quot;: {&quot;amenity&quot;: &quot;bicycle_rental&quot;, &quot;feature_id&quot;: &quot;node/3451867786&quot;}, &quot;type&quot;: &quot;Feature&quot;}, {&quot;bbox&quot;: [17.0267983, 51.0946821, 17.0267983, 51.0946821], &quot;geometry&quot;: {&quot;coordinates&quot;: [17.0267983, 51.0946821], &quot;type&quot;: &quot;Point&quot;}, &quot;id&quot;: &quot;19&quot;, &quot;properties&quot;: {&quot;amenity&quot;: &quot;bicycle_rental&quot;, &quot;feature_id&quot;: &quot;node/3451885082&quot;}, &quot;type&quot;: &quot;Feature&quot;}, {&quot;bbox&quot;: [17.0360183, 51.0971261, 17.0360183, 51.0971261], &quot;geometry&quot;: {&quot;coordinates&quot;: [17.0360183, 51.0971261], &quot;type&quot;: &quot;Point&quot;}, &quot;id&quot;: &quot;20&quot;, &quot;properties&quot;: {&quot;amenity&quot;: &quot;bicycle_rental&quot;, &quot;feature_id&quot;: &quot;node/3451890205&quot;}, &quot;type&quot;: &quot;Feature&quot;}, {&quot;bbox&quot;: [16.9809335, 51.0943174, 16.9809335, 51.0943174], &quot;geometry&quot;: {&quot;coordinates&quot;: [16.9809335, 51.0943174], &quot;type&quot;: &quot;Point&quot;}, &quot;id&quot;: &quot;21&quot;, &quot;properties&quot;: {&quot;amenity&quot;: &quot;bicycle_rental&quot;, &quot;feature_id&quot;: &quot;node/3451908043&quot;}, &quot;type&quot;: &quot;Feature&quot;}, {&quot;bbox&quot;: [17.0080294, 51.0955716, 17.0080294, 51.0955716], &quot;geometry&quot;: {&quot;coordinates&quot;: [17.0080294, 51.0955716], &quot;type&quot;: &quot;Point&quot;}, &quot;id&quot;: &quot;22&quot;, &quot;properties&quot;: {&quot;amenity&quot;: &quot;bicycle_rental&quot;, &quot;feature_id&quot;: &quot;node/3451908044&quot;}, &quot;type&quot;: &quot;Feature&quot;}, {&quot;bbox&quot;: [17.0006781, 51.0993447, 17.0006781, 51.0993447], &quot;geometry&quot;: {&quot;coordinates&quot;: [17.0006781, 51.0993447], &quot;type&quot;: &quot;Point&quot;}, &quot;id&quot;: &quot;23&quot;, &quot;properties&quot;: {&quot;amenity&quot;: &quot;bicycle_rental&quot;, &quot;feature_id&quot;: &quot;node/3451908045&quot;}, &quot;type&quot;: &quot;Feature&quot;}, {&quot;bbox&quot;: [17.008236, 51.1008556, 17.008236, 51.1008556], &quot;geometry&quot;: {&quot;coordinates&quot;: [17.008236, 51.1008556], &quot;type&quot;: &quot;Point&quot;}, &quot;id&quot;: &quot;24&quot;, &quot;properties&quot;: {&quot;amenity&quot;: &quot;bicycle_rental&quot;, &quot;feature_id&quot;: &quot;node/3451915066&quot;}, &quot;type&quot;: &quot;Feature&quot;}, {&quot;bbox&quot;: [17.013934, 51.0971626, 17.013934, 51.0971626], &quot;geometry&quot;: {&quot;coordinates&quot;: [17.013934, 51.0971626], &quot;type&quot;: &quot;Point&quot;}, &quot;id&quot;: &quot;25&quot;, &quot;properties&quot;: {&quot;amenity&quot;: &quot;bicycle_rental&quot;, &quot;feature_id&quot;: &quot;node/3451919337&quot;}, &quot;type&quot;: &quot;Feature&quot;}, {&quot;bbox&quot;: [17.0136495, 51.1020931, 17.0136495, 51.1020931], &quot;geometry&quot;: {&quot;coordinates&quot;: [17.0136495, 51.1020931], &quot;type&quot;: &quot;Point&quot;}, &quot;id&quot;: &quot;26&quot;, &quot;properties&quot;: {&quot;amenity&quot;: &quot;bicycle_rental&quot;, &quot;feature_id&quot;: &quot;node/3451922049&quot;}, &quot;type&quot;: &quot;Feature&quot;}, {&quot;bbox&quot;: [17.006937, 51.0980377, 17.006937, 51.0980377], &quot;geometry&quot;: {&quot;coordinates&quot;: [17.006937, 51.0980377], &quot;type&quot;: &quot;Point&quot;}, &quot;id&quot;: &quot;27&quot;, &quot;properties&quot;: {&quot;amenity&quot;: &quot;bicycle_rental&quot;, &quot;feature_id&quot;: &quot;node/3451933219&quot;}, &quot;type&quot;: &quot;Feature&quot;}, {&quot;bbox&quot;: [17.0604505, 51.112194, 17.0604505, 51.112194], &quot;geometry&quot;: {&quot;coordinates&quot;: [17.0604505, 51.112194], &quot;type&quot;: &quot;Point&quot;}, &quot;id&quot;: &quot;28&quot;, &quot;properties&quot;: {&quot;amenity&quot;: &quot;bicycle_rental&quot;, &quot;feature_id&quot;: &quot;node/3456267520&quot;}, &quot;type&quot;: &quot;Feature&quot;}, {&quot;bbox&quot;: [17.0568646, 51.1194047, 17.0568646, 51.1194047], &quot;geometry&quot;: {&quot;coordinates&quot;: [17.0568646, 51.1194047], &quot;type&quot;: &quot;Point&quot;}, &quot;id&quot;: &quot;29&quot;, &quot;properties&quot;: {&quot;amenity&quot;: &quot;bicycle_rental&quot;, &quot;feature_id&quot;: &quot;node/3459061535&quot;}, &quot;type&quot;: &quot;Feature&quot;}, {&quot;bbox&quot;: [17.0004455, 51.117124, 17.0004455, 51.117124], &quot;geometry&quot;: {&quot;coordinates&quot;: [17.0004455, 51.117124], &quot;type&quot;: &quot;Point&quot;}, &quot;id&quot;: &quot;30&quot;, &quot;properties&quot;: {&quot;amenity&quot;: &quot;bicycle_rental&quot;, &quot;feature_id&quot;: &quot;node/3461605697&quot;}, &quot;type&quot;: &quot;Feature&quot;}, {&quot;bbox&quot;: [17.0654794, 51.1322426, 17.0654794, 51.1322426], &quot;geometry&quot;: {&quot;coordinates&quot;: [17.0654794, 51.1322426], &quot;type&quot;: &quot;Point&quot;}, &quot;id&quot;: &quot;31&quot;, &quot;properties&quot;: {&quot;amenity&quot;: &quot;bicycle_rental&quot;, &quot;feature_id&quot;: &quot;node/3461605698&quot;}, &quot;type&quot;: &quot;Feature&quot;}, {&quot;bbox&quot;: [17.0605422, 51.1093136, 17.0605422, 51.1093136], &quot;geometry&quot;: {&quot;coordinates&quot;: [17.0605422, 51.1093136], &quot;type&quot;: &quot;Point&quot;}, &quot;id&quot;: &quot;32&quot;, &quot;properties&quot;: {&quot;amenity&quot;: &quot;bicycle_rental&quot;, &quot;feature_id&quot;: &quot;node/3462252858&quot;}, &quot;type&quot;: &quot;Feature&quot;}, {&quot;bbox&quot;: [17.0672149, 51.1138223, 17.0672149, 51.1138223], &quot;geometry&quot;: {&quot;coordinates&quot;: [17.0672149, 51.1138223], &quot;type&quot;: &quot;Point&quot;}, &quot;id&quot;: &quot;33&quot;, &quot;properties&quot;: {&quot;amenity&quot;: &quot;bicycle_rental&quot;, &quot;feature_id&quot;: &quot;node/3462340019&quot;}, &quot;type&quot;: &quot;Feature&quot;}, {&quot;bbox&quot;: [17.0335338, 51.1170218, 17.0335338, 51.1170218], &quot;geometry&quot;: {&quot;coordinates&quot;: [17.0335338, 51.1170218], &quot;type&quot;: &quot;Point&quot;}, &quot;id&quot;: &quot;34&quot;, &quot;properties&quot;: {&quot;amenity&quot;: &quot;bicycle_rental&quot;, &quot;feature_id&quot;: &quot;node/3464265857&quot;}, &quot;type&quot;: &quot;Feature&quot;}, {&quot;bbox&quot;: [17.0430695, 51.1213011, 17.0430695, 51.1213011], &quot;geometry&quot;: {&quot;coordinates&quot;: [17.0430695, 51.1213011], &quot;type&quot;: &quot;Point&quot;}, &quot;id&quot;: &quot;35&quot;, &quot;properties&quot;: {&quot;amenity&quot;: &quot;bicycle_rental&quot;, &quot;feature_id&quot;: &quot;node/3464265859&quot;}, &quot;type&quot;: &quot;Feature&quot;}, {&quot;bbox&quot;: [17.0527207, 51.1106665, 17.0527207, 51.1106665], &quot;geometry&quot;: {&quot;coordinates&quot;: [17.0527207, 51.1106665], &quot;type&quot;: &quot;Point&quot;}, &quot;id&quot;: &quot;36&quot;, &quot;properties&quot;: {&quot;amenity&quot;: &quot;bicycle_rental&quot;, &quot;feature_id&quot;: &quot;node/3464265860&quot;}, &quot;type&quot;: &quot;Feature&quot;}, {&quot;bbox&quot;: [17.0520187, 51.1224275, 17.0520187, 51.1224275], &quot;geometry&quot;: {&quot;coordinates&quot;: [17.0520187, 51.1224275], &quot;type&quot;: &quot;Point&quot;}, &quot;id&quot;: &quot;37&quot;, &quot;properties&quot;: {&quot;amenity&quot;: &quot;bicycle_rental&quot;, &quot;feature_id&quot;: &quot;node/3464265861&quot;}, &quot;type&quot;: &quot;Feature&quot;}, {&quot;bbox&quot;: [17.0458535, 51.1248767, 17.0458535, 51.1248767], &quot;geometry&quot;: {&quot;coordinates&quot;: [17.0458535, 51.1248767], &quot;type&quot;: &quot;Point&quot;}, &quot;id&quot;: &quot;38&quot;, &quot;properties&quot;: {&quot;amenity&quot;: &quot;bicycle_rental&quot;, &quot;feature_id&quot;: &quot;node/3464265862&quot;}, &quot;type&quot;: &quot;Feature&quot;}, {&quot;bbox&quot;: [17.0409932, 51.1176145, 17.0409932, 51.1176145], &quot;geometry&quot;: {&quot;coordinates&quot;: [17.0409932, 51.1176145], &quot;type&quot;: &quot;Point&quot;}, &quot;id&quot;: &quot;39&quot;, &quot;properties&quot;: {&quot;amenity&quot;: &quot;bicycle_rental&quot;, &quot;feature_id&quot;: &quot;node/3464265863&quot;}, &quot;type&quot;: &quot;Feature&quot;}, {&quot;bbox&quot;: [17.0477507, 51.1100504, 17.0477507, 51.1100504], &quot;geometry&quot;: {&quot;coordinates&quot;: [17.0477507, 51.1100504], &quot;type&quot;: &quot;Point&quot;}, &quot;id&quot;: &quot;40&quot;, &quot;properties&quot;: {&quot;amenity&quot;: &quot;bicycle_rental&quot;, &quot;feature_id&quot;: &quot;node/3464265864&quot;}, &quot;type&quot;: &quot;Feature&quot;}, {&quot;bbox&quot;: [17.0333002, 51.107488, 17.0333002, 51.107488], &quot;geometry&quot;: {&quot;coordinates&quot;: [17.0333002, 51.107488], &quot;type&quot;: &quot;Point&quot;}, &quot;id&quot;: &quot;41&quot;, &quot;properties&quot;: {&quot;amenity&quot;: &quot;bicycle_rental&quot;, &quot;feature_id&quot;: &quot;node/3464265865&quot;}, &quot;type&quot;: &quot;Feature&quot;}, {&quot;bbox&quot;: [17.0481081, 51.1045415, 17.0481081, 51.1045415], &quot;geometry&quot;: {&quot;coordinates&quot;: [17.0481081, 51.1045415], &quot;type&quot;: &quot;Point&quot;}, &quot;id&quot;: &quot;42&quot;, &quot;properties&quot;: {&quot;amenity&quot;: &quot;bicycle_rental&quot;, &quot;feature_id&quot;: &quot;node/3464265866&quot;}, &quot;type&quot;: &quot;Feature&quot;}, {&quot;bbox&quot;: [16.9660351, 51.1300218, 16.9660351, 51.1300218], &quot;geometry&quot;: {&quot;coordinates&quot;: [16.9660351, 51.1300218], &quot;type&quot;: &quot;Point&quot;}, &quot;id&quot;: &quot;43&quot;, &quot;properties&quot;: {&quot;amenity&quot;: &quot;bicycle_rental&quot;, &quot;feature_id&quot;: &quot;node/3464265867&quot;}, &quot;type&quot;: &quot;Feature&quot;}, {&quot;bbox&quot;: [16.9462088, 51.1031111, 16.9462088, 51.1031111], &quot;geometry&quot;: {&quot;coordinates&quot;: [16.9462088, 51.1031111], &quot;type&quot;: &quot;Point&quot;}, &quot;id&quot;: &quot;44&quot;, &quot;properties&quot;: {&quot;amenity&quot;: &quot;bicycle_rental&quot;, &quot;feature_id&quot;: &quot;node/3464265868&quot;}, &quot;type&quot;: &quot;Feature&quot;}, {&quot;bbox&quot;: [17.0504423, 51.1256111, 17.0504423, 51.1256111], &quot;geometry&quot;: {&quot;coordinates&quot;: [17.0504423, 51.1256111], &quot;type&quot;: &quot;Point&quot;}, &quot;id&quot;: &quot;45&quot;, &quot;properties&quot;: {&quot;amenity&quot;: &quot;bicycle_rental&quot;, &quot;feature_id&quot;: &quot;node/3464265869&quot;}, &quot;type&quot;: &quot;Feature&quot;}, {&quot;bbox&quot;: [17.0475345, 51.1223332, 17.0475345, 51.1223332], &quot;geometry&quot;: {&quot;coordinates&quot;: [17.0475345, 51.1223332], &quot;type&quot;: &quot;Point&quot;}, &quot;id&quot;: &quot;46&quot;, &quot;properties&quot;: {&quot;amenity&quot;: &quot;bicycle_rental&quot;, &quot;feature_id&quot;: &quot;node/3464265876&quot;}, &quot;type&quot;: &quot;Feature&quot;}, {&quot;bbox&quot;: [16.9516418, 51.1001704, 16.9516418, 51.1001704], &quot;geometry&quot;: {&quot;coordinates&quot;: [16.9516418, 51.1001704], &quot;type&quot;: &quot;Point&quot;}, &quot;id&quot;: &quot;47&quot;, &quot;properties&quot;: {&quot;amenity&quot;: &quot;bicycle_rental&quot;, &quot;feature_id&quot;: &quot;node/3468205794&quot;}, &quot;type&quot;: &quot;Feature&quot;}, {&quot;bbox&quot;: [17.051579, 51.09897, 17.051579, 51.09897], &quot;geometry&quot;: {&quot;coordinates&quot;: [17.051579, 51.09897], &quot;type&quot;: &quot;Point&quot;}, &quot;id&quot;: &quot;48&quot;, &quot;properties&quot;: {&quot;amenity&quot;: &quot;bicycle_rental&quot;, &quot;feature_id&quot;: &quot;node/3468354359&quot;}, &quot;type&quot;: &quot;Feature&quot;}, {&quot;bbox&quot;: [17.0225671, 51.1043832, 17.0225671, 51.1043832], &quot;geometry&quot;: {&quot;coordinates&quot;: [17.0225671, 51.1043832], &quot;type&quot;: &quot;Point&quot;}, &quot;id&quot;: &quot;49&quot;, &quot;properties&quot;: {&quot;amenity&quot;: &quot;bicycle_rental&quot;, &quot;feature_id&quot;: &quot;node/3468354360&quot;}, &quot;type&quot;: &quot;Feature&quot;}, {&quot;bbox&quot;: [17.0312187, 51.1041486, 17.0312187, 51.1041486], &quot;geometry&quot;: {&quot;coordinates&quot;: [17.0312187, 51.1041486], &quot;type&quot;: &quot;Point&quot;}, &quot;id&quot;: &quot;50&quot;, &quot;properties&quot;: {&quot;amenity&quot;: &quot;bicycle_rental&quot;, &quot;feature_id&quot;: &quot;node/3468354362&quot;}, &quot;type&quot;: &quot;Feature&quot;}, {&quot;bbox&quot;: [17.0562926, 51.0970713, 17.0562926, 51.0970713], &quot;geometry&quot;: {&quot;coordinates&quot;: [17.0562926, 51.0970713], &quot;type&quot;: &quot;Point&quot;}, &quot;id&quot;: &quot;51&quot;, &quot;properties&quot;: {&quot;amenity&quot;: &quot;bicycle_rental&quot;, &quot;feature_id&quot;: &quot;node/3468354363&quot;}, &quot;type&quot;: &quot;Feature&quot;}, {&quot;bbox&quot;: [17.1335156, 51.1603543, 17.1335156, 51.1603543], &quot;geometry&quot;: {&quot;coordinates&quot;: [17.1335156, 51.1603543], &quot;type&quot;: &quot;Point&quot;}, &quot;id&quot;: &quot;52&quot;, &quot;properties&quot;: {&quot;amenity&quot;: &quot;bicycle_rental&quot;, &quot;feature_id&quot;: &quot;node/3470094753&quot;}, &quot;type&quot;: &quot;Feature&quot;}, {&quot;bbox&quot;: [17.0491397, 51.0849894, 17.0491397, 51.0849894], &quot;geometry&quot;: {&quot;coordinates&quot;: [17.0491397, 51.0849894], &quot;type&quot;: &quot;Point&quot;}, &quot;id&quot;: &quot;53&quot;, &quot;properties&quot;: {&quot;amenity&quot;: &quot;bicycle_rental&quot;, &quot;feature_id&quot;: &quot;node/3470094754&quot;}, &quot;type&quot;: &quot;Feature&quot;}, {&quot;bbox&quot;: [17.0174096, 51.0914138, 17.0174096, 51.0914138], &quot;geometry&quot;: {&quot;coordinates&quot;: [17.0174096, 51.0914138], &quot;type&quot;: &quot;Point&quot;}, &quot;id&quot;: &quot;54&quot;, &quot;properties&quot;: {&quot;amenity&quot;: &quot;bicycle_rental&quot;, &quot;feature_id&quot;: &quot;node/3470094755&quot;}, &quot;type&quot;: &quot;Feature&quot;}, {&quot;bbox&quot;: [17.0450599, 51.1003562, 17.0450599, 51.1003562], &quot;geometry&quot;: {&quot;coordinates&quot;: [17.0450599, 51.1003562], &quot;type&quot;: &quot;Point&quot;}, &quot;id&quot;: &quot;55&quot;, &quot;properties&quot;: {&quot;amenity&quot;: &quot;bicycle_rental&quot;, &quot;feature_id&quot;: &quot;node/3470094756&quot;}, &quot;type&quot;: &quot;Feature&quot;}, {&quot;bbox&quot;: [17.0414695, 51.0769164, 17.0414695, 51.0769164], &quot;geometry&quot;: {&quot;coordinates&quot;: [17.0414695, 51.0769164], &quot;type&quot;: &quot;Point&quot;}, &quot;id&quot;: &quot;56&quot;, &quot;properties&quot;: {&quot;amenity&quot;: &quot;bicycle_rental&quot;, &quot;feature_id&quot;: &quot;node/3470094757&quot;}, &quot;type&quot;: &quot;Feature&quot;}, {&quot;bbox&quot;: [17.0595451, 51.0515922, 17.0595451, 51.0515922], &quot;geometry&quot;: {&quot;coordinates&quot;: [17.0595451, 51.0515922], &quot;type&quot;: &quot;Point&quot;}, &quot;id&quot;: &quot;57&quot;, &quot;properties&quot;: {&quot;amenity&quot;: &quot;bicycle_rental&quot;, &quot;feature_id&quot;: &quot;node/3471254554&quot;}, &quot;type&quot;: &quot;Feature&quot;}, {&quot;bbox&quot;: [16.9723606, 51.0841917, 16.9723606, 51.0841917], &quot;geometry&quot;: {&quot;coordinates&quot;: [16.9723606, 51.0841917], &quot;type&quot;: &quot;Point&quot;}, &quot;id&quot;: &quot;58&quot;, &quot;properties&quot;: {&quot;amenity&quot;: &quot;bicycle_rental&quot;, &quot;feature_id&quot;: &quot;node/3482577324&quot;}, &quot;type&quot;: &quot;Feature&quot;}, {&quot;bbox&quot;: [16.9843492, 51.1253167, 16.9843492, 51.1253167], &quot;geometry&quot;: {&quot;coordinates&quot;: [16.9843492, 51.1253167], &quot;type&quot;: &quot;Point&quot;}, &quot;id&quot;: &quot;59&quot;, &quot;properties&quot;: {&quot;amenity&quot;: &quot;bicycle_rental&quot;, &quot;feature_id&quot;: &quot;node/3482577325&quot;}, &quot;type&quot;: &quot;Feature&quot;}, {&quot;bbox&quot;: [16.9606941, 51.1118583, 16.9606941, 51.1118583], &quot;geometry&quot;: {&quot;coordinates&quot;: [16.9606941, 51.1118583], &quot;type&quot;: &quot;Point&quot;}, &quot;id&quot;: &quot;60&quot;, &quot;properties&quot;: {&quot;amenity&quot;: &quot;bicycle_rental&quot;, &quot;feature_id&quot;: &quot;node/3482577326&quot;}, &quot;type&quot;: &quot;Feature&quot;}, {&quot;bbox&quot;: [17.0278565, 51.0995909, 17.0278565, 51.0995909], &quot;geometry&quot;: {&quot;coordinates&quot;: [17.0278565, 51.0995909], &quot;type&quot;: &quot;Point&quot;}, &quot;id&quot;: &quot;61&quot;, &quot;properties&quot;: {&quot;amenity&quot;: &quot;bicycle_rental&quot;, &quot;feature_id&quot;: &quot;node/3484937888&quot;}, &quot;type&quot;: &quot;Feature&quot;}, {&quot;bbox&quot;: [17.007044, 51.0749901, 17.007044, 51.0749901], &quot;geometry&quot;: {&quot;coordinates&quot;: [17.007044, 51.0749901], &quot;type&quot;: &quot;Point&quot;}, &quot;id&quot;: &quot;62&quot;, &quot;properties&quot;: {&quot;amenity&quot;: &quot;bicycle_rental&quot;, &quot;feature_id&quot;: &quot;node/3484937889&quot;}, &quot;type&quot;: &quot;Feature&quot;}, {&quot;bbox&quot;: [16.9736001, 51.1124539, 16.9736001, 51.1124539], &quot;geometry&quot;: {&quot;coordinates&quot;: [16.9736001, 51.1124539], &quot;type&quot;: &quot;Point&quot;}, &quot;id&quot;: &quot;63&quot;, &quot;properties&quot;: {&quot;amenity&quot;: &quot;bicycle_rental&quot;, &quot;feature_id&quot;: &quot;node/3484937890&quot;}, &quot;type&quot;: &quot;Feature&quot;}, {&quot;bbox&quot;: [16.9885895, 51.0657908, 16.9885895, 51.0657908], &quot;geometry&quot;: {&quot;coordinates&quot;: [16.9885895, 51.0657908], &quot;type&quot;: &quot;Point&quot;}, &quot;id&quot;: &quot;64&quot;, &quot;properties&quot;: {&quot;amenity&quot;: &quot;bicycle_rental&quot;, &quot;feature_id&quot;: &quot;node/3484937891&quot;}, &quot;type&quot;: &quot;Feature&quot;}, {&quot;bbox&quot;: [16.9987382, 51.1153378, 16.9987382, 51.1153378], &quot;geometry&quot;: {&quot;coordinates&quot;: [16.9987382, 51.1153378], &quot;type&quot;: &quot;Point&quot;}, &quot;id&quot;: &quot;65&quot;, &quot;properties&quot;: {&quot;amenity&quot;: &quot;bicycle_rental&quot;, &quot;feature_id&quot;: &quot;node/3488361485&quot;}, &quot;type&quot;: &quot;Feature&quot;}, {&quot;bbox&quot;: [17.020767, 51.0944145, 17.020767, 51.0944145], &quot;geometry&quot;: {&quot;coordinates&quot;: [17.020767, 51.0944145], &quot;type&quot;: &quot;Point&quot;}, &quot;id&quot;: &quot;66&quot;, &quot;properties&quot;: {&quot;amenity&quot;: &quot;bicycle_rental&quot;, &quot;feature_id&quot;: &quot;node/3488361487&quot;}, &quot;type&quot;: &quot;Feature&quot;}, {&quot;bbox&quot;: [17.007131, 51.1175802, 17.007131, 51.1175802], &quot;geometry&quot;: {&quot;coordinates&quot;: [17.007131, 51.1175802], &quot;type&quot;: &quot;Point&quot;}, &quot;id&quot;: &quot;67&quot;, &quot;properties&quot;: {&quot;amenity&quot;: &quot;bicycle_rental&quot;, &quot;feature_id&quot;: &quot;node/3488361488&quot;}, &quot;type&quot;: &quot;Feature&quot;}, {&quot;bbox&quot;: [17.0448111, 51.1289039, 17.0448111, 51.1289039], &quot;geometry&quot;: {&quot;coordinates&quot;: [17.0448111, 51.1289039], &quot;type&quot;: &quot;Point&quot;}, &quot;id&quot;: &quot;68&quot;, &quot;properties&quot;: {&quot;amenity&quot;: &quot;bicycle_rental&quot;, &quot;feature_id&quot;: &quot;node/3655876975&quot;}, &quot;type&quot;: &quot;Feature&quot;}, {&quot;bbox&quot;: [16.9885184, 51.0966497, 16.9885184, 51.0966497], &quot;geometry&quot;: {&quot;coordinates&quot;: [16.9885184, 51.0966497], &quot;type&quot;: &quot;Point&quot;}, &quot;id&quot;: &quot;69&quot;, &quot;properties&quot;: {&quot;amenity&quot;: &quot;bicycle_rental&quot;, &quot;feature_id&quot;: &quot;node/4041317556&quot;}, &quot;type&quot;: &quot;Feature&quot;}, {&quot;bbox&quot;: [17.006556, 51.0594564, 17.006556, 51.0594564], &quot;geometry&quot;: {&quot;coordinates&quot;: [17.006556, 51.0594564], &quot;type&quot;: &quot;Point&quot;}, &quot;id&quot;: &quot;70&quot;, &quot;properties&quot;: {&quot;amenity&quot;: &quot;bicycle_rental&quot;, &quot;feature_id&quot;: &quot;node/4053019718&quot;}, &quot;type&quot;: &quot;Feature&quot;}, {&quot;bbox&quot;: [17.0361633, 51.136095, 17.0361633, 51.136095], &quot;geometry&quot;: {&quot;coordinates&quot;: [17.0361633, 51.136095], &quot;type&quot;: &quot;Point&quot;}, &quot;id&quot;: &quot;71&quot;, &quot;properties&quot;: {&quot;amenity&quot;: &quot;bicycle_rental&quot;, &quot;feature_id&quot;: &quot;node/4053019719&quot;}, &quot;type&quot;: &quot;Feature&quot;}, {&quot;bbox&quot;: [16.941031, 51.0993938, 16.941031, 51.0993938], &quot;geometry&quot;: {&quot;coordinates&quot;: [16.941031, 51.0993938], &quot;type&quot;: &quot;Point&quot;}, &quot;id&quot;: &quot;72&quot;, &quot;properties&quot;: {&quot;amenity&quot;: &quot;bicycle_rental&quot;, &quot;feature_id&quot;: &quot;node/4424883614&quot;}, &quot;type&quot;: &quot;Feature&quot;}, {&quot;bbox&quot;: [16.9688706, 51.0526648, 16.9688706, 51.0526648], &quot;geometry&quot;: {&quot;coordinates&quot;: [16.9688706, 51.0526648], &quot;type&quot;: &quot;Point&quot;}, &quot;id&quot;: &quot;73&quot;, &quot;properties&quot;: {&quot;amenity&quot;: &quot;bicycle_rental&quot;, &quot;feature_id&quot;: &quot;node/5470913550&quot;}, &quot;type&quot;: &quot;Feature&quot;}, {&quot;bbox&quot;: [16.8723442, 51.1449196, 16.8723442, 51.1449196], &quot;geometry&quot;: {&quot;coordinates&quot;: [16.8723442, 51.1449196], &quot;type&quot;: &quot;Point&quot;}, &quot;id&quot;: &quot;74&quot;, &quot;properties&quot;: {&quot;amenity&quot;: &quot;bicycle_rental&quot;, &quot;feature_id&quot;: &quot;node/5860717712&quot;}, &quot;type&quot;: &quot;Feature&quot;}, {&quot;bbox&quot;: [17.0245072, 51.084209, 17.0245072, 51.084209], &quot;geometry&quot;: {&quot;coordinates&quot;: [17.0245072, 51.084209], &quot;type&quot;: &quot;Point&quot;}, &quot;id&quot;: &quot;75&quot;, &quot;properties&quot;: {&quot;amenity&quot;: &quot;bicycle_rental&quot;, &quot;feature_id&quot;: &quot;node/5860717713&quot;}, &quot;type&quot;: &quot;Feature&quot;}, {&quot;bbox&quot;: [17.0237077, 51.116546, 17.0237077, 51.116546], &quot;geometry&quot;: {&quot;coordinates&quot;: [17.0237077, 51.116546], &quot;type&quot;: &quot;Point&quot;}, &quot;id&quot;: &quot;76&quot;, &quot;properties&quot;: {&quot;amenity&quot;: &quot;bicycle_rental&quot;, &quot;feature_id&quot;: &quot;node/5860717714&quot;}, &quot;type&quot;: &quot;Feature&quot;}, {&quot;bbox&quot;: [17.0395024, 51.1080091, 17.0395024, 51.1080091], &quot;geometry&quot;: {&quot;coordinates&quot;: [17.0395024, 51.1080091], &quot;type&quot;: &quot;Point&quot;}, &quot;id&quot;: &quot;77&quot;, &quot;properties&quot;: {&quot;amenity&quot;: &quot;bicycle_rental&quot;, &quot;feature_id&quot;: &quot;node/6301921834&quot;}, &quot;type&quot;: &quot;Feature&quot;}, {&quot;bbox&quot;: [17.0506756, 51.1135661, 17.0506756, 51.1135661], &quot;geometry&quot;: {&quot;coordinates&quot;: [17.0506756, 51.1135661], &quot;type&quot;: &quot;Point&quot;}, &quot;id&quot;: &quot;78&quot;, &quot;properties&quot;: {&quot;amenity&quot;: &quot;bicycle_rental&quot;, &quot;feature_id&quot;: &quot;node/6301939735&quot;}, &quot;type&quot;: &quot;Feature&quot;}, {&quot;bbox&quot;: [17.0122818, 51.1131926, 17.0122818, 51.1131926], &quot;geometry&quot;: {&quot;coordinates&quot;: [17.0122818, 51.1131926], &quot;type&quot;: &quot;Point&quot;}, &quot;id&quot;: &quot;79&quot;, &quot;properties&quot;: {&quot;amenity&quot;: &quot;bicycle_rental&quot;, &quot;feature_id&quot;: &quot;node/6353264804&quot;}, &quot;type&quot;: &quot;Feature&quot;}, {&quot;bbox&quot;: [17.0260593, 51.1102961, 17.0260593, 51.1102961], &quot;geometry&quot;: {&quot;coordinates&quot;: [17.0260593, 51.1102961], &quot;type&quot;: &quot;Point&quot;}, &quot;id&quot;: &quot;80&quot;, &quot;properties&quot;: {&quot;amenity&quot;: &quot;bicycle_rental&quot;, &quot;feature_id&quot;: &quot;node/6353278448&quot;}, &quot;type&quot;: &quot;Feature&quot;}, {&quot;bbox&quot;: [16.9508397, 51.1436468, 16.9508397, 51.1436468], &quot;geometry&quot;: {&quot;coordinates&quot;: [16.9508397, 51.1436468], &quot;type&quot;: &quot;Point&quot;}, &quot;id&quot;: &quot;81&quot;, &quot;properties&quot;: {&quot;amenity&quot;: &quot;bicycle_rental&quot;, &quot;feature_id&quot;: &quot;node/6357561195&quot;}, &quot;type&quot;: &quot;Feature&quot;}, {&quot;bbox&quot;: [16.9661564, 51.1369826, 16.9661564, 51.1369826], &quot;geometry&quot;: {&quot;coordinates&quot;: [16.9661564, 51.1369826], &quot;type&quot;: &quot;Point&quot;}, &quot;id&quot;: &quot;82&quot;, &quot;properties&quot;: {&quot;amenity&quot;: &quot;bicycle_rental&quot;, &quot;feature_id&quot;: &quot;node/6357562237&quot;}, &quot;type&quot;: &quot;Feature&quot;}, {&quot;bbox&quot;: [16.9947695, 51.1373789, 16.9947695, 51.1373789], &quot;geometry&quot;: {&quot;coordinates&quot;: [16.9947695, 51.1373789], &quot;type&quot;: &quot;Point&quot;}, &quot;id&quot;: &quot;83&quot;, &quot;properties&quot;: {&quot;amenity&quot;: &quot;bicycle_rental&quot;, &quot;feature_id&quot;: &quot;node/6359355902&quot;}, &quot;type&quot;: &quot;Feature&quot;}, {&quot;bbox&quot;: [16.9757694, 51.122622, 16.9757694, 51.122622], &quot;geometry&quot;: {&quot;coordinates&quot;: [16.9757694, 51.122622], &quot;type&quot;: &quot;Point&quot;}, &quot;id&quot;: &quot;84&quot;, &quot;properties&quot;: {&quot;amenity&quot;: &quot;bicycle_rental&quot;, &quot;feature_id&quot;: &quot;node/6360982118&quot;}, &quot;type&quot;: &quot;Feature&quot;}, {&quot;bbox&quot;: [17.0013456, 51.1129181, 17.0013456, 51.1129181], &quot;geometry&quot;: {&quot;coordinates&quot;: [17.0013456, 51.1129181], &quot;type&quot;: &quot;Point&quot;}, &quot;id&quot;: &quot;85&quot;, &quot;properties&quot;: {&quot;amenity&quot;: &quot;bicycle_rental&quot;, &quot;feature_id&quot;: &quot;node/6360982120&quot;}, &quot;type&quot;: &quot;Feature&quot;}, {&quot;bbox&quot;: [17.0324502, 51.0749509, 17.0324502, 51.0749509], &quot;geometry&quot;: {&quot;coordinates&quot;: [17.0324502, 51.0749509], &quot;type&quot;: &quot;Point&quot;}, &quot;id&quot;: &quot;86&quot;, &quot;properties&quot;: {&quot;amenity&quot;: &quot;bicycle_rental&quot;, &quot;feature_id&quot;: &quot;node/6362364943&quot;}, &quot;type&quot;: &quot;Feature&quot;}, {&quot;bbox&quot;: [17.0833664, 51.0638471, 17.0833664, 51.0638471], &quot;geometry&quot;: {&quot;coordinates&quot;: [17.0833664, 51.0638471], &quot;type&quot;: &quot;Point&quot;}, &quot;id&quot;: &quot;87&quot;, &quot;properties&quot;: {&quot;amenity&quot;: &quot;bicycle_rental&quot;, &quot;feature_id&quot;: &quot;node/6368370216&quot;}, &quot;type&quot;: &quot;Feature&quot;}, {&quot;bbox&quot;: [17.0757407, 51.1059496, 17.0757407, 51.1059496], &quot;geometry&quot;: {&quot;coordinates&quot;: [17.0757407, 51.1059496], &quot;type&quot;: &quot;Point&quot;}, &quot;id&quot;: &quot;88&quot;, &quot;properties&quot;: {&quot;amenity&quot;: &quot;bicycle_rental&quot;, &quot;feature_id&quot;: &quot;node/6368389174&quot;}, &quot;type&quot;: &quot;Feature&quot;}, {&quot;bbox&quot;: [17.028858, 51.1181897, 17.028858, 51.1181897], &quot;geometry&quot;: {&quot;coordinates&quot;: [17.028858, 51.1181897], &quot;type&quot;: &quot;Point&quot;}, &quot;id&quot;: &quot;89&quot;, &quot;properties&quot;: {&quot;amenity&quot;: &quot;bicycle_rental&quot;, &quot;feature_id&quot;: &quot;node/6368397773&quot;}, &quot;type&quot;: &quot;Feature&quot;}, {&quot;bbox&quot;: [17.0340695, 51.0888621, 17.0340695, 51.0888621], &quot;geometry&quot;: {&quot;coordinates&quot;: [17.0340695, 51.0888621], &quot;type&quot;: &quot;Point&quot;}, &quot;id&quot;: &quot;90&quot;, &quot;properties&quot;: {&quot;amenity&quot;: &quot;bicycle_rental&quot;, &quot;feature_id&quot;: &quot;node/6368409154&quot;}, &quot;type&quot;: &quot;Feature&quot;}, {&quot;bbox&quot;: [17.0333067, 51.0953306, 17.0333067, 51.0953306], &quot;geometry&quot;: {&quot;coordinates&quot;: [17.0333067, 51.0953306], &quot;type&quot;: &quot;Point&quot;}, &quot;id&quot;: &quot;91&quot;, &quot;properties&quot;: {&quot;amenity&quot;: &quot;bicycle_rental&quot;, &quot;feature_id&quot;: &quot;node/6368419954&quot;}, &quot;type&quot;: &quot;Feature&quot;}, {&quot;bbox&quot;: [17.1144499, 51.1473186, 17.1144499, 51.1473186], &quot;geometry&quot;: {&quot;coordinates&quot;: [17.1144499, 51.1473186], &quot;type&quot;: &quot;Point&quot;}, &quot;id&quot;: &quot;92&quot;, &quot;properties&quot;: {&quot;amenity&quot;: &quot;bicycle_rental&quot;, &quot;feature_id&quot;: &quot;node/6368443087&quot;}, &quot;type&quot;: &quot;Feature&quot;}, {&quot;bbox&quot;: [16.9984167, 51.1759121, 16.9984167, 51.1759121], &quot;geometry&quot;: {&quot;coordinates&quot;: [16.9984167, 51.1759121], &quot;type&quot;: &quot;Point&quot;}, &quot;id&quot;: &quot;93&quot;, &quot;properties&quot;: {&quot;amenity&quot;: &quot;bicycle_rental&quot;, &quot;feature_id&quot;: &quot;node/6368456977&quot;}, &quot;type&quot;: &quot;Feature&quot;}, {&quot;bbox&quot;: [17.117832, 51.1102643, 17.117832, 51.1102643], &quot;geometry&quot;: {&quot;coordinates&quot;: [17.117832, 51.1102643], &quot;type&quot;: &quot;Point&quot;}, &quot;id&quot;: &quot;94&quot;, &quot;properties&quot;: {&quot;amenity&quot;: &quot;bicycle_rental&quot;, &quot;feature_id&quot;: &quot;node/6368465196&quot;}, &quot;type&quot;: &quot;Feature&quot;}, {&quot;bbox&quot;: [16.9242948, 51.1232301, 16.9242948, 51.1232301], &quot;geometry&quot;: {&quot;coordinates&quot;: [16.9242948, 51.1232301], &quot;type&quot;: &quot;Point&quot;}, &quot;id&quot;: &quot;95&quot;, &quot;properties&quot;: {&quot;amenity&quot;: &quot;bicycle_rental&quot;, &quot;feature_id&quot;: &quot;node/6368822178&quot;}, &quot;type&quot;: &quot;Feature&quot;}, {&quot;bbox&quot;: [17.0535492, 51.1052484, 17.0535492, 51.1052484], &quot;geometry&quot;: {&quot;coordinates&quot;: [17.0535492, 51.1052484], &quot;type&quot;: &quot;Point&quot;}, &quot;id&quot;: &quot;96&quot;, &quot;properties&quot;: {&quot;amenity&quot;: &quot;bicycle_rental&quot;, &quot;feature_id&quot;: &quot;node/6368876800&quot;}, &quot;type&quot;: &quot;Feature&quot;}, {&quot;bbox&quot;: [16.9787283, 51.1269016, 16.9787283, 51.1269016], &quot;geometry&quot;: {&quot;coordinates&quot;: [16.9787283, 51.1269016], &quot;type&quot;: &quot;Point&quot;}, &quot;id&quot;: &quot;97&quot;, &quot;properties&quot;: {&quot;amenity&quot;: &quot;bicycle_rental&quot;, &quot;feature_id&quot;: &quot;node/6368879798&quot;}, &quot;type&quot;: &quot;Feature&quot;}, {&quot;bbox&quot;: [16.9821239, 51.1124142, 16.9821239, 51.1124142], &quot;geometry&quot;: {&quot;coordinates&quot;: [16.9821239, 51.1124142], &quot;type&quot;: &quot;Point&quot;}, &quot;id&quot;: &quot;98&quot;, &quot;properties&quot;: {&quot;amenity&quot;: &quot;bicycle_rental&quot;, &quot;feature_id&quot;: &quot;node/6369005293&quot;}, &quot;type&quot;: &quot;Feature&quot;}, {&quot;bbox&quot;: [16.9886779, 51.1128578, 16.9886779, 51.1128578], &quot;geometry&quot;: {&quot;coordinates&quot;: [16.9886779, 51.1128578], &quot;type&quot;: &quot;Point&quot;}, &quot;id&quot;: &quot;99&quot;, &quot;properties&quot;: {&quot;amenity&quot;: &quot;bicycle_rental&quot;, &quot;feature_id&quot;: &quot;node/6369005294&quot;}, &quot;type&quot;: &quot;Feature&quot;}, {&quot;bbox&quot;: [17.0305922, 51.1033848, 17.0305922, 51.1033848], &quot;geometry&quot;: {&quot;coordinates&quot;: [17.0305922, 51.1033848], &quot;type&quot;: &quot;Point&quot;}, &quot;id&quot;: &quot;100&quot;, &quot;properties&quot;: {&quot;amenity&quot;: &quot;bicycle_rental&quot;, &quot;feature_id&quot;: &quot;node/6369005295&quot;}, &quot;type&quot;: &quot;Feature&quot;}, {&quot;bbox&quot;: [17.0348895, 51.1246991, 17.0348895, 51.1246991], &quot;geometry&quot;: {&quot;coordinates&quot;: [17.0348895, 51.1246991], &quot;type&quot;: &quot;Point&quot;}, &quot;id&quot;: &quot;101&quot;, &quot;properties&quot;: {&quot;amenity&quot;: &quot;bicycle_rental&quot;, &quot;feature_id&quot;: &quot;node/6511252650&quot;}, &quot;type&quot;: &quot;Feature&quot;}, {&quot;bbox&quot;: [17.0396826, 51.1129752, 17.0396826, 51.1129752], &quot;geometry&quot;: {&quot;coordinates&quot;: [17.0396826, 51.1129752], &quot;type&quot;: &quot;Point&quot;}, &quot;id&quot;: &quot;102&quot;, &quot;properties&quot;: {&quot;amenity&quot;: &quot;bicycle_rental&quot;, &quot;feature_id&quot;: &quot;node/6520693708&quot;}, &quot;type&quot;: &quot;Feature&quot;}, {&quot;bbox&quot;: [17.1039877, 51.1139718, 17.1039877, 51.1139718], &quot;geometry&quot;: {&quot;coordinates&quot;: [17.1039877, 51.1139718], &quot;type&quot;: &quot;Point&quot;}, &quot;id&quot;: &quot;103&quot;, &quot;properties&quot;: {&quot;amenity&quot;: &quot;bicycle_rental&quot;, &quot;feature_id&quot;: &quot;node/6535451323&quot;}, &quot;type&quot;: &quot;Feature&quot;}, {&quot;bbox&quot;: [17.0743512, 51.1151395, 17.0743512, 51.1151395], &quot;geometry&quot;: {&quot;coordinates&quot;: [17.0743512, 51.1151395], &quot;type&quot;: &quot;Point&quot;}, &quot;id&quot;: &quot;104&quot;, &quot;properties&quot;: {&quot;amenity&quot;: &quot;bicycle_rental&quot;, &quot;feature_id&quot;: &quot;node/6535451324&quot;}, &quot;type&quot;: &quot;Feature&quot;}, {&quot;bbox&quot;: [16.9639489, 51.077505, 16.9639489, 51.077505], &quot;geometry&quot;: {&quot;coordinates&quot;: [16.9639489, 51.077505], &quot;type&quot;: &quot;Point&quot;}, &quot;id&quot;: &quot;105&quot;, &quot;properties&quot;: {&quot;amenity&quot;: &quot;bicycle_rental&quot;, &quot;feature_id&quot;: &quot;node/6538083090&quot;}, &quot;type&quot;: &quot;Feature&quot;}, {&quot;bbox&quot;: [16.9775155, 51.0640483, 16.9775155, 51.0640483], &quot;geometry&quot;: {&quot;coordinates&quot;: [16.9775155, 51.0640483], &quot;type&quot;: &quot;Point&quot;}, &quot;id&quot;: &quot;106&quot;, &quot;properties&quot;: {&quot;amenity&quot;: &quot;bicycle_rental&quot;, &quot;feature_id&quot;: &quot;node/6538090322&quot;}, &quot;type&quot;: &quot;Feature&quot;}, {&quot;bbox&quot;: [17.0452729, 51.0895629, 17.0452729, 51.0895629], &quot;geometry&quot;: {&quot;coordinates&quot;: [17.0452729, 51.0895629], &quot;type&quot;: &quot;Point&quot;}, &quot;id&quot;: &quot;107&quot;, &quot;properties&quot;: {&quot;amenity&quot;: &quot;bicycle_rental&quot;, &quot;feature_id&quot;: &quot;node/6542201303&quot;}, &quot;type&quot;: &quot;Feature&quot;}, {&quot;bbox&quot;: [17.0367578, 51.1038586, 17.0367578, 51.1038586], &quot;geometry&quot;: {&quot;coordinates&quot;: [17.0367578, 51.1038586], &quot;type&quot;: &quot;Point&quot;}, &quot;id&quot;: &quot;108&quot;, &quot;properties&quot;: {&quot;amenity&quot;: &quot;bicycle_rental&quot;, &quot;feature_id&quot;: &quot;node/6542220324&quot;}, &quot;type&quot;: &quot;Feature&quot;}, {&quot;bbox&quot;: [17.1112802, 51.1055852, 17.1112802, 51.1055852], &quot;geometry&quot;: {&quot;coordinates&quot;: [17.1112802, 51.1055852], &quot;type&quot;: &quot;Point&quot;}, &quot;id&quot;: &quot;109&quot;, &quot;properties&quot;: {&quot;amenity&quot;: &quot;bicycle_rental&quot;, &quot;feature_id&quot;: &quot;node/6542227343&quot;}, &quot;type&quot;: &quot;Feature&quot;}, {&quot;bbox&quot;: [17.0979534, 51.1094685, 17.0979534, 51.1094685], &quot;geometry&quot;: {&quot;coordinates&quot;: [17.0979534, 51.1094685], &quot;type&quot;: &quot;Point&quot;}, &quot;id&quot;: &quot;110&quot;, &quot;properties&quot;: {&quot;amenity&quot;: &quot;bicycle_rental&quot;, &quot;feature_id&quot;: &quot;node/6542227344&quot;}, &quot;type&quot;: &quot;Feature&quot;}, {&quot;bbox&quot;: [17.0158817, 51.1775844, 17.0158817, 51.1775844], &quot;geometry&quot;: {&quot;coordinates&quot;: [17.0158817, 51.1775844], &quot;type&quot;: &quot;Point&quot;}, &quot;id&quot;: &quot;111&quot;, &quot;properties&quot;: {&quot;amenity&quot;: &quot;bicycle_rental&quot;, &quot;feature_id&quot;: &quot;node/6542752555&quot;}, &quot;type&quot;: &quot;Feature&quot;}, {&quot;bbox&quot;: [17.0756341, 51.1490256, 17.0756341, 51.1490256], &quot;geometry&quot;: {&quot;coordinates&quot;: [17.0756341, 51.1490256], &quot;type&quot;: &quot;Point&quot;}, &quot;id&quot;: &quot;112&quot;, &quot;properties&quot;: {&quot;amenity&quot;: &quot;bicycle_rental&quot;, &quot;feature_id&quot;: &quot;node/6542752556&quot;}, &quot;type&quot;: &quot;Feature&quot;}, {&quot;bbox&quot;: [17.0814286, 51.1426224, 17.0814286, 51.1426224], &quot;geometry&quot;: {&quot;coordinates&quot;: [17.0814286, 51.1426224], &quot;type&quot;: &quot;Point&quot;}, &quot;id&quot;: &quot;113&quot;, &quot;properties&quot;: {&quot;amenity&quot;: &quot;bicycle_rental&quot;, &quot;feature_id&quot;: &quot;node/6542752557&quot;}, &quot;type&quot;: &quot;Feature&quot;}, {&quot;bbox&quot;: [17.084901, 51.1403384, 17.084901, 51.1403384], &quot;geometry&quot;: {&quot;coordinates&quot;: [17.084901, 51.1403384], &quot;type&quot;: &quot;Point&quot;}, &quot;id&quot;: &quot;114&quot;, &quot;properties&quot;: {&quot;amenity&quot;: &quot;bicycle_rental&quot;, &quot;feature_id&quot;: &quot;node/6542752558&quot;}, &quot;type&quot;: &quot;Feature&quot;}, {&quot;bbox&quot;: [17.0660548, 51.1413023, 17.0660548, 51.1413023], &quot;geometry&quot;: {&quot;coordinates&quot;: [17.0660548, 51.1413023], &quot;type&quot;: &quot;Point&quot;}, &quot;id&quot;: &quot;115&quot;, &quot;properties&quot;: {&quot;amenity&quot;: &quot;bicycle_rental&quot;, &quot;feature_id&quot;: &quot;node/6542752559&quot;}, &quot;type&quot;: &quot;Feature&quot;}, {&quot;bbox&quot;: [17.0485388, 51.1372508, 17.0485388, 51.1372508], &quot;geometry&quot;: {&quot;coordinates&quot;: [17.0485388, 51.1372508], &quot;type&quot;: &quot;Point&quot;}, &quot;id&quot;: &quot;116&quot;, &quot;properties&quot;: {&quot;amenity&quot;: &quot;bicycle_rental&quot;, &quot;feature_id&quot;: &quot;node/6542752560&quot;}, &quot;type&quot;: &quot;Feature&quot;}, {&quot;bbox&quot;: [17.0598089, 51.1384823, 17.0598089, 51.1384823], &quot;geometry&quot;: {&quot;coordinates&quot;: [17.0598089, 51.1384823], &quot;type&quot;: &quot;Point&quot;}, &quot;id&quot;: &quot;117&quot;, &quot;properties&quot;: {&quot;amenity&quot;: &quot;bicycle_rental&quot;, &quot;feature_id&quot;: &quot;node/6542752561&quot;}, &quot;type&quot;: &quot;Feature&quot;}, {&quot;bbox&quot;: [17.0794393, 51.1319792, 17.0794393, 51.1319792], &quot;geometry&quot;: {&quot;coordinates&quot;: [17.0794393, 51.1319792], &quot;type&quot;: &quot;Point&quot;}, &quot;id&quot;: &quot;118&quot;, &quot;properties&quot;: {&quot;amenity&quot;: &quot;bicycle_rental&quot;, &quot;feature_id&quot;: &quot;node/6542752562&quot;}, &quot;type&quot;: &quot;Feature&quot;}, {&quot;bbox&quot;: [17.0548255, 51.1281368, 17.0548255, 51.1281368], &quot;geometry&quot;: {&quot;coordinates&quot;: [17.0548255, 51.1281368], &quot;type&quot;: &quot;Point&quot;}, &quot;id&quot;: &quot;119&quot;, &quot;properties&quot;: {&quot;amenity&quot;: &quot;bicycle_rental&quot;, &quot;feature_id&quot;: &quot;node/6542752563&quot;}, &quot;type&quot;: &quot;Feature&quot;}, {&quot;bbox&quot;: [16.9571062, 51.1325632, 16.9571062, 51.1325632], &quot;geometry&quot;: {&quot;coordinates&quot;: [16.9571062, 51.1325632], &quot;type&quot;: &quot;Point&quot;}, &quot;id&quot;: &quot;120&quot;, &quot;properties&quot;: {&quot;amenity&quot;: &quot;bicycle_rental&quot;, &quot;feature_id&quot;: &quot;node/6563287846&quot;}, &quot;type&quot;: &quot;Feature&quot;}, {&quot;bbox&quot;: [16.9975066, 51.0614531, 16.9975066, 51.0614531], &quot;geometry&quot;: {&quot;coordinates&quot;: [16.9975066, 51.0614531], &quot;type&quot;: &quot;Point&quot;}, &quot;id&quot;: &quot;121&quot;, &quot;properties&quot;: {&quot;amenity&quot;: &quot;bicycle_rental&quot;, &quot;feature_id&quot;: &quot;node/6566567478&quot;}, &quot;type&quot;: &quot;Feature&quot;}, {&quot;bbox&quot;: [16.9692233, 51.1266082, 16.9692233, 51.1266082], &quot;geometry&quot;: {&quot;coordinates&quot;: [16.9692233, 51.1266082], &quot;type&quot;: &quot;Point&quot;}, &quot;id&quot;: &quot;122&quot;, &quot;properties&quot;: {&quot;amenity&quot;: &quot;bicycle_rental&quot;, &quot;feature_id&quot;: &quot;node/6570243606&quot;}, &quot;type&quot;: &quot;Feature&quot;}, {&quot;bbox&quot;: [16.8661813, 51.1432396, 16.8661813, 51.1432396], &quot;geometry&quot;: {&quot;coordinates&quot;: [16.8661813, 51.1432396], &quot;type&quot;: &quot;Point&quot;}, &quot;id&quot;: &quot;123&quot;, &quot;properties&quot;: {&quot;amenity&quot;: &quot;bicycle_rental&quot;, &quot;feature_id&quot;: &quot;node/6603531251&quot;}, &quot;type&quot;: &quot;Feature&quot;}, {&quot;bbox&quot;: [16.8668915, 51.1459747, 16.8668915, 51.1459747], &quot;geometry&quot;: {&quot;coordinates&quot;: [16.8668915, 51.1459747], &quot;type&quot;: &quot;Point&quot;}, &quot;id&quot;: &quot;124&quot;, &quot;properties&quot;: {&quot;amenity&quot;: &quot;bicycle_rental&quot;, &quot;feature_id&quot;: &quot;node/6603531270&quot;}, &quot;type&quot;: &quot;Feature&quot;}, {&quot;bbox&quot;: [16.8656009, 51.1512482, 16.8656009, 51.1512482], &quot;geometry&quot;: {&quot;coordinates&quot;: [16.8656009, 51.1512482], &quot;type&quot;: &quot;Point&quot;}, &quot;id&quot;: &quot;125&quot;, &quot;properties&quot;: {&quot;amenity&quot;: &quot;bicycle_rental&quot;, &quot;feature_id&quot;: &quot;node/6603642512&quot;}, &quot;type&quot;: &quot;Feature&quot;}, {&quot;bbox&quot;: [16.9318064, 51.1388845, 16.9318064, 51.1388845], &quot;geometry&quot;: {&quot;coordinates&quot;: [16.9318064, 51.1388845], &quot;type&quot;: &quot;Point&quot;}, &quot;id&quot;: &quot;126&quot;, &quot;properties&quot;: {&quot;amenity&quot;: &quot;bicycle_rental&quot;, &quot;feature_id&quot;: &quot;node/6603677632&quot;}, &quot;type&quot;: &quot;Feature&quot;}, {&quot;bbox&quot;: [16.9059369, 51.1421828, 16.9059369, 51.1421828], &quot;geometry&quot;: {&quot;coordinates&quot;: [16.9059369, 51.1421828], &quot;type&quot;: &quot;Point&quot;}, &quot;id&quot;: &quot;127&quot;, &quot;properties&quot;: {&quot;amenity&quot;: &quot;bicycle_rental&quot;, &quot;feature_id&quot;: &quot;node/6603687380&quot;}, &quot;type&quot;: &quot;Feature&quot;}, {&quot;bbox&quot;: [16.8901093, 51.1439686, 16.8901093, 51.1439686], &quot;geometry&quot;: {&quot;coordinates&quot;: [16.8901093, 51.1439686], &quot;type&quot;: &quot;Point&quot;}, &quot;id&quot;: &quot;128&quot;, &quot;properties&quot;: {&quot;amenity&quot;: &quot;bicycle_rental&quot;, &quot;feature_id&quot;: &quot;node/6603692542&quot;}, &quot;type&quot;: &quot;Feature&quot;}, {&quot;bbox&quot;: [16.9414101, 51.1367247, 16.9414101, 51.1367247], &quot;geometry&quot;: {&quot;coordinates&quot;: [16.9414101, 51.1367247], &quot;type&quot;: &quot;Point&quot;}, &quot;id&quot;: &quot;129&quot;, &quot;properties&quot;: {&quot;amenity&quot;: &quot;bicycle_rental&quot;, &quot;feature_id&quot;: &quot;node/6603699156&quot;}, &quot;type&quot;: &quot;Feature&quot;}, {&quot;bbox&quot;: [17.0182684, 51.0771499, 17.0182684, 51.0771499], &quot;geometry&quot;: {&quot;coordinates&quot;: [17.0182684, 51.0771499], &quot;type&quot;: &quot;Point&quot;}, &quot;id&quot;: &quot;130&quot;, &quot;properties&quot;: {&quot;amenity&quot;: &quot;bicycle_rental&quot;, &quot;feature_id&quot;: &quot;node/6609132791&quot;}, &quot;type&quot;: &quot;Feature&quot;}, {&quot;bbox&quot;: [17.0123819, 51.072305, 17.0123819, 51.072305], &quot;geometry&quot;: {&quot;coordinates&quot;: [17.0123819, 51.072305], &quot;type&quot;: &quot;Point&quot;}, &quot;id&quot;: &quot;131&quot;, &quot;properties&quot;: {&quot;amenity&quot;: &quot;bicycle_rental&quot;, &quot;feature_id&quot;: &quot;node/6609132792&quot;}, &quot;type&quot;: &quot;Feature&quot;}, {&quot;bbox&quot;: [17.0213408, 51.1082439, 17.0213408, 51.1082439], &quot;geometry&quot;: {&quot;coordinates&quot;: [17.0213408, 51.1082439], &quot;type&quot;: &quot;Point&quot;}, &quot;id&quot;: &quot;132&quot;, &quot;properties&quot;: {&quot;amenity&quot;: &quot;bicycle_rental&quot;, &quot;feature_id&quot;: &quot;node/6623506980&quot;}, &quot;type&quot;: &quot;Feature&quot;}, {&quot;bbox&quot;: [17.013449, 51.1188717, 17.013449, 51.1188717], &quot;geometry&quot;: {&quot;coordinates&quot;: [17.013449, 51.1188717], &quot;type&quot;: &quot;Point&quot;}, &quot;id&quot;: &quot;133&quot;, &quot;properties&quot;: {&quot;amenity&quot;: &quot;bicycle_rental&quot;, &quot;feature_id&quot;: &quot;node/6687123185&quot;}, &quot;type&quot;: &quot;Feature&quot;}, {&quot;bbox&quot;: [17.0622924, 51.0801227, 17.0622924, 51.0801227], &quot;geometry&quot;: {&quot;coordinates&quot;: [17.0622924, 51.0801227], &quot;type&quot;: &quot;Point&quot;}, &quot;id&quot;: &quot;134&quot;, &quot;properties&quot;: {&quot;amenity&quot;: &quot;bicycle_rental&quot;, &quot;feature_id&quot;: &quot;node/6754097736&quot;}, &quot;type&quot;: &quot;Feature&quot;}, {&quot;bbox&quot;: [17.0868352, 51.058984, 17.0868352, 51.058984], &quot;geometry&quot;: {&quot;coordinates&quot;: [17.0868352, 51.058984], &quot;type&quot;: &quot;Point&quot;}, &quot;id&quot;: &quot;135&quot;, &quot;properties&quot;: {&quot;amenity&quot;: &quot;bicycle_rental&quot;, &quot;feature_id&quot;: &quot;node/6854251567&quot;}, &quot;type&quot;: &quot;Feature&quot;}, {&quot;bbox&quot;: [17.1226742, 51.1607391, 17.1226742, 51.1607391], &quot;geometry&quot;: {&quot;coordinates&quot;: [17.1226742, 51.1607391], &quot;type&quot;: &quot;Point&quot;}, &quot;id&quot;: &quot;136&quot;, &quot;properties&quot;: {&quot;amenity&quot;: &quot;bicycle_rental&quot;, &quot;feature_id&quot;: &quot;node/6989442734&quot;}, &quot;type&quot;: &quot;Feature&quot;}, {&quot;bbox&quot;: [17.1324519, 51.1550891, 17.1324519, 51.1550891], &quot;geometry&quot;: {&quot;coordinates&quot;: [17.1324519, 51.1550891], &quot;type&quot;: &quot;Point&quot;}, &quot;id&quot;: &quot;137&quot;, &quot;properties&quot;: {&quot;amenity&quot;: &quot;bicycle_rental&quot;, &quot;feature_id&quot;: &quot;node/7004064846&quot;}, &quot;type&quot;: &quot;Feature&quot;}, {&quot;bbox&quot;: [17.1185483, 51.1502178, 17.1185483, 51.1502178], &quot;geometry&quot;: {&quot;coordinates&quot;: [17.1185483, 51.1502178], &quot;type&quot;: &quot;Point&quot;}, &quot;id&quot;: &quot;138&quot;, &quot;properties&quot;: {&quot;amenity&quot;: &quot;bicycle_rental&quot;, &quot;feature_id&quot;: &quot;node/7004085893&quot;}, &quot;type&quot;: &quot;Feature&quot;}, {&quot;bbox&quot;: [16.9898904, 51.1293674, 16.9898904, 51.1293674], &quot;geometry&quot;: {&quot;coordinates&quot;: [16.9898904, 51.1293674], &quot;type&quot;: &quot;Point&quot;}, &quot;id&quot;: &quot;139&quot;, &quot;properties&quot;: {&quot;amenity&quot;: &quot;bicycle_rental&quot;, &quot;feature_id&quot;: &quot;node/7014930100&quot;}, &quot;type&quot;: &quot;Feature&quot;}, {&quot;bbox&quot;: [17.0403339, 51.0915376, 17.0403339, 51.0915376], &quot;geometry&quot;: {&quot;coordinates&quot;: [17.0403339, 51.0915376], &quot;type&quot;: &quot;Point&quot;}, &quot;id&quot;: &quot;140&quot;, &quot;properties&quot;: {&quot;amenity&quot;: &quot;bicycle_rental&quot;, &quot;feature_id&quot;: &quot;node/7108127185&quot;}, &quot;type&quot;: &quot;Feature&quot;}, {&quot;bbox&quot;: [16.9751703, 51.0972063, 16.9751703, 51.0972063], &quot;geometry&quot;: {&quot;coordinates&quot;: [16.9751703, 51.0972063], &quot;type&quot;: &quot;Point&quot;}, &quot;id&quot;: &quot;141&quot;, &quot;properties&quot;: {&quot;amenity&quot;: &quot;bicycle_rental&quot;, &quot;feature_id&quot;: &quot;node/7470469876&quot;}, &quot;type&quot;: &quot;Feature&quot;}, {&quot;bbox&quot;: [17.0606401, 51.0836234, 17.0606401, 51.0836234], &quot;geometry&quot;: {&quot;coordinates&quot;: [17.0606401, 51.0836234], &quot;type&quot;: &quot;Point&quot;}, &quot;id&quot;: &quot;142&quot;, &quot;properties&quot;: {&quot;amenity&quot;: &quot;bicycle_rental&quot;, &quot;feature_id&quot;: &quot;node/8115037318&quot;}, &quot;type&quot;: &quot;Feature&quot;}, {&quot;bbox&quot;: [16.9946767, 51.0802183, 16.9946767, 51.0802183], &quot;geometry&quot;: {&quot;coordinates&quot;: [16.9946767, 51.0802183], &quot;type&quot;: &quot;Point&quot;}, &quot;id&quot;: &quot;143&quot;, &quot;properties&quot;: {&quot;amenity&quot;: &quot;bicycle_rental&quot;, &quot;feature_id&quot;: &quot;node/8116717480&quot;}, &quot;type&quot;: &quot;Feature&quot;}, {&quot;bbox&quot;: [17.0528291, 51.0721894, 17.0528291, 51.0721894], &quot;geometry&quot;: {&quot;coordinates&quot;: [17.0528291, 51.0721894], &quot;type&quot;: &quot;Point&quot;}, &quot;id&quot;: &quot;144&quot;, &quot;properties&quot;: {&quot;amenity&quot;: &quot;bicycle_rental&quot;, &quot;feature_id&quot;: &quot;node/8119236700&quot;}, &quot;type&quot;: &quot;Feature&quot;}, {&quot;bbox&quot;: [17.0320972, 51.0627996, 17.0320972, 51.0627996], &quot;geometry&quot;: {&quot;coordinates&quot;: [17.0320972, 51.0627996], &quot;type&quot;: &quot;Point&quot;}, &quot;id&quot;: &quot;145&quot;, &quot;properties&quot;: {&quot;amenity&quot;: &quot;bicycle_rental&quot;, &quot;feature_id&quot;: &quot;node/8855363974&quot;}, &quot;type&quot;: &quot;Feature&quot;}, {&quot;bbox&quot;: [17.0323539, 51.0568999, 17.0323539, 51.0568999], &quot;geometry&quot;: {&quot;coordinates&quot;: [17.0323539, 51.0568999], &quot;type&quot;: &quot;Point&quot;}, &quot;id&quot;: &quot;146&quot;, &quot;properties&quot;: {&quot;amenity&quot;: &quot;bicycle_rental&quot;, &quot;feature_id&quot;: &quot;node/8855381468&quot;}, &quot;type&quot;: &quot;Feature&quot;}, {&quot;bbox&quot;: [16.9737675, 51.1325237, 16.9737675, 51.1325237], &quot;geometry&quot;: {&quot;coordinates&quot;: [16.9737675, 51.1325237], &quot;type&quot;: &quot;Point&quot;}, &quot;id&quot;: &quot;147&quot;, &quot;properties&quot;: {&quot;amenity&quot;: &quot;bicycle_rental&quot;, &quot;feature_id&quot;: &quot;node/9026402417&quot;}, &quot;type&quot;: &quot;Feature&quot;}, {&quot;bbox&quot;: [17.0636807, 51.0905654, 17.0636807, 51.0905654], &quot;geometry&quot;: {&quot;coordinates&quot;: [17.0636807, 51.0905654], &quot;type&quot;: &quot;Point&quot;}, &quot;id&quot;: &quot;148&quot;, &quot;properties&quot;: {&quot;amenity&quot;: &quot;bicycle_rental&quot;, &quot;feature_id&quot;: &quot;node/9149550033&quot;}, &quot;type&quot;: &quot;Feature&quot;}, {&quot;bbox&quot;: [17.0702364, 51.0781244, 17.0702364, 51.0781244], &quot;geometry&quot;: {&quot;coordinates&quot;: [17.0702364, 51.0781244], &quot;type&quot;: &quot;Point&quot;}, &quot;id&quot;: &quot;149&quot;, &quot;properties&quot;: {&quot;amenity&quot;: &quot;bicycle_rental&quot;, &quot;feature_id&quot;: &quot;node/9214859018&quot;}, &quot;type&quot;: &quot;Feature&quot;}, {&quot;bbox&quot;: [17.0436203, 51.1547501, 17.0436203, 51.1547501], &quot;geometry&quot;: {&quot;coordinates&quot;: [17.0436203, 51.1547501], &quot;type&quot;: &quot;Point&quot;}, &quot;id&quot;: &quot;150&quot;, &quot;properties&quot;: {&quot;amenity&quot;: &quot;bicycle_rental&quot;, &quot;feature_id&quot;: &quot;node/9671728276&quot;}, &quot;type&quot;: &quot;Feature&quot;}, {&quot;bbox&quot;: [17.0220961, 51.0567124, 17.0220961, 51.0567124], &quot;geometry&quot;: {&quot;coordinates&quot;: [17.0220961, 51.0567124], &quot;type&quot;: &quot;Point&quot;}, &quot;id&quot;: &quot;151&quot;, &quot;properties&quot;: {&quot;amenity&quot;: &quot;bicycle_rental&quot;, &quot;feature_id&quot;: &quot;node/9735611246&quot;}, &quot;type&quot;: &quot;Feature&quot;}, {&quot;bbox&quot;: [17.0839668, 51.0775684, 17.0839668, 51.0775684], &quot;geometry&quot;: {&quot;coordinates&quot;: [17.0839668, 51.0775684], &quot;type&quot;: &quot;Point&quot;}, &quot;id&quot;: &quot;152&quot;, &quot;properties&quot;: {&quot;amenity&quot;: &quot;bicycle_rental&quot;, &quot;feature_id&quot;: &quot;node/9737179097&quot;}, &quot;type&quot;: &quot;Feature&quot;}, {&quot;bbox&quot;: [16.9497612, 51.1070293, 16.9497612, 51.1070293], &quot;geometry&quot;: {&quot;coordinates&quot;: [16.9497612, 51.1070293], &quot;type&quot;: &quot;Point&quot;}, &quot;id&quot;: &quot;153&quot;, &quot;properties&quot;: {&quot;amenity&quot;: &quot;bicycle_rental&quot;, &quot;feature_id&quot;: &quot;node/9737179099&quot;}, &quot;type&quot;: &quot;Feature&quot;}, {&quot;bbox&quot;: [16.9534599, 51.1186735, 16.9534599, 51.1186735], &quot;geometry&quot;: {&quot;coordinates&quot;: [16.9534599, 51.1186735], &quot;type&quot;: &quot;Point&quot;}, &quot;id&quot;: &quot;154&quot;, &quot;properties&quot;: {&quot;amenity&quot;: &quot;bicycle_rental&quot;, &quot;feature_id&quot;: &quot;node/9737190948&quot;}, &quot;type&quot;: &quot;Feature&quot;}, {&quot;bbox&quot;: [17.0361699, 51.1284376, 17.0361699, 51.1284376], &quot;geometry&quot;: {&quot;coordinates&quot;: [17.0361699, 51.1284376], &quot;type&quot;: &quot;Point&quot;}, &quot;id&quot;: &quot;155&quot;, &quot;properties&quot;: {&quot;amenity&quot;: &quot;bicycle_rental&quot;, &quot;feature_id&quot;: &quot;node/9737192933&quot;}, &quot;type&quot;: &quot;Feature&quot;}, {&quot;bbox&quot;: [17.0302929, 51.1368468, 17.0302929, 51.1368468], &quot;geometry&quot;: {&quot;coordinates&quot;: [17.0302929, 51.1368468], &quot;type&quot;: &quot;Point&quot;}, &quot;id&quot;: &quot;156&quot;, &quot;properties&quot;: {&quot;amenity&quot;: &quot;bicycle_rental&quot;, &quot;feature_id&quot;: &quot;node/9737201118&quot;}, &quot;type&quot;: &quot;Feature&quot;}, {&quot;bbox&quot;: [17.0467569, 51.0771457, 17.0467569, 51.0771457], &quot;geometry&quot;: {&quot;coordinates&quot;: [17.0467569, 51.0771457], &quot;type&quot;: &quot;Point&quot;}, &quot;id&quot;: &quot;157&quot;, &quot;properties&quot;: {&quot;amenity&quot;: &quot;bicycle_rental&quot;, &quot;feature_id&quot;: &quot;node/9737210007&quot;}, &quot;type&quot;: &quot;Feature&quot;}, {&quot;bbox&quot;: [16.9506377, 51.1235405, 16.9506377, 51.1235405], &quot;geometry&quot;: {&quot;coordinates&quot;: [16.9506377, 51.1235405], &quot;type&quot;: &quot;Point&quot;}, &quot;id&quot;: &quot;158&quot;, &quot;properties&quot;: {&quot;amenity&quot;: &quot;bicycle_rental&quot;, &quot;feature_id&quot;: &quot;node/9737217030&quot;}, &quot;type&quot;: &quot;Feature&quot;}, {&quot;bbox&quot;: [16.9782329, 51.1125367, 16.9782329, 51.1125367], &quot;geometry&quot;: {&quot;coordinates&quot;: [16.9782329, 51.1125367], &quot;type&quot;: &quot;Point&quot;}, &quot;id&quot;: &quot;159&quot;, &quot;properties&quot;: {&quot;amenity&quot;: &quot;bicycle_rental&quot;, &quot;feature_id&quot;: &quot;node/9737342281&quot;}, &quot;type&quot;: &quot;Feature&quot;}, {&quot;bbox&quot;: [17.0202931, 51.1389143, 17.0202931, 51.1389143], &quot;geometry&quot;: {&quot;coordinates&quot;: [17.0202931, 51.1389143], &quot;type&quot;: &quot;Point&quot;}, &quot;id&quot;: &quot;160&quot;, &quot;properties&quot;: {&quot;amenity&quot;: &quot;bicycle_rental&quot;, &quot;feature_id&quot;: &quot;node/9737342282&quot;}, &quot;type&quot;: &quot;Feature&quot;}, {&quot;bbox&quot;: [17.1145226, 51.1276743, 17.1145226, 51.1276743], &quot;geometry&quot;: {&quot;coordinates&quot;: [17.1145226, 51.1276743], &quot;type&quot;: &quot;Point&quot;}, &quot;id&quot;: &quot;161&quot;, &quot;properties&quot;: {&quot;amenity&quot;: &quot;bicycle_rental&quot;, &quot;feature_id&quot;: &quot;node/9737342283&quot;}, &quot;type&quot;: &quot;Feature&quot;}, {&quot;bbox&quot;: [17.1167133, 51.1451711, 17.1167133, 51.1451711], &quot;geometry&quot;: {&quot;coordinates&quot;: [17.1167133, 51.1451711], &quot;type&quot;: &quot;Point&quot;}, &quot;id&quot;: &quot;162&quot;, &quot;properties&quot;: {&quot;amenity&quot;: &quot;bicycle_rental&quot;, &quot;feature_id&quot;: &quot;node/9737342284&quot;}, &quot;type&quot;: &quot;Feature&quot;}, {&quot;bbox&quot;: [17.042906, 51.0723641, 17.042906, 51.0723641], &quot;geometry&quot;: {&quot;coordinates&quot;: [17.042906, 51.0723641], &quot;type&quot;: &quot;Point&quot;}, &quot;id&quot;: &quot;163&quot;, &quot;properties&quot;: {&quot;amenity&quot;: &quot;bicycle_rental&quot;, &quot;feature_id&quot;: &quot;node/9737342285&quot;}, &quot;type&quot;: &quot;Feature&quot;}, {&quot;bbox&quot;: [16.9773026, 51.1386158, 16.9773026, 51.1386158], &quot;geometry&quot;: {&quot;coordinates&quot;: [16.9773026, 51.1386158], &quot;type&quot;: &quot;Point&quot;}, &quot;id&quot;: &quot;164&quot;, &quot;properties&quot;: {&quot;amenity&quot;: &quot;bicycle_rental&quot;, &quot;feature_id&quot;: &quot;node/9737342286&quot;}, &quot;type&quot;: &quot;Feature&quot;}, {&quot;bbox&quot;: [17.00773, 51.08, 17.00773, 51.08], &quot;geometry&quot;: {&quot;coordinates&quot;: [17.00773, 51.08], &quot;type&quot;: &quot;Point&quot;}, &quot;id&quot;: &quot;165&quot;, &quot;properties&quot;: {&quot;amenity&quot;: &quot;bicycle_rental&quot;, &quot;feature_id&quot;: &quot;node/9737342288&quot;}, &quot;type&quot;: &quot;Feature&quot;}, {&quot;bbox&quot;: [17.0685756, 51.0975661, 17.0685756, 51.0975661], &quot;geometry&quot;: {&quot;coordinates&quot;: [17.0685756, 51.0975661], &quot;type&quot;: &quot;Point&quot;}, &quot;id&quot;: &quot;166&quot;, &quot;properties&quot;: {&quot;amenity&quot;: &quot;bicycle_rental&quot;, &quot;feature_id&quot;: &quot;node/9737342289&quot;}, &quot;type&quot;: &quot;Feature&quot;}, {&quot;bbox&quot;: [17.1025376, 51.1277686, 17.1025376, 51.1277686], &quot;geometry&quot;: {&quot;coordinates&quot;: [17.1025376, 51.1277686], &quot;type&quot;: &quot;Point&quot;}, &quot;id&quot;: &quot;167&quot;, &quot;properties&quot;: {&quot;amenity&quot;: &quot;bicycle_rental&quot;, &quot;feature_id&quot;: &quot;node/9737342290&quot;}, &quot;type&quot;: &quot;Feature&quot;}, {&quot;bbox&quot;: [16.920267, 51.165428, 16.920267, 51.165428], &quot;geometry&quot;: {&quot;coordinates&quot;: [16.920267, 51.165428], &quot;type&quot;: &quot;Point&quot;}, &quot;id&quot;: &quot;168&quot;, &quot;properties&quot;: {&quot;amenity&quot;: &quot;bicycle_rental&quot;, &quot;feature_id&quot;: &quot;node/9737342291&quot;}, &quot;type&quot;: &quot;Feature&quot;}, {&quot;bbox&quot;: [17.1108164, 51.1319786, 17.1108164, 51.1319786], &quot;geometry&quot;: {&quot;coordinates&quot;: [17.1108164, 51.1319786], &quot;type&quot;: &quot;Point&quot;}, &quot;id&quot;: &quot;169&quot;, &quot;properties&quot;: {&quot;amenity&quot;: &quot;bicycle_rental&quot;, &quot;feature_id&quot;: &quot;node/9737342292&quot;}, &quot;type&quot;: &quot;Feature&quot;}, {&quot;bbox&quot;: [17.0044825, 51.0855911, 17.0044825, 51.0855911], &quot;geometry&quot;: {&quot;coordinates&quot;: [17.0044825, 51.0855911], &quot;type&quot;: &quot;Point&quot;}, &quot;id&quot;: &quot;170&quot;, &quot;properties&quot;: {&quot;amenity&quot;: &quot;bicycle_rental&quot;, &quot;feature_id&quot;: &quot;node/9737342294&quot;}, &quot;type&quot;: &quot;Feature&quot;}, {&quot;bbox&quot;: [17.0235, 51.09009, 17.0235, 51.09009], &quot;geometry&quot;: {&quot;coordinates&quot;: [17.0235, 51.09009], &quot;type&quot;: &quot;Point&quot;}, &quot;id&quot;: &quot;171&quot;, &quot;properties&quot;: {&quot;amenity&quot;: &quot;bicycle_rental&quot;, &quot;feature_id&quot;: &quot;node/9737342295&quot;}, &quot;type&quot;: &quot;Feature&quot;}, {&quot;bbox&quot;: [16.9690839, 51.1094617, 16.9690839, 51.1094617], &quot;geometry&quot;: {&quot;coordinates&quot;: [16.9690839, 51.1094617], &quot;type&quot;: &quot;Point&quot;}, &quot;id&quot;: &quot;172&quot;, &quot;properties&quot;: {&quot;amenity&quot;: &quot;bicycle_rental&quot;, &quot;feature_id&quot;: &quot;node/9737342296&quot;}, &quot;type&quot;: &quot;Feature&quot;}, {&quot;bbox&quot;: [17.0909078, 51.0712788, 17.0909078, 51.0712788], &quot;geometry&quot;: {&quot;coordinates&quot;: [17.0909078, 51.0712788], &quot;type&quot;: &quot;Point&quot;}, &quot;id&quot;: &quot;173&quot;, &quot;properties&quot;: {&quot;amenity&quot;: &quot;bicycle_rental&quot;, &quot;feature_id&quot;: &quot;node/9737342297&quot;}, &quot;type&quot;: &quot;Feature&quot;}, {&quot;bbox&quot;: [17.0567521, 51.0585084, 17.0567521, 51.0585084], &quot;geometry&quot;: {&quot;coordinates&quot;: [17.0567521, 51.0585084], &quot;type&quot;: &quot;Point&quot;}, &quot;id&quot;: &quot;174&quot;, &quot;properties&quot;: {&quot;amenity&quot;: &quot;bicycle_rental&quot;, &quot;feature_id&quot;: &quot;node/9737342298&quot;}, &quot;type&quot;: &quot;Feature&quot;}, {&quot;bbox&quot;: [16.9380455, 51.1496079, 16.9380455, 51.1496079], &quot;geometry&quot;: {&quot;coordinates&quot;: [16.9380455, 51.1496079], &quot;type&quot;: &quot;Point&quot;}, &quot;id&quot;: &quot;175&quot;, &quot;properties&quot;: {&quot;amenity&quot;: &quot;bicycle_rental&quot;, &quot;feature_id&quot;: &quot;node/9737342299&quot;}, &quot;type&quot;: &quot;Feature&quot;}, {&quot;bbox&quot;: [16.902364, 51.171074, 16.902364, 51.171074], &quot;geometry&quot;: {&quot;coordinates&quot;: [16.902364, 51.171074], &quot;type&quot;: &quot;Point&quot;}, &quot;id&quot;: &quot;176&quot;, &quot;properties&quot;: {&quot;amenity&quot;: &quot;bicycle_rental&quot;, &quot;feature_id&quot;: &quot;node/9737342300&quot;}, &quot;type&quot;: &quot;Feature&quot;}, {&quot;bbox&quot;: [17.0204869, 51.1484983, 17.0204869, 51.1484983], &quot;geometry&quot;: {&quot;coordinates&quot;: [17.0204869, 51.1484983], &quot;type&quot;: &quot;Point&quot;}, &quot;id&quot;: &quot;177&quot;, &quot;properties&quot;: {&quot;amenity&quot;: &quot;bicycle_rental&quot;, &quot;feature_id&quot;: &quot;node/9737342301&quot;}, &quot;type&quot;: &quot;Feature&quot;}, {&quot;bbox&quot;: [17.1235928, 51.1417981, 17.1235928, 51.1417981], &quot;geometry&quot;: {&quot;coordinates&quot;: [17.1235928, 51.1417981], &quot;type&quot;: &quot;Point&quot;}, &quot;id&quot;: &quot;178&quot;, &quot;properties&quot;: {&quot;amenity&quot;: &quot;bicycle_rental&quot;, &quot;feature_id&quot;: &quot;node/9737342302&quot;}, &quot;type&quot;: &quot;Feature&quot;}, {&quot;bbox&quot;: [17.1349294, 51.1457381, 17.1349294, 51.1457381], &quot;geometry&quot;: {&quot;coordinates&quot;: [17.1349294, 51.1457381], &quot;type&quot;: &quot;Point&quot;}, &quot;id&quot;: &quot;179&quot;, &quot;properties&quot;: {&quot;amenity&quot;: &quot;bicycle_rental&quot;, &quot;feature_id&quot;: &quot;node/9737342303&quot;}, &quot;type&quot;: &quot;Feature&quot;}, {&quot;bbox&quot;: [16.8988699, 51.1543589, 16.8988699, 51.1543589], &quot;geometry&quot;: {&quot;coordinates&quot;: [16.8988699, 51.1543589], &quot;type&quot;: &quot;Point&quot;}, &quot;id&quot;: &quot;180&quot;, &quot;properties&quot;: {&quot;amenity&quot;: &quot;bicycle_rental&quot;, &quot;feature_id&quot;: &quot;node/9737342304&quot;}, &quot;type&quot;: &quot;Feature&quot;}, {&quot;bbox&quot;: [16.8965473, 51.1632049, 16.8965473, 51.1632049], &quot;geometry&quot;: {&quot;coordinates&quot;: [16.8965473, 51.1632049], &quot;type&quot;: &quot;Point&quot;}, &quot;id&quot;: &quot;181&quot;, &quot;properties&quot;: {&quot;amenity&quot;: &quot;bicycle_rental&quot;, &quot;feature_id&quot;: &quot;node/9737342305&quot;}, &quot;type&quot;: &quot;Feature&quot;}, {&quot;bbox&quot;: [17.1304438, 51.1146314, 17.1304438, 51.1146314], &quot;geometry&quot;: {&quot;coordinates&quot;: [17.1304438, 51.1146314], &quot;type&quot;: &quot;Point&quot;}, &quot;id&quot;: &quot;182&quot;, &quot;properties&quot;: {&quot;amenity&quot;: &quot;bicycle_rental&quot;, &quot;feature_id&quot;: &quot;node/9737342306&quot;}, &quot;type&quot;: &quot;Feature&quot;}, {&quot;bbox&quot;: [17.1164732, 51.1022314, 17.1164732, 51.1022314], &quot;geometry&quot;: {&quot;coordinates&quot;: [17.1164732, 51.1022314], &quot;type&quot;: &quot;Point&quot;}, &quot;id&quot;: &quot;183&quot;, &quot;properties&quot;: {&quot;amenity&quot;: &quot;bicycle_rental&quot;, &quot;feature_id&quot;: &quot;node/9737342307&quot;}, &quot;type&quot;: &quot;Feature&quot;}, {&quot;bbox&quot;: [17.1272517, 51.1423288, 17.1272517, 51.1423288], &quot;geometry&quot;: {&quot;coordinates&quot;: [17.1272517, 51.1423288], &quot;type&quot;: &quot;Point&quot;}, &quot;id&quot;: &quot;184&quot;, &quot;properties&quot;: {&quot;amenity&quot;: &quot;bicycle_rental&quot;, &quot;feature_id&quot;: &quot;node/9737342308&quot;}, &quot;type&quot;: &quot;Feature&quot;}, {&quot;bbox&quot;: [17.0511437, 51.0872512, 17.0511437, 51.0872512], &quot;geometry&quot;: {&quot;coordinates&quot;: [17.0511437, 51.0872512], &quot;type&quot;: &quot;Point&quot;}, &quot;id&quot;: &quot;185&quot;, &quot;properties&quot;: {&quot;amenity&quot;: &quot;bicycle_rental&quot;, &quot;feature_id&quot;: &quot;node/9737342309&quot;}, &quot;type&quot;: &quot;Feature&quot;}, {&quot;bbox&quot;: [17.0956331, 51.1180422, 17.0956331, 51.1180422], &quot;geometry&quot;: {&quot;coordinates&quot;: [17.0956331, 51.1180422], &quot;type&quot;: &quot;Point&quot;}, &quot;id&quot;: &quot;186&quot;, &quot;properties&quot;: {&quot;amenity&quot;: &quot;bicycle_rental&quot;, &quot;feature_id&quot;: &quot;node/9737342310&quot;}, &quot;type&quot;: &quot;Feature&quot;}, {&quot;bbox&quot;: [17.1429562, 51.1066649, 17.1429562, 51.1066649], &quot;geometry&quot;: {&quot;coordinates&quot;: [17.1429562, 51.1066649], &quot;type&quot;: &quot;Point&quot;}, &quot;id&quot;: &quot;187&quot;, &quot;properties&quot;: {&quot;amenity&quot;: &quot;bicycle_rental&quot;, &quot;feature_id&quot;: &quot;node/9737342311&quot;}, &quot;type&quot;: &quot;Feature&quot;}, {&quot;bbox&quot;: [16.99485, 51.07329, 16.99485, 51.07329], &quot;geometry&quot;: {&quot;coordinates&quot;: [16.99485, 51.07329], &quot;type&quot;: &quot;Point&quot;}, &quot;id&quot;: &quot;188&quot;, &quot;properties&quot;: {&quot;amenity&quot;: &quot;bicycle_rental&quot;, &quot;feature_id&quot;: &quot;node/9737342312&quot;}, &quot;type&quot;: &quot;Feature&quot;}, {&quot;bbox&quot;: [16.9857815, 51.0911835, 16.9857815, 51.0911835], &quot;geometry&quot;: {&quot;coordinates&quot;: [16.9857815, 51.0911835], &quot;type&quot;: &quot;Point&quot;}, &quot;id&quot;: &quot;189&quot;, &quot;properties&quot;: {&quot;amenity&quot;: &quot;bicycle_rental&quot;, &quot;feature_id&quot;: &quot;node/9737342313&quot;}, &quot;type&quot;: &quot;Feature&quot;}, {&quot;bbox&quot;: [17.0482768, 51.0828263, 17.0482768, 51.0828263], &quot;geometry&quot;: {&quot;coordinates&quot;: [17.0482768, 51.0828263], &quot;type&quot;: &quot;Point&quot;}, &quot;id&quot;: &quot;190&quot;, &quot;properties&quot;: {&quot;amenity&quot;: &quot;bicycle_rental&quot;, &quot;feature_id&quot;: &quot;node/9737342314&quot;}, &quot;type&quot;: &quot;Feature&quot;}, {&quot;bbox&quot;: [17.0392837, 51.0877753, 17.0392837, 51.0877753], &quot;geometry&quot;: {&quot;coordinates&quot;: [17.0392837, 51.0877753], &quot;type&quot;: &quot;Point&quot;}, &quot;id&quot;: &quot;191&quot;, &quot;properties&quot;: {&quot;amenity&quot;: &quot;bicycle_rental&quot;, &quot;feature_id&quot;: &quot;node/9737342315&quot;}, &quot;type&quot;: &quot;Feature&quot;}, {&quot;bbox&quot;: [17.0352193, 51.0835417, 17.0352193, 51.0835417], &quot;geometry&quot;: {&quot;coordinates&quot;: [17.0352193, 51.0835417], &quot;type&quot;: &quot;Point&quot;}, &quot;id&quot;: &quot;192&quot;, &quot;properties&quot;: {&quot;amenity&quot;: &quot;bicycle_rental&quot;, &quot;feature_id&quot;: &quot;node/9737342316&quot;}, &quot;type&quot;: &quot;Feature&quot;}, {&quot;bbox&quot;: [17.0307021, 51.1227422, 17.0307021, 51.1227422], &quot;geometry&quot;: {&quot;coordinates&quot;: [17.0307021, 51.1227422], &quot;type&quot;: &quot;Point&quot;}, &quot;id&quot;: &quot;193&quot;, &quot;properties&quot;: {&quot;amenity&quot;: &quot;bicycle_rental&quot;, &quot;feature_id&quot;: &quot;node/9737346817&quot;}, &quot;type&quot;: &quot;Feature&quot;}, {&quot;bbox&quot;: [16.8762627, 51.120901, 16.8762627, 51.120901], &quot;geometry&quot;: {&quot;coordinates&quot;: [16.8762627, 51.120901], &quot;type&quot;: &quot;Point&quot;}, &quot;id&quot;: &quot;194&quot;, &quot;properties&quot;: {&quot;amenity&quot;: &quot;bicycle_rental&quot;, &quot;feature_id&quot;: &quot;node/9737346818&quot;}, &quot;type&quot;: &quot;Feature&quot;}, {&quot;bbox&quot;: [17.0582246, 51.0662947, 17.0582246, 51.0662947], &quot;geometry&quot;: {&quot;coordinates&quot;: [17.0582246, 51.0662947], &quot;type&quot;: &quot;Point&quot;}, &quot;id&quot;: &quot;195&quot;, &quot;properties&quot;: {&quot;amenity&quot;: &quot;bicycle_rental&quot;, &quot;feature_id&quot;: &quot;node/9737346819&quot;}, &quot;type&quot;: &quot;Feature&quot;}, {&quot;bbox&quot;: [16.99435, 51.06667, 16.99435, 51.06667], &quot;geometry&quot;: {&quot;coordinates&quot;: [16.99435, 51.06667], &quot;type&quot;: &quot;Point&quot;}, &quot;id&quot;: &quot;196&quot;, &quot;properties&quot;: {&quot;amenity&quot;: &quot;bicycle_rental&quot;, &quot;feature_id&quot;: &quot;node/9737346820&quot;}, &quot;type&quot;: &quot;Feature&quot;}, {&quot;bbox&quot;: [17.0039015, 51.0683655, 17.0039015, 51.0683655], &quot;geometry&quot;: {&quot;coordinates&quot;: [17.0039015, 51.0683655], &quot;type&quot;: &quot;Point&quot;}, &quot;id&quot;: &quot;197&quot;, &quot;properties&quot;: {&quot;amenity&quot;: &quot;bicycle_rental&quot;, &quot;feature_id&quot;: &quot;node/9737346821&quot;}, &quot;type&quot;: &quot;Feature&quot;}, {&quot;bbox&quot;: [17.0259294, 51.1415886, 17.0259294, 51.1415886], &quot;geometry&quot;: {&quot;coordinates&quot;: [17.0259294, 51.1415886], &quot;type&quot;: &quot;Point&quot;}, &quot;id&quot;: &quot;198&quot;, &quot;properties&quot;: {&quot;amenity&quot;: &quot;bicycle_rental&quot;, &quot;feature_id&quot;: &quot;node/9737346822&quot;}, &quot;type&quot;: &quot;Feature&quot;}, {&quot;bbox&quot;: [17.0321238, 51.139571, 17.0321238, 51.139571], &quot;geometry&quot;: {&quot;coordinates&quot;: [17.0321238, 51.139571], &quot;type&quot;: &quot;Point&quot;}, &quot;id&quot;: &quot;199&quot;, &quot;properties&quot;: {&quot;amenity&quot;: &quot;bicycle_rental&quot;, &quot;feature_id&quot;: &quot;node/9737346823&quot;}, &quot;type&quot;: &quot;Feature&quot;}, {&quot;bbox&quot;: [17.1084412, 51.1014306, 17.1084412, 51.1014306], &quot;geometry&quot;: {&quot;coordinates&quot;: [17.1084412, 51.1014306], &quot;type&quot;: &quot;Point&quot;}, &quot;id&quot;: &quot;200&quot;, &quot;properties&quot;: {&quot;amenity&quot;: &quot;bicycle_rental&quot;, &quot;feature_id&quot;: &quot;node/9737346824&quot;}, &quot;type&quot;: &quot;Feature&quot;}, {&quot;bbox&quot;: [17.1017616, 51.1020864, 17.1017616, 51.1020864], &quot;geometry&quot;: {&quot;coordinates&quot;: [17.1017616, 51.1020864], &quot;type&quot;: &quot;Point&quot;}, &quot;id&quot;: &quot;201&quot;, &quot;properties&quot;: {&quot;amenity&quot;: &quot;bicycle_rental&quot;, &quot;feature_id&quot;: &quot;node/9737346825&quot;}, &quot;type&quot;: &quot;Feature&quot;}, {&quot;bbox&quot;: [17.0787902, 51.0592849, 17.0787902, 51.0592849], &quot;geometry&quot;: {&quot;coordinates&quot;: [17.0787902, 51.0592849], &quot;type&quot;: &quot;Point&quot;}, &quot;id&quot;: &quot;202&quot;, &quot;properties&quot;: {&quot;amenity&quot;: &quot;bicycle_rental&quot;, &quot;feature_id&quot;: &quot;node/9737346826&quot;}, &quot;type&quot;: &quot;Feature&quot;}, {&quot;bbox&quot;: [17.0423026, 51.1470591, 17.0423026, 51.1470591], &quot;geometry&quot;: {&quot;coordinates&quot;: [17.0423026, 51.1470591], &quot;type&quot;: &quot;Point&quot;}, &quot;id&quot;: &quot;203&quot;, &quot;properties&quot;: {&quot;amenity&quot;: &quot;bicycle_rental&quot;, &quot;feature_id&quot;: &quot;node/9737346827&quot;}, &quot;type&quot;: &quot;Feature&quot;}, {&quot;bbox&quot;: [16.9581996, 51.1406988, 16.9581996, 51.1406988], &quot;geometry&quot;: {&quot;coordinates&quot;: [16.9581996, 51.1406988], &quot;type&quot;: &quot;Point&quot;}, &quot;id&quot;: &quot;204&quot;, &quot;properties&quot;: {&quot;amenity&quot;: &quot;bicycle_rental&quot;, &quot;feature_id&quot;: &quot;node/9737346828&quot;}, &quot;type&quot;: &quot;Feature&quot;}, {&quot;bbox&quot;: [16.95499, 51.12658, 16.95499, 51.12658], &quot;geometry&quot;: {&quot;coordinates&quot;: [16.95499, 51.12658], &quot;type&quot;: &quot;Point&quot;}, &quot;id&quot;: &quot;205&quot;, &quot;properties&quot;: {&quot;amenity&quot;: &quot;bicycle_rental&quot;, &quot;feature_id&quot;: &quot;node/9737346829&quot;}, &quot;type&quot;: &quot;Feature&quot;}, {&quot;bbox&quot;: [16.927771, 51.1575529, 16.927771, 51.1575529], &quot;geometry&quot;: {&quot;coordinates&quot;: [16.927771, 51.1575529], &quot;type&quot;: &quot;Point&quot;}, &quot;id&quot;: &quot;206&quot;, &quot;properties&quot;: {&quot;amenity&quot;: &quot;bicycle_rental&quot;, &quot;feature_id&quot;: &quot;node/9737346830&quot;}, &quot;type&quot;: &quot;Feature&quot;}, {&quot;bbox&quot;: [17.0147808, 51.0943131, 17.0147808, 51.0943131], &quot;geometry&quot;: {&quot;coordinates&quot;: [17.0147808, 51.0943131], &quot;type&quot;: &quot;Point&quot;}, &quot;id&quot;: &quot;207&quot;, &quot;properties&quot;: {&quot;amenity&quot;: &quot;bicycle_rental&quot;, &quot;feature_id&quot;: &quot;node/9737346831&quot;}, &quot;type&quot;: &quot;Feature&quot;}, {&quot;bbox&quot;: [17.0280745, 51.1269306, 17.0280745, 51.1269306], &quot;geometry&quot;: {&quot;coordinates&quot;: [17.0280745, 51.1269306], &quot;type&quot;: &quot;Point&quot;}, &quot;id&quot;: &quot;208&quot;, &quot;properties&quot;: {&quot;amenity&quot;: &quot;bicycle_rental&quot;, &quot;feature_id&quot;: &quot;node/9737346832&quot;}, &quot;type&quot;: &quot;Feature&quot;}, {&quot;bbox&quot;: [17.0769948, 51.0815243, 17.0769948, 51.0815243], &quot;geometry&quot;: {&quot;coordinates&quot;: [17.0769948, 51.0815243], &quot;type&quot;: &quot;Point&quot;}, &quot;id&quot;: &quot;209&quot;, &quot;properties&quot;: {&quot;amenity&quot;: &quot;bicycle_rental&quot;, &quot;feature_id&quot;: &quot;node/9737346833&quot;}, &quot;type&quot;: &quot;Feature&quot;}, {&quot;bbox&quot;: [16.9552112, 51.1105238, 16.9552112, 51.1105238], &quot;geometry&quot;: {&quot;coordinates&quot;: [16.9552112, 51.1105238], &quot;type&quot;: &quot;Point&quot;}, &quot;id&quot;: &quot;210&quot;, &quot;properties&quot;: {&quot;amenity&quot;: &quot;bicycle_rental&quot;, &quot;feature_id&quot;: &quot;node/9737346834&quot;}, &quot;type&quot;: &quot;Feature&quot;}, {&quot;bbox&quot;: [17.01411, 51.0586, 17.01411, 51.0586], &quot;geometry&quot;: {&quot;coordinates&quot;: [17.01411, 51.0586], &quot;type&quot;: &quot;Point&quot;}, &quot;id&quot;: &quot;211&quot;, &quot;properties&quot;: {&quot;amenity&quot;: &quot;bicycle_rental&quot;, &quot;feature_id&quot;: &quot;node/9737346835&quot;}, &quot;type&quot;: &quot;Feature&quot;}, {&quot;bbox&quot;: [17.0288684, 51.1506559, 17.0288684, 51.1506559], &quot;geometry&quot;: {&quot;coordinates&quot;: [17.0288684, 51.1506559], &quot;type&quot;: &quot;Point&quot;}, &quot;id&quot;: &quot;212&quot;, &quot;properties&quot;: {&quot;amenity&quot;: &quot;bicycle_rental&quot;, &quot;feature_id&quot;: &quot;node/9737346836&quot;}, &quot;type&quot;: &quot;Feature&quot;}, {&quot;bbox&quot;: [16.9999013, 51.1807762, 16.9999013, 51.1807762], &quot;geometry&quot;: {&quot;coordinates&quot;: [16.9999013, 51.1807762], &quot;type&quot;: &quot;Point&quot;}, &quot;id&quot;: &quot;213&quot;, &quot;properties&quot;: {&quot;amenity&quot;: &quot;bicycle_rental&quot;, &quot;feature_id&quot;: &quot;node/10744085858&quot;}, &quot;type&quot;: &quot;Feature&quot;}, {&quot;bbox&quot;: [17.0676873, 51.1113491, 17.0676873, 51.1113491], &quot;geometry&quot;: {&quot;coordinates&quot;: [17.0676873, 51.1113491], &quot;type&quot;: &quot;Point&quot;}, &quot;id&quot;: &quot;214&quot;, &quot;properties&quot;: {&quot;amenity&quot;: &quot;bicycle_rental&quot;, &quot;feature_id&quot;: &quot;node/10795681856&quot;}, &quot;type&quot;: &quot;Feature&quot;}, {&quot;bbox&quot;: [16.9507594, 51.0906137, 16.9507594, 51.0906137], &quot;geometry&quot;: {&quot;coordinates&quot;: [16.9507594, 51.0906137], &quot;type&quot;: &quot;Point&quot;}, &quot;id&quot;: &quot;215&quot;, &quot;properties&quot;: {&quot;amenity&quot;: &quot;bicycle_rental&quot;, &quot;feature_id&quot;: &quot;node/10965045827&quot;}, &quot;type&quot;: &quot;Feature&quot;}, {&quot;bbox&quot;: [17.0657128, 51.0615143, 17.0657128, 51.0615143], &quot;geometry&quot;: {&quot;coordinates&quot;: [17.0657128, 51.0615143], &quot;type&quot;: &quot;Point&quot;}, &quot;id&quot;: &quot;216&quot;, &quot;properties&quot;: {&quot;amenity&quot;: &quot;bicycle_rental&quot;, &quot;feature_id&quot;: &quot;node/10965618794&quot;}, &quot;type&quot;: &quot;Feature&quot;}, {&quot;bbox&quot;: [17.1279348, 51.1514047, 17.1279348, 51.1514047], &quot;geometry&quot;: {&quot;coordinates&quot;: [17.1279348, 51.1514047], &quot;type&quot;: &quot;Point&quot;}, &quot;id&quot;: &quot;217&quot;, &quot;properties&quot;: {&quot;amenity&quot;: &quot;bicycle_rental&quot;, &quot;feature_id&quot;: &quot;node/10965626912&quot;}, &quot;type&quot;: &quot;Feature&quot;}, {&quot;bbox&quot;: [17.0912761, 51.0475645, 17.0912761, 51.0475645], &quot;geometry&quot;: {&quot;coordinates&quot;: [17.0912761, 51.0475645], &quot;type&quot;: &quot;Point&quot;}, &quot;id&quot;: &quot;218&quot;, &quot;properties&quot;: {&quot;amenity&quot;: &quot;bicycle_rental&quot;, &quot;feature_id&quot;: &quot;node/10968200417&quot;}, &quot;type&quot;: &quot;Feature&quot;}, {&quot;bbox&quot;: [17.1091739, 51.1684527, 17.1091739, 51.1684527], &quot;geometry&quot;: {&quot;coordinates&quot;: [17.1091739, 51.1684527], &quot;type&quot;: &quot;Point&quot;}, &quot;id&quot;: &quot;219&quot;, &quot;properties&quot;: {&quot;amenity&quot;: &quot;bicycle_rental&quot;, &quot;feature_id&quot;: &quot;node/10968228138&quot;}, &quot;type&quot;: &quot;Feature&quot;}, {&quot;bbox&quot;: [17.0525642, 51.058312, 17.0525642, 51.058312], &quot;geometry&quot;: {&quot;coordinates&quot;: [17.0525642, 51.058312], &quot;type&quot;: &quot;Point&quot;}, &quot;id&quot;: &quot;220&quot;, &quot;properties&quot;: {&quot;amenity&quot;: &quot;bicycle_rental&quot;, &quot;feature_id&quot;: &quot;node/10968233567&quot;}, &quot;type&quot;: &quot;Feature&quot;}, {&quot;bbox&quot;: [16.9974796, 51.1667984, 16.9974796, 51.1667984], &quot;geometry&quot;: {&quot;coordinates&quot;: [16.9974796, 51.1667984], &quot;type&quot;: &quot;Point&quot;}, &quot;id&quot;: &quot;221&quot;, &quot;properties&quot;: {&quot;amenity&quot;: &quot;bicycle_rental&quot;, &quot;feature_id&quot;: &quot;node/10975174144&quot;}, &quot;type&quot;: &quot;Feature&quot;}, {&quot;bbox&quot;: [17.0531268, 51.0847256, 17.0531268, 51.0847256], &quot;geometry&quot;: {&quot;coordinates&quot;: [17.0531268, 51.0847256], &quot;type&quot;: &quot;Point&quot;}, &quot;id&quot;: &quot;222&quot;, &quot;properties&quot;: {&quot;amenity&quot;: &quot;bicycle_rental&quot;, &quot;feature_id&quot;: &quot;node/11080379793&quot;}, &quot;type&quot;: &quot;Feature&quot;}], &quot;type&quot;: &quot;FeatureCollection&quot;});\n",
       "\n",
       "        \n",
       "    \n",
       "    geo_json_9d69cd4ecac98b767ecb537563573796.bindTooltip(\n",
       "    function(layer){\n",
       "    let div = L.DomUtil.create(&#x27;div&#x27;);\n",
       "    \n",
       "    let handleObject = feature=&gt;typeof(feature)==&#x27;object&#x27; ? JSON.stringify(feature) : feature;\n",
       "    let fields = [&quot;feature_id&quot;, &quot;amenity&quot;];\n",
       "    let aliases = [&quot;feature_id&quot;, &quot;amenity&quot;];\n",
       "    let table = &#x27;&lt;table&gt;&#x27; +\n",
       "        String(\n",
       "        fields.map(\n",
       "        (v,i)=&gt;\n",
       "        `&lt;tr&gt;\n",
       "            &lt;th&gt;${aliases[i]}&lt;/th&gt;\n",
       "            \n",
       "            &lt;td&gt;${handleObject(layer.feature.properties[v])}&lt;/td&gt;\n",
       "        &lt;/tr&gt;`).join(&#x27;&#x27;))\n",
       "    +&#x27;&lt;/table&gt;&#x27;;\n",
       "    div.innerHTML=table;\n",
       "    \n",
       "    return div\n",
       "    }\n",
       "    ,{&quot;className&quot;: &quot;foliumtooltip&quot;, &quot;sticky&quot;: true});\n",
       "                     \n",
       "&lt;/script&gt;\n",
       "&lt;/html&gt;\" style=\"position:absolute;width:100%;height:100%;left:0;top:0;border:none !important;\" allowfullscreen webkitallowfullscreen mozallowfullscreen></iframe></div></div>"
      ],
      "text/plain": [
       "<folium.folium.Map at 0x7f4ab9e5b790>"
      ]
     },
     "execution_count": 39,
     "metadata": {},
     "output_type": "execute_result"
    }
   ],
   "source": [
    "loader = OSMOnlineLoader()\n",
    "stations = loader.load(source_area, bike_stations_osm_tag)\n",
    "stations.explore()"
   ]
  },
  {
   "cell_type": "markdown",
   "metadata": {},
   "source": [
    "### Load pre-trained embedding model\n",
    "\n",
    "We use pre-trained hex2vec model. This one was trained by us on all polish cities with 50k+ inhabitants. Models are available for download, link in [our repo](https://github.com/kraina-ai/srai#pre-trained-models-usage). For this tutorial, model for resoulution 10 is already downloaded and placed in `models` directory."
   ]
  },
  {
   "cell_type": "code",
   "execution_count": 43,
   "metadata": {},
   "outputs": [
    {
     "data": {
      "text/plain": [
       "0           aeroway_aerodrome\n",
       "1               aeroway_apron\n",
       "2                aeroway_gate\n",
       "3              aeroway_hangar\n",
       "4             aeroway_helipad\n",
       "                ...          \n",
       "720    waterway_tidal_channel\n",
       "721    waterway_turning_point\n",
       "722      waterway_water_point\n",
       "723        waterway_waterfall\n",
       "724             waterway_weir\n",
       "Length: 725, dtype: object"
      ]
     },
     "execution_count": 43,
     "metadata": {},
     "output_type": "execute_result"
    }
   ],
   "source": [
    "embedder = Hex2VecEmbedder.load(f\"models/hex2vec_{H3_RESOLUTION}_poland_50k\")\n",
    "embedder.expected_output_features"
   ]
  },
  {
   "cell_type": "markdown",
   "metadata": {},
   "source": [
    "We need to translate those features to OSM tags"
   ]
  },
  {
   "cell_type": "code",
   "execution_count": 45,
   "metadata": {},
   "outputs": [],
   "source": [
    "embedder_osm_tags = {}\n",
    "\n",
    "for element in embedder.expected_output_features:\n",
    "    key, value = element.split('_', 1)\n",
    "    if key not in embedder_osm_tags:\n",
    "        embedder_osm_tags[key] = [value]\n",
    "    else:\n",
    "        embedder_osm_tags[key].append(value)"
   ]
  },
  {
   "cell_type": "markdown",
   "metadata": {},
   "source": [
    "### Load features from OSM and prepare regions\n",
    "\n",
    "We need to load features to calculate embeddings for our cities. We will use OSMPbfLoader this time, since it is faster than OSMOnlineLoader when we have a lot of tags to download."
   ]
  },
  {
   "cell_type": "code",
   "execution_count": 47,
   "metadata": {},
   "outputs": [
    {
     "name": "stderr",
     "output_type": "stream",
     "text": [
      "[Wrocław, Lower Silesian Voivodeship, Poland] Counting pbf features: 2878335it [00:07, 361241.75it/s]\n",
      "[Wrocław, Lower Silesian Voivodeship, Poland] Parsing pbf file #1: 100%|██████████| 2878335/2878335 [03:15<00:00, 14760.32it/s] \n"
     ]
    }
   ],
   "source": [
    "# load features\n",
    "train_features = OSMPbfLoader().load(source_area, embedder_osm_tags)\n",
    "# split into regions\n",
    "train_regions = H3Regionalizer(resolution=H3_RESOLUTION).transform(source_area)\n",
    "# join regions and features\n",
    "train_joint = IntersectionJoiner().transform(train_regions, train_features)\n",
    "# calculate embeddings\n",
    "train_embeddings = embedder.transform(train_regions, train_features, train_joint)"
   ]
  },
  {
   "cell_type": "markdown",
   "metadata": {},
   "source": [
    "### Assign bike rental stations to regions to create training data for machine learning"
   ]
  },
  {
   "cell_type": "code",
   "execution_count": null,
   "metadata": {},
   "outputs": [],
   "source": [
    "bikes_joint = IntersectionJoiner().transform(train_regions, stations)"
   ]
  },
  {
   "cell_type": "markdown",
   "metadata": {},
   "source": [
    "Select regions with stations as positive samples"
   ]
  },
  {
   "cell_type": "code",
   "execution_count": 48,
   "metadata": {},
   "outputs": [
    {
     "data": {
      "text/plain": [
       "223"
      ]
     },
     "execution_count": 48,
     "metadata": {},
     "output_type": "execute_result"
    }
   ],
   "source": [
    "positive_samples = train_regions.join(bikes_joint, how=\"inner\")\n",
    "positive_samples = positive_samples.reset_index().drop(columns=[\"feature_id\"]).set_index(\"region_id\")\n",
    "positive_samples[\"is_positive\"] = True\n",
    "len(positive_samples)"
   ]
  },
  {
   "cell_type": "markdown",
   "metadata": {},
   "source": [
    "Now remaining regions are negative samples"
   ]
  },
  {
   "cell_type": "code",
   "execution_count": 49,
   "metadata": {},
   "outputs": [
    {
     "data": {
      "text/plain": [
       "21114"
      ]
     },
     "execution_count": 49,
     "metadata": {},
     "output_type": "execute_result"
    }
   ],
   "source": [
    "negative_samples = train_regions.copy()\n",
    "negative_samples[\"is_positive\"] = False\n",
    "negative_samples.loc[positive_samples.index, \"is_positive\"] = True\n",
    "negative_samples = negative_samples[~negative_samples[\"is_positive\"]]\n",
    "len(negative_samples)"
   ]
  },
  {
   "cell_type": "markdown",
   "metadata": {},
   "source": [
    "This is very imbalanced! Let's undersample to make it possible to train model"
   ]
  },
  {
   "cell_type": "code",
   "execution_count": null,
   "metadata": {},
   "outputs": [],
   "source": [
    "negative_undersampled = negative_samples.sample(n=3 * len(positive_samples), random_state=42)\n",
    "negative_undersampled"
   ]
  },
  {
   "cell_type": "markdown",
   "metadata": {},
   "source": [
    "We can see training data on the map"
   ]
  },
  {
   "cell_type": "code",
   "execution_count": null,
   "metadata": {},
   "outputs": [],
   "source": [
    "train_data = pd.concat([positive_samples, negative_undersampled])\n",
    "train_data.explore(\"is_positive\", cmap=CB_SAFE_PALLETE, zoom_start=14)"
   ]
  },
  {
   "cell_type": "markdown",
   "metadata": {},
   "source": [
    "### Train classifier"
   ]
  },
  {
   "cell_type": "code",
   "execution_count": null,
   "metadata": {},
   "outputs": [],
   "source": [
    "X = train_embeddings.loc[train_data.index].to_numpy()\n",
    "y = train_data[\"is_positive\"].astype(int).to_numpy()\n",
    "\n",
    "X_train, X_test, y_train, y_test = train_test_split(X, y, test_size=0.2, random_state=42, stratify=y)"
   ]
  },
  {
   "cell_type": "code",
   "execution_count": null,
   "metadata": {},
   "outputs": [],
   "source": [
    "classifier = SVC(probability=True)\n",
    "classifier.fit(X_train, y_train)\n",
    "y_pred = classifier.predict(X_test)\n",
    "y_pred_proba = classifier.predict_proba(X_test)\n",
    "\n",
    "print(classification_report(y_test, y_pred))"
   ]
  },
  {
   "cell_type": "markdown",
   "metadata": {},
   "source": [
    "### Transfer knowledge to Basel"
   ]
  },
  {
   "cell_type": "markdown",
   "metadata": {},
   "source": [
    "Let's repeat embedding for target city"
   ]
  },
  {
   "cell_type": "code",
   "execution_count": null,
   "metadata": {},
   "outputs": [],
   "source": [
    "target_regions = H3Regionalizer(resolution=10).transform(target_area)\n",
    "target_features = OSMPbfLoader().load(target_area, embedder_osm_tags)\n",
    "target_joint = IntersectionJoiner().transform(target_regions, target_features)\n",
    "target_embeddings = embedder.transform(target_regions, target_features, target_joint)"
   ]
  },
  {
   "cell_type": "markdown",
   "metadata": {},
   "source": [
    "And now find regions with high score for station location"
   ]
  },
  {
   "cell_type": "code",
   "execution_count": null,
   "metadata": {},
   "outputs": [],
   "source": [
    "station_probas = classifier.predict_proba(target_embeddings.to_numpy())\n",
    "\n",
    "target_regions[\"add_station\"] = station_probas[:, 1] > 0.7\n",
    "target_regions.explore(\"add_station\", cmap=CB_SAFE_PALLETE)"
   ]
  },
  {
   "cell_type": "markdown",
   "metadata": {},
   "source": [
    "### Way better results\n",
    "\n",
    "Kamil's past project took this task more seriously. He used larger selection of cities and obtained great results. See them here:\n",
    "\n",
    "https://t.ly/gPEt9"
   ]
  }
 ],
 "metadata": {
  "kernelspec": {
   "display_name": ".venv",
   "language": "python",
   "name": "python3"
  },
  "language_info": {
   "codemirror_mode": {
    "name": "ipython",
    "version": 3
   },
   "file_extension": ".py",
   "mimetype": "text/x-python",
   "name": "python",
   "nbconvert_exporter": "python",
   "pygments_lexer": "ipython3",
   "version": "3.11.2"
  },
  "orig_nbformat": 4
 },
 "nbformat": 4,
 "nbformat_minor": 2
}
