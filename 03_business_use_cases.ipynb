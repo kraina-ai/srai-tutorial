{
 "cells": [
  {
   "cell_type": "code",
   "execution_count": null,
   "metadata": {
    "slideshow": {
     "slide_type": "skip"
    }
   },
   "outputs": [],
   "source": [
    "%load_ext autoreload\n",
    "%autoreload 2"
   ]
  },
  {
   "cell_type": "markdown",
   "metadata": {
    "slideshow": {
     "slide_type": "slide"
    }
   },
   "source": [
    "<div class=\"main-title\">\n",
    "<h1>Market share analysis</h1>\n",
    "<p>Based on fast food restaurants in Prague, Czechia.<p>\n",
    "</div>"
   ]
  },
  {
   "cell_type": "markdown",
   "metadata": {
    "slideshow": {
     "slide_type": "slide"
    }
   },
   "source": [
    "The example will show how to analyse the local market share, defined by the nearest restaurant to a particular Prague resident.\n",
    "\n",
    "The analysis uses demographic data from the Czech Statistical Office, with residential buildings and fast food restaurant positions downloaded from OpenStreetMap."
   ]
  },
  {
   "cell_type": "code",
   "execution_count": null,
   "metadata": {
    "slideshow": {
     "slide_type": "subslide"
    }
   },
   "outputs": [],
   "source": [
    "from srai.regionalizers import geocode_to_region_gdf\n",
    "\n",
    "prague_area = geocode_to_region_gdf('Praha, CZ')\n",
    "prague_area.explore(height=600)"
   ]
  },
  {
   "cell_type": "markdown",
   "metadata": {
    "slideshow": {
     "slide_type": "slide"
    }
   },
   "source": [
    "## Load demographic data"
   ]
  },
  {
   "cell_type": "code",
   "execution_count": null,
   "metadata": {
    "scrolled": false,
    "slideshow": {
     "slide_type": "-"
    }
   },
   "outputs": [],
   "source": [
    "import geopandas as gpd\n",
    "\n",
    "cadastral_data = gpd.read_file('data/cadastral_data.geojson')\n",
    "cadastral_data.explore(column='population', tiles=\"CartoDB positron\", style_kwds=dict(opacity=0.25), height=600)"
   ]
  },
  {
   "cell_type": "markdown",
   "metadata": {
    "slideshow": {
     "slide_type": "slide"
    }
   },
   "source": [
    "## Load residential buildings from OpenStreetMap\n",
    "\n",
    "Data that we need is defined by [`building=residential`](https://wiki.openstreetmap.org/wiki/Tag:building%3Dresidential) tag in OSM.\n",
    "\n",
    "Additionally, we want to use `building:flats` information to add weight to each building.\n",
    "\n",
    "Later we will parse numer of flats per building to a number (OSM tags values are strings)."
   ]
  },
  {
   "cell_type": "code",
   "execution_count": null,
   "metadata": {
    "slideshow": {
     "slide_type": "-"
    }
   },
   "outputs": [],
   "source": [
    "from srai.loaders import OSMOnlineLoader\n",
    "from utils import map_flats\n",
    "\n",
    "loader = OSMOnlineLoader()\n",
    "buildings = loader.load(\n",
    "    prague_area, {\"building\": \"residential\", \"building:flats\": True}\n",
    ")\n",
    "buildings = buildings[\n",
    "    (buildings[\"building\"] == \"residential\") & (buildings[\"building:flats\"].notna())\n",
    "]"
   ]
  },
  {
   "cell_type": "code",
   "execution_count": null,
   "metadata": {
    "slideshow": {
     "slide_type": "-"
    }
   },
   "outputs": [],
   "source": [
    "buildings[\"building:flats\"] = buildings[\"building:flats\"].apply(map_flats)\n",
    "buildings.geometry = buildings.geometry.apply(lambda geometry: geometry.centroid)\n",
    "\n",
    "buildings.head()"
   ]
  },
  {
   "cell_type": "markdown",
   "metadata": {
    "slideshow": {
     "slide_type": "subslide"
    }
   },
   "source": [
    "## Population interpolation\n",
    "\n",
    "Using cadastral information and exact buildings positions, we will interpolate the population over each building using flats number as a weight."
   ]
  },
  {
   "cell_type": "code",
   "execution_count": null,
   "metadata": {
    "slideshow": {
     "slide_type": "-"
    }
   },
   "outputs": [],
   "source": [
    "from utils import interpolate_spatial_data\n",
    "\n",
    "interpolate_spatial_data(\n",
    "    regions=cadastral_data,\n",
    "    features=buildings,\n",
    "    weight_column=\"building:flats\",\n",
    "    result_column=\"population\",\n",
    ")\n",
    "\n",
    "buildings.head()"
   ]
  },
  {
   "cell_type": "markdown",
   "metadata": {
    "slideshow": {
     "slide_type": "subslide"
    }
   },
   "source": [
    "Plotting buildings with population"
   ]
  },
  {
   "cell_type": "code",
   "execution_count": null,
   "metadata": {
    "slideshow": {
     "slide_type": "-"
    }
   },
   "outputs": [],
   "source": [
    "from utils import plot_population\n",
    "\n",
    "plot_population(buildings)"
   ]
  },
  {
   "cell_type": "markdown",
   "metadata": {
    "slideshow": {
     "slide_type": "slide"
    }
   },
   "source": [
    "## Loading data about fast food restaurants\n",
    "\n",
    "Those features are defined in OSM with [`amenity=fast_food`](https://wiki.openstreetmap.org/wiki/Tag:amenity%3Dfast_food) tag.\n",
    "\n",
    "From those, we will filter out `KFC` and `McDonald's` to simplify the analysis."
   ]
  },
  {
   "cell_type": "code",
   "execution_count": null,
   "metadata": {
    "slideshow": {
     "slide_type": "-"
    }
   },
   "outputs": [],
   "source": [
    "brands = [\"KFC\", \"McDonald's\"]"
   ]
  },
  {
   "cell_type": "code",
   "execution_count": null,
   "metadata": {
    "slideshow": {
     "slide_type": "-"
    }
   },
   "outputs": [],
   "source": [
    "pois = loader.load(prague_area, {\"amenity\": \"fast_food\", \"brand\": True})\n",
    "pois = pois[\n",
    "    (pois[\"amenity\"] == \"fast_food\") & (pois[\"brand\"].isin(brands))\n",
    "]\n",
    "pois.head()"
   ]
  },
  {
   "cell_type": "markdown",
   "metadata": {
    "slideshow": {
     "slide_type": "skip"
    }
   },
   "source": [
    "Cafes"
   ]
  },
  {
   "cell_type": "code",
   "execution_count": null,
   "metadata": {
    "slideshow": {
     "slide_type": "skip"
    }
   },
   "outputs": [],
   "source": [
    "# brands = [\"Starbucks\", \"Costa\"]\n",
    "# pois = loader.load(prague_area, {\"amenity\": \"cafe\", \"brand\": True})\n",
    "# pois = pois[\n",
    "#     (pois[\"amenity\"] == \"cafe\") & (pois[\"brand\"].isin(brands))\n",
    "# ]\n",
    "# pois.head()"
   ]
  },
  {
   "cell_type": "markdown",
   "metadata": {
    "slideshow": {
     "slide_type": "skip"
    }
   },
   "source": [
    "Shops"
   ]
  },
  {
   "cell_type": "code",
   "execution_count": null,
   "metadata": {
    "slideshow": {
     "slide_type": "skip"
    }
   },
   "outputs": [],
   "source": [
    "# brands = [\"Albert\", \"Billa\", \"Lidl\", \"PENNY\", \"Kaufland\", \"Tesco\"]\n",
    "# pois = loader.load(prague_area, {\"shop\": \"supermarket\", \"brand\": True})\n",
    "# pois = pois[\n",
    "#     (pois[\"shop\"] == \"supermarket\") & (pois[\"brand\"].isin(brands))\n",
    "# ]\n",
    "# pois.head()"
   ]
  },
  {
   "cell_type": "code",
   "execution_count": null,
   "metadata": {
    "slideshow": {
     "slide_type": "subslide"
    }
   },
   "outputs": [],
   "source": [
    "pois.geometry = pois.geometry.apply(lambda geometry: geometry.centroid)\n",
    "pois.head()"
   ]
  },
  {
   "cell_type": "code",
   "execution_count": null,
   "metadata": {
    "slideshow": {
     "slide_type": "-"
    }
   },
   "outputs": [],
   "source": [
    "pois.brand.value_counts()"
   ]
  },
  {
   "cell_type": "markdown",
   "metadata": {
    "slideshow": {
     "slide_type": "slide"
    }
   },
   "source": [
    "## Segmenting the area\n",
    "\n",
    "Using `VoronoiRegionalizer` from `srai` library, we can divide the geospatial space into regions using Voronoi diagram.\n",
    "\n",
    "Here we will be using restaurants as seeds to segment the Prague."
   ]
  },
  {
   "cell_type": "code",
   "execution_count": null,
   "metadata": {
    "scrolled": false,
    "slideshow": {
     "slide_type": "-"
    }
   },
   "outputs": [],
   "source": [
    "from srai.regionalizers import VoronoiRegionalizer\n",
    "\n",
    "voronoi_regions = VoronoiRegionalizer(seeds=pois).transform(gdf=prague_area)\n",
    "voronoi_regions.head()"
   ]
  },
  {
   "cell_type": "code",
   "execution_count": null,
   "metadata": {
    "slideshow": {
     "slide_type": "subslide"
    }
   },
   "outputs": [],
   "source": [
    "from srai.plotting import plot_regions\n",
    "\n",
    "plot_regions(voronoi_regions)"
   ]
  },
  {
   "cell_type": "markdown",
   "metadata": {
    "slideshow": {
     "slide_type": "subslide"
    }
   },
   "source": [
    "Now we can join buildings with population into those generated regions. This way, we can assign the closest restaurant to each building."
   ]
  },
  {
   "cell_type": "code",
   "execution_count": null,
   "metadata": {
    "scrolled": true,
    "slideshow": {
     "slide_type": "-"
    }
   },
   "outputs": [],
   "source": [
    "population_in_regions = (\n",
    "    voronoi_regions.sjoin(buildings).groupby(\"region_id\")[\"population\"].sum()\n",
    ")\n",
    "regions_with_population = (\n",
    "    voronoi_regions.join(pois[[\"brand\"]]).join(population_in_regions).fillna(0)\n",
    ")\n",
    "regions_with_population.head()"
   ]
  },
  {
   "cell_type": "markdown",
   "metadata": {
    "slideshow": {
     "slide_type": "subslide"
    }
   },
   "source": [
    "Using simple grouping operation, we can see what is the Prague's market share between those two brands."
   ]
  },
  {
   "cell_type": "code",
   "execution_count": null,
   "metadata": {
    "slideshow": {
     "slide_type": "-"
    }
   },
   "outputs": [],
   "source": [
    "brand_population = (\n",
    "    regions_with_population.groupby(\"brand\")\n",
    "    .agg({\"population\": \"sum\", \"geometry\": \"count\"})\n",
    "    .reset_index()\n",
    ")\n",
    "brand_population.rename(columns={\"geometry\": \"locations\"}, inplace=True)\n",
    "brand_population[\"percentage\"] = (\n",
    "    100 * brand_population[\"population\"] / brand_population[\"population\"].sum()\n",
    ")\n",
    "brand_population"
   ]
  },
  {
   "cell_type": "markdown",
   "metadata": {
    "slideshow": {
     "slide_type": "slide"
    }
   },
   "source": [
    "## Map plotting\n",
    "\n",
    "To analyse this market further, we will plot the regions in two distinc gradients based on brand's color."
   ]
  },
  {
   "cell_type": "code",
   "execution_count": null,
   "metadata": {
    "slideshow": {
     "slide_type": "subslide"
    }
   },
   "outputs": [],
   "source": [
    "from utils import plot_market_share\n",
    "\n",
    "plot_market_share(regions_with_population, pois)"
   ]
  },
  {
   "cell_type": "code",
   "execution_count": null,
   "metadata": {
    "slideshow": {
     "slide_type": "skip"
    }
   },
   "outputs": [],
   "source": []
  }
 ],
 "metadata": {
  "celltoolbar": "Slideshow",
  "kernelspec": {
   "display_name": "Python 3 (ipykernel)",
   "language": "python",
   "name": "python3"
  },
  "language_info": {
   "codemirror_mode": {
    "name": "ipython",
    "version": 3
   },
   "file_extension": ".py",
   "mimetype": "text/x-python",
   "name": "python",
   "nbconvert_exporter": "python",
   "pygments_lexer": "ipython3",
   "version": "3.11.0rc1"
  },
  "rise": {
   "controls": false,
   "enable_chalkboard": true,
   "footer": "<h3 class='footer-title'>Visit our research group at <code>kraina.ai</code></h3>",
   "header": "<h3 class='header-title'>SRAI Tutorial - Business Use Cases</h3><div class='header-images'><img src='assets/srai-logo-transparent.png'/></div>",
   "progress": true,
   "scroll": true,
   "slideNumber": false,
   "theme": "simple",
   "width": 1280
  }
 },
 "nbformat": 4,
 "nbformat_minor": 2
}
