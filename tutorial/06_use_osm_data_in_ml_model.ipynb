{
 "cells": [
  {
   "cell_type": "code",
   "execution_count": null,
   "metadata": {},
   "outputs": [],
   "source": [
    "import geopandas as gpd\n",
    "import matplotlib.pyplot as plt\n",
    "import numpy as np\n",
    "import pandas as pd\n",
    "import seaborn as sns\n",
    "import xgboost as xgb\n",
    "from h3 import int_to_str, str_to_int\n",
    "from h3ronpy.pandas import grid_disk_aggregate_k\n",
    "from lonboard import viz\n",
    "from lonboard.basemap import CartoBasemap\n",
    "from lonboard.colormap import apply_continuous_cmap\n",
    "from palettable.scientific.diverging import Roma_20\n",
    "from palettable.scientific.sequential import Hawaii_6, Hawaii_16\n",
    "from sklearn.preprocessing import StandardScaler\n",
    "from srai.embedders import ContextualCountEmbedder\n",
    "from srai.h3 import h3_to_shapely_geometry\n",
    "from srai.joiners import IntersectionJoiner\n",
    "from srai.loaders import OSMPbfLoader\n",
    "from srai.loaders.osm_loaders.filters import GEOFABRIK_LAYERS\n",
    "from srai.neighbourhoods import H3Neighbourhood\n",
    "from srai.regionalizers import H3Regionalizer"
   ]
  },
  {
   "cell_type": "code",
   "execution_count": null,
   "metadata": {},
   "outputs": [],
   "source": [
    "bike_data = gpd.read_parquet('../data/bikes_spain_example.parquet')\n",
    "bike_data"
   ]
  },
  {
   "cell_type": "code",
   "execution_count": null,
   "metadata": {},
   "outputs": [],
   "source": [
    "bike_data['city'].value_counts()"
   ]
  },
  {
   "cell_type": "code",
   "execution_count": null,
   "metadata": {},
   "outputs": [],
   "source": [
    "viz(\n",
    "    bike_data,\n",
    "    scatterplot_kwargs=dict(radius_min_pixels=2, get_fill_color=[0, 0, 0, 255]),\n",
    "    map_kwargs=dict(basemap_style=CartoBasemap.Voyager),\n",
    ")"
   ]
  },
  {
   "cell_type": "code",
   "execution_count": null,
   "metadata": {},
   "outputs": [],
   "source": [
    "H3_RESOLUTION = 11\n",
    "H3_NEIGHBOURS = 5\n",
    "H3_PREDICTION_BUFFER = 10\n",
    "\n",
    "h3_regionalizer = H3Regionalizer(resolution=H3_RESOLUTION)\n",
    "h3_regions_gdfs = []\n",
    "for city_name in bike_data[\"city\"].unique():\n",
    "    city_h3_regions = h3_regionalizer.transform(\n",
    "        bike_data[bike_data[\"city\"] == city_name]\n",
    "    )\n",
    "\n",
    "    expanded_city_h3_regions = grid_disk_aggregate_k(\n",
    "        city_h3_regions.index.map(str_to_int), H3_NEIGHBOURS + H3_PREDICTION_BUFFER, \"min\"\n",
    "    ).rename(columns={\"k\": \"distance_to_station\", \"cell\": \"region_id\"})\n",
    "    expanded_city_h3_regions[\"region_id\"] = expanded_city_h3_regions[\"region_id\"].map(\n",
    "        int_to_str\n",
    "    )\n",
    "    expanded_city_h3_regions = expanded_city_h3_regions.set_index(\"region_id\")\n",
    "    expanded_city_h3_regions[\"city\"] = city_name\n",
    "    expanded_city_h3_regions = gpd.GeoDataFrame(\n",
    "        expanded_city_h3_regions,\n",
    "        geometry=h3_to_shapely_geometry(expanded_city_h3_regions.index),\n",
    "        crs=4326,\n",
    "    )\n",
    "    h3_regions_gdfs.append(expanded_city_h3_regions)\n",
    "\n",
    "h3_regions = gpd.pd.concat(h3_regions_gdfs)\n",
    "\n",
    "min_bound = h3_regions[\"distance_to_station\"].min()\n",
    "max_bound = h3_regions[\"distance_to_station\"].max()\n",
    "normalized_distance_to_station = (h3_regions[\"distance_to_station\"] - min_bound) / (\n",
    "    max_bound - min_bound\n",
    ")\n",
    "\n",
    "viz(\n",
    "    [h3_regions, bike_data],\n",
    "    polygon_kwargs=dict(\n",
    "        opacity=0.7,\n",
    "        stroked=False,\n",
    "        get_fill_color=apply_continuous_cmap(\n",
    "            normalized_distance_to_station, Hawaii_16,\n",
    "        ),\n",
    "    ),\n",
    "    scatterplot_kwargs=dict(radius_min_pixels=2, get_fill_color=[0, 0, 0, 255]),\n",
    "    map_kwargs=dict(basemap_style=CartoBasemap.Voyager),\n",
    ")"
   ]
  },
  {
   "cell_type": "code",
   "execution_count": null,
   "metadata": {},
   "outputs": [],
   "source": [
    "features = OSMPbfLoader().load(\n",
    "    area=h3_regions, tags=GEOFABRIK_LAYERS\n",
    ")\n",
    "features"
   ]
  },
  {
   "cell_type": "code",
   "execution_count": null,
   "metadata": {},
   "outputs": [],
   "source": [
    "joint = IntersectionJoiner().transform(regions=h3_regions, features=features)\n",
    "joint"
   ]
  },
  {
   "cell_type": "code",
   "execution_count": null,
   "metadata": {},
   "outputs": [],
   "source": [
    "embeddings = ContextualCountEmbedder(\n",
    "    neighbourhood=H3Neighbourhood(),\n",
    "    neighbourhood_distance=H3_NEIGHBOURS,\n",
    "    concatenate_vectors=False,\n",
    "    expected_output_features=GEOFABRIK_LAYERS,\n",
    "    count_subcategories=True,\n",
    ").transform(\n",
    "    regions_gdf=h3_regions[[\"geometry\"]], features_gdf=features, joint_gdf=joint\n",
    ")"
   ]
  },
  {
   "cell_type": "code",
   "execution_count": null,
   "metadata": {},
   "outputs": [],
   "source": [
    "embeddings"
   ]
  },
  {
   "cell_type": "code",
   "execution_count": null,
   "metadata": {},
   "outputs": [],
   "source": [
    "target = \"distance_to_station\""
   ]
  },
  {
   "cell_type": "code",
   "execution_count": null,
   "metadata": {},
   "outputs": [],
   "source": [
    "madrid_data = (\n",
    "    h3_regions[h3_regions[\"city\"] == \"Madrid\"]\n",
    "    .merge(embeddings, left_index=True, right_index=True)\n",
    ")\n",
    "\n",
    "valencia_data = (\n",
    "    h3_regions[h3_regions[\"city\"] == \"Valencia\"]\n",
    "    .merge(embeddings, left_index=True, right_index=True)\n",
    ")\n",
    "\n",
    "seville_data = (\n",
    "    h3_regions[h3_regions[\"city\"] == \"Seville\"]\n",
    "    .merge(embeddings, left_index=True, right_index=True)\n",
    ")\n",
    "\n",
    "madrid_data.shape, valencia_data.shape, seville_data.shape"
   ]
  },
  {
   "cell_type": "code",
   "execution_count": null,
   "metadata": {},
   "outputs": [],
   "source": [
    "madrid_data.head()"
   ]
  },
  {
   "cell_type": "code",
   "execution_count": null,
   "metadata": {},
   "outputs": [],
   "source": [
    "x_madrid = StandardScaler().fit_transform(madrid_data[[*embeddings.columns]])\n",
    "y_madrid = madrid_data[target]\n",
    "\n",
    "x_seville = StandardScaler().fit_transform(seville_data[[*embeddings.columns]])\n",
    "y_seville = seville_data[target]\n",
    "\n",
    "x_valencia = StandardScaler().fit_transform(valencia_data[[*embeddings.columns]])\n",
    "y_valencia = valencia_data[target]\n",
    "\n",
    "x_madrid.shape, y_madrid.shape, x_seville.shape, y_seville.shape, x_valencia.shape, y_valencia.shape"
   ]
  },
  {
   "cell_type": "code",
   "execution_count": null,
   "metadata": {},
   "outputs": [],
   "source": [
    "model = xgb.XGBRegressor()\n",
    "mask = y_madrid <= H3_NEIGHBOURS\n",
    "model.fit(x_madrid[mask], y_madrid[mask])"
   ]
  },
  {
   "cell_type": "code",
   "execution_count": null,
   "metadata": {},
   "outputs": [],
   "source": [
    "_, axs = plt.subplots(2, 3, figsize=(12, 8), sharey=True, sharex=True, dpi=600)\n",
    "\n",
    "axs[0, 0].set_ylabel(\"Predicted distance to station\")\n",
    "axs[1, 0].set_ylabel(\"Predicted distance to station\")\n",
    "\n",
    "for idx, (x, y, city_name) in enumerate(\n",
    "    [\n",
    "        (x_madrid, y_madrid, \"Madrid\"),\n",
    "        (x_valencia, y_valencia, \"Valencia\"),\n",
    "        (x_seville, y_seville, \"Seville\"),\n",
    "    ]\n",
    "):\n",
    "    mask = y <= H3_NEIGHBOURS\n",
    "    predicted_values = model.predict(x[mask])\n",
    "    sns.regplot(\n",
    "        x=y[mask],\n",
    "        y=predicted_values,\n",
    "        ax=axs[0, idx],\n",
    "        scatter=True,\n",
    "        order=2,\n",
    "        scatter_kws=dict(\n",
    "            alpha=0.02,\n",
    "            color=[Hawaii_6.mpl_colors[_y] for _y in y[mask]],\n",
    "        ),\n",
    "        line_kws=dict(\n",
    "            color=\"black\",\n",
    "        ),\n",
    "        x_jitter=0.1,\n",
    "    )\n",
    "    sns.violinplot(\n",
    "        x=y[mask],\n",
    "        y=predicted_values,\n",
    "        ax=axs[1, idx],\n",
    "        fill=True,\n",
    "        palette=Hawaii_6.mpl_colors,\n",
    "        hue=y[mask],\n",
    "        legend=False,\n",
    "    )\n",
    "    axs[0, idx].set_title(city_name)\n",
    "    axs[0, idx].set_xlabel(None)\n",
    "    axs[1, idx].set_xlabel(\"Distance to station\")\n",
    "\n",
    "plt.tight_layout()"
   ]
  },
  {
   "cell_type": "code",
   "execution_count": null,
   "metadata": {},
   "outputs": [],
   "source": [
    "concatenated_regions = pd.concat([madrid_data, seville_data, valencia_data])[\n",
    "    [target, \"geometry\"]\n",
    "]\n",
    "\n",
    "concatenated_regions[\"predicted_distance_to_station\"] = np.concatenate(\n",
    "    [model.predict(x_madrid), model.predict(x_seville), model.predict(x_valencia)]\n",
    ").round(2)\n",
    "\n",
    "concatenated_regions = concatenated_regions[concatenated_regions[target] <= H3_PREDICTION_BUFFER]\n",
    "\n",
    "normalized_predicted_distance_to_station = (\n",
    "    concatenated_regions[\"predicted_distance_to_station\"]\n",
    "    - concatenated_regions[\"predicted_distance_to_station\"].min()\n",
    ") / (\n",
    "    concatenated_regions[\"predicted_distance_to_station\"].max()\n",
    "    - concatenated_regions[\"predicted_distance_to_station\"].min()\n",
    ")\n",
    "\n",
    "viz(\n",
    "    [concatenated_regions, bike_data],\n",
    "    polygon_kwargs=dict(\n",
    "        opacity=0.7,\n",
    "        stroked=False,\n",
    "        get_fill_color=apply_continuous_cmap(\n",
    "            normalized_predicted_distance_to_station, Hawaii_6\n",
    "        ),\n",
    "    ),\n",
    "    scatterplot_kwargs=dict(radius_min_pixels=2, get_fill_color=[0, 0, 0, 255]),\n",
    "    map_kwargs=dict(basemap_style=CartoBasemap.Voyager),\n",
    ")"
   ]
  },
  {
   "cell_type": "code",
   "execution_count": null,
   "metadata": {},
   "outputs": [],
   "source": [
    "concatenated_regions[\"prediction_error\"] = (\n",
    "    concatenated_regions[\"predicted_distance_to_station\"] - concatenated_regions[target].clip(0, H3_NEIGHBOURS)\n",
    ")\n",
    "\n",
    "normalized_prediction_error = (\n",
    "    concatenated_regions[\"prediction_error\"].apply(\n",
    "        lambda x: (\n",
    "            -x / concatenated_regions[\"prediction_error\"].min()\n",
    "            if x < 0\n",
    "            else x / concatenated_regions[\"prediction_error\"].max()\n",
    "        )\n",
    "    )\n",
    "    + 1\n",
    ") / 2\n",
    "\n",
    "viz(\n",
    "    [concatenated_regions, bike_data],\n",
    "    polygon_kwargs=dict(\n",
    "        opacity=1,\n",
    "        stroked=False,\n",
    "        get_line_width=0,\n",
    "        get_fill_color=apply_continuous_cmap(\n",
    "            normalized_prediction_error,\n",
    "            Roma_20,\n",
    "            alpha=(normalized_prediction_error - 0.5).abs() * 2,\n",
    "        ),\n",
    "    ),\n",
    "    scatterplot_kwargs=dict(radius_min_pixels=2, get_fill_color=[0, 0, 0, 255]),\n",
    "    map_kwargs=dict(basemap_style=CartoBasemap.PositronNoLabels),\n",
    ")"
   ]
  }
 ],
 "metadata": {
  "kernelspec": {
   "display_name": ".venv",
   "language": "python",
   "name": "python3"
  },
  "language_info": {
   "codemirror_mode": {
    "name": "ipython",
    "version": 3
   },
   "file_extension": ".py",
   "mimetype": "text/x-python",
   "name": "python",
   "nbconvert_exporter": "python",
   "pygments_lexer": "ipython3",
   "version": "3.10.12"
  }
 },
 "nbformat": 4,
 "nbformat_minor": 2
}
