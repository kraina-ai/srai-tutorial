{
 "cells": [
  {
   "cell_type": "code",
   "execution_count": null,
   "metadata": {},
   "outputs": [],
   "source": [
    "import geopandas as gpd\n",
    "from srai.embedders import ContextualCountEmbedder\n",
    "from srai.h3 import ring_buffer_h3_regions_gdf\n",
    "from srai.joiners import IntersectionJoiner\n",
    "from srai.loaders import OSMPbfLoader\n",
    "from srai.regionalizers import H3Regionalizer\n",
    "from srai.neighbourhoods import H3Neighbourhood"
   ]
  },
  {
   "cell_type": "code",
   "execution_count": null,
   "metadata": {},
   "outputs": [],
   "source": [
    "bike_data = gpd.read_parquet('../data/bikes_spain_example.geoparquet')\n",
    "# airbnb_data = gpd.read_parquet('../data/airbnb_spain_example.geoparquet')\n",
    "bike_data"
   ]
  },
  {
   "cell_type": "code",
   "execution_count": null,
   "metadata": {},
   "outputs": [],
   "source": [
    "bike_data['city'].value_counts()"
   ]
  },
  {
   "cell_type": "code",
   "execution_count": null,
   "metadata": {},
   "outputs": [],
   "source": [
    "from lonboard import viz\n",
    "from lonboard.colormap import apply_continuous_cmap\n",
    "from palettable.colorbrewer.sequential import YlOrRd_9"
   ]
  },
  {
   "cell_type": "code",
   "execution_count": null,
   "metadata": {},
   "outputs": [],
   "source": [
    "min_bound = airbnb_data[\"price\"].min()\n",
    "max_bound = airbnb_data[\"price\"].max()\n",
    "price_column = airbnb_data[\"price\"]\n",
    "normalized_price_data = (price_column - min_bound) / (max_bound - min_bound)\n",
    "\n",
    "viz(\n",
    "    airbnb_data,\n",
    "    scatterplot_kwargs=dict(\n",
    "        get_fill_color=apply_continuous_cmap(\n",
    "            normalized_price_data, YlOrRd_9, alpha=0.7\n",
    "        ),\n",
    "        get_radius=normalized_price_data * 10,\n",
    "        radius_units=\"meters\",\n",
    "        radius_min_pixels=2,\n",
    "    ),\n",
    ")"
   ]
  },
  {
   "cell_type": "code",
   "execution_count": null,
   "metadata": {},
   "outputs": [],
   "source": [
    "h3_regions = H3Regionalizer(resolution=10).transform(airbnb_data)\n",
    "original_h3_cells = h3_regions.index\n",
    "h3_regions = ring_buffer_h3_regions_gdf(h3_regions, 10)\n",
    "\n",
    "viz(\n",
    "    [h3_regions, airbnb_data],\n",
    "    polygon_kwargs=dict(get_fill_color=\"#66CCFF\", opacity=0.4, get_line_width=0),\n",
    "    scatterplot_kwargs=dict(\n",
    "        get_fill_color=apply_continuous_cmap(\n",
    "            normalized_price_data, YlOrRd_9, alpha=0.7\n",
    "        ),\n",
    "        get_radius=normalized_price_data * 10,\n",
    "        radius_units=\"meters\",\n",
    "        radius_min_pixels=2,\n",
    "    ),\n",
    ")"
   ]
  },
  {
   "cell_type": "code",
   "execution_count": null,
   "metadata": {},
   "outputs": [],
   "source": [
    "from srai.loaders.osm_loaders.filters import GEOFABRIK_LAYERS\n",
    "\n",
    "features = OSMPbfLoader().load(\n",
    "    area=h3_regions, tags=GEOFABRIK_LAYERS\n",
    ")"
   ]
  },
  {
   "cell_type": "code",
   "execution_count": null,
   "metadata": {},
   "outputs": [],
   "source": [
    "features"
   ]
  },
  {
   "cell_type": "code",
   "execution_count": null,
   "metadata": {},
   "outputs": [],
   "source": [
    "joint = IntersectionJoiner().transform(regions=h3_regions, features=features)\n",
    "joint"
   ]
  },
  {
   "cell_type": "code",
   "execution_count": null,
   "metadata": {},
   "outputs": [],
   "source": [
    "embeddings = ContextualCountEmbedder(\n",
    "    neighbourhood=H3Neighbourhood(),\n",
    "    neighbourhood_distance=5,\n",
    "    concatenate_vectors=True,\n",
    "    expected_output_features=GEOFABRIK_LAYERS,\n",
    "    count_subcategories=False,\n",
    ").transform(regions_gdf=h3_regions, features_gdf=features, joint_gdf=joint)"
   ]
  },
  {
   "cell_type": "code",
   "execution_count": null,
   "metadata": {},
   "outputs": [],
   "source": [
    "target = \"price\"\n",
    "# features_to_add = [\n",
    "#     \"number_of_reviews\",\n",
    "#     \"minimum_nights\",\n",
    "#     \"availability_365\",\n",
    "#     \"calculated_host_listings_count\",\n",
    "#     \"number_of_reviews_ltm\",\n",
    "# ]"
   ]
  },
  {
   "cell_type": "code",
   "execution_count": null,
   "metadata": {},
   "outputs": [],
   "source": [
    "from h3 import latlng_to_cell\n",
    "\n",
    "airbnb_data[\"h3\"] = airbnb_data[\"geometry\"].apply(\n",
    "    lambda x: latlng_to_cell(x.y, x.x, 10)\n",
    ")\n",
    "\n",
    "airbnb_data"
   ]
  },
  {
   "cell_type": "code",
   "execution_count": null,
   "metadata": {},
   "outputs": [],
   "source": [
    "barcelona_data = (\n",
    "    airbnb_data[airbnb_data[\"city\"] == \"barcelona\"]\n",
    "    .groupby(\"h3\")[\"price\"]\n",
    "    # .median()\n",
    "    .mean()\n",
    "    .reset_index()\n",
    "    .merge(h3_regions, left_on=\"h3\", right_index=True)\n",
    "    .merge(embeddings, left_on=\"h3\", right_index=True)\n",
    ")\n",
    "\n",
    "madrid_data = (\n",
    "    airbnb_data[airbnb_data[\"city\"] == \"madrid\"]\n",
    "    .groupby(\"h3\")[\"price\"]\n",
    "    # .median()\n",
    "    .mean()\n",
    "    .reset_index()\n",
    "    .merge(h3_regions, left_on=\"h3\", right_index=True)\n",
    "    .merge(embeddings, left_on=\"h3\", right_index=True)\n",
    ")\n",
    "\n",
    "barcelona_data.shape, madrid_data.shape"
   ]
  },
  {
   "cell_type": "code",
   "execution_count": null,
   "metadata": {},
   "outputs": [],
   "source": [
    "barcelona_data"
   ]
  },
  {
   "cell_type": "code",
   "execution_count": null,
   "metadata": {},
   "outputs": [],
   "source": [
    "# normalized_price_data_h3 = (median_prices_per_h3[\"price\"] - min_bound) / (\n",
    "#     max_bound - min_bound\n",
    "# )\n",
    "\n",
    "# viz(\n",
    "#     [median_prices_per_h3, airbnb_data],\n",
    "#     polygon_kwargs=dict(\n",
    "#         get_fill_color=apply_continuous_cmap(\n",
    "#             normalized_price_data_h3, YlOrRd_9, alpha=0.7\n",
    "#         ),\n",
    "#         opacity=0.4,\n",
    "#         get_line_width=0,\n",
    "#     ),\n",
    "#     scatterplot_kwargs=dict(\n",
    "#         get_fill_color=apply_continuous_cmap(\n",
    "#             normalized_price_data, YlOrRd_9, alpha=0.7\n",
    "#         ),\n",
    "#         get_radius=normalized_price_data * 10,\n",
    "#         radius_units=\"meters\",\n",
    "#         radius_min_pixels=0.5,\n",
    "#     ),\n",
    "# )"
   ]
  },
  {
   "cell_type": "code",
   "execution_count": null,
   "metadata": {},
   "outputs": [],
   "source": [
    "from sklearn.preprocessing import StandardScaler\n",
    "\n",
    "# scaler = StandardScaler()"
   ]
  },
  {
   "cell_type": "code",
   "execution_count": null,
   "metadata": {},
   "outputs": [],
   "source": [
    "x_train = StandardScaler().fit_transform(barcelona_data[[*embeddings.columns]])\n",
    "# x_test = barcelona_data[[*embeddings.columns]]\n",
    "y_train = barcelona_data[target]\n",
    "\n",
    "x_test = StandardScaler().fit_transform(madrid_data[[*embeddings.columns]])\n",
    "# x_train = madrid_data[[*embeddings.columns]]\n",
    "y_test = madrid_data[target]\n",
    "\n",
    "x_train.shape, y_train.shape, x_test.shape, y_test.shape"
   ]
  },
  {
   "cell_type": "code",
   "execution_count": null,
   "metadata": {},
   "outputs": [],
   "source": [
    "x_test"
   ]
  },
  {
   "cell_type": "code",
   "execution_count": null,
   "metadata": {},
   "outputs": [],
   "source": [
    "import xgboost as xgb\n",
    "\n",
    "model = xgb.XGBRegressor()\n",
    "model.fit(x_train, y_train)"
   ]
  },
  {
   "cell_type": "code",
   "execution_count": null,
   "metadata": {},
   "outputs": [],
   "source": [
    "import seaborn as sns\n",
    "\n",
    "sns.scatterplot(x=y_train, y=model.predict(x_train))"
   ]
  },
  {
   "cell_type": "code",
   "execution_count": null,
   "metadata": {},
   "outputs": [],
   "source": [
    "sns.scatterplot(x=y_test, y=model.predict(x_test))"
   ]
  },
  {
   "cell_type": "code",
   "execution_count": null,
   "metadata": {},
   "outputs": [],
   "source": [
    "from sklearn.ensemble import RandomForestRegressor\n",
    "\n",
    "regr = RandomForestRegressor()\n",
    "\n",
    "regr.fit(x_train, y_train)"
   ]
  },
  {
   "cell_type": "code",
   "execution_count": null,
   "metadata": {},
   "outputs": [],
   "source": [
    "sns.scatterplot(x=y_train, y=regr.predict(x_train))"
   ]
  },
  {
   "cell_type": "code",
   "execution_count": null,
   "metadata": {},
   "outputs": [],
   "source": [
    "sns.scatterplot(x=y_test, y=regr.predict(x_test))"
   ]
  }
 ],
 "metadata": {
  "kernelspec": {
   "display_name": ".venv",
   "language": "python",
   "name": "python3"
  },
  "language_info": {
   "codemirror_mode": {
    "name": "ipython",
    "version": 3
   },
   "file_extension": ".py",
   "mimetype": "text/x-python",
   "name": "python",
   "nbconvert_exporter": "python",
   "pygments_lexer": "ipython3",
   "version": "3.10.12"
  }
 },
 "nbformat": 4,
 "nbformat_minor": 2
}
