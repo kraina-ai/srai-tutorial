{
 "cells": [
  {
   "cell_type": "code",
   "execution_count": null,
   "metadata": {},
   "outputs": [],
   "source": [
    "# Extend the default console width from 80 characters\n",
    "import os\n",
    "\n",
    "os.environ[\"COLUMNS\"] = \"160\""
   ]
  },
  {
   "cell_type": "code",
   "execution_count": null,
   "metadata": {},
   "outputs": [],
   "source": [
    "from IPython.display import display, HTML\n",
    "display(HTML(\"<style>pre { white-space: pre !important; }</style>\"))"
   ]
  },
  {
   "cell_type": "code",
   "execution_count": null,
   "metadata": {},
   "outputs": [],
   "source": [
    "from pooch import retrieve\n",
    "\n",
    "retrieve(\n",
    "    \"https://download.geofabrik.de/europe/andorra-latest.osm.pbf\",\n",
    "    fname=\"andorra.osm.pbf\",\n",
    "    path=\".\",\n",
    "    known_hash=None,\n",
    ")"
   ]
  },
  {
   "cell_type": "markdown",
   "metadata": {},
   "source": [
    "## Basic usage\n",
    "\n",
    "By default, the quackosm requires just the path to the `PBF` file. Without it, there will be an error."
   ]
  },
  {
   "cell_type": "code",
   "execution_count": null,
   "metadata": {},
   "outputs": [],
   "source": [
    "! QuackOSM"
   ]
  },
  {
   "cell_type": "code",
   "execution_count": null,
   "metadata": {},
   "outputs": [],
   "source": [
    "! QuackOSM andorra.osm.pbf"
   ]
  },
  {
   "cell_type": "code",
   "execution_count": null,
   "metadata": {},
   "outputs": [],
   "source": [
    "! QuackOSM andorra.osm.pbf"
   ]
  },
  {
   "cell_type": "code",
   "execution_count": null,
   "metadata": {},
   "outputs": [],
   "source": [
    "! QuackOSM andorra.osm.pbf --ignore-cache"
   ]
  },
  {
   "cell_type": "markdown",
   "metadata": {},
   "source": [
    "## Help command\n",
    "\n",
    "To get the full description of all arguments of the QuackOSM command, you can use the `--help` (or `-h`) parameter."
   ]
  },
  {
   "cell_type": "code",
   "execution_count": null,
   "metadata": {},
   "outputs": [],
   "source": [
    "! QuackOSM --help"
   ]
  },
  {
   "cell_type": "markdown",
   "metadata": {},
   "source": [
    "## Geometry filters\n",
    "\n",
    "QuackOSM can automatically download required PBF files based on multiple geometry filters:\n",
    "- Text to geocode using Nominatim\n",
    "- WKT geometry\n",
    "- GeoJSON geometry\n",
    "- Geometry file path\n",
    "- H3 spatial index\n",
    "- Geohash spatial index\n",
    "- S2 spatial index\n",
    "\n",
    "These filters can also be used to filter out geometries from provided pbf file.\n",
    "\n",
    "`QuackOSM` will raise an error if provided geometry has parts without area (such as Points, LineStrings or empty geometry)."
   ]
  },
  {
   "cell_type": "code",
   "execution_count": null,
   "metadata": {},
   "outputs": [],
   "source": [
    "! QuackOSM --geom-filter-geocode 'Monaco-Ville, Monaco'"
   ]
  },
  {
   "cell_type": "markdown",
   "metadata": {},
   "source": [
    "## OSM tags filters\n",
    "\n",
    "By default, QuackOSM parses all of the features (nodes, ways, relations) from the `*.osm.pbf` file with tags attached.\n",
    "\n",
    "Hovewer, there is also an option to pass an OSM tags filter in the form of JSON string or path to the JSON file.\n",
    "\n",
    "OSM tags filter logic is based on the filter from the [`OSMnx`](https://github.com/gboeing/osmnx) library.\n",
    "\n",
    "Filter is expected to be in the form of dictionary with `keys` as string and `values` as one of the types: string, list of strings or bool value. Full tutorial for OSM tags filters can be accessed [here](../advanced_examples/osm_tags_filter).\n",
    "\n",
    "Example filters:\n",
    "\n",
    "- All of the buildings\n",
    "  ```json\n",
    "  { \"building\": true }\n",
    "  ```\n",
    "- Parkings and offices\n",
    "  ```json\n",
    "  {\n",
    "    \"amenity\": \"parking\",\n",
    "    \"building\": \"office\"\n",
    "  }\n",
    "  ```\n",
    "- General shops\n",
    "  ```json\n",
    "  {\n",
    "    \"shop\": [\n",
    "      \"convenience\",\n",
    "      \"department_store\",\n",
    "      \"general\",\n",
    "      \"kiosk\",\n",
    "      \"mall\",\n",
    "      \"supermarket\",\n",
    "      \"wholesale\"\n",
    "    ]\n",
    "  }\n",
    "  ```\n",
    "\n",
    "Tags filters can be used together with geometry filters to get specific features from the area of interest."
   ]
  },
  {
   "cell_type": "code",
   "execution_count": null,
   "metadata": {},
   "outputs": [],
   "source": [
    "! QuackOSM andorra.osm.pbf --osm-tags-filter '{ \"building\": true }'"
   ]
  },
  {
   "cell_type": "markdown",
   "metadata": {},
   "source": [
    "## WKT mode\n",
    "\n",
    "By default, QuackOSM saves parsed files in the `GeoParquet` format with the geometry in the `WKB` format.\n",
    "\n",
    "There is also an option to save the file as a `Parquet` file with the geometry in the `WKT` format using `--wkt-result` (or `--wkt`) parameter."
   ]
  },
  {
   "cell_type": "code",
   "execution_count": null,
   "metadata": {},
   "outputs": [],
   "source": [
    "! QuackOSM andorra.osm.pbf --wkt-result"
   ]
  }
 ],
 "metadata": {
  "kernelspec": {
   "display_name": ".venv",
   "language": "python",
   "name": "python3"
  },
  "language_info": {
   "codemirror_mode": {
    "name": "ipython",
    "version": 3
   },
   "file_extension": ".py",
   "mimetype": "text/x-python",
   "name": "python",
   "nbconvert_exporter": "python",
   "pygments_lexer": "ipython3",
   "version": "3.10.12"
  }
 },
 "nbformat": 4,
 "nbformat_minor": 2
}
