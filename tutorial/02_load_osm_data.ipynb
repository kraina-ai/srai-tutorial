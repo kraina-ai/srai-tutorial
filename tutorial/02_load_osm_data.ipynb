{
 "cells": [
  {
   "cell_type": "code",
   "execution_count": null,
   "metadata": {},
   "outputs": [],
   "source": [
    "from pathlib import Path\n",
    "\n",
    "import quackosm as qosm\n",
    "from lonboard import viz, basemap\n",
    "from pooch import retrieve\n",
    "import duckdb"
   ]
  },
  {
   "cell_type": "markdown",
   "metadata": {},
   "source": [
    "### Download PBF file"
   ]
  },
  {
   "cell_type": "code",
   "execution_count": null,
   "metadata": {},
   "outputs": [],
   "source": [
    "DOWNLOAD_URL = (\n",
    "    \"https://download.bbbike.org/osm/bbbike/Miami/Miami.osm.pbf\"\n",
    ")\n",
    "PBF_PATH = retrieve(\n",
    "    url=DOWNLOAD_URL,\n",
    "    path=Path(\".\").resolve(),\n",
    "    known_hash=None,\n",
    ")\n",
    "PBF_PATH"
   ]
  },
  {
   "cell_type": "markdown",
   "metadata": {},
   "source": [
    "### Convert PBF to GeoParquet file"
   ]
  },
  {
   "cell_type": "code",
   "execution_count": null,
   "metadata": {},
   "outputs": [],
   "source": [
    "result_file = qosm.convert_pbf_to_parquet(pbf_path=PBF_PATH)\n",
    "result_file"
   ]
  },
  {
   "cell_type": "code",
   "execution_count": null,
   "metadata": {},
   "outputs": [],
   "source": [
    "duckdb.install_extension(\"spatial\")\n",
    "duckdb.load_extension(\"spatial\")\n",
    "duckdb.read_parquet(str(result_file)).project(\n",
    "    \"* EXCLUDE (geometry), ST_GeomFromWKB(geometry) geometry\"\n",
    ")"
   ]
  },
  {
   "cell_type": "markdown",
   "metadata": {},
   "source": [
    "### Convert PBF to GeoDataFrame"
   ]
  },
  {
   "cell_type": "code",
   "execution_count": null,
   "metadata": {},
   "outputs": [],
   "source": [
    "result_gdf = qosm.convert_pbf_to_geodataframe(pbf_path=PBF_PATH)\n",
    "result_gdf"
   ]
  },
  {
   "cell_type": "code",
   "execution_count": null,
   "metadata": {},
   "outputs": [],
   "source": [
    "viz(\n",
    "    result_gdf.geometry,\n",
    "    # optional style\n",
    "    scatterplot_kwargs=dict(get_fill_color=\"#5c53a5\"),\n",
    "    path_kwargs=dict(get_color=\"#eb7f86\"),\n",
    "    polygon_kwargs=dict(stroked=False, get_fill_color=\"#f3e79b\"),\n",
    "    map_kwargs=dict(basemap_style=basemap.CartoBasemap.VoyagerNoLabels),\n",
    ")"
   ]
  }
 ],
 "metadata": {
  "kernelspec": {
   "display_name": "Python 3 (ipykernel)",
   "language": "python",
   "name": "python3"
  },
  "language_info": {
   "codemirror_mode": {
    "name": "ipython",
    "version": 3
   },
   "file_extension": ".py",
   "mimetype": "text/x-python",
   "name": "python",
   "nbconvert_exporter": "python",
   "pygments_lexer": "ipython3",
   "version": "3.10.12"
  }
 },
 "nbformat": 4,
 "nbformat_minor": 2
}
