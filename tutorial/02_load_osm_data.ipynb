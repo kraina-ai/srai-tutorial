{
 "cells": [
  {
   "cell_type": "code",
   "execution_count": 1,
   "metadata": {},
   "outputs": [],
   "source": [
    "from pathlib import Path\n",
    "\n",
    "import quackosm as qosm\n",
    "from lonboard import viz, basemap\n",
    "from pooch import retrieve\n",
    "import duckdb"
   ]
  },
  {
   "cell_type": "markdown",
   "metadata": {},
   "source": [
    "### Download PBF file"
   ]
  },
  {
   "cell_type": "code",
   "execution_count": 2,
   "metadata": {},
   "outputs": [
    {
     "data": {
      "text/plain": [
       "'/mnt/ssd/dev/srai-tutorial/tutorial/51328953c16afbfa395e1a1f9177703d-Miami.osm.pbf'"
      ]
     },
     "execution_count": 2,
     "metadata": {},
     "output_type": "execute_result"
    }
   ],
   "source": [
    "DOWNLOAD_URL = (\n",
    "    \"https://download.bbbike.org/osm/bbbike/Miami/Miami.osm.pbf\"\n",
    ")\n",
    "PBF_PATH = retrieve(\n",
    "    url=DOWNLOAD_URL,\n",
    "    path=Path(\".\").resolve(),\n",
    "    known_hash=None,\n",
    ")\n",
    "PBF_PATH"
   ]
  },
  {
   "cell_type": "markdown",
   "metadata": {},
   "source": [
    "### Convert PBF to GeoParquet file"
   ]
  },
  {
   "cell_type": "code",
   "execution_count": 3,
   "metadata": {},
   "outputs": [
    {
     "data": {
      "text/html": [
       "<pre style=\"white-space:pre;overflow-x:auto;line-height:normal;font-family:Menlo,'DejaVu Sans Mono',consolas,'Courier New',monospace\">\n",
       "</pre>\n"
      ],
      "text/plain": [
       "\n"
      ]
     },
     "metadata": {},
     "output_type": "display_data"
    },
    {
     "data": {
      "text/html": [
       "<pre style=\"white-space:pre;overflow-x:auto;line-height:normal;font-family:Menlo,'DejaVu Sans Mono',consolas,'Courier New',monospace\">Finished operation in <span style=\"color: #808000; text-decoration-color: #808000; font-weight: bold\">0:00:00</span>\n",
       "</pre>\n"
      ],
      "text/plain": [
       "Finished operation in \u001b[1;33m0:00:00\u001b[0m\n"
      ]
     },
     "metadata": {},
     "output_type": "display_data"
    },
    {
     "data": {
      "text/plain": [
       "PosixPath('files/51328953c16afbfa395e1a1f9177703d-Miami_nofilter_noclip_compact.parquet')"
      ]
     },
     "execution_count": 3,
     "metadata": {},
     "output_type": "execute_result"
    }
   ],
   "source": [
    "result_file = qosm.convert_pbf_to_parquet(pbf_path=PBF_PATH)\n",
    "result_file"
   ]
  },
  {
   "cell_type": "code",
   "execution_count": 4,
   "metadata": {},
   "outputs": [
    {
     "data": {
      "text/plain": [
       "┌─────────────────┬───────────────────────────────────────────────────────────────────┬────────────────────────────────┐\n",
       "│   feature_id    │                               tags                                │            geometry            │\n",
       "│     varchar     │                       map(varchar, varchar)                       │            geometry            │\n",
       "├─────────────────┼───────────────────────────────────────────────────────────────────┼────────────────────────────────┤\n",
       "│ node/6063706036 │ {addr:city=Hialeah, addr:housenumber=1283, addr:postcode=33010,…  │ POINT (-80.261283 25.8339405)  │\n",
       "│ node/6063706038 │ {addr:city=Hialeah, addr:housenumber=1040, addr:postcode=33010,…  │ POINT (-80.2609815 25.8361362) │\n",
       "│ node/6063706046 │ {addr:city=Hialeah, addr:housenumber=515, addr:postcode=33010, …  │ POINT (-80.2713788 25.8349049) │\n",
       "│ node/6063706049 │ {addr:city=Hialeah, addr:housenumber=553, addr:postcode=33010, …  │ POINT (-80.2704492 25.8305514) │\n",
       "│ node/6063706055 │ {addr:city=Hialeah, addr:housenumber=1006, addr:postcode=33010,…  │ POINT (-80.2661098 25.8315953) │\n",
       "│ node/6063706057 │ {addr:city=Hialeah, addr:housenumber=841, addr:postcode=33010, …  │ POINT (-80.2644837 25.8358547) │\n",
       "│ node/6063706064 │ {addr:city=Hialeah, addr:housenumber=505, addr:postcode=33013, …  │ POINT (-80.2717767 25.8414259) │\n",
       "│ node/6063706071 │ {addr:city=Hialeah, addr:housenumber=517, addr:postcode=33013, …  │ POINT (-80.2715275 25.8414343) │\n",
       "│ node/6063706076 │ {addr:city=Hialeah, addr:housenumber=521, addr:postcode=33013, …  │ POINT (-80.2714247 25.8414379) │\n",
       "│ node/6063706205 │ {addr:city=Hialeah, addr:housenumber=707, addr:postcode=33010, …  │ POINT (-80.267409 25.8314214)  │\n",
       "│        ·        │                                 ·                                 │               ·                │\n",
       "│        ·        │                                 ·                                 │               ·                │\n",
       "│        ·        │                                 ·                                 │               ·                │\n",
       "│ node/6076938560 │ {addr:city=Miami, addr:housenumber=1789, addr:postcode=33142, a…  │ POINT (-80.2259165 25.8149298) │\n",
       "│ node/6076938563 │ {addr:city=Miami, addr:housenumber=1787, addr:postcode=33142, a…  │ POINT (-80.2258747 25.8149332) │\n",
       "│ node/6076938571 │ {addr:city=Miami, addr:housenumber=1762, addr:postcode=33142, a…  │ POINT (-80.2257165 25.8234352) │\n",
       "│ node/6076939098 │ {addr:city=Miami, addr:housenumber=1936, addr:postcode=33142, a…  │ POINT (-80.2295454 25.8240318) │\n",
       "│ node/6076939105 │ {addr:city=Miami, addr:housenumber=1902, addr:postcode=33142, a…  │ POINT (-80.2288467 25.8218983) │\n",
       "│ node/6076939109 │ {addr:city=Miami, addr:housenumber=4801, addr:postcode=33142, a…  │ POINT (-80.2282896 25.8193712) │\n",
       "│ node/6076939128 │ {addr:city=Miami, addr:housenumber=1881, addr:postcode=33142, a…  │ POINT (-80.2278797 25.8142169) │\n",
       "│ node/6076939142 │ {addr:city=Miami, addr:housenumber=1840, addr:postcode=33142, a…  │ POINT (-80.2275415 25.8167925) │\n",
       "│ node/6076939154 │ {addr:city=Miami, addr:housenumber=1861, addr:postcode=33142, a…  │ POINT (-80.2272676 25.8142406) │\n",
       "│ node/6076940187 │ {addr:city=Miami, addr:housenumber=1820, addr:postcode=33142, a…  │ POINT (-80.2268841 25.8204971) │\n",
       "├─────────────────┴───────────────────────────────────────────────────────────────────┴────────────────────────────────┤\n",
       "│ ? rows (>9999 rows, 20 shown)                                                                              3 columns │\n",
       "└──────────────────────────────────────────────────────────────────────────────────────────────────────────────────────┘"
      ]
     },
     "execution_count": 4,
     "metadata": {},
     "output_type": "execute_result"
    }
   ],
   "source": [
    "duckdb.install_extension(\"spatial\")\n",
    "duckdb.load_extension(\"spatial\")\n",
    "duckdb.read_parquet(str(result_file)).project(\n",
    "    \"* EXCLUDE (geometry), ST_GeomFromWKB(geometry) geometry\"\n",
    ")"
   ]
  },
  {
   "cell_type": "markdown",
   "metadata": {},
   "source": [
    "### Convert PBF to GeoDataFrame"
   ]
  },
  {
   "cell_type": "code",
   "execution_count": 5,
   "metadata": {},
   "outputs": [
    {
     "data": {
      "text/html": [
       "<pre style=\"white-space:pre;overflow-x:auto;line-height:normal;font-family:Menlo,'DejaVu Sans Mono',consolas,'Courier New',monospace\">\n",
       "</pre>\n"
      ],
      "text/plain": [
       "\n"
      ]
     },
     "metadata": {},
     "output_type": "display_data"
    },
    {
     "data": {
      "text/html": [
       "<pre style=\"white-space:pre;overflow-x:auto;line-height:normal;font-family:Menlo,'DejaVu Sans Mono',consolas,'Courier New',monospace\">Finished operation in <span style=\"color: #808000; text-decoration-color: #808000; font-weight: bold\">0:00:00</span>\n",
       "</pre>\n"
      ],
      "text/plain": [
       "Finished operation in \u001b[1;33m0:00:00\u001b[0m\n"
      ]
     },
     "metadata": {},
     "output_type": "display_data"
    },
    {
     "data": {
      "text/html": [
       "<div>\n",
       "<style scoped>\n",
       "    .dataframe tbody tr th:only-of-type {\n",
       "        vertical-align: middle;\n",
       "    }\n",
       "\n",
       "    .dataframe tbody tr th {\n",
       "        vertical-align: top;\n",
       "    }\n",
       "\n",
       "    .dataframe thead th {\n",
       "        text-align: right;\n",
       "    }\n",
       "</style>\n",
       "<table border=\"1\" class=\"dataframe\">\n",
       "  <thead>\n",
       "    <tr style=\"text-align: right;\">\n",
       "      <th></th>\n",
       "      <th>tags</th>\n",
       "      <th>geometry</th>\n",
       "    </tr>\n",
       "    <tr>\n",
       "      <th>feature_id</th>\n",
       "      <th></th>\n",
       "      <th></th>\n",
       "    </tr>\n",
       "  </thead>\n",
       "  <tbody>\n",
       "    <tr>\n",
       "      <th>node/6063706036</th>\n",
       "      <td>{'addr:city': 'Hialeah', 'addr:housenumber': '...</td>\n",
       "      <td>POINT (-80.26128 25.83394)</td>\n",
       "    </tr>\n",
       "    <tr>\n",
       "      <th>node/6063706038</th>\n",
       "      <td>{'addr:city': 'Hialeah', 'addr:housenumber': '...</td>\n",
       "      <td>POINT (-80.26098 25.83614)</td>\n",
       "    </tr>\n",
       "    <tr>\n",
       "      <th>node/6063706046</th>\n",
       "      <td>{'addr:city': 'Hialeah', 'addr:housenumber': '...</td>\n",
       "      <td>POINT (-80.27138 25.83490)</td>\n",
       "    </tr>\n",
       "    <tr>\n",
       "      <th>node/6063706049</th>\n",
       "      <td>{'addr:city': 'Hialeah', 'addr:housenumber': '...</td>\n",
       "      <td>POINT (-80.27045 25.83055)</td>\n",
       "    </tr>\n",
       "    <tr>\n",
       "      <th>node/6063706055</th>\n",
       "      <td>{'addr:city': 'Hialeah', 'addr:housenumber': '...</td>\n",
       "      <td>POINT (-80.26611 25.83160)</td>\n",
       "    </tr>\n",
       "    <tr>\n",
       "      <th>...</th>\n",
       "      <td>...</td>\n",
       "      <td>...</td>\n",
       "    </tr>\n",
       "    <tr>\n",
       "      <th>way/638557010</th>\n",
       "      <td>{'addr:city': 'Coconut Grove', 'addr:housenumb...</td>\n",
       "      <td>POLYGON ((-80.26109 25.72117, -80.26109 25.721...</td>\n",
       "    </tr>\n",
       "    <tr>\n",
       "      <th>way/651243299</th>\n",
       "      <td>{'addr:city': 'Miami', 'addr:housenumber': '17...</td>\n",
       "      <td>POLYGON ((-80.22713 25.85956, -80.22713 25.859...</td>\n",
       "    </tr>\n",
       "    <tr>\n",
       "      <th>way/436125306</th>\n",
       "      <td>{'addr:city': 'Miami', 'addr:housenumber': '38...</td>\n",
       "      <td>POLYGON ((-80.25916 25.77295, -80.25932 25.772...</td>\n",
       "    </tr>\n",
       "    <tr>\n",
       "      <th>way/11164068</th>\n",
       "      <td>{'bicycle': 'designated', 'cycleway': 'shared_...</td>\n",
       "      <td>LINESTRING (-80.23942 25.72824, -80.23955 25.7...</td>\n",
       "    </tr>\n",
       "    <tr>\n",
       "      <th>way/1191294017</th>\n",
       "      <td>{'highway': 'service'}</td>\n",
       "      <td>LINESTRING (-80.19141 25.81403, -80.19129 25.8...</td>\n",
       "    </tr>\n",
       "  </tbody>\n",
       "</table>\n",
       "<p>360589 rows × 2 columns</p>\n",
       "</div>"
      ],
      "text/plain": [
       "                                                              tags  \\\n",
       "feature_id                                                           \n",
       "node/6063706036  {'addr:city': 'Hialeah', 'addr:housenumber': '...   \n",
       "node/6063706038  {'addr:city': 'Hialeah', 'addr:housenumber': '...   \n",
       "node/6063706046  {'addr:city': 'Hialeah', 'addr:housenumber': '...   \n",
       "node/6063706049  {'addr:city': 'Hialeah', 'addr:housenumber': '...   \n",
       "node/6063706055  {'addr:city': 'Hialeah', 'addr:housenumber': '...   \n",
       "...                                                            ...   \n",
       "way/638557010    {'addr:city': 'Coconut Grove', 'addr:housenumb...   \n",
       "way/651243299    {'addr:city': 'Miami', 'addr:housenumber': '17...   \n",
       "way/436125306    {'addr:city': 'Miami', 'addr:housenumber': '38...   \n",
       "way/11164068     {'bicycle': 'designated', 'cycleway': 'shared_...   \n",
       "way/1191294017                              {'highway': 'service'}   \n",
       "\n",
       "                                                          geometry  \n",
       "feature_id                                                          \n",
       "node/6063706036                         POINT (-80.26128 25.83394)  \n",
       "node/6063706038                         POINT (-80.26098 25.83614)  \n",
       "node/6063706046                         POINT (-80.27138 25.83490)  \n",
       "node/6063706049                         POINT (-80.27045 25.83055)  \n",
       "node/6063706055                         POINT (-80.26611 25.83160)  \n",
       "...                                                            ...  \n",
       "way/638557010    POLYGON ((-80.26109 25.72117, -80.26109 25.721...  \n",
       "way/651243299    POLYGON ((-80.22713 25.85956, -80.22713 25.859...  \n",
       "way/436125306    POLYGON ((-80.25916 25.77295, -80.25932 25.772...  \n",
       "way/11164068     LINESTRING (-80.23942 25.72824, -80.23955 25.7...  \n",
       "way/1191294017   LINESTRING (-80.19141 25.81403, -80.19129 25.8...  \n",
       "\n",
       "[360589 rows x 2 columns]"
      ]
     },
     "execution_count": 5,
     "metadata": {},
     "output_type": "execute_result"
    }
   ],
   "source": [
    "result_gdf = qosm.convert_pbf_to_geodataframe(pbf_path=PBF_PATH)\n",
    "result_gdf"
   ]
  },
  {
   "cell_type": "code",
   "execution_count": 7,
   "metadata": {},
   "outputs": [
    {
     "data": {
      "application/vnd.jupyter.widget-view+json": {
       "model_id": "1bf7d33395ae407ca1744c3183b386c1",
       "version_major": 2,
       "version_minor": 1
      },
      "text/plain": [
       "Map(basemap_style=<CartoBasemap.VoyagerNoLabels: 'https://basemaps.cartocdn.com/gl/voyager-nolabels-gl-style/s…"
      ]
     },
     "execution_count": 7,
     "metadata": {},
     "output_type": "execute_result"
    }
   ],
   "source": [
    "viz(\n",
    "    result_gdf.geometry,\n",
    "    # optional style\n",
    "    scatterplot_kwargs=dict(get_fill_color=\"#5c53a5\"),\n",
    "    path_kwargs=dict(get_color=\"#eb7f86\"),\n",
    "    polygon_kwargs=dict(stroked=False, get_fill_color=\"#f3e79b\"),\n",
    "    map_kwargs=dict(basemap_style=basemap.CartoBasemap.VoyagerNoLabels),\n",
    ")"
   ]
  }
 ],
 "metadata": {
  "kernelspec": {
   "display_name": ".venv",
   "language": "python",
   "name": "python3"
  },
  "language_info": {
   "codemirror_mode": {
    "name": "ipython",
    "version": 3
   },
   "file_extension": ".py",
   "mimetype": "text/x-python",
   "name": "python",
   "nbconvert_exporter": "python",
   "pygments_lexer": "ipython3",
   "version": "3.10.12"
  }
 },
 "nbformat": 4,
 "nbformat_minor": 2
}
