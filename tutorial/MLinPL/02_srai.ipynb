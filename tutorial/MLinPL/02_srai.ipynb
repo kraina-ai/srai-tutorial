{
 "cells": [
  {
   "cell_type": "code",
   "execution_count": null,
   "metadata": {
    "slideshow": {
     "slide_type": "skip"
    }
   },
   "outputs": [],
   "source": [
    "%load_ext autoreload\n",
    "%autoreload 2\n",
    "\n",
    "import os\n",
    "import sys\n",
    "module_path = os.path.abspath(os.path.join('../../'))\n",
    "sys.path.insert(0, module_path)\n",
    "import warnings\n",
    "warnings.simplefilter(\"ignore\")"
   ]
  },
  {
   "cell_type": "markdown",
   "metadata": {
    "slideshow": {
     "slide_type": "slide"
    }
   },
   "source": [
    "<div class=\"main-title\">\n",
    "<h1>SRAI</h1>\n",
    "<p>Design and usage<p>\n",
    "</div>"
   ]
  },
  {
   "cell_type": "markdown",
   "metadata": {
    "slideshow": {
     "slide_type": "slide"
    }
   },
   "source": [
    "## What is SRAI?"
   ]
  },
  {
   "cell_type": "markdown",
   "metadata": {
    "slideshow": {
     "slide_type": "fragment"
    }
   },
   "source": [
    "<div class=\"center-content\">\n",
    "    <h3 style=\"margin: auto;\">A toolbox for geospatial AI</h3>\n",
    "</div>"
   ]
  },
  {
   "cell_type": "markdown",
   "metadata": {
    "slideshow": {
     "slide_type": "fragment"
    }
   },
   "source": [
    "<div class=\"center-content\">\n",
    "    <p style=\"margin: auto;\">that aims to standardize the domain and make your life easier</p>\n",
    "</div>"
   ]
  },
  {
   "cell_type": "markdown",
   "metadata": {
    "slideshow": {
     "slide_type": "slide"
    }
   },
   "source": [
    "<div>\n",
    "    <img src=\"../../assets/SRAI-diagram.png\" class=\"srai-diagram\"/>\n",
    "</div>"
   ]
  },
  {
   "cell_type": "markdown",
   "metadata": {
    "slideshow": {
     "slide_type": "slide"
    }
   },
   "source": [
    "### Task 0\n",
    "\n",
    "Specify the city you want to work on for the rest of the exercise."
   ]
  },
  {
   "cell_type": "code",
   "execution_count": null,
   "metadata": {
    "slideshow": {
     "slide_type": "fragment"
    }
   },
   "outputs": [],
   "source": [
    "# change if needed\n",
    "\n",
    "CITY = \"Warsaw\" \n",
    "COUNTRY = \"Poland\"\n",
    "\n",
    "area_name = f\"{CITY}, {COUNTRY}\"\n",
    "area_name"
   ]
  },
  {
   "cell_type": "markdown",
   "metadata": {
    "slideshow": {
     "slide_type": "slide"
    }
   },
   "source": [
    "### Task 1\n",
    "Now download the area's polygon based on the `area_name` specified above. Use [`geocode_to_region_gdf`](https://kraina-ai.github.io/srai/latest/api/regionalizers/#geocode_to_region_gdf) from `srai.regionalizers`."
   ]
  },
  {
   "cell_type": "code",
   "execution_count": null,
   "metadata": {
    "deletable": false,
    "nbgrader": {
     "cell_type": "code",
     "checksum": "9b77c78c82e7b5cc6511199edf972c7e",
     "grade": false,
     "grade_id": "cell-d0acdf21a3319cf4",
     "locked": false,
     "schema_version": 3,
     "solution": true,
     "task": false
    },
    "slideshow": {
     "slide_type": "fragment"
    },
    "tags": []
   },
   "outputs": [],
   "source": [
    "area = None\n",
    "\n",
    "# YOUR CODE HERE\n",
    "raise NotImplementedError()\n",
    "\n",
    "area.explore(height=500)"
   ]
  },
  {
   "cell_type": "markdown",
   "metadata": {
    "slideshow": {
     "slide_type": "slide"
    }
   },
   "source": [
    "## Loaders"
   ]
  },
  {
   "cell_type": "markdown",
   "metadata": {
    "slideshow": {
     "slide_type": "fragment"
    }
   },
   "source": [
    "* used to load spatial data from different sources\n",
    "* unify loading into a single interface\n",
    "* prepare data for the embedding methods\n",
    "\n",
    "[API](https://kraina-ai.github.io/srai/latest/api/loaders/)<br>\n",
    "[Examples](https://kraina-ai.github.io/srai/latest/examples/loaders/)"
   ]
  },
  {
   "cell_type": "markdown",
   "metadata": {
    "slideshow": {
     "slide_type": "subslide"
    }
   },
   "source": [
    "Types of loaders:\n",
    "\n",
    "* GTFS\n",
    "* OSM Online\n",
    "* OSM Pbf\n",
    "* OSM Way\n",
    "* OSM Tile"
   ]
  },
  {
   "cell_type": "code",
   "execution_count": null,
   "metadata": {
    "slideshow": {
     "slide_type": "subslide"
    }
   },
   "outputs": [],
   "source": [
    "from srai.loaders.osm_loaders.filters import GEOFABRIK_LAYERS\n",
    "\n",
    "GEOFABRIK_LAYERS"
   ]
  },
  {
   "cell_type": "markdown",
   "metadata": {
    "slideshow": {
     "slide_type": "subslide"
    }
   },
   "source": [
    "### Task 2\n",
    "\n",
    "Let's create an A4 city poster using data about main road infrastructure and water. \n",
    "\n",
    "Now that we have the city's boundries in `area` we can use them to fetch more data. For that task you can either use [OSMOnlineLoader](https://kraina-ai.github.io/srai/latest/api/loaders/OSMOnlineLoader/) or [OSMPbfLoader](https://kraina-ai.github.io/srai/latest/api/loaders/OSMPbfLoader/) to `load` the data. Use the provided `tags`.\n",
    "\n",
    "Additionally, as the loaded data is a bit bigger than the boundaries, [clip](https://geopandas.org/en/stable/docs/reference/api/geopandas.clip.html) it to the `area`."
   ]
  },
  {
   "cell_type": "code",
   "execution_count": null,
   "metadata": {
    "deletable": false,
    "nbgrader": {
     "cell_type": "code",
     "checksum": "c72c42c3d2467a9211b8f6481ca845c2",
     "grade": false,
     "grade_id": "cell-d53f243f7c245dcb",
     "locked": false,
     "schema_version": 3,
     "solution": true,
     "task": false
    },
    "slideshow": {
     "slide_type": "subslide"
    },
    "tags": []
   },
   "outputs": [],
   "source": [
    "tags = {\n",
    "    \"highway\": [\n",
    "        \"primary\",\n",
    "        \"primary_link\",\n",
    "        \"secondary\",\n",
    "        \"secondary_link\",\n",
    "        \"tertiary\",\n",
    "        \"tertiary_link\",\n",
    "        \"trunk\",\n",
    "        \"trunk_link\",\n",
    "    ],\n",
    "    \"water\": True,\n",
    "    \"waterway\": True,\n",
    "}\n",
    "\n",
    "features = None\n",
    "\n",
    "# YOUR CODE HERE\n",
    "raise NotImplementedError()\n",
    "\n",
    "features.head(3)"
   ]
  },
  {
   "cell_type": "code",
   "execution_count": null,
   "metadata": {
    "slideshow": {
     "slide_type": "subslide"
    }
   },
   "outputs": [],
   "source": [
    "features.explore()"
   ]
  },
  {
   "cell_type": "markdown",
   "metadata": {
    "slideshow": {
     "slide_type": "subslide"
    }
   },
   "source": [
    "We've downloaded the data for the given boundaries. Now we can plot the actual poster. Use the `plot_poster` function."
   ]
  },
  {
   "cell_type": "code",
   "execution_count": null,
   "metadata": {
    "deletable": false,
    "nbgrader": {
     "cell_type": "code",
     "checksum": "5140b821fcd2a57bfb0e670076b26c79",
     "grade": false,
     "grade_id": "cell-f5a7bfb81b996084",
     "locked": false,
     "schema_version": 3,
     "solution": true,
     "task": false
    },
    "slideshow": {
     "slide_type": "fragment"
    },
    "tags": []
   },
   "outputs": [],
   "source": [
    "import matplotlib.pyplot as plt\n",
    "from utils import plot_poster\n",
    "\n",
    "# YOUR CODE HERE\n",
    "raise NotImplementedError()\n",
    "\n",
    "plt.savefig(\"poster.png\", facecolor=\"#ecedea\", dpi=300)"
   ]
  },
  {
   "cell_type": "markdown",
   "metadata": {
    "slideshow": {
     "slide_type": "slide"
    }
   },
   "source": [
    "<div>\n",
    "    <img src=\"../../assets/SRAI-diagram.png\" class=\"srai-diagram\"/>\n",
    "</div>"
   ]
  },
  {
   "cell_type": "markdown",
   "metadata": {
    "slideshow": {
     "slide_type": "slide"
    }
   },
   "source": [
    "## Regionalizers"
   ]
  },
  {
   "cell_type": "markdown",
   "metadata": {
    "slideshow": {
     "slide_type": "fragment"
    }
   },
   "source": [
    "* unify methods for dividing a given area into smaller regions. \n",
    "* can be based on spatial indexes.\n",
    "\n",
    "[API](https://kraina-ai.github.io/srai/latest/api/regionalizers/)<br>\n",
    "[Examples](https://kraina-ai.github.io/srai/latest/examples/regionalizers/)"
   ]
  },
  {
   "cell_type": "markdown",
   "metadata": {
    "slideshow": {
     "slide_type": "subslide"
    }
   },
   "source": [
    "Types of regionalizers:\n",
    "\n",
    "* H3\n",
    "* S2\n",
    "* Voronoi\n",
    "* Administative Boundary"
   ]
  },
  {
   "cell_type": "markdown",
   "metadata": {
    "slideshow": {
     "slide_type": "subslide"
    }
   },
   "source": [
    "### Task 3\n",
    "\n",
    "Let's divide our `area` into some regions. Looking above we have a couple of options, but we want you to focus mainly on [H3Regionalizer](https://kraina-ai.github.io/srai/latest/api/regionalizers/H3Regionalizer/) and [AdministrativeBoundryRegionalizer](https://kraina-ai.github.io/srai/latest/api/regionalizers/AdministrativeBoundaryRegionalizer/). Try using one of them (try both if you have the time) to `transform` our space. Both are available in `srai.regionalizers`. We suggest a `resolution=8` or `admin_level=9`, but feel free to experiment.\n",
    "\n",
    "To plot the regions use [plot_regions](https://kraina-ai.github.io/srai/latest/api/plotting/#plot_regions) from `srai.plotting`. Use the provided pallete as a `colormap`."
   ]
  },
  {
   "cell_type": "code",
   "execution_count": null,
   "metadata": {
    "deletable": false,
    "nbgrader": {
     "cell_type": "code",
     "checksum": "86797110e32ba78358ba43d90f6c3628",
     "grade": false,
     "grade_id": "cell-7c5f53797b2b979d",
     "locked": false,
     "schema_version": 3,
     "solution": true,
     "task": false
    },
    "slideshow": {
     "slide_type": "subslide"
    },
    "tags": []
   },
   "outputs": [],
   "source": [
    "from utils import CB_SAFE_PALLETE\n",
    "\n",
    "regions = None\n",
    "\n",
    "# YOUR CODE HERE\n",
    "raise NotImplementedError()"
   ]
  },
  {
   "cell_type": "markdown",
   "metadata": {
    "slideshow": {
     "slide_type": "slide"
    }
   },
   "source": [
    "<div>\n",
    "    <img src=\"../../assets/SRAI-diagram.png\" class=\"srai-diagram\"/>\n",
    "</div>"
   ]
  },
  {
   "cell_type": "markdown",
   "metadata": {
    "slideshow": {
     "slide_type": "slide"
    }
   },
   "source": [
    "## Embedders"
   ]
  },
  {
   "cell_type": "markdown",
   "metadata": {
    "slideshow": {
     "slide_type": "fragment"
    }
   },
   "source": [
    "Unify methods for mapping regions into a vector space.\n",
    "\n",
    "[API](https://kraina-ai.github.io/srai/latest/api/embedders/)<br>\n",
    "[Examples](https://kraina-ai.github.io/srai/latest/examples/embedders/)"
   ]
  },
  {
   "cell_type": "markdown",
   "metadata": {
    "slideshow": {
     "slide_type": "subslide"
    }
   },
   "source": [
    "Types of embedders:\n",
    "\n",
    "* Count\n",
    "* Contextual Count\n",
    "* GTFS2Vec\n",
    "* Hex2Vec\n",
    "* Highway2Vec\n",
    "* GeoVex"
   ]
  },
  {
   "cell_type": "markdown",
   "metadata": {
    "slideshow": {
     "slide_type": "subslide"
    }
   },
   "source": [
    "### Task 4\n",
    "\n",
    "Now that we have `regions` and `features` we can try to combine (intersect) them together. This way we will know which feature lays within which region. Use [IntersectionJoiner](https://kraina-ai.github.io/srai/latest/api/joiners/IntersectionJoiner/) from `srai.joiners` to get the `joint` DataFrame."
   ]
  },
  {
   "cell_type": "code",
   "execution_count": null,
   "metadata": {
    "deletable": false,
    "nbgrader": {
     "cell_type": "code",
     "checksum": "fe504963d63efde6164338a7b2f0e505",
     "grade": false,
     "grade_id": "cell-53f6af61d9d509a5",
     "locked": false,
     "schema_version": 3,
     "solution": true,
     "task": false
    },
    "slideshow": {
     "slide_type": "fragment"
    },
    "tags": []
   },
   "outputs": [],
   "source": [
    "joint = None\n",
    "\n",
    "# YOUR CODE HERE\n",
    "raise NotImplementedError()\n",
    "\n",
    "joint.head(3)"
   ]
  },
  {
   "cell_type": "markdown",
   "metadata": {
    "slideshow": {
     "slide_type": "subslide"
    }
   },
   "source": [
    "### Task 5\n",
    "\n",
    "Finally, we can combine results from the previous steps to create a geospatial embedding. There are a couple of methods to choose from, but let's use the simplest `embedder` - [CountEmbedder](https://kraina-ai.github.io/srai/latest/api/embedders/CountEmbedder/) from `srai.embedders`. It simply counts the occurences of features across regions.\n",
    "\n",
    "With it, transform `regions`, `features` and `joint` into the `embeddings`."
   ]
  },
  {
   "cell_type": "code",
   "execution_count": null,
   "metadata": {
    "deletable": false,
    "nbgrader": {
     "cell_type": "code",
     "checksum": "2faf8a78b12a2382805ff484b2584cb0",
     "grade": false,
     "grade_id": "cell-e0b3dccfcdeda8e1",
     "locked": false,
     "schema_version": 3,
     "solution": true,
     "task": false
    },
    "slideshow": {
     "slide_type": "subslide"
    },
    "tags": []
   },
   "outputs": [],
   "source": [
    "embeddings = None\n",
    "\n",
    "# YOUR CODE HERE\n",
    "raise NotImplementedError()\n",
    "\n",
    "embeddings.head(3)"
   ]
  },
  {
   "cell_type": "markdown",
   "metadata": {
    "slideshow": {
     "slide_type": "subslide"
    }
   },
   "source": [
    "It would be nice to see the results. Use [plot_numeric_data](https://kraina-ai.github.io/srai/latest/api/plotting/#plot_numeric_data) from `srai.plotting` to visualize the embeddings. As a `data_column` choose one of the columns available in the `embeddings` DataFrame."
   ]
  },
  {
   "cell_type": "code",
   "execution_count": null,
   "metadata": {
    "deletable": false,
    "nbgrader": {
     "cell_type": "code",
     "checksum": "94831502b6e0d3df8900ba2dce7c41e0",
     "grade": false,
     "grade_id": "cell-256845cf1a4c8aba",
     "locked": false,
     "schema_version": 3,
     "solution": true,
     "task": false
    },
    "slideshow": {
     "slide_type": "subslide"
    },
    "tags": []
   },
   "outputs": [],
   "source": [
    "data_column = None\n",
    "\n",
    "# YOUR CODE HERE\n",
    "raise NotImplementedError()"
   ]
  },
  {
   "cell_type": "markdown",
   "metadata": {
    "slideshow": {
     "slide_type": "slide"
    }
   },
   "source": [
    "### Summary\n",
    "\n",
    "Good job! You managed to use all of the building blocks of `srai` to create an entire pipeline - from only a name of a city, to embeddings of regions in it."
   ]
  },
  {
   "cell_type": "markdown",
   "metadata": {
    "slideshow": {
     "slide_type": "slide"
    }
   },
   "source": [
    "## Questions?"
   ]
  },
  {
   "cell_type": "code",
   "execution_count": null,
   "metadata": {
    "slideshow": {
     "slide_type": "skip"
    }
   },
   "outputs": [],
   "source": []
  }
 ],
 "metadata": {
  "kernelspec": {
   "display_name": "Python 3 (ipykernel)",
   "language": "python",
   "name": "python3"
  },
  "language_info": {
   "codemirror_mode": {
    "name": "ipython",
    "version": 3
   },
   "file_extension": ".py",
   "mimetype": "text/x-python",
   "name": "python",
   "nbconvert_exporter": "python",
   "pygments_lexer": "ipython3",
   "version": "3.10.11"
  },
  "rise": {
   "controls": false,
   "enable_chalkboard": false,
   "footer": "<h3 class='footer-title'>Visit our research group at <code>kraina.ai</code></h3>",
   "header": "<h3 class='header-title'>SRAI Tutorial - SRAI</h3><div class='header-images'><img src='../../assets/srai-logo-transparent.png'/></div>",
   "progress": true,
   "scroll": true,
   "slideNumber": false,
   "theme": "simple",
   "width": 1280
  }
 },
 "nbformat": 4,
 "nbformat_minor": 4
}
