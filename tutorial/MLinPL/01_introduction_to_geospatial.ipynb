{
 "cells": [
  {
   "cell_type": "code",
   "execution_count": null,
   "metadata": {
    "slideshow": {
     "slide_type": "skip"
    }
   },
   "outputs": [],
   "source": [
    "%load_ext autoreload\n",
    "%autoreload 2"
   ]
  },
  {
   "cell_type": "code",
   "execution_count": null,
   "metadata": {
    "slideshow": {
     "slide_type": "skip"
    }
   },
   "outputs": [],
   "source": [
    "import warnings\n",
    "warnings.simplefilter(\"ignore\")"
   ]
  },
  {
   "cell_type": "markdown",
   "metadata": {
    "slideshow": {
     "slide_type": "slide"
    }
   },
   "source": [
    "<div class=\"main-title\">\n",
    "<h1>Geospatial data</h1>\n",
    "<p>Introduction<p>\n",
    "</div>"
   ]
  },
  {
   "cell_type": "markdown",
   "metadata": {
    "slideshow": {
     "slide_type": "slide"
    }
   },
   "source": [
    "## Before we begin\n",
    "\n",
    "We encorage you to check out the tutorial by Joris Van den Bossche  \n",
    "[Introduction to geospatial data analysis with GeoPandas](https://github.com/jorisvandenbossche/geopandas-tutorial)  \n",
    "\n",
    "<div class=\"center-content\">\n",
    "    <a href=\"https://t.ly/agtgJ\">https://t.ly/agtgJ</a>\n",
    "    <img src=\"../../assets/geospatial_intro.png\" style=\"height: 300px; width: 300px; margin: auto;\"/>\n",
    "</div>"
   ]
  },
  {
   "cell_type": "markdown",
   "metadata": {
    "slideshow": {
     "slide_type": "slide"
    }
   },
   "source": [
    "## What is this part for?\n",
    "\n",
    "- introduce basic concepts related to geospatial data analysis\n",
    "- build a common \"vocabulary\"\n",
    "- understand geospatial libraries APIs"
   ]
  },
  {
   "cell_type": "markdown",
   "metadata": {},
   "source": [
    "## How is it structured?\n",
    "- intro to geopandas,\n",
    "- shapely - geometry library,\n",
    "- map projections and coordinate reference systems,\n",
    "- grid systems,\n",
    "- spatial operations."
   ]
  },
  {
   "cell_type": "markdown",
   "metadata": {
    "slideshow": {
     "slide_type": "subslide"
    }
   },
   "source": [
    "## What is GeoPandas"
   ]
  },
  {
   "cell_type": "markdown",
   "metadata": {
    "slideshow": {
     "slide_type": "fragment"
    }
   },
   "source": [
    "- open source\n",
    "- simplifies working with geospatial data\n",
    "- extends pandas for spatial operations\n",
    "- geometric operations - shapely\n",
    "- fiona for file access and matplotlib for plotting"
   ]
  },
  {
   "cell_type": "markdown",
   "metadata": {
    "slideshow": {
     "slide_type": "slide"
    }
   },
   "source": [
    "## Let's load some data"
   ]
  },
  {
   "cell_type": "markdown",
   "metadata": {
    "slideshow": {
     "slide_type": "fragment"
    }
   },
   "source": [
    "GeoPandas implements reading from a number of sources:\n",
    "- files in formats supported by fiona\n",
    "- PostGIS databases\n",
    "- Feather and Parquet files"
   ]
  },
  {
   "cell_type": "markdown",
   "metadata": {
    "slideshow": {
     "slide_type": "fragment"
    }
   },
   "source": [
    "We'll be use a shapefile zip with countries from [Natural Earth](https://www.naturalearthdata.com/downloads/110m-cultural-vectors/110m-admin-0-countries/)"
   ]
  },
  {
   "cell_type": "markdown",
   "metadata": {
    "slideshow": {
     "slide_type": "subslide"
    }
   },
   "source": [
    "## Read the shapefile"
   ]
  },
  {
   "cell_type": "code",
   "execution_count": null,
   "metadata": {
    "slideshow": {
     "slide_type": "fragment"
    }
   },
   "outputs": [],
   "source": [
    "import geopandas as gpd\n",
    "countries = gpd.read_file(\"data/ne_110m_admin_0_countries.zip\")\n",
    "countries = countries[[\"ISO_A3\", \"NAME\", \"CONTINENT\", \"POP_EST\", \"geometry\"]]\n",
    "countries.head(5)"
   ]
  },
  {
   "cell_type": "markdown",
   "metadata": {
    "slideshow": {
     "slide_type": "subslide"
    }
   },
   "source": [
    "## GeoDataFrames"
   ]
  },
  {
   "cell_type": "markdown",
   "metadata": {
    "slideshow": {
     "slide_type": "fragment"
    }
   },
   "source": [
    "- an extension of Pandas DataFrames\n",
    "- consist of:\n",
    "  - **geometries**: the column where spatial objects are stored\n",
    "  - **properties**: the rest of the columns, describing the geometries"
   ]
  },
  {
   "cell_type": "markdown",
   "metadata": {
    "slideshow": {
     "slide_type": "slide"
    }
   },
   "source": [
    "## Let's visualize it"
   ]
  },
  {
   "cell_type": "markdown",
   "metadata": {
    "slideshow": {
     "slide_type": "fragment"
    }
   },
   "source": [
    "We can use:\n",
    "- `.plot()` to plot the geometries on a static map (matplotlib)\n",
    "- `.explore()` to view them on an interactive map (Folium / Leaflet.js)"
   ]
  },
  {
   "cell_type": "markdown",
   "metadata": {
    "slideshow": {
     "slide_type": "subslide"
    }
   },
   "source": [
    ".plot()"
   ]
  },
  {
   "cell_type": "code",
   "execution_count": null,
   "metadata": {
    "slideshow": {
     "slide_type": "fragment"
    }
   },
   "outputs": [],
   "source": [
    "countries.plot()"
   ]
  },
  {
   "cell_type": "markdown",
   "metadata": {
    "slideshow": {
     "slide_type": "subslide"
    }
   },
   "source": [
    ".explore()"
   ]
  },
  {
   "cell_type": "code",
   "execution_count": null,
   "metadata": {
    "slideshow": {
     "slide_type": "fragment"
    }
   },
   "outputs": [],
   "source": [
    "countries.explore()"
   ]
  },
  {
   "cell_type": "markdown",
   "metadata": {
    "slideshow": {
     "slide_type": "slide"
    }
   },
   "source": [
    "## We are working with a DataFrame"
   ]
  },
  {
   "cell_type": "code",
   "execution_count": null,
   "metadata": {
    "slideshow": {
     "slide_type": "fragment"
    }
   },
   "outputs": [],
   "source": [
    "type(countries)"
   ]
  },
  {
   "cell_type": "code",
   "execution_count": null,
   "metadata": {
    "slideshow": {
     "slide_type": "fragment"
    }
   },
   "outputs": [],
   "source": [
    "import pandas as pd\n",
    "isinstance(countries, pd.DataFrame)"
   ]
  },
  {
   "cell_type": "code",
   "execution_count": null,
   "metadata": {
    "slideshow": {
     "slide_type": "fragment"
    }
   },
   "outputs": [],
   "source": [
    "countries.columns"
   ]
  },
  {
   "cell_type": "markdown",
   "metadata": {
    "slideshow": {
     "slide_type": "subslide"
    }
   },
   "source": [
    "## Pandas operations"
   ]
  },
  {
   "cell_type": "code",
   "execution_count": null,
   "metadata": {
    "slideshow": {
     "slide_type": "fragment"
    }
   },
   "outputs": [],
   "source": [
    "countries['POP_EST'].mean()"
   ]
  },
  {
   "cell_type": "code",
   "execution_count": null,
   "metadata": {
    "slideshow": {
     "slide_type": "fragment"
    }
   },
   "outputs": [],
   "source": [
    "countries['CONTINENT'].value_counts()"
   ]
  },
  {
   "cell_type": "markdown",
   "metadata": {
    "slideshow": {
     "slide_type": "slide"
    }
   },
   "source": [
    "## The geometry column"
   ]
  },
  {
   "cell_type": "code",
   "execution_count": null,
   "metadata": {
    "slideshow": {
     "slide_type": "fragment"
    }
   },
   "outputs": [],
   "source": [
    "type(countries[\"POP_EST\"]), type(countries.geometry)"
   ]
  },
  {
   "cell_type": "code",
   "execution_count": null,
   "metadata": {
    "slideshow": {
     "slide_type": "fragment"
    }
   },
   "outputs": [],
   "source": [
    "countries.geometry"
   ]
  },
  {
   "cell_type": "markdown",
   "metadata": {
    "slideshow": {
     "slide_type": "subslide"
    }
   },
   "source": [
    "## Calculating the area"
   ]
  },
  {
   "cell_type": "code",
   "execution_count": null,
   "metadata": {
    "slideshow": {
     "slide_type": "subslide"
    }
   },
   "outputs": [],
   "source": [
    "countries.geometry.area"
   ]
  },
  {
   "cell_type": "markdown",
   "metadata": {},
   "source": [
    "<div class=\"alert alert-warning\">\n",
    "Note: Geopandas assumes 2D cartesian plane, so this is only valid when using a proper coordinate reference system.\n",
    "</div>"
   ]
  },
  {
   "cell_type": "markdown",
   "metadata": {
    "slideshow": {
     "slide_type": "slide"
    }
   },
   "source": [
    "## Let's go deeper - [Shapely](https://shapely.readthedocs.io/en/stable/manual.html) objects\n",
    "- GeoPandas uses Shapely - geometry column\n",
    "- geometric operations"
   ]
  },
  {
   "cell_type": "code",
   "execution_count": null,
   "metadata": {
    "slideshow": {
     "slide_type": "fragment"
    }
   },
   "outputs": [],
   "source": [
    "pl_gdf = countries[countries[\"NAME\"] == \"Poland\"]\n",
    "pl_gdf"
   ]
  },
  {
   "cell_type": "code",
   "execution_count": null,
   "metadata": {
    "slideshow": {
     "slide_type": "fragment"
    }
   },
   "outputs": [],
   "source": [
    "pl_geom = pl_gdf.iloc[0].geometry\n",
    "pl_geom"
   ]
  },
  {
   "cell_type": "code",
   "execution_count": null,
   "metadata": {
    "slideshow": {
     "slide_type": "fragment"
    }
   },
   "outputs": [],
   "source": [
    "type(pl_geom)"
   ]
  },
  {
   "cell_type": "markdown",
   "metadata": {
    "slideshow": {
     "slide_type": "subslide"
    }
   },
   "source": [
    "## Geometry's properties"
   ]
  },
  {
   "cell_type": "code",
   "execution_count": null,
   "metadata": {
    "slideshow": {
     "slide_type": "fragment"
    }
   },
   "outputs": [],
   "source": [
    "pl_geom.area"
   ]
  },
  {
   "cell_type": "code",
   "execution_count": null,
   "metadata": {
    "slideshow": {
     "slide_type": "fragment"
    }
   },
   "outputs": [],
   "source": [
    "## minimum bounding region\n",
    "pl_geom.bounds"
   ]
  },
  {
   "cell_type": "markdown",
   "metadata": {
    "slideshow": {
     "slide_type": "subslide"
    }
   },
   "source": [
    "## Creating a geometry manually"
   ]
  },
  {
   "cell_type": "code",
   "execution_count": null,
   "metadata": {
    "slideshow": {
     "slide_type": "fragment"
    }
   },
   "outputs": [],
   "source": [
    "from shapely.geometry import LineString\n",
    "bounds = pl_geom.bounds\n",
    "line = LineString(\n",
    "    [(bounds[0], bounds[1]),\n",
    "    (bounds[2], bounds[3]),]\n",
    ")\n",
    "line"
   ]
  },
  {
   "cell_type": "markdown",
   "metadata": {
    "slideshow": {
     "slide_type": "subslide"
    }
   },
   "source": [
    "## View it"
   ]
  },
  {
   "cell_type": "code",
   "execution_count": null,
   "metadata": {
    "slideshow": {
     "slide_type": "fragment"
    }
   },
   "outputs": [],
   "source": [
    "gpd.GeoSeries([line, pl_geom]).plot(cmap='tab10')"
   ]
  },
  {
   "cell_type": "markdown",
   "metadata": {},
   "source": [
    "## Coordinate Reference Systems"
   ]
  },
  {
   "cell_type": "markdown",
   "metadata": {},
   "source": [
    "A coordinate reference system (CRS) then defines how the two-dimensional, projected map in your GIS relates to real places on the earth.\n",
    "For a detailed description, see e.g. https://docs.qgis.org/3.28/en/docs/gentle_gis_introduction/coordinate_reference_systems.html"
   ]
  },
  {
   "cell_type": "markdown",
   "metadata": {},
   "source": [
    "The topic **map projection** is very complex and even professionals who have studied geography, geodetics or any other GIS related science, often have problems with the correct definition of map projections and coordinate reference systems. Usually when you work with GIS, you already have projected data to start with. In most cases these data will be projected in a certain CRS, so you don’t have to create a new CRS or even re project the data from one CRS to another. That said, it is always useful to have an idea about what map projection and CRS means."
   ]
  },
  {
   "cell_type": "markdown",
   "metadata": {},
   "source": [
    "![Projection families](../../assets/projection_families.png)"
   ]
  },
  {
   "cell_type": "markdown",
   "metadata": {},
   "source": [
    "### Geographic Coordinate Systems\n",
    "The use of Geographic Coordinate Reference Systems is very common. They use degrees of latitude and longitude and sometimes also a height value to describe a location on the earth’s surface. The most popular is called WGS 84.\n",
    "![Geographic coordinate system](../../assets/geographic_crs.png)"
   ]
  },
  {
   "cell_type": "markdown",
   "metadata": {},
   "source": [
    "<div class=\"alert alert-success\">\n",
    "Note: Throughout the tutorial and the SRAI library, we default to the WGS 84 coordinate system.\n",
    "</div>"
   ]
  },
  {
   "cell_type": "markdown",
   "metadata": {},
   "source": [
    "## Projected coordinate reference systems\n",
    "Another type of CRS is a projected coordinate reference system.\n",
    "In this type of CRS (x,y) values often represent meters or feet, which makes it easier to work with e.g. when calculating distances or areas.\n",
    "![Projected CRS](../../assets/projected_crs.png)"
   ]
  },
  {
   "cell_type": "markdown",
   "metadata": {},
   "source": [
    "## CRS in Python"
   ]
  },
  {
   "cell_type": "markdown",
   "metadata": {},
   "source": [
    "### Check crs in GeoPandas"
   ]
  },
  {
   "cell_type": "code",
   "execution_count": null,
   "metadata": {},
   "outputs": [],
   "source": [
    "countries.crs"
   ]
  },
  {
   "cell_type": "markdown",
   "metadata": {},
   "source": [
    "### Let's fix Shapely plotting"
   ]
  },
  {
   "cell_type": "markdown",
   "metadata": {},
   "source": [
    "The plotting didn't work in Shapely before because it interpreted degrees as cartesian coordinates. Let's fix that."
   ]
  },
  {
   "cell_type": "code",
   "execution_count": null,
   "metadata": {},
   "outputs": [],
   "source": [
    "pl_geom_reprojected = pl_gdf.to_crs(2180).geometry.iloc[0]\n",
    "pl_geom_reprojected"
   ]
  },
  {
   "cell_type": "markdown",
   "metadata": {},
   "source": [
    "### Calculate area of Poland properly"
   ]
  },
  {
   "cell_type": "markdown",
   "metadata": {},
   "source": [
    "The boundaries from the shapefile are not perfect but we should be able to get a rough estimate of the area using a proper CRS."
   ]
  },
  {
   "cell_type": "code",
   "execution_count": null,
   "metadata": {},
   "outputs": [],
   "source": [
    "pl_geom_reprojected"
   ]
  },
  {
   "cell_type": "code",
   "execution_count": null,
   "metadata": {},
   "outputs": [],
   "source": [
    "area_km2 = pl_geom_reprojected.area / 10**6\n",
    "print(f\"Rough estimate of Poland's area: {area_km2:.2f} km2\")"
   ]
  },
  {
   "cell_type": "markdown",
   "metadata": {},
   "source": [
    "### What happens if we use .area in WGS 84?"
   ]
  },
  {
   "cell_type": "code",
   "execution_count": null,
   "metadata": {},
   "outputs": [],
   "source": [
    "pl_gdf.area"
   ]
  },
  {
   "cell_type": "markdown",
   "metadata": {
    "slideshow": {
     "slide_type": "slide"
    }
   },
   "source": [
    "## Grid systems\n",
    "- A tool to divide and index space\n",
    "- Examples include [H3](https://github.com/uber/h3), [S2](https://s2geometry.io/about/), [Geohash](https://en.wikipedia.org/wiki/Geohash)\n",
    "\n",
    "<div class=\"image-container\">\n",
    "    <figure>\n",
    "      <img src=\"https://s2geometry.io/devguide/img/s2hierarchy.gif\">\n",
    "      <figcaption><a href=\"https://s2geometry.io/\">S2</a></figcaption>\n",
    "    </figure>\n",
    "    <figure>\n",
    "      <img src=\"https://h3geo.org/images/neighbors.png\">\n",
    "        <figcaption><a href=\"https://h3geo.org/docs/highlights/aggregation\">H3</a></figcaption>\n",
    "    </figure>\n",
    "    <figure>\n",
    "      <img src=\"https://upload.wikimedia.org/wikipedia/commons/3/3d/Geohash-grid.png\">\n",
    "      <figcaption><a href=\"https://h3geo.org/docs/highlights/aggregation\">Geohash</a></figcaption>\n",
    "    </figure>\n",
    "</div>"
   ]
  },
  {
   "cell_type": "markdown",
   "metadata": {
    "slideshow": {
     "slide_type": "subslide"
    }
   },
   "source": [
    "## H3 - Hexagonal hierarchical geospatial indexing system\n",
    "- hexagonal grid\n",
    "- can be (approximately) subdivided into finer and finer hexagonal grids"
   ]
  },
  {
   "cell_type": "markdown",
   "metadata": {},
   "source": [
    "## Spatial operations"
   ]
  },
  {
   "cell_type": "code",
   "execution_count": null,
   "metadata": {},
   "outputs": [],
   "source": [
    "gpd.GeoSeries([line, pl_geom]).plot(cmap='tab10')"
   ]
  },
  {
   "cell_type": "code",
   "execution_count": null,
   "metadata": {},
   "outputs": [],
   "source": [
    "line.within(pl_geom)"
   ]
  },
  {
   "cell_type": "code",
   "execution_count": null,
   "metadata": {},
   "outputs": [],
   "source": [
    "line.intersects(pl_geom)"
   ]
  },
  {
   "cell_type": "markdown",
   "metadata": {},
   "source": [
    "## Spatial operations on GeoDataFrames\n",
    "You can use the same spatial operations as in Shapely, on entire GeoDataFrames."
   ]
  },
  {
   "cell_type": "code",
   "execution_count": null,
   "metadata": {},
   "outputs": [],
   "source": [
    "pl_de_gdf = countries[countries[\"NAME\"].isin([\"Poland\", \"Germany\"])]\n",
    "pl_de_gdf"
   ]
  },
  {
   "cell_type": "code",
   "execution_count": null,
   "metadata": {},
   "outputs": [],
   "source": [
    "merged_geom = pl_de_gdf.unary_union\n",
    "merged_geom"
   ]
  },
  {
   "cell_type": "code",
   "execution_count": null,
   "metadata": {
    "slideshow": {
     "slide_type": "fragment"
    }
   },
   "outputs": [],
   "source": [
    "gpd.GeoSeries([line, merged_geom]).plot(cmap='tab10')"
   ]
  },
  {
   "cell_type": "code",
   "execution_count": null,
   "metadata": {
    "slideshow": {
     "slide_type": "subslide"
    }
   },
   "outputs": [],
   "source": [
    "from srai.regionalizers import geocode_to_region_gdf, H3Regionalizer\n",
    "from utils import CB_SAFE_PALLETE\n",
    "\n",
    "regionized = H3Regionalizer(resolution=3).transform(pl_de_gdf)\n",
    "regionized[\"intersects\"] = regionized.intersects(line)\n",
    "regionized.explore(\"intersects\")"
   ]
  },
  {
   "cell_type": "markdown",
   "metadata": {
    "slideshow": {
     "slide_type": "subslide"
    }
   },
   "source": [
    "## Spatial joins"
   ]
  },
  {
   "cell_type": "code",
   "execution_count": null,
   "metadata": {
    "slideshow": {
     "slide_type": "fragment"
    }
   },
   "outputs": [],
   "source": [
    "from srai.regionalizers import geocode_to_region_gdf, H3Regionalizer\n",
    "from utils import CB_SAFE_PALLETE\n",
    "\n",
    "prague_gdf = geocode_to_region_gdf(\"Prague, Czech Republic\")\n",
    "regionized = H3Regionalizer(resolution=7).transform(prague_gdf)\n",
    "regionized.explore()"
   ]
  },
  {
   "cell_type": "markdown",
   "metadata": {
    "slideshow": {
     "slide_type": "subslide"
    }
   },
   "source": [
    "## Get bicycle data for Prague"
   ]
  },
  {
   "cell_type": "code",
   "execution_count": null,
   "metadata": {
    "slideshow": {
     "slide_type": "fragment"
    }
   },
   "outputs": [],
   "source": [
    "from srai.loaders import OSMOnlineLoader\n",
    "\n",
    "loader = OSMOnlineLoader()\n",
    "prague_bikes = loader.load(prague_gdf, {\"amenity\": \"bicycle_rental\"})\n",
    "prague_bikes.explore(tiles=\"CartoDB Positron\")"
   ]
  },
  {
   "cell_type": "markdown",
   "metadata": {
    "slideshow": {
     "slide_type": "subslide"
    }
   },
   "source": [
    "## Perform the join"
   ]
  },
  {
   "cell_type": "code",
   "execution_count": null,
   "metadata": {
    "slideshow": {
     "slide_type": "fragment"
    }
   },
   "outputs": [],
   "source": [
    "joint_gdf = regionized.sjoin(prague_bikes)\n",
    "joint_gdf"
   ]
  },
  {
   "cell_type": "markdown",
   "metadata": {
    "slideshow": {
     "slide_type": "subslide"
    }
   },
   "source": [
    "## Count bike stations"
   ]
  },
  {
   "cell_type": "code",
   "execution_count": null,
   "metadata": {
    "slideshow": {
     "slide_type": "fragment"
    }
   },
   "outputs": [],
   "source": [
    "regionized.sjoin(prague_bikes).groupby(\"region_id\").size()"
   ]
  },
  {
   "cell_type": "markdown",
   "metadata": {},
   "source": [
    "## OpenStreetMap demo"
   ]
  },
  {
   "cell_type": "markdown",
   "metadata": {},
   "source": [
    "OpenStreetMap is a free open data source of map data.  \n",
    "It is a collaborative project to create a free editable map of the world.  \n",
    "It is built using vector data with optional tags to describe the features.  \n",
    "The main page of the project is https://www.openstreetmap.org/  \n",
    "You can find example map features here: https://wiki.openstreetmap.org/wiki/Map_Features and here: https://taginfo.openstreetmap.org/\n"
   ]
  },
  {
   "cell_type": "markdown",
   "metadata": {},
   "source": [
    "### Elements\n",
    "Elements are the basic components of OpenStreetMap's conceptual data model of the physical world.\n",
    "Elements are of three types:\n",
    "- nodes (defining points in space),\n",
    "- ways (defining linear features and area boundaries), and\n",
    "- relations (which are sometimes used to explain how other elements work together).\n",
    "All of the above can have one or more associated tags (key:value pairs) which describe the meaning of a particular element."
   ]
  },
  {
   "cell_type": "markdown",
   "metadata": {
    "slideshow": {
     "slide_type": "slide"
    }
   },
   "source": [
    "## To sum up"
   ]
  },
  {
   "cell_type": "markdown",
   "metadata": {
    "slideshow": {
     "slide_type": "fragment"
    }
   },
   "source": [
    "- GeoPandas\n",
    "    - Pandas spatial extension\n",
    "    - very useful tool for working with geospatial data\n",
    "    - used by SRAI internally\n",
    "- Shapely\n",
    "    - used by GeoPandas\n",
    "    - implements geometries and spatial operations\n",
    "- Coordinate reference systems\n",
    "  - how the two-dimensional, projected map relates to real places on the earth\n",
    "  - \"basic\" but non-trivial\n",
    "- Grid systems\n",
    "- Spatial operations\n",
    "    - both on Shapely objects and GeoDataFrames\n",
    "    - relationships such as `within`, `intersects`\n",
    "    - spatial joins\n",
    "- OpenStreetMap\n",
    "    - open source map of the world\n",
    "    - vector data (points, lines, polygons)\n",
    "    - described by key:value tags"
   ]
  }
 ],
 "metadata": {
  "kernelspec": {
   "display_name": "Python 3 (ipykernel)",
   "language": "python",
   "name": "python3"
  },
  "language_info": {
   "codemirror_mode": {
    "name": "ipython",
    "version": 3
   },
   "file_extension": ".py",
   "mimetype": "text/x-python",
   "name": "python",
   "nbconvert_exporter": "python",
   "pygments_lexer": "ipython3",
   "version": "3.10.13"
  },
  "rise": {
   "controls": false,
   "enable_chalkboard": false,
   "footer": "<h3 class='footer-title'>Visit our research group at <code>kraina.ai</code></h3>",
   "header": "<h3 class='header-title'>SRAI Tutorial - Introduction to Geospatial Data</h3><div class='header-images'><img src='assets/srai-logo-transparent.png'/></div>",
   "progress": true,
   "scroll": true,
   "slideNumber": false,
   "theme": "simple",
   "width": 1280
  }
 },
 "nbformat": 4,
 "nbformat_minor": 4
}
