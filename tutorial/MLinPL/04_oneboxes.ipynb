{
 "cells": [
  {
   "cell_type": "code",
   "execution_count": null,
   "metadata": {
    "slideshow": {
     "slide_type": "skip"
    }
   },
   "outputs": [],
   "source": [
    "import geopandas as gpd\n",
    "import pandas as pd"
   ]
  },
  {
   "cell_type": "markdown",
   "metadata": {
    "slideshow": {
     "slide_type": "slide"
    }
   },
   "source": [
    "# OneBox by Allegro - Finding the greenest area"
   ]
  },
  {
   "cell_type": "markdown",
   "metadata": {
    "slideshow": {
     "slide_type": "slide"
    }
   },
   "source": [
    "### Task 1\n",
    "\n",
    "Load dataset with *OneBox* parcel machines (`data/oneboxes.json`) and convert *lat/lon* into a geometry column. Assign it to `one_boxes_gdf` variable\n"
   ]
  },
  {
   "cell_type": "code",
   "execution_count": null,
   "metadata": {
    "deletable": false,
    "nbgrader": {
     "cell_type": "code",
     "checksum": "7e7865e726516e17f748ca633c4e92cf",
     "grade": false,
     "grade_id": "cell-ca87767f6a58bf6f",
     "locked": false,
     "schema_version": 3,
     "solution": true,
     "task": false
    },
    "slideshow": {
     "slide_type": "subslide"
    },
    "tags": []
   },
   "outputs": [],
   "source": [
    "data_path = '../../data/oneboxes.json'\n",
    "\n",
    "# YOUR CODE HERE\n",
    "raise NotImplementedError()"
   ]
  },
  {
   "cell_type": "code",
   "execution_count": null,
   "metadata": {
    "slideshow": {
     "slide_type": "fragment"
    }
   },
   "outputs": [],
   "source": [
    "one_boxes_gdf.head()"
   ]
  },
  {
   "cell_type": "code",
   "execution_count": null,
   "metadata": {
    "slideshow": {
     "slide_type": "subslide"
    }
   },
   "outputs": [],
   "source": [
    "len(one_boxes_gdf)"
   ]
  },
  {
   "cell_type": "code",
   "execution_count": null,
   "metadata": {
    "slideshow": {
     "slide_type": "fragment"
    }
   },
   "outputs": [],
   "source": [
    "one_boxes_gdf.explore()"
   ]
  },
  {
   "cell_type": "markdown",
   "metadata": {
    "slideshow": {
     "slide_type": "slide"
    }
   },
   "source": [
    "### Task 2\n",
    "Clip the GeoDataFrame to contain only *OneBoxes* placed in Warsaw.\n",
    "\n",
    "Get the area of Warsaw from the OpenStreetMap.\n",
    "You can use `geocode_to_region_gdf` function from `srai.regionalizers` or `geocode_to_gdf` from `osmnx` library.\n",
    "\n",
    "Clip the `one_boxes_gdf` using `.clip(other_geometry)` function from the GeoPandas. Assign it to `warsaw_one_boxes` variable."
   ]
  },
  {
   "cell_type": "code",
   "execution_count": null,
   "metadata": {
    "slideshow": {
     "slide_type": "subslide"
    }
   },
   "outputs": [],
   "source": [
    "osm_prompt = 'Warsaw, PL'"
   ]
  },
  {
   "cell_type": "code",
   "execution_count": null,
   "metadata": {
    "deletable": false,
    "nbgrader": {
     "cell_type": "code",
     "checksum": "df47a0b43169150ad8bcb01c6379f997",
     "grade": false,
     "grade_id": "cell-7fffb9e5c45666bb",
     "locked": false,
     "schema_version": 3,
     "solution": true,
     "task": false
    },
    "slideshow": {
     "slide_type": "fragment"
    },
    "tags": []
   },
   "outputs": [],
   "source": [
    "# YOUR CODE HERE\n",
    "raise NotImplementedError()"
   ]
  },
  {
   "cell_type": "code",
   "execution_count": null,
   "metadata": {
    "slideshow": {
     "slide_type": "fragment"
    }
   },
   "outputs": [],
   "source": [
    "len(warsaw_one_boxes)"
   ]
  },
  {
   "cell_type": "markdown",
   "metadata": {
    "slideshow": {
     "slide_type": "subslide"
    }
   },
   "source": [
    "Plotting a map of OneBoxes using PyDeck and custom icons"
   ]
  },
  {
   "cell_type": "code",
   "execution_count": null,
   "metadata": {
    "slideshow": {
     "slide_type": "fragment"
    }
   },
   "outputs": [],
   "source": [
    "import pydeck as pdk\n",
    "\n",
    "icon_data = {\n",
    "    \"url\": 'https://raw.githubusercontent.com/kraina-ai/srai-tutorial/MLinPL2023/data/onebox_circle.png',\n",
    "    \"width\": 128,\n",
    "    \"height\": 128,\n",
    "    \"anchorY\": 128,\n",
    "}\n",
    "\n",
    "warsaw_one_boxes[\"icon_data\"] = [icon_data for _ in warsaw_one_boxes.index]\n",
    "\n",
    "view_state = pdk.data_utils.compute_view(warsaw_one_boxes[[\"lon\", \"lat\"]], 0.1)\n",
    "\n",
    "icon_layer = pdk.Layer(\n",
    "    type=\"IconLayer\",\n",
    "    data=warsaw_one_boxes,\n",
    "    get_icon=\"icon_data\",\n",
    "    get_size=16,\n",
    "    size_scale=2,\n",
    "    get_position=[\"lon\", \"lat\"],\n",
    "    pickable=True,\n",
    ")\n",
    "\n",
    "pdk.Deck(\n",
    "    layers=[icon_layer],\n",
    "    map_style=\"road\",\n",
    "    initial_view_state=view_state,\n",
    "    tooltip={\"text\": \"{id}: {street}\"}\n",
    ")"
   ]
  },
  {
   "cell_type": "markdown",
   "metadata": {
    "slideshow": {
     "slide_type": "slide"
    }
   },
   "source": [
    "### Task 3\n",
    "Create buffers with radius 500m around OneBoxes in Warsaw.\n",
    "\n",
    "Use the `.buffer(radius)` function from GeoPandas.\n",
    "Remember not to use the standard **WGS84** CRS. Before the operation change the CRS using `to_crs` function and set it to **`EPSG:2180`** which is the Poland compatible CRS with units in meters. After buffering, reproject it back to WGS84 using `EPSG:4326` CRS.\n",
    "\n",
    "Create a new GeoDataFrame using data from `warsaw_one_boxes` variable and use created buffers as a `geometry` column."
   ]
  },
  {
   "cell_type": "code",
   "execution_count": null,
   "metadata": {
    "deletable": false,
    "nbgrader": {
     "cell_type": "code",
     "checksum": "c3b604f9ccd151d331fe702572991f6e",
     "grade": false,
     "grade_id": "cell-722d465df75e7dc8",
     "locked": false,
     "schema_version": 3,
     "solution": true,
     "task": false
    },
    "slideshow": {
     "slide_type": "subslide"
    },
    "tags": []
   },
   "outputs": [],
   "source": [
    "# YOUR CODE HERE\n",
    "raise NotImplementedError()"
   ]
  },
  {
   "cell_type": "code",
   "execution_count": null,
   "metadata": {
    "slideshow": {
     "slide_type": "fragment"
    }
   },
   "outputs": [],
   "source": [
    "warsaw_one_boxes_with_buffers.explore(style_kwds=dict(opacity=0.5, fillOpacity=0.1))"
   ]
  },
  {
   "cell_type": "markdown",
   "metadata": {
    "slideshow": {
     "slide_type": "slide"
    }
   },
   "source": [
    "### Task 4\n",
    "Load greenery data from OpenStreetMap using `OSMPbfLoader` from `srai.loaders.osm_loaders`.\n",
    "Initialize it and use function `.load()` with Warsaw geometry and OSM tags filter.\n",
    "\n",
    "Filter is already provided and contains specific tags defining greenery objects.\n",
    "\n",
    "Remove `Point` geometries from the collected GeoDataFrame. Use can use `geom_type` attribute of the GeoDataFrame.\n",
    "\n",
    "Assign the GeoDataFrame to `greenery` variable."
   ]
  },
  {
   "cell_type": "code",
   "execution_count": null,
   "metadata": {
    "slideshow": {
     "slide_type": "subslide"
    }
   },
   "outputs": [],
   "source": [
    "greenery_osm_tags_filter = {\n",
    "    \"leisure\": [\"garden\", \"park\"],\n",
    "    \"natural\": [\"wood\", \"scrub\", \"heath\", \"grassland\"],\n",
    "    \"landuse\": [\"grass\", \"orchard\", \"flowerbed\", \"forest\", \"greenfield\", \"meadow\"],\n",
    "}"
   ]
  },
  {
   "cell_type": "code",
   "execution_count": null,
   "metadata": {
    "deletable": false,
    "nbgrader": {
     "cell_type": "code",
     "checksum": "0e72e3e54e3cbd640b05cea65cb62ee2",
     "grade": false,
     "grade_id": "cell-a2d33c3f8710149e",
     "locked": false,
     "schema_version": 3,
     "solution": true,
     "task": false
    },
    "slideshow": {
     "slide_type": "fragment"
    },
    "tags": []
   },
   "outputs": [],
   "source": [
    "# YOUR CODE HERE\n",
    "raise NotImplementedError()"
   ]
  },
  {
   "cell_type": "code",
   "execution_count": null,
   "metadata": {
    "slideshow": {
     "slide_type": "subslide"
    }
   },
   "outputs": [],
   "source": [
    "greenery.plot(color=\"tab:green\")"
   ]
  },
  {
   "cell_type": "markdown",
   "metadata": {
    "slideshow": {
     "slide_type": "slide"
    }
   },
   "source": [
    "### Task 5\n",
    "Intersect buffers around OneBoxes with downloaded greenery geometries. After intersection, group all intersected geometries into a single one using OneBox id.\n",
    "\n",
    "To intersect all geometries, you can use `overlay` function from GeoPandas. It will intersectiond between each OneBox buffer and greenery object.\n",
    "\n",
    "To join those intersections into a single geometry, use `dissolve` function from GeoPandas. It's an equivalent of `groupby` function from Pandas and automatically creates a `union` of all geometries in a group. \n",
    "\n",
    "Assign the final GeoDataFrame to `warsaw_one_boxes_with_greenery` variable."
   ]
  },
  {
   "cell_type": "code",
   "execution_count": null,
   "metadata": {
    "deletable": false,
    "nbgrader": {
     "cell_type": "code",
     "checksum": "a43074fc5ee15a01d313994f78f5ba6d",
     "grade": false,
     "grade_id": "cell-d54d180edf51decd",
     "locked": false,
     "schema_version": 3,
     "solution": true,
     "task": false
    },
    "slideshow": {
     "slide_type": "subslide"
    },
    "tags": []
   },
   "outputs": [],
   "source": [
    "# YOUR CODE HERE\n",
    "raise NotImplementedError()"
   ]
  },
  {
   "cell_type": "code",
   "execution_count": null,
   "metadata": {
    "slideshow": {
     "slide_type": "subslide"
    }
   },
   "outputs": [],
   "source": [
    "warsaw_one_boxes_with_greenery.plot(color='tab:green')"
   ]
  },
  {
   "cell_type": "markdown",
   "metadata": {
    "slideshow": {
     "slide_type": "slide"
    }
   },
   "source": [
    "### Task 6\n",
    "Find the OneBox with most greenery area around it. Calculate it in a proper CRS (you can use `EPSG:2180` again).\n",
    "Plot this best OneBox greenery from the buffer on a map."
   ]
  },
  {
   "cell_type": "code",
   "execution_count": null,
   "metadata": {
    "deletable": false,
    "nbgrader": {
     "cell_type": "code",
     "checksum": "ca7fa534b84b0cc4c50cb64b9bcfdc1a",
     "grade": false,
     "grade_id": "cell-28b3869c020cbaf1",
     "locked": false,
     "schema_version": 3,
     "solution": true,
     "task": false
    },
    "slideshow": {
     "slide_type": "subslide"
    },
    "tags": []
   },
   "outputs": [],
   "source": [
    "# YOUR CODE HERE\n",
    "raise NotImplementedError()"
   ]
  },
  {
   "cell_type": "code",
   "execution_count": null,
   "metadata": {
    "slideshow": {
     "slide_type": "subslide"
    }
   },
   "outputs": [],
   "source": [
    "m = warsaw_one_boxes_with_buffers.merge(\n",
    "    warsaw_one_boxes_with_greenery[\"greenery_area\"].reset_index(), on=\"id\"\n",
    ").explore(\n",
    "    \"greenery_area\",\n",
    "    cmap=\"BuGn\",\n",
    "    tiles=\"CartoDB positron\",\n",
    "    style_kwds=dict(opacity=0.5, fillOpacity=0.1),\n",
    ")\n",
    "\n",
    "warsaw_one_boxes.explore(m=m, color='green')"
   ]
  },
  {
   "cell_type": "code",
   "execution_count": null,
   "metadata": {
    "slideshow": {
     "slide_type": "skip"
    }
   },
   "outputs": [],
   "source": []
  }
 ],
 "metadata": {
  "kernelspec": {
   "display_name": "Python 3 (ipykernel)",
   "language": "python",
   "name": "python3"
  },
  "language_info": {
   "codemirror_mode": {
    "name": "ipython",
    "version": 3
   },
   "file_extension": ".py",
   "mimetype": "text/x-python",
   "name": "python",
   "nbconvert_exporter": "python",
   "pygments_lexer": "ipython3",
   "version": "3.10.11"
  },
  "rise": {
   "controls": false,
   "enable_chalkboard": false,
   "footer": "<h3 class='footer-title'>Visit our research group at <code>kraina.ai</code></h3>",
   "header": "<h3 class='header-title'>SRAI Tutorial - Green One Boxes</h3><div class='header-images'><img src='../../assets/srai-logo-transparent.png'/></div>",
   "progress": true,
   "scroll": true,
   "slideNumber": false,
   "theme": "simple",
   "width": 1280
  }
 },
 "nbformat": 4,
 "nbformat_minor": 4
}
