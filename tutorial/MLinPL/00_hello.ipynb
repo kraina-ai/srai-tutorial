{
 "cells": [
  {
   "cell_type": "code",
   "execution_count": null,
   "metadata": {
    "slideshow": {
     "slide_type": "skip"
    }
   },
   "outputs": [],
   "source": [
    "%load_ext autoreload\n",
    "%autoreload 2"
   ]
  },
  {
   "cell_type": "markdown",
   "metadata": {
    "slideshow": {
     "slide_type": "slide"
    }
   },
   "source": [
    "<div class=\"main-title\">\n",
    "<h1>Introduction to Geospatial Machine Learning</h1>\n",
    "<p>Hello!</p>\n",
    "</div>"
   ]
  },
  {
   "cell_type": "markdown",
   "metadata": {
    "slideshow": {
     "slide_type": "slide"
    }
   },
   "source": [
    "<div class=\"center-content\">\n",
    "    <p>Resource materials:</p>\n",
    "    <img src=\"../../assets/qr-tutorial.png\" style=\"width: 400px; margin: auto\"/>\n",
    "    <h1 style=\"margin: auto;\">https://t.ly/jk51f</h1>\n",
    "</div>"
   ]
  },
  {
   "cell_type": "markdown",
   "metadata": {
    "slideshow": {
     "slide_type": "slide"
    }
   },
   "source": [
    "<div class=\"center-content\">\n",
    "    <img src=\"../../assets/kraina-logo-bg.png\" class=\"kraina-logo\"/>\n",
    "    <h3 style=\"text-align: center; margin-top: -100px\">Kraina AI</h3>\n",
    "    <p style=\"text-align: center; margin-top: 0\">a Geospatial & Mobility Group at WUST</p>\n",
    "</div>"
   ]
  },
  {
   "cell_type": "markdown",
   "metadata": {
    "slideshow": {
     "slide_type": "slide"
    }
   },
   "source": [
    "![](../../assets/srai-tutorial-team.png) "
   ]
  },
  {
   "cell_type": "markdown",
   "metadata": {
    "slideshow": {
     "slide_type": "slide"
    }
   },
   "source": [
    "## Origins\n",
    "\n",
    "* geospatial representation learning\n",
    "* challenges in working with geospatial data\n",
    "* uncharted waters\n"
   ]
  },
  {
   "cell_type": "markdown",
   "metadata": {
    "slideshow": {
     "slide_type": "slide"
    }
   },
   "source": [
    "### Here comes SRAI"
   ]
  },
  {
   "cell_type": "markdown",
   "metadata": {
    "slideshow": {
     "slide_type": "fragment"
    }
   },
   "source": [
    "## Spatial Representations for Artificial Intelligence"
   ]
  },
  {
   "cell_type": "markdown",
   "metadata": {
    "slideshow": {
     "slide_type": "slide"
    }
   },
   "source": [
    "## [kraina.ai](https://kraina.ai)"
   ]
  },
  {
   "cell_type": "code",
   "execution_count": null,
   "metadata": {},
   "outputs": [],
   "source": [
    "from IPython.display import IFrame\n",
    "IFrame(\"https://kraina.ai\", 1024, 600)"
   ]
  },
  {
   "cell_type": "markdown",
   "metadata": {
    "slideshow": {
     "slide_type": "slide"
    }
   },
   "source": [
    "## What you will get (hopefully):\n",
    "\n",
    "* familiarity with the geospatial domain\n",
    "* tools to work with spatial data\n",
    "* examples of potential applications\n",
    "* SRAI library know-how 😃"
   ]
  },
  {
   "cell_type": "markdown",
   "metadata": {
    "slideshow": {
     "slide_type": "slide"
    }
   },
   "source": [
    "## Roadmap\n",
    "\n",
    "1. [Introduction to geospatial domain](01_introduction_to_geospatial.ipynb)\n",
    "2. [SRAI](02_srai.ipynb)\n",
    "3. [Warsaw Population](03_warsaw_population_visualization.ipynb)\n",
    "4. [Green One Boxes](04_oneboxes.ipynb)\n",
    "5. [Bicycle Sharing Stations](05_bikes_transfer_learning.ipynb)\n",
    "6. [Trip flow prediction](06_trip_flow_prediction.ipynb) (extra)"
   ]
  },
  {
   "cell_type": "markdown",
   "metadata": {
    "slideshow": {
     "slide_type": "slide"
    }
   },
   "source": [
    "## Questions?"
   ]
  }
 ],
 "metadata": {
  "kernelspec": {
   "display_name": "Python 3 (ipykernel)",
   "language": "python",
   "name": "python3"
  },
  "language_info": {
   "codemirror_mode": {
    "name": "ipython",
    "version": 3
   },
   "file_extension": ".py",
   "mimetype": "text/x-python",
   "name": "python",
   "nbconvert_exporter": "python",
   "pygments_lexer": "ipython3",
   "version": "3.10.11"
  },
  "rise": {
   "controls": false,
   "enable_chalkboard": false,
   "footer": "<h3 class='footer-title'>Visit our research group at <code>kraina.ai</code></h3>",
   "header": "<h3 class='header-title'>SRAI Tutorial - Hello!</h3><div class='header-images'><img src='../../assets/srai-logo-transparent.png'/></div>",
   "progress": true,
   "scroll": true,
   "slideNumber": false,
   "theme": "simple",
   "width": 1280
  }
 },
 "nbformat": 4,
 "nbformat_minor": 2
}
