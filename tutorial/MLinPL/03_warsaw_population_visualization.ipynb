{
 "cells": [
  {
   "cell_type": "code",
   "execution_count": null,
   "metadata": {
    "slideshow": {
     "slide_type": "slide"
    }
   },
   "outputs": [],
   "source": [
    "import geopandas as gpd\n",
    "import pandas as pd"
   ]
  },
  {
   "cell_type": "markdown",
   "metadata": {
    "slideshow": {
     "slide_type": "slide"
    }
   },
   "source": [
    "# Part 3 - Warsaw population analysis and visualization\n",
    "\n",
    "This part will utilize geospatial knowledge presented earlier to prepare a visualization of Warsaw population distribution"
   ]
  },
  {
   "cell_type": "markdown",
   "metadata": {
    "slideshow": {
     "slide_type": "slide"
    }
   },
   "source": [
    "### Task 1\n",
    "\n",
    "Load Warsaw census data and districts boundaries. At the end find the top 3 most populated districts and plot their boundaries on the map\n",
    "\n",
    "Data files:\n",
    "* `../../data/warsaw_population.json`\n",
    "* `../../data/warsaw_districts.geojson`\n",
    "\n",
    "Remember to set CRS when loading GeoDataFrames. For most cases, the best choice is `WGS84/EPSG:4326` (same crs, two different names). You can set it using `to_crs()` function, for example `gdf.to_crs(epsg=4326)`"
   ]
  },
  {
   "cell_type": "code",
   "execution_count": null,
   "metadata": {
    "deletable": false,
    "nbgrader": {
     "cell_type": "code",
     "checksum": "9c9a9faf20210e37fc8e8cd05f3c5139",
     "grade": false,
     "grade_id": "02_01",
     "locked": false,
     "schema_version": 3,
     "solution": true
    },
    "slideshow": {
     "slide_type": "subslide"
    }
   },
   "outputs": [],
   "source": [
    "warsaw_population = ...\n",
    "warsaw_districts = ...\n",
    "\n",
    "# YOUR CODE HERE\n",
    "raise NotImplementedError()"
   ]
  },
  {
   "cell_type": "markdown",
   "metadata": {
    "slideshow": {
     "slide_type": "slide"
    }
   },
   "source": [
    "### Task 2\n",
    "\n",
    "Load all buildings in Warsaw. You can use `OSMOnlineLoader` from the `srai` library. "
   ]
  },
  {
   "cell_type": "code",
   "execution_count": null,
   "metadata": {
    "slideshow": {
     "slide_type": "subslide"
    }
   },
   "outputs": [],
   "source": [
    "from srai.loaders.osm_loaders import OSMOnlineLoader\n",
    "\n",
    "loader = OSMOnlineLoader()\n",
    "\n",
    "osm_building_types = [\n",
    "    \"residential\",\n",
    "    \"apartments\",\n",
    "    \"house\",\n",
    "    \"semidetached_house\",\n",
    "    \"detached\",\n",
    "]\n",
    "\n",
    "osm_filter = {\n",
    "    \"building\": osm_building_types,\n",
    "    \"building:levels\": True,\n",
    "}"
   ]
  },
  {
   "cell_type": "code",
   "execution_count": null,
   "metadata": {
    "deletable": false,
    "nbgrader": {
     "cell_type": "code",
     "checksum": "1e8224c4358c3a1e80b7fd9831a232e3",
     "grade": false,
     "grade_id": "02_02",
     "locked": false,
     "schema_version": 3,
     "solution": true
    },
    "slideshow": {
     "slide_type": "subslide"
    }
   },
   "outputs": [],
   "source": [
    "warsaw_polygon = ...  # merge all districts into one polygon\n",
    "buildings = ... # and load osm data for this polygon\n",
    "\n",
    "# YOUR CODE HERE\n",
    "raise NotImplementedError()\n",
    "\n",
    "buildings.head()"
   ]
  },
  {
   "cell_type": "markdown",
   "metadata": {
    "slideshow": {
     "slide_type": "subslide"
    }
   },
   "source": [
    "OSM loader looks at those two tags (*building* and *building:levels*) independently. We need to clean the result to leave only entries with both of those tags. \n",
    "\n",
    "For cleaning we should assume that:\n",
    "* we skip buildings of unknown type\n",
    "* buildings without levels are assumed to have 1 floor\n",
    "* levels should be integers"
   ]
  },
  {
   "cell_type": "code",
   "execution_count": null,
   "metadata": {
    "deletable": false,
    "nbgrader": {
     "cell_type": "code",
     "checksum": "b6db08c58e781d85b000f9a20ca163ea",
     "grade": false,
     "grade_id": "02_03",
     "locked": false,
     "schema_version": 3,
     "solution": true
    },
    "slideshow": {
     "slide_type": "subslide"
    }
   },
   "outputs": [],
   "source": [
    "# YOUR CODE HERE\n",
    "raise NotImplementedError()\n",
    "\n",
    "buildings[\"building:levels\"].hist()"
   ]
  },
  {
   "cell_type": "markdown",
   "metadata": {
    "slideshow": {
     "slide_type": "slide"
    }
   },
   "source": [
    "### Task 3\n",
    "\n",
    "Approximate the distribution of population across buildings. We will do this in four steps:\n",
    "\n",
    "* Calculate *inhabited_area* of each building, which we understand as a multiplication of its area by the number of floors. This is based on an assumption that in taller building lives more people\n",
    "* Simplify each building to the single point on the map instead of a polygon\n",
    "* Calculate *total_inhabited_area* for each district\n",
    "* Calculate population of each building from the equation: `population = district_population * inhabited_area / total_inhabited_area`\n",
    "\n",
    "TIP: Remember that all geometrical calculations (area, circumference, centroid) requires proper CRS setting (`epsg=2180` is best for Poland). After that, bring the results back to `epsg=4326`"
   ]
  },
  {
   "cell_type": "code",
   "execution_count": null,
   "metadata": {
    "deletable": false,
    "nbgrader": {
     "cell_type": "code",
     "checksum": "f343d87fb9965c8e401fb71ab0a9d4af",
     "grade": false,
     "grade_id": "02_04",
     "locked": false,
     "schema_version": 3,
     "solution": true
    },
    "slideshow": {
     "slide_type": "subslide"
    }
   },
   "outputs": [],
   "source": [
    "# Start with first two tasks - caclulate the inhabited_area and convert buildings to points\n",
    "\n",
    "# YOUR CODE HERE\n",
    "raise NotImplementedError()\n",
    "\n",
    "# This is some magic coordinates to zoom on a part of Warsaw\n",
    "xmin = 21.042753111534097\n",
    "xmax = 21.069257679735955\n",
    "ymin = 52.24187245384607\n",
    "ymax = 52.22533280016626\n",
    "\n",
    "buildings.cx[xmin:xmax, ymin:ymax].explore()"
   ]
  },
  {
   "cell_type": "code",
   "execution_count": null,
   "metadata": {
    "deletable": false,
    "nbgrader": {
     "cell_type": "code",
     "checksum": "16a1efb5fc0730dffa63de171a42a61a",
     "grade": false,
     "grade_id": "02_05",
     "locked": false,
     "schema_version": 3,
     "solution": true
    },
    "slideshow": {
     "slide_type": "subslide"
    }
   },
   "outputs": [],
   "source": [
    "# Next, match buildings to districts, using spatial join operation and calculate total_inhabited_area for each district\n",
    "\n",
    "buildings_with_districts = ...\n",
    "\n",
    "# YOUR CODE HERE\n",
    "raise NotImplementedError()\n",
    "\n",
    "buildings_with_districts.head()"
   ]
  },
  {
   "cell_type": "code",
   "execution_count": null,
   "metadata": {
    "deletable": false,
    "nbgrader": {
     "cell_type": "code",
     "checksum": "100480d37915535d8ed9e09cd02e7abe",
     "grade": false,
     "grade_id": "02_06",
     "locked": false,
     "schema_version": 3,
     "solution": true
    },
    "slideshow": {
     "slide_type": "subslide"
    }
   },
   "outputs": [],
   "source": [
    "# Calculate total_inhabited_area for each district\n",
    "\n",
    "totals_in_districts = ...\n",
    "\n",
    "# YOUR CODE HERE\n",
    "raise NotImplementedError()\n",
    "\n",
    "totals_in_districts.head()"
   ]
  },
  {
   "cell_type": "code",
   "execution_count": null,
   "metadata": {
    "deletable": false,
    "nbgrader": {
     "cell_type": "code",
     "checksum": "a484bbe69a418b143e55e6baaf868acc",
     "grade": false,
     "grade_id": "02_07",
     "locked": false,
     "schema_version": 3,
     "solution": true
    },
    "slideshow": {
     "slide_type": "subslide"
    }
   },
   "outputs": [],
   "source": [
    "# Finally, calculate population in each building\n",
    "\n",
    "buildings_with_population = ...\n",
    "\n",
    "# YOUR CODE HERE\n",
    "raise NotImplementedError()\n",
    "\n",
    "buildings_with_population.head()"
   ]
  },
  {
   "cell_type": "markdown",
   "metadata": {
    "slideshow": {
     "slide_type": "slide"
    }
   },
   "source": [
    "### Task 4\n",
    "\n",
    "Aggregate data to H3 cells. This will allow us to prepare higher quality visualizations. Task to do:\n",
    "\n",
    "* convert each building (point) to it's corresponding H3 cell ID (cellect appropriate resolution, you can look [here](https://wolf-h3-viewer.glitch.me/) for reference)\n",
    "* calculate sum of population in each cell\n",
    "* create a geometry column for each H3 cell"
   ]
  },
  {
   "cell_type": "code",
   "execution_count": null,
   "metadata": {
    "slideshow": {
     "slide_type": "subslide"
    }
   },
   "outputs": [],
   "source": [
    "import h3"
   ]
  },
  {
   "cell_type": "code",
   "execution_count": null,
   "metadata": {
    "deletable": false,
    "nbgrader": {
     "cell_type": "code",
     "checksum": "2ae1891aa02fb580f27d59954f68d807",
     "grade": false,
     "grade_id": "02_08",
     "locked": false,
     "schema_version": 3,
     "solution": true
    },
    "slideshow": {
     "slide_type": "fragment"
    }
   },
   "outputs": [],
   "source": [
    "# YOUR CODE HERE\n",
    "raise NotImplementedError()\n",
    "\n",
    "buildings_with_population[\"h3\"].value_counts()"
   ]
  },
  {
   "cell_type": "code",
   "execution_count": null,
   "metadata": {
    "deletable": false,
    "nbgrader": {
     "cell_type": "code",
     "checksum": "87dc73d2e59cffb7c497b5fcd15b666e",
     "grade": false,
     "grade_id": "02_09",
     "locked": false,
     "schema_version": 3,
     "solution": true
    },
    "slideshow": {
     "slide_type": "subslide"
    }
   },
   "outputs": [],
   "source": [
    "h3_population = ...\n",
    "\n",
    "# YOUR CODE HERE\n",
    "raise NotImplementedError()\n",
    "\n",
    "h3_population[\"population_in_h3\"].sum()"
   ]
  },
  {
   "cell_type": "code",
   "execution_count": null,
   "metadata": {
    "slideshow": {
     "slide_type": "subslide"
    }
   },
   "outputs": [],
   "source": [
    "from srai.h3 import h3_to_geoseries"
   ]
  },
  {
   "cell_type": "code",
   "execution_count": null,
   "metadata": {
    "deletable": false,
    "nbgrader": {
     "cell_type": "code",
     "checksum": "d890798131a56e5046c809cf0ca64928",
     "grade": false,
     "grade_id": "02_10",
     "locked": false,
     "schema_version": 3,
     "solution": true
    },
    "slideshow": {
     "slide_type": "fragment"
    }
   },
   "outputs": [],
   "source": [
    "h3_population_gdf = ...\n",
    "\n",
    "# YOUR CODE HERE\n",
    "raise NotImplementedError()\n",
    "\n",
    "h3_population_gdf.head()"
   ]
  },
  {
   "cell_type": "markdown",
   "metadata": {
    "slideshow": {
     "slide_type": "slide"
    }
   },
   "source": [
    "### Task 5\n",
    "\n",
    "Show data on the map. You can test 2 different approaches to plotting:\n",
    "\n",
    "* built-in `.explore()` method from `GeoPandas`\n",
    "* plotting function from `srai.plotting`\n",
    "\n",
    "At the end we prepared an advanced, 3D map visualization based on Deck.gl"
   ]
  },
  {
   "cell_type": "code",
   "execution_count": null,
   "metadata": {
    "deletable": false,
    "nbgrader": {
     "cell_type": "code",
     "checksum": "87da4fc21485b5fd740a8afb2b354012",
     "grade": false,
     "grade_id": "02_11",
     "locked": false,
     "schema_version": 3,
     "solution": true
    },
    "slideshow": {
     "slide_type": "subslide"
    }
   },
   "outputs": [],
   "source": [
    "# base folium - explore\n",
    "\n",
    "\n",
    "# YOUR CODE HERE\n",
    "raise NotImplementedError()"
   ]
  },
  {
   "cell_type": "code",
   "execution_count": null,
   "metadata": {
    "deletable": false,
    "nbgrader": {
     "cell_type": "code",
     "checksum": "0305c7ff4f35ec3038dd2e9008b99eaa",
     "grade": false,
     "grade_id": "02_12",
     "locked": false,
     "schema_version": 3,
     "solution": true
    },
    "slideshow": {
     "slide_type": "subslide"
    }
   },
   "outputs": [],
   "source": [
    "# srai - plot numeric\n",
    "# TIP: the library requires the index with the name \"region_id\" to be set, use \"h3\" column for that\n",
    "from srai.plotting import plot_numeric_data\n",
    "\n",
    "# YOUR CODE HERE\n",
    "raise NotImplementedError()"
   ]
  },
  {
   "cell_type": "code",
   "execution_count": null,
   "metadata": {
    "slideshow": {
     "slide_type": "subslide"
    }
   },
   "outputs": [],
   "source": [
    "# pydeck 3d\n",
    "from srai.plotting.folium_wrapper import _generate_linear_colormap\n",
    "import plotly.express as px\n",
    "import pydeck as pdk\n",
    "\n",
    "colormap = _generate_linear_colormap(\n",
    "    # https://plotly.com/python/builtin-colorscales/\n",
    "    px.colors.sequential.Aggrnyl_r,\n",
    "    min_value=h3_population_gdf[\"population_in_h3\"].min(),\n",
    "    max_value=h3_population_gdf[\"population_in_h3\"].max(),\n",
    ")\n",
    "\n",
    "h3_population_gdf[\"color\"] = h3_population_gdf[\"population_in_h3\"].map(\n",
    "    colormap.rgb_bytes_tuple\n",
    ")\n",
    "\n",
    "# Define a layer to display on a map\n",
    "layer = pdk.Layer(\n",
    "    \"H3HexagonLayer\",\n",
    "    h3_population_gdf,\n",
    "    pickable=True,\n",
    "    stroked=True,\n",
    "    filled=True,\n",
    "    extruded=True,\n",
    "    get_hexagon=\"h3\",\n",
    "    get_fill_color=\"[color[0], color[1], color[2], 204]\",\n",
    "    elevation_scale=0.5,\n",
    "    get_elevation=\"population_in_h3\",\n",
    "    coverage=0.8,\n",
    ")\n",
    "\n",
    "# Set the viewport location\n",
    "view_state = pdk.ViewState(\n",
    "    latitude=52.2317, longitude=21.0062, zoom=9.5, bearing=0, pitch=30\n",
    ")\n",
    "\n",
    "\n",
    "# Render\n",
    "pdk.Deck(\n",
    "    layers=[layer],\n",
    "    map_style=\"light\",\n",
    "    initial_view_state=view_state,\n",
    "    tooltip={\"text\": \"Population: {population_in_h3}\"},\n",
    ")"
   ]
  }
 ],
 "metadata": {
  "kernelspec": {
   "display_name": "Python 3 (ipykernel)",
   "language": "python",
   "name": "python3"
  },
  "language_info": {
   "codemirror_mode": {
    "name": "ipython",
    "version": 3
   },
   "file_extension": ".py",
   "mimetype": "text/x-python",
   "name": "python",
   "nbconvert_exporter": "python",
   "pygments_lexer": "ipython3",
   "version": "3.10.11"
  },
  "rise": {
   "controls": false,
   "enable_chalkboard": false,
   "footer": "<h3 class='footer-title'>Visit our research group at <code>kraina.ai</code></h3>",
   "header": "<h3 class='header-title'>SRAI Tutorial - Warsaw population</h3><div class='header-images'><img src='../../assets/srai-logo-transparent.png'/></div>",
   "progress": true,
   "scroll": true,
   "slideNumber": false,
   "theme": "simple",
   "width": 1280
  }
 },
 "nbformat": 4,
 "nbformat_minor": 2
}
