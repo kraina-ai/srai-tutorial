{
 "cells": [
  {
   "cell_type": "code",
   "execution_count": null,
   "metadata": {},
   "outputs": [],
   "source": [
    "from pathlib import Path\n",
    "\n",
    "import duckdb\n",
    "import quackosm as qosm\n",
    "from lonboard import viz\n",
    "from pooch import retrieve\n",
    "import shutil\n",
    "from shapely import box"
   ]
  },
  {
   "cell_type": "code",
   "execution_count": null,
   "metadata": {},
   "outputs": [],
   "source": [
    "duckdb.install_extension(\"spatial\")\n",
    "duckdb.load_extension(\"spatial\")"
   ]
  },
  {
   "cell_type": "code",
   "execution_count": null,
   "metadata": {},
   "outputs": [],
   "source": [
    "from IPython.display import display, HTML\n",
    "display(HTML(\"<style>pre { white-space: pre !important; }</style>\"))"
   ]
  },
  {
   "cell_type": "markdown",
   "metadata": {},
   "source": [
    "### Preparations\n",
    "\n",
    "- Downloading Tokyo PBF file from BBBike\n",
    "- Applying geometry filter\n",
    "- Selecting amenities and primary highways and removing all buildings\n",
    "- Running QuackOSM with `debug_memory` mode"
   ]
  },
  {
   "cell_type": "code",
   "execution_count": null,
   "metadata": {},
   "outputs": [],
   "source": [
    "TOKYO_DOWNLOAD_URL = \"https://download.bbbike.org/osm/bbbike/Tokyo/Tokyo.osm.pbf\"\n",
    "TOKYO_PBF_PATH = retrieve(\n",
    "    url=TOKYO_DOWNLOAD_URL,\n",
    "    path=Path(\".\").resolve(),\n",
    "    known_hash=None,\n",
    ")\n",
    "GEOMETRY_FILTER = box(xmin=139.686, xmax=139.748, ymin=35.618, ymax=35.673)\n",
    "TAGS_FILTER = {\"amenity\": True, \"building\": False, \"highway\": \"primary\"}\n",
    "\n",
    "DEBUG_DIRECTORY = Path(\"quackosm_debug\")\n",
    "if DEBUG_DIRECTORY.exists():\n",
    "    shutil.rmtree(DEBUG_DIRECTORY)\n",
    "\n",
    "result_file = qosm.convert_pbf_to_parquet(\n",
    "    pbf_path=TOKYO_PBF_PATH,\n",
    "    debug_memory=True,\n",
    "    working_directory=DEBUG_DIRECTORY,\n",
    "    geometry_filter=GEOMETRY_FILTER,\n",
    "    tags_filter=TAGS_FILTER,\n",
    ")"
   ]
  },
  {
   "cell_type": "markdown",
   "metadata": {},
   "source": [
    "### Raw OSM file"
   ]
  },
  {
   "cell_type": "markdown",
   "metadata": {},
   "source": [
    "#### Nodes"
   ]
  },
  {
   "cell_type": "code",
   "execution_count": null,
   "metadata": {},
   "outputs": [],
   "source": [
    "duckdb.sql(\n",
    "    f\"SELECT * FROM ST_ReadOSM('{TOKYO_PBF_PATH}') WHERE kind = 'node' LIMIT 10\"\n",
    ").show(max_width=160)"
   ]
  },
  {
   "cell_type": "markdown",
   "metadata": {},
   "source": [
    "#### Ways"
   ]
  },
  {
   "cell_type": "code",
   "execution_count": null,
   "metadata": {},
   "outputs": [],
   "source": [
    "duckdb.sql(\n",
    "    f\"SELECT * FROM ST_ReadOSM('{TOKYO_PBF_PATH}') WHERE kind = 'way' LIMIT 10\"\n",
    ").show(max_width=160)"
   ]
  },
  {
   "cell_type": "markdown",
   "metadata": {},
   "source": [
    "#### Relations"
   ]
  },
  {
   "cell_type": "code",
   "execution_count": null,
   "metadata": {},
   "outputs": [],
   "source": [
    "duckdb.sql(\n",
    "    f\"SELECT * FROM ST_ReadOSM('{TOKYO_PBF_PATH}') WHERE kind = 'relation' LIMIT 10\"\n",
    ").show(max_width=160)"
   ]
  },
  {
   "cell_type": "markdown",
   "metadata": {},
   "source": [
    "### Step 1. Reading nodes"
   ]
  },
  {
   "cell_type": "code",
   "execution_count": null,
   "metadata": {},
   "outputs": [],
   "source": [
    "nodes_valid_with_tags_path = next(DEBUG_DIRECTORY.glob(\"**/nodes_valid_with_tags/**\"))\n",
    "duckdb.sql(f\"SELECT * FROM '{nodes_valid_with_tags_path}/*.parquet'\")"
   ]
  },
  {
   "cell_type": "markdown",
   "metadata": {},
   "source": [
    "### Step 2. Filtering nodes - intersection\n",
    "\n",
    "IDs of nodes filtered by geometry - simple intersection within geometry filter"
   ]
  },
  {
   "cell_type": "code",
   "execution_count": null,
   "metadata": {},
   "outputs": [],
   "source": [
    "nodes_intersecting_ids_path = next(DEBUG_DIRECTORY.glob(\"**/nodes_intersecting_ids/**\"))\n",
    "duckdb.sql(f\"SELECT * FROM '{nodes_intersecting_ids_path}/*.parquet' LIMIT 10\")"
   ]
  },
  {
   "cell_type": "code",
   "execution_count": null,
   "metadata": {},
   "outputs": [],
   "source": [
    "viz(\n",
    "    duckdb.sql(\n",
    "        f\"SELECT tags, ST_Point2D(lon, lat) FROM '{nodes_intersecting_ids_path}/*.parquet' JOIN '{nodes_valid_with_tags_path}/*.parquet' USING (id)\"\n",
    "    )\n",
    ")"
   ]
  },
  {
   "cell_type": "markdown",
   "metadata": {},
   "source": [
    "### Step 3. Filtering nodes - tags\n",
    "\n",
    "IDs of nodes filtered by tags"
   ]
  },
  {
   "cell_type": "code",
   "execution_count": null,
   "metadata": {},
   "outputs": [],
   "source": [
    "nodes_filtered_ids_path = next(DEBUG_DIRECTORY.glob(\"**/nodes_filtered_ids/**\"))\n",
    "duckdb.sql(f\"SELECT * FROM '{nodes_filtered_ids_path}/*.parquet' LIMIT 10\")"
   ]
  },
  {
   "cell_type": "code",
   "execution_count": null,
   "metadata": {},
   "outputs": [],
   "source": [
    "viz(\n",
    "    duckdb.sql(\n",
    "        f\"SELECT tags, ST_Point2D(lon, lat) FROM '{nodes_filtered_ids_path}/*.parquet' JOIN '{nodes_valid_with_tags_path}/*.parquet' USING (id)\"\n",
    "    )\n",
    ")"
   ]
  },
  {
   "cell_type": "markdown",
   "metadata": {},
   "source": [
    "### Step 5. Reading ways\n",
    "\n",
    "- `tags` are used for filtering features\n",
    "- `raw_tags` are used later to properly detect if way is a polygon"
   ]
  },
  {
   "cell_type": "code",
   "execution_count": null,
   "metadata": {},
   "outputs": [],
   "source": [
    "ways_all_with_tags_path = next(DEBUG_DIRECTORY.glob(\"**/ways_all_with_tags/**\"))\n",
    "duckdb.sql(f\"SELECT * FROM '{ways_all_with_tags_path}/*.parquet' LIMIT 10\")"
   ]
  },
  {
   "cell_type": "markdown",
   "metadata": {},
   "source": [
    "### Step 6. Unnesting ways\n",
    "\n",
    "Splitting nodes IDs from a list to separate rows with `ref_idx` used for proper ordering"
   ]
  },
  {
   "cell_type": "code",
   "execution_count": null,
   "metadata": {},
   "outputs": [],
   "source": [
    "ways_with_unnested_nodes_refs_path = next(DEBUG_DIRECTORY.glob(\"**/ways_with_unnested_nodes_refs/**\"))\n",
    "duckdb.sql(f\"SELECT * FROM '{ways_with_unnested_nodes_refs_path}/*.parquet' LIMIT 10\")"
   ]
  },
  {
   "cell_type": "markdown",
   "metadata": {},
   "source": [
    "### Step 7. Filtering ways - valid refs\n",
    "\n",
    "IDs of ways with all refs matched with nodes - removed all ways for which we can't find nodes in the file"
   ]
  },
  {
   "cell_type": "code",
   "execution_count": null,
   "metadata": {},
   "outputs": [],
   "source": [
    "ways_valid_ids_path = next(DEBUG_DIRECTORY.glob(\"**/ways_valid_ids/**\"))\n",
    "duckdb.sql(f\"SELECT * FROM '{ways_valid_ids_path}/*.parquet' LIMIT 10\")"
   ]
  },
  {
   "cell_type": "markdown",
   "metadata": {},
   "source": [
    "### Step 8. Filtering ways - intersection\n",
    "IDs of ways where at least single node is within given geometry filter - simple join with intersecting nodes"
   ]
  },
  {
   "cell_type": "code",
   "execution_count": null,
   "metadata": {},
   "outputs": [],
   "source": [
    "ways_intersecting_ids_path = next(DEBUG_DIRECTORY.glob(\"**/ways_intersecting_ids/**\"))\n",
    "duckdb.sql(f\"SELECT * FROM '{ways_intersecting_ids_path}/*.parquet' LIMIT 10\")"
   ]
  },
  {
   "cell_type": "code",
   "execution_count": null,
   "metadata": {},
   "outputs": [],
   "source": [
    "viz(\n",
    "    duckdb.sql(\n",
    "        f\"\"\"\n",
    "        SELECT ways_tags.tags, ST_Point2D(nodes.lon, nodes.lat)\n",
    "        FROM '{ways_intersecting_ids_path}/*.parquet'\n",
    "        JOIN '{ways_all_with_tags_path}/*.parquet' ways_tags USING (id)\n",
    "        JOIN '{ways_with_unnested_nodes_refs_path}/*.parquet' ways USING (id)\n",
    "        JOIN '{nodes_valid_with_tags_path}/*.parquet' nodes ON ways.ref = nodes.id\n",
    "        \"\"\"\n",
    "    )\n",
    ")"
   ]
  },
  {
   "cell_type": "markdown",
   "metadata": {},
   "source": [
    "### Step 9. Filtering ways - tags\n",
    "IDs of ways filtered by tags"
   ]
  },
  {
   "cell_type": "code",
   "execution_count": null,
   "metadata": {},
   "outputs": [],
   "source": [
    "ways_filtered_ids_path = next(DEBUG_DIRECTORY.glob(\"**/ways_filtered_ids/**\"))\n",
    "duckdb.sql(f\"SELECT * FROM '{ways_filtered_ids_path}/*.parquet' LIMIT 10\")"
   ]
  },
  {
   "cell_type": "code",
   "execution_count": null,
   "metadata": {},
   "outputs": [],
   "source": [
    "viz(\n",
    "    duckdb.sql(\n",
    "        f\"\"\"\n",
    "        SELECT ways_tags.tags, ST_Point2D(nodes.lon, nodes.lat)\n",
    "        FROM '{ways_filtered_ids_path}/*.parquet'\n",
    "        JOIN '{ways_all_with_tags_path}/*.parquet' ways_tags USING (id)\n",
    "        JOIN '{ways_with_unnested_nodes_refs_path}/*.parquet' ways USING (id)\n",
    "        JOIN '{nodes_valid_with_tags_path}/*.parquet' nodes ON ways.ref = nodes.id\n",
    "        \"\"\"\n",
    "    )\n",
    ")"
   ]
  },
  {
   "cell_type": "markdown",
   "metadata": {},
   "source": [
    "### Step 11. Reading relations"
   ]
  },
  {
   "cell_type": "code",
   "execution_count": null,
   "metadata": {},
   "outputs": [],
   "source": [
    "relations_all_with_tags_path = next(DEBUG_DIRECTORY.glob(\"**/relations_all_with_tags/**\"))\n",
    "duckdb.sql(f\"SELECT * FROM '{relations_all_with_tags_path}/*.parquet' LIMIT 10\")"
   ]
  },
  {
   "cell_type": "markdown",
   "metadata": {},
   "source": [
    "### Step 12. Unnesting relations\n",
    "Splitting ways IDs from a list to separate rows with ref_role to show linearring role in polygon and `ref_idx` used for proper ordering."
   ]
  },
  {
   "cell_type": "code",
   "execution_count": null,
   "metadata": {},
   "outputs": [],
   "source": [
    "relations_with_unnested_way_refs_path = next(DEBUG_DIRECTORY.glob(\"**/relations_with_unnested_way_refs/**\"))\n",
    "duckdb.sql(f\"SELECT * FROM '{relations_with_unnested_way_refs_path}/*.parquet' LIMIT 10\")"
   ]
  },
  {
   "cell_type": "markdown",
   "metadata": {},
   "source": [
    "### Step 13. Filtering relations - valid refs\n",
    "\n",
    "IDs of relations with all refs matched with ways - removed all relations for which we can't find ways in the file"
   ]
  },
  {
   "cell_type": "code",
   "execution_count": null,
   "metadata": {},
   "outputs": [],
   "source": [
    "relations_valid_ids_path = next(DEBUG_DIRECTORY.glob(\"**/relations_valid_ids/**\"))\n",
    "duckdb.sql(f\"SELECT * FROM '{relations_valid_ids_path}/*.parquet' LIMIT 10\")"
   ]
  },
  {
   "cell_type": "markdown",
   "metadata": {},
   "source": [
    "### Step 14. Filtering relations - intersection\n",
    "\n",
    "IDs of relations where at least single way is within given geometry filter - simple join with intersecting ways"
   ]
  },
  {
   "cell_type": "code",
   "execution_count": null,
   "metadata": {},
   "outputs": [],
   "source": [
    "relations_intersecting_ids_path = next(DEBUG_DIRECTORY.glob(\"**/relations_intersecting_ids/**\"))\n",
    "duckdb.sql(f\"SELECT * FROM '{relations_intersecting_ids_path}/*.parquet' LIMIT 10\")"
   ]
  },
  {
   "cell_type": "code",
   "execution_count": null,
   "metadata": {},
   "outputs": [],
   "source": [
    "viz(\n",
    "    duckdb.sql(\n",
    "        f\"\"\"\n",
    "        SELECT relations_tags.tags, ST_Point2D(nodes.lon, nodes.lat)\n",
    "        FROM '{relations_intersecting_ids_path}/*.parquet'\n",
    "        JOIN '{relations_all_with_tags_path}/*.parquet' relations_tags USING (id)\n",
    "        JOIN '{relations_with_unnested_way_refs_path}/*.parquet' relations USING (id)\n",
    "        JOIN '{ways_with_unnested_nodes_refs_path}/*.parquet' ways ON relations.ref = ways.id\n",
    "        JOIN '{nodes_valid_with_tags_path}/*.parquet' nodes ON ways.ref = nodes.id\n",
    "        \"\"\"\n",
    "    )\n",
    ")"
   ]
  },
  {
   "cell_type": "markdown",
   "metadata": {},
   "source": [
    "### Step 15. Filtering relations - tags\n",
    "\n",
    "IDs of relations filtered by tags"
   ]
  },
  {
   "cell_type": "code",
   "execution_count": null,
   "metadata": {},
   "outputs": [],
   "source": [
    "relations_filtered_ids_path = next(DEBUG_DIRECTORY.glob(\"**/relations_filtered_ids/**\"))\n",
    "duckdb.sql(f\"SELECT * FROM '{relations_filtered_ids_path}/*.parquet' LIMIT 10\")"
   ]
  },
  {
   "cell_type": "code",
   "execution_count": null,
   "metadata": {},
   "outputs": [],
   "source": [
    "viz(\n",
    "    duckdb.sql(\n",
    "        f\"\"\"\n",
    "        SELECT relations_tags.tags, ST_Point2D(nodes.lon, nodes.lat)\n",
    "        FROM '{relations_filtered_ids_path}/*.parquet'\n",
    "        JOIN '{relations_all_with_tags_path}/*.parquet' relations_tags USING (id)\n",
    "        JOIN '{relations_with_unnested_way_refs_path}/*.parquet' relations USING (id)\n",
    "        JOIN '{ways_with_unnested_nodes_refs_path}/*.parquet' ways ON relations.ref = ways.id\n",
    "        JOIN '{nodes_valid_with_tags_path}/*.parquet' nodes ON ways.ref = nodes.id\n",
    "        \"\"\"\n",
    "    )\n",
    ")"
   ]
  },
  {
   "cell_type": "markdown",
   "metadata": {},
   "source": [
    "### Step 17. Loading required ways\n",
    "\n",
    "Ways IDs required by filtered relations"
   ]
  },
  {
   "cell_type": "code",
   "execution_count": null,
   "metadata": {},
   "outputs": [],
   "source": [
    "ways_required_ids_path = next(DEBUG_DIRECTORY.glob(\"**/ways_required_ids/**\"))\n",
    "duckdb.sql(f\"SELECT * FROM '{ways_required_ids_path}/*.parquet' LIMIT 10\")"
   ]
  },
  {
   "cell_type": "markdown",
   "metadata": {},
   "source": [
    "### Step 19. Saving filtered nodes with geometries\n",
    "\n",
    "Saving prepated geometries in  WKB format with final `feature_id` format and prepared tags"
   ]
  },
  {
   "cell_type": "code",
   "execution_count": null,
   "metadata": {},
   "outputs": [],
   "source": [
    "filtered_nodes_with_geometry_path = next(DEBUG_DIRECTORY.glob(\"**/filtered_nodes_with_geometry/**\"))\n",
    "duckdb.sql(f\"SELECT * FROM '{filtered_nodes_with_geometry_path}/*.parquet' LIMIT 10\")"
   ]
  },
  {
   "cell_type": "code",
   "execution_count": null,
   "metadata": {},
   "outputs": [],
   "source": [
    "viz(\n",
    "    duckdb.sql(\n",
    "        f\"SELECT feature_id, tags, ST_GeomFromWKB(geometry_wkb) geom FROM '{filtered_nodes_with_geometry_path}/*.parquet'\"\n",
    "    )\n",
    ")"
   ]
  },
  {
   "cell_type": "markdown",
   "metadata": {},
   "source": [
    "### Step 20. Grouping filtered ways\n",
    "Because grouping is most resource-intensive operation, data is split into buckets with maximal number of rows dependent on total available memory in the system.\n",
    "\n",
    "|     Memory | Rows per group |\n",
    "| ---------: | -------------: |\n",
    "|     < 8 GB |        100 000 |\n",
    "|  8 - 16 GB |        500 000 |\n",
    "| 16 - 24 GB |      1 000 000 |\n",
    "|    > 24 GB |      5 000 000 |"
   ]
  },
  {
   "cell_type": "code",
   "execution_count": null,
   "metadata": {},
   "outputs": [],
   "source": [
    "filtered_ways_grouped_path = next(DEBUG_DIRECTORY.glob(\"**/filtered_ways_grouped/group=0/**\"))\n",
    "duckdb.sql(f\"SELECT * FROM '{filtered_ways_grouped_path}/*.parquet' ORDER BY id, ref_idx LIMIT 10\")"
   ]
  },
  {
   "cell_type": "markdown",
   "metadata": {},
   "source": [
    "### Step 21. Saving filtered ways with linestrings\n",
    "\n",
    "Grouping of nodes into a list of points in order is executed per each group assigned previously.\n",
    "\n",
    "Grouping operation is executed in separate thread, detects `OutOfMemory` errors and automatically retries the operation with smaller number of rows."
   ]
  },
  {
   "cell_type": "code",
   "execution_count": null,
   "metadata": {},
   "outputs": [],
   "source": [
    "filtered_ways_with_linestrings_path = next(DEBUG_DIRECTORY.glob(\"**/filtered_ways_with_linestrings/group=0/**\"))\n",
    "duckdb.sql(f\"SELECT * FROM '{filtered_ways_with_linestrings_path}/*.parquet' LIMIT 10\")"
   ]
  },
  {
   "cell_type": "markdown",
   "metadata": {},
   "source": [
    "### Step 22. Grouping required ways\n",
    "\n",
    "The same operation as step 20, but applied on `required` ways."
   ]
  },
  {
   "cell_type": "code",
   "execution_count": null,
   "metadata": {},
   "outputs": [],
   "source": [
    "required_ways_grouped_path = next(DEBUG_DIRECTORY.glob(\"**/required_ways_grouped/group=0/**\"))\n",
    "duckdb.sql(f\"SELECT * FROM '{required_ways_grouped_path}/*.parquet' ORDER BY id, ref_idx LIMIT 10\")"
   ]
  },
  {
   "cell_type": "markdown",
   "metadata": {},
   "source": [
    "### Step 23. Saving required ways with linestrings\n",
    "\n",
    "The same operation as step 21, but applied on `required` ways."
   ]
  },
  {
   "cell_type": "code",
   "execution_count": null,
   "metadata": {},
   "outputs": [],
   "source": [
    "required_ways_with_linestrings_path = next(DEBUG_DIRECTORY.glob(\"**/required_ways_with_linestrings/group=0/**\"))\n",
    "duckdb.sql(f\"SELECT * FROM '{required_ways_with_linestrings_path}/*.parquet' LIMIT 10\")"
   ]
  },
  {
   "cell_type": "markdown",
   "metadata": {},
   "source": [
    "### Step 24. Saving filtered ways with geometries\n",
    "\n",
    "Saving `filtered` ways as linestrings or as polygons, based on a polygon config.\n",
    "\n",
    "Linestring has to have at least 3 points, start and end point have to be the same and tags config have to define object as polygon."
   ]
  },
  {
   "cell_type": "code",
   "execution_count": null,
   "metadata": {},
   "outputs": [],
   "source": [
    "filtered_ways_with_geometry_path = next(DEBUG_DIRECTORY.glob(\"**/filtered_ways_with_geometry/**\"))\n",
    "duckdb.sql(f\"SELECT * FROM '{filtered_ways_with_geometry_path}/*.parquet' LIMIT 10\")"
   ]
  },
  {
   "cell_type": "code",
   "execution_count": null,
   "metadata": {},
   "outputs": [],
   "source": [
    "viz(\n",
    "    duckdb.sql(\n",
    "        f\"SELECT feature_id, tags, ST_GeomFromWKB(geometry_wkb) geom FROM '{filtered_ways_with_geometry_path}/*.parquet'\"\n",
    "    )\n",
    ")"
   ]
  },
  {
   "cell_type": "markdown",
   "metadata": {},
   "source": [
    "### Step 25. Saving valid relations parts\n",
    "\n",
    "Collecting all ways linestrings related to the relation and merging them using `ST_LineMerge` function.\n",
    "\n",
    "If any linestring after this operation has less than 4 points or isn't closed - relation is discarded."
   ]
  },
  {
   "cell_type": "code",
   "execution_count": null,
   "metadata": {},
   "outputs": [],
   "source": [
    "valid_relation_parts_path = next(DEBUG_DIRECTORY.glob(\"**/valid_relation_parts/**\"))\n",
    "duckdb.sql(f\"SELECT * FROM '{valid_relation_parts_path}/*.parquet' LIMIT 10\")"
   ]
  },
  {
   "cell_type": "code",
   "execution_count": null,
   "metadata": {},
   "outputs": [],
   "source": [
    "viz(\n",
    "    duckdb.sql(\n",
    "        f\"SELECT id, ref_role, geometry_id, ST_GeomFromWKB(geometry_wkb) geom FROM '{valid_relation_parts_path}/*.parquet'\"\n",
    "    )\n",
    ")"
   ]
  },
  {
   "cell_type": "markdown",
   "metadata": {},
   "source": [
    "### Step 26. Saving relations inner parts\n",
    "\n",
    "Saving `inner` polygons in separate file."
   ]
  },
  {
   "cell_type": "code",
   "execution_count": null,
   "metadata": {},
   "outputs": [],
   "source": [
    "relation_inner_parts_path = next(DEBUG_DIRECTORY.glob(\"**/relation_inner_parts/**\"))\n",
    "duckdb.sql(f\"SELECT * FROM '{relation_inner_parts_path}/*.parquet' LIMIT 10\")"
   ]
  },
  {
   "cell_type": "markdown",
   "metadata": {},
   "source": [
    "### Step 27. Saving relations outer parts\n",
    "\n",
    "Saving `outer` polygons in separate file."
   ]
  },
  {
   "cell_type": "code",
   "execution_count": null,
   "metadata": {},
   "outputs": [],
   "source": [
    "relation_outer_parts_path = next(DEBUG_DIRECTORY.glob(\"**/relation_outer_parts/**\"))\n",
    "duckdb.sql(f\"SELECT * FROM '{relation_outer_parts_path}/*.parquet' LIMIT 10\")"
   ]
  },
  {
   "cell_type": "markdown",
   "metadata": {},
   "source": [
    "### Step 28. Saving relations outer parts with holes\n",
    "\n",
    "Joining each `outer` polygon with `inner` polygon with `ST_WITHIN` predicate and removing the `inner` polygon from the `outer`."
   ]
  },
  {
   "cell_type": "code",
   "execution_count": null,
   "metadata": {},
   "outputs": [],
   "source": [
    "relation_outer_parts_with_holes_path = next(DEBUG_DIRECTORY.glob(\"**/relation_outer_parts_with_holes/**\"))\n",
    "duckdb.sql(f\"SELECT * FROM '{relation_outer_parts_with_holes_path}/*.parquet' LIMIT 10\")"
   ]
  },
  {
   "cell_type": "markdown",
   "metadata": {},
   "source": [
    "### Step 29. Saving relations outer parts without holes\n",
    "\n",
    "Saving all `outer` polygons without holes in a separate file."
   ]
  },
  {
   "cell_type": "code",
   "execution_count": null,
   "metadata": {},
   "outputs": [],
   "source": [
    "relation_outer_parts_without_holes_path = next(DEBUG_DIRECTORY.glob(\"**/relation_outer_parts_without_holes/**\"))\n",
    "duckdb.sql(f\"SELECT * FROM '{relation_outer_parts_without_holes_path}/*.parquet' LIMIT 10\")"
   ]
  },
  {
   "cell_type": "markdown",
   "metadata": {},
   "source": [
    "### Step 30. Saving filtered relations with geometries\n",
    "\n",
    "Merging all polygons per relation ID and saving them as multipolygons."
   ]
  },
  {
   "cell_type": "code",
   "execution_count": null,
   "metadata": {},
   "outputs": [],
   "source": [
    "filtered_relations_with_geometry_path = next(DEBUG_DIRECTORY.glob(\"**/filtered_relations_with_geometry/**\"))\n",
    "duckdb.sql(f\"SELECT * FROM '{filtered_relations_with_geometry_path}/*.parquet' LIMIT 10\")"
   ]
  },
  {
   "cell_type": "code",
   "execution_count": null,
   "metadata": {},
   "outputs": [],
   "source": [
    "viz(\n",
    "    duckdb.sql(\n",
    "        f\"SELECT feature_id, tags, ST_GeomFromWKB(geometry_wkb) geom FROM '{filtered_relations_with_geometry_path}/*.parquet'\"\n",
    "    )\n",
    ")"
   ]
  },
  {
   "cell_type": "markdown",
   "metadata": {},
   "source": [
    "### Step 31. Saving all features\n",
    "\n",
    "Fixing all geometries using `ST_MakeValid` and joining all nodes, ways and relations together in a single dataset.\n",
    "\n",
    "Final structure of columns based on tags is generated in this step."
   ]
  },
  {
   "cell_type": "code",
   "execution_count": null,
   "metadata": {},
   "outputs": [],
   "source": [
    "osm_valid_elements_path = next(DEBUG_DIRECTORY.glob(\"**/osm_valid_elements/**\"))\n",
    "duckdb.sql(f\"SELECT * FROM '{osm_valid_elements_path}/*.parquet' LIMIT 10\")"
   ]
  },
  {
   "cell_type": "markdown",
   "metadata": {},
   "source": [
    "### Step 32. Saving final geoparquet file\n",
    "\n",
    "Removing columns with nulls only, saving final file with proper GeoParquet specificaion data."
   ]
  },
  {
   "cell_type": "code",
   "execution_count": null,
   "metadata": {},
   "outputs": [],
   "source": [
    "result_file"
   ]
  },
  {
   "cell_type": "code",
   "execution_count": null,
   "metadata": {},
   "outputs": [],
   "source": [
    "duckdb.sql(f\"SELECT * FROM '{result_file}' LIMIT 10\")"
   ]
  },
  {
   "cell_type": "code",
   "execution_count": null,
   "metadata": {},
   "outputs": [],
   "source": [
    "viz(\n",
    "    duckdb.sql(\n",
    "        f\"SELECT * EXCLUDE (geometry), ST_GeomFromWKB(geometry) geom FROM '{result_file}'\"\n",
    "    )\n",
    ")"
   ]
  },
  {
   "cell_type": "code",
   "execution_count": null,
   "metadata": {},
   "outputs": [],
   "source": []
  }
 ],
 "metadata": {
  "kernelspec": {
   "display_name": "Python 3 (ipykernel)",
   "language": "python",
   "name": "python3"
  },
  "language_info": {
   "codemirror_mode": {
    "name": "ipython",
    "version": 3
   },
   "file_extension": ".py",
   "mimetype": "text/x-python",
   "name": "python",
   "nbconvert_exporter": "python",
   "pygments_lexer": "ipython3",
   "version": "3.10.12"
  }
 },
 "nbformat": 4,
 "nbformat_minor": 2
}
