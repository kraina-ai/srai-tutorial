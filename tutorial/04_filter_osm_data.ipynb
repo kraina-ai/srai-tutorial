{
 "cells": [
  {
   "cell_type": "code",
   "execution_count": null,
   "metadata": {},
   "outputs": [],
   "source": [
    "import osmnx as ox\n",
    "from quackosm import convert_geometry_to_geodataframe, convert_pbf_to_geodataframe\n",
    "from shapely import box\n",
    "from lonboard import viz\n",
    "from lonboard.colormap import apply_categorical_cmap\n",
    "from pooch import retrieve"
   ]
  },
  {
   "cell_type": "markdown",
   "metadata": {},
   "source": [
    "### Filtering by geometry"
   ]
  },
  {
   "cell_type": "markdown",
   "metadata": {},
   "source": [
    "#### Simple box"
   ]
  },
  {
   "cell_type": "code",
   "execution_count": null,
   "metadata": {},
   "outputs": [],
   "source": [
    "geometry = box(\n",
    "    xmin=7.415,\n",
    "    xmax=7.425,\n",
    "    ymin=43.727,\n",
    "    ymax=43.735,\n",
    ")\n",
    "\n",
    "result_gdf = convert_geometry_to_geodataframe(geometry_filter=geometry)\n",
    "result_gdf"
   ]
  },
  {
   "cell_type": "code",
   "execution_count": null,
   "metadata": {},
   "outputs": [],
   "source": [
    "viz([result_gdf, geometry.boundary])"
   ]
  },
  {
   "cell_type": "markdown",
   "metadata": {},
   "source": [
    "#### Geocoded city"
   ]
  },
  {
   "cell_type": "code",
   "execution_count": null,
   "metadata": {},
   "outputs": [],
   "source": [
    "geometry = ox.geocode_to_gdf(\"Weymouth, UK\")\n",
    "\n",
    "result_gdf = convert_geometry_to_geodataframe(geometry_filter=geometry.unary_union)\n",
    "result_gdf"
   ]
  },
  {
   "cell_type": "code",
   "execution_count": null,
   "metadata": {},
   "outputs": [],
   "source": [
    "viz([result_gdf, geometry.boundary])"
   ]
  },
  {
   "cell_type": "markdown",
   "metadata": {},
   "source": [
    "#### H3 cells"
   ]
  },
  {
   "cell_type": "code",
   "execution_count": null,
   "metadata": {},
   "outputs": [],
   "source": [
    "from srai.h3 import h3_to_geoseries\n",
    "\n",
    "h3_cells = [\"871f1d488ffffff\", \"891f1d48bbbffff\", \"8a1f1d48b54ffff\"]\n",
    "h3_geometries = h3_to_geoseries(h3_cells)\n",
    "\n",
    "result_gdf = convert_geometry_to_geodataframe(geometry_filter=h3_geometries.unary_union)\n",
    "result_gdf"
   ]
  },
  {
   "cell_type": "code",
   "execution_count": null,
   "metadata": {},
   "outputs": [],
   "source": [
    "viz([result_gdf, h3_geometries.boundary])"
   ]
  },
  {
   "cell_type": "markdown",
   "metadata": {},
   "source": [
    "### Filtering by OSM tags"
   ]
  },
  {
   "cell_type": "markdown",
   "metadata": {},
   "source": [
    "#### All of the buildings in Vienna"
   ]
  },
  {
   "cell_type": "code",
   "execution_count": null,
   "metadata": {},
   "outputs": [],
   "source": [
    "geometry = ox.geocode_to_gdf(\"Vienna, Austria\")\n",
    "tags = {\"building\": True}\n",
    "\n",
    "result_gdf = convert_geometry_to_geodataframe(\n",
    "    geometry_filter=geometry.unary_union, tags_filter=tags, osm_extract_source=\"BBBike\"\n",
    ")\n",
    "result_gdf"
   ]
  },
  {
   "cell_type": "code",
   "execution_count": null,
   "metadata": {},
   "outputs": [],
   "source": [
    "viz([result_gdf, geometry.boundary])"
   ]
  },
  {
   "cell_type": "markdown",
   "metadata": {},
   "source": [
    "#### Streets (highways) without any names"
   ]
  },
  {
   "cell_type": "code",
   "execution_count": null,
   "metadata": {},
   "outputs": [],
   "source": [
    "tags = {\"highway\": True, \"name:*\": False}\n",
    "\n",
    "result_gdf = convert_geometry_to_geodataframe(\n",
    "    geometry_filter=geometry.unary_union,\n",
    "    tags_filter=tags,\n",
    "    keep_all_tags=True,\n",
    "    osm_extract_source=\"BBBike\",\n",
    ")\n",
    "result_gdf"
   ]
  },
  {
   "cell_type": "code",
   "execution_count": null,
   "metadata": {},
   "outputs": [],
   "source": [
    "viz(\n",
    "    [\n",
    "        result_gdf[result_gdf.geom_type.isin((\"LineString\", \"MultiLineString\"))],\n",
    "        geometry.boundary,\n",
    "    ]\n",
    ")"
   ]
  },
  {
   "cell_type": "markdown",
   "metadata": {},
   "source": [
    "#### All highway roads ending with `-ary` and amenities without building tag in Estonia "
   ]
  },
  {
   "cell_type": "code",
   "execution_count": null,
   "metadata": {},
   "outputs": [],
   "source": [
    "estonia_pbf_url = \"http://download.geofabrik.de/europe/estonia-latest.osm.pbf\"\n",
    "estonia_pbf_file = retrieve(url=estonia_pbf_url, known_hash=None, path=\"files\")\n",
    "# Grouped tags filter\n",
    "tags = {\n",
    "    \"main_roads\": {\"highway\": \"*ary\"},\n",
    "    \"amenities\": {\"amenity\": True, \"building\": False},\n",
    "}\n",
    "\n",
    "result_gdf = convert_pbf_to_geodataframe(pbf_path=estonia_pbf_file, tags_filter=tags)\n",
    "result_gdf"
   ]
  },
  {
   "cell_type": "code",
   "execution_count": null,
   "metadata": {},
   "outputs": [],
   "source": [
    "highways_gdf = result_gdf[~result_gdf['main_roads'].isna()]\n",
    "highways_gdf"
   ]
  },
  {
   "cell_type": "code",
   "execution_count": null,
   "metadata": {},
   "outputs": [],
   "source": [
    "highways_gdf['main_roads'].unique()"
   ]
  },
  {
   "cell_type": "code",
   "execution_count": null,
   "metadata": {},
   "outputs": [],
   "source": [
    "amenities_gdf = result_gdf[~result_gdf['amenities'].isna()]\n",
    "amenities_gdf"
   ]
  },
  {
   "cell_type": "code",
   "execution_count": null,
   "metadata": {},
   "outputs": [],
   "source": [
    "m = viz([highways_gdf, amenities_gdf])\n",
    "\n",
    "highway_path_layer = m.layers[0]\n",
    "\n",
    "highway_path_layer.get_color = apply_categorical_cmap(\n",
    "    highway_path_layer.table[\"main_roads\"].to_pandas(),\n",
    "    {\n",
    "        \"highway=primary\": [220, 217, 57],\n",
    "        \"highway=secondary\": [184, 217, 235],\n",
    "        \"highway=tertiary\": [181, 197, 143],\n",
    "    },\n",
    ")\n",
    "highway_path_layer.get_width = (\n",
    "    highway_path_layer.table[\"main_roads\"]\n",
    "    .to_pandas()\n",
    "    .map(\n",
    "        {\n",
    "            \"highway=primary\": 5,\n",
    "            \"highway=secondary\": 2,\n",
    "            \"highway=tertiary\": 1,\n",
    "        }\n",
    "    )\n",
    ")\n",
    "highway_path_layer.width_scale = 10\n",
    "highway_path_layer.width_min_pixels = 0.5\n",
    "\n",
    "m"
   ]
  }
 ],
 "metadata": {
  "kernelspec": {
   "display_name": "Python 3 (ipykernel)",
   "language": "python",
   "name": "python3"
  },
  "language_info": {
   "codemirror_mode": {
    "name": "ipython",
    "version": 3
   },
   "file_extension": ".py",
   "mimetype": "text/x-python",
   "name": "python",
   "nbconvert_exporter": "python",
   "pygments_lexer": "ipython3",
   "version": "3.10.12"
  }
 },
 "nbformat": 4,
 "nbformat_minor": 2
}
