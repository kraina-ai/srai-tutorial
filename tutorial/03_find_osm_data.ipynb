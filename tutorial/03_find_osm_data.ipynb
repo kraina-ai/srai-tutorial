{
 "cells": [
  {
   "cell_type": "code",
   "execution_count": null,
   "metadata": {},
   "outputs": [],
   "source": [
    "from pathlib import Path\n",
    "\n",
    "import geopandas as gpd\n",
    "import quackosm as qosm\n",
    "from lonboard import viz\n",
    "from shapely import box, Point\n",
    "from quackosm import osm_extracts"
   ]
  },
  {
   "cell_type": "markdown",
   "metadata": {},
   "source": [
    "## How to find OSM data for a given region?\n",
    "\n",
    "`QuackOSM` has logic to find matching `*.osm.pbf` extracts from existing sources.\n",
    "\n",
    "It downloads information about available extracts with URLs and geometries and later tries to find smallest extracts that cover given region.\n",
    "\n",
    "For example, `Geofabrik` has full `GeoJSON` index available on their website."
   ]
  },
  {
   "cell_type": "code",
   "execution_count": null,
   "metadata": {},
   "outputs": [],
   "source": [
    "GEOFABRIK_INDEX = \"https://download.geofabrik.de/index-v1.json\"\n",
    "geofabrik_gdf = gpd.read_file(GEOFABRIK_INDEX)\n",
    "geofabrik_gdf"
   ]
  },
  {
   "cell_type": "code",
   "execution_count": null,
   "metadata": {},
   "outputs": [],
   "source": [
    "viz(geofabrik_gdf)"
   ]
  },
  {
   "cell_type": "markdown",
   "metadata": {},
   "source": [
    "### Scenario 1: Simple polygon"
   ]
  },
  {
   "cell_type": "markdown",
   "metadata": {},
   "source": [
    "#### Monaco"
   ]
  },
  {
   "cell_type": "code",
   "execution_count": null,
   "metadata": {},
   "outputs": [],
   "source": [
    "geometry = box(\n",
    "    xmin=7.415,\n",
    "    xmax=7.425,\n",
    "    ymin=43.727,\n",
    "    ymax=43.735,\n",
    ")\n",
    "geometry"
   ]
  },
  {
   "cell_type": "code",
   "execution_count": null,
   "metadata": {},
   "outputs": [],
   "source": [
    "qosm.convert_geometry_to_geodataframe(geometry)"
   ]
  },
  {
   "cell_type": "markdown",
   "metadata": {},
   "source": [
    "What happens under the hood?"
   ]
  },
  {
   "cell_type": "code",
   "execution_count": null,
   "metadata": {},
   "outputs": [],
   "source": [
    "matching_extracts = osm_extracts.find_smallest_containing_geofabrik_extracts(geometry=geometry)\n",
    "matching_extracts"
   ]
  },
  {
   "cell_type": "code",
   "execution_count": null,
   "metadata": {},
   "outputs": [],
   "source": [
    "viz([matching_extracts[0].geometry, geometry])"
   ]
  },
  {
   "cell_type": "markdown",
   "metadata": {},
   "source": [
    "#### Andorra"
   ]
  },
  {
   "cell_type": "code",
   "execution_count": null,
   "metadata": {},
   "outputs": [],
   "source": [
    "geometry = box(\n",
    "    xmin=1.382,\n",
    "    xmax=1.809,\n",
    "    ymin=42.400,\n",
    "    ymax=42.676,\n",
    ")\n",
    "geometry"
   ]
  },
  {
   "cell_type": "code",
   "execution_count": null,
   "metadata": {},
   "outputs": [],
   "source": [
    "matching_extracts = osm_extracts.find_smallest_containing_geofabrik_extracts(geometry=geometry)\n",
    "matching_extracts"
   ]
  },
  {
   "cell_type": "code",
   "execution_count": null,
   "metadata": {},
   "outputs": [],
   "source": [
    "viz([*(extract.geometry for extract in matching_extracts), geometry])"
   ]
  },
  {
   "cell_type": "markdown",
   "metadata": {},
   "source": [
    "### Scenario 2: Geocoded cities"
   ]
  },
  {
   "cell_type": "code",
   "execution_count": null,
   "metadata": {},
   "outputs": [],
   "source": [
    "import osmnx as ox\n",
    "\n",
    "geocoded_gdf = ox.geocode_to_gdf([\"Berlin\", \"Paris\", \"Greater London\", \"Warsaw\"])\n",
    "geocoded_gdf"
   ]
  },
  {
   "cell_type": "code",
   "execution_count": null,
   "metadata": {},
   "outputs": [],
   "source": [
    "matching_extracts = osm_extracts.find_smallest_containing_geofabrik_extracts(\n",
    "    geometry=geocoded_gdf.unary_union\n",
    ")\n",
    "matching_extracts"
   ]
  },
  {
   "cell_type": "code",
   "execution_count": null,
   "metadata": {},
   "outputs": [],
   "source": [
    "viz([*(extract.geometry for extract in matching_extracts), geocoded_gdf])"
   ]
  },
  {
   "cell_type": "markdown",
   "metadata": {},
   "source": [
    "Change source from Geofabrik to BBBike"
   ]
  },
  {
   "cell_type": "code",
   "execution_count": null,
   "metadata": {},
   "outputs": [],
   "source": [
    "matching_extracts = osm_extracts.find_smallest_containing_extract(\n",
    "    geometry=geocoded_gdf.unary_union,\n",
    "    source=\"BBBike\",  # options: \"Geofabrik\", \"BBBike\", \"osmfr\", \"any\"\n",
    ")\n",
    "matching_extracts"
   ]
  },
  {
   "cell_type": "code",
   "execution_count": null,
   "metadata": {},
   "outputs": [],
   "source": [
    "viz([*(extract.geometry for extract in matching_extracts), geocoded_gdf])"
   ]
  },
  {
   "cell_type": "markdown",
   "metadata": {},
   "source": [
    "### Scenario 3: Null Island"
   ]
  },
  {
   "cell_type": "code",
   "execution_count": null,
   "metadata": {},
   "outputs": [],
   "source": [
    "null_island = Point(0, 0)\n",
    "\n",
    "qosm.convert_geometry_to_geodataframe(geometry_filter=null_island, osm_extract_source='BBBike')"
   ]
  },
  {
   "cell_type": "markdown",
   "metadata": {},
   "source": [
    "Expand to polygon"
   ]
  },
  {
   "cell_type": "code",
   "execution_count": null,
   "metadata": {},
   "outputs": [],
   "source": [
    "null_island_box = box(\n",
    "    xmin=0,\n",
    "    xmax=0.1,\n",
    "    ymin=0,\n",
    "    ymax=0.1,\n",
    ")\n",
    "\n",
    "qosm.convert_geometry_to_geodataframe(geometry_filter=null_island_box, osm_extract_source='BBBike')"
   ]
  },
  {
   "cell_type": "markdown",
   "metadata": {},
   "source": [
    "Allow uncovered geometry"
   ]
  },
  {
   "cell_type": "code",
   "execution_count": null,
   "metadata": {},
   "outputs": [],
   "source": [
    "qosm.convert_geometry_to_geodataframe(\n",
    "    geometry_filter=null_island_box,\n",
    "    osm_extract_source=\"BBBike\",\n",
    "    allow_uncovered_geometry=True,\n",
    ")"
   ]
  },
  {
   "cell_type": "markdown",
   "metadata": {},
   "source": [
    "### Scenario 4: Multiple cities across continent"
   ]
  },
  {
   "cell_type": "code",
   "execution_count": null,
   "metadata": {},
   "outputs": [],
   "source": [
    "eurostat_cities_100k = gpd.read_file(\n",
    "    Path(\".\").resolve().parent / \"data/URAU_RG_100K_2021_4326_CITIES.geojson\"\n",
    ")\n",
    "viz(eurostat_cities_100k)"
   ]
  },
  {
   "cell_type": "code",
   "execution_count": null,
   "metadata": {},
   "outputs": [],
   "source": [
    "matching_extracts = osm_extracts.find_smallest_containing_geofabrik_extracts(\n",
    "    geometry=eurostat_cities_100k.geometry.make_valid().unary_union\n",
    ")\n",
    "matching_extracts"
   ]
  },
  {
   "cell_type": "code",
   "execution_count": null,
   "metadata": {},
   "outputs": [],
   "source": [
    "viz([*(extract.geometry for extract in matching_extracts), eurostat_cities_100k])"
   ]
  },
  {
   "cell_type": "markdown",
   "metadata": {},
   "source": [
    "### Scenario 5: Mismatch between geocoder and extracts geometries"
   ]
  },
  {
   "cell_type": "code",
   "execution_count": null,
   "metadata": {},
   "outputs": [],
   "source": [
    "monaco_nominatim_geometry = ox.geocode_to_gdf(\"Monaco\")\n",
    "monaco_nominatim_geometry"
   ]
  },
  {
   "cell_type": "code",
   "execution_count": null,
   "metadata": {},
   "outputs": [],
   "source": [
    "matching_extracts = osm_extracts.find_smallest_containing_geofabrik_extracts(\n",
    "    geometry=monaco_nominatim_geometry.unary_union\n",
    ")\n",
    "matching_extracts"
   ]
  },
  {
   "cell_type": "code",
   "execution_count": null,
   "metadata": {},
   "outputs": [],
   "source": [
    "viz([matching_extracts[0].geometry, monaco_nominatim_geometry])"
   ]
  },
  {
   "cell_type": "code",
   "execution_count": null,
   "metadata": {},
   "outputs": [],
   "source": [
    "monaco_geofabrik_extract_geometry = osm_extracts._get_geofabrik_index().query('id == \"Geofabrik_monaco\"')\n",
    "monaco_geofabrik_extract_geometry"
   ]
  },
  {
   "cell_type": "code",
   "execution_count": null,
   "metadata": {},
   "outputs": [],
   "source": [
    "viz([monaco_nominatim_geometry, monaco_geofabrik_extract_geometry])"
   ]
  },
  {
   "cell_type": "code",
   "execution_count": null,
   "metadata": {},
   "outputs": [],
   "source": []
  }
 ],
 "metadata": {
  "kernelspec": {
   "display_name": "Python 3 (ipykernel)",
   "language": "python",
   "name": "python3"
  },
  "language_info": {
   "codemirror_mode": {
    "name": "ipython",
    "version": 3
   },
   "file_extension": ".py",
   "mimetype": "text/x-python",
   "name": "python",
   "nbconvert_exporter": "python",
   "pygments_lexer": "ipython3",
   "version": "3.10.12"
  }
 },
 "nbformat": 4,
 "nbformat_minor": 2
}
