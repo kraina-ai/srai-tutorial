{
  "cells": [
    {
      "cell_type": "code",
      "execution_count": null,
      "metadata": {
        "colab": {
          "base_uri": "https://localhost:8080/"
        },
        "id": "8kjQhO3W4MFp",
        "outputId": "61ba7fe3-96d6-4332-c05c-1eb59331bf48"
      },
      "outputs": [],
      "source": [
        "%pip install srai[overturemaps] openpyxl contextily seaborn"
      ]
    },
    {
      "cell_type": "markdown",
      "metadata": {},
      "source": [
        "# Predict population density\n",
        "\n",
        "In this notebook we will aim to predict the population density in the London MSOA (Middle layer Super Output Area) regions.\n",
        "\n",
        "We will use open data form the London datastore and try to predict the population using features from the Overture Maps dataset.\n",
        "\n",
        "<a target=\"_blank\" href=\"https://colab.research.google.com/github/kraina-ai/srai-tutorial/blob/geopython2025/tutorial/01_london_population_density_prediction.ipynb\">\n",
        "  <img src=\"https://colab.research.google.com/assets/colab-badge.svg\" alt=\"Open In Colab\"/>\n",
        "</a>"
      ]
    },
    {
      "cell_type": "markdown",
      "metadata": {
        "id": "feMpgD0V6jgE"
      },
      "source": [
        "## Prepare London population dataset\n",
        "\n",
        "We will download geometries for the MSOA (Middle layer Super Output Area) regions for London from 2021 and combine it with population estimates for 2022.\n",
        "\n",
        "Based on that we will calculate population density and try to predict it."
      ]
    },
    {
      "cell_type": "code",
      "execution_count": null,
      "metadata": {
        "id": "dOh9MwMWfGZw"
      },
      "outputs": [],
      "source": [
        "import zipfile\n",
        "from pathlib import Path\n",
        "\n",
        "import contextily as cx\n",
        "import geopandas as gpd\n",
        "import matplotlib.pyplot as plt\n",
        "import matplotlib.ticker as mticker\n",
        "import pandas as pd\n",
        "import seaborn as sns\n",
        "from pooch import retrieve\n",
        "from sklearn.ensemble import RandomForestRegressor\n",
        "from sklearn.metrics import r2_score\n",
        "from sklearn.model_selection import train_test_split\n",
        "from srai.embedders import CountEmbedder\n",
        "from srai.loaders import OvertureMapsLoader"
      ]
    },
    {
      "cell_type": "markdown",
      "metadata": {},
      "source": [
        "### Download geometries for the MSOA regions"
      ]
    },
    {
      "cell_type": "code",
      "execution_count": null,
      "metadata": {
        "id": "Oplmu9X53Z0z"
      },
      "outputs": [],
      "source": [
        "msoa_url = \"https://data.london.gov.uk/download/statistical-gis-boundary-files-london/f6d9340a-2ccb-46ad-846b-c9122b4b5d1f/LB_MSOA2021_shp.zip\"\n",
        "destination_file = retrieve(\n",
        "    url=msoa_url,\n",
        "    fname=Path(msoa_url).name,\n",
        "    path=\".\",\n",
        "    known_hash=None,\n",
        ")"
      ]
    },
    {
      "cell_type": "code",
      "execution_count": null,
      "metadata": {
        "colab": {
          "base_uri": "https://localhost:8080/"
        },
        "id": "10qbqHJ23dj_",
        "outputId": "7f9059b0-0439-476a-835d-3a0458e179e9"
      },
      "outputs": [],
      "source": [
        "zip_path = destination_file\n",
        "zip_paths = []\n",
        "\n",
        "with zipfile.ZipFile(zip_path, mode=\"r\") as archive:\n",
        "    zip_paths = [\n",
        "        f\"zip:{zip_path}!{p}\" for p in archive.namelist() if p.endswith(\".shp\")\n",
        "    ]\n",
        "\n",
        "zip_paths"
      ]
    },
    {
      "cell_type": "markdown",
      "metadata": {},
      "source": [
        "### Load MSOA boundaries\n",
        "\n",
        "We will load each SHP from inside the zip file and concatenate the results."
      ]
    },
    {
      "cell_type": "code",
      "execution_count": null,
      "metadata": {
        "colab": {
          "base_uri": "https://localhost:8080/",
          "height": 424
        },
        "id": "11BRWzzR3hi0",
        "outputId": "a59adbe8-3115-4fbb-ae00-6120d3006edd"
      },
      "outputs": [],
      "source": [
        "msoa_gdf = gpd.pd.concat(\n",
        "    [gpd.read_file(p, columns=[\"msoa21cd\", \"msoa21nm\", \"geometry\"]) for p in zip_paths]\n",
        ")\n",
        "msoa_gdf"
      ]
    },
    {
      "cell_type": "markdown",
      "metadata": {},
      "source": [
        "Notice the coordinates in the geometries aren't in the WGS84 CRS.\n",
        "\n",
        "They are saved in the projected CRS EPSG:27700, which is the British National Grid, with units in meters."
      ]
    },
    {
      "cell_type": "code",
      "execution_count": null,
      "metadata": {},
      "outputs": [],
      "source": [
        "msoa_gdf.crs"
      ]
    },
    {
      "cell_type": "markdown",
      "metadata": {},
      "source": [
        "### Download and load MSOA statistics\n",
        "\n",
        "We will load the statistics for the year of 2021."
      ]
    },
    {
      "cell_type": "code",
      "execution_count": null,
      "metadata": {
        "colab": {
          "base_uri": "https://localhost:8080/",
          "height": 424
        },
        "id": "wbtl9E6G3oum",
        "outputId": "5195518a-a048-47c0-b2d6-84f19ec0640e"
      },
      "outputs": [],
      "source": [
        "stats = \"https://www.ons.gov.uk/file?uri=/peoplepopulationandcommunity/populationandmigration/populationestimates/datasets/middlesuperoutputareamidyearpopulationestimatesnationalstatistics/mid2021andmid2022/sapemsoaquinaryagetablefinal.xlsx\"\n",
        "destination_file = retrieve(\n",
        "    url=stats,\n",
        "    fname=\"msoa_density.xlsx\",\n",
        "    path=\".\",\n",
        "    known_hash=None,\n",
        ")\n",
        "\n",
        "x = pd.read_excel(\n",
        "    destination_file,\n",
        "    sheet_name=\"Mid-2022 MSOA 2021\",\n",
        "    skiprows=3,\n",
        ")[[\"MSOA 2021 Code\", \"Total\"]]\n",
        "x"
      ]
    },
    {
      "cell_type": "markdown",
      "metadata": {},
      "source": [
        "### Combine geometries with statistics\n",
        "\n",
        "Here we will combine geometries GeoDataFrame with population per region.\n",
        "\n",
        "Then we will calculate the area (since the geometries are in the projected CRS, it will calculate are properly in meters squared).\n",
        "\n",
        "After calculating the area we can change the CRS to WGS84 (or EPSG:4326)."
      ]
    },
    {
      "cell_type": "code",
      "execution_count": null,
      "metadata": {
        "colab": {
          "base_uri": "https://localhost:8080/",
          "height": 455
        },
        "id": "4ZC3nj0_33LY",
        "outputId": "ca59a6f4-e487-499f-85bb-c834dd6325ff"
      },
      "outputs": [],
      "source": [
        "msoa_stats_gdf = msoa_gdf.merge(x, left_on=\"msoa21cd\", right_on=\"MSOA 2021 Code\")\n",
        "msoa_stats_gdf[\"area\"] = msoa_stats_gdf.area\n",
        "msoa_stats_gdf[\"population_density\"] = msoa_stats_gdf[\"Total\"] / msoa_stats_gdf[\"area\"]\n",
        "msoa_stats_gdf = msoa_stats_gdf.to_crs(epsg=4326).set_index(\"msoa21cd\")\n",
        "msoa_stats_gdf"
      ]
    },
    {
      "cell_type": "markdown",
      "metadata": {},
      "source": [
        "### Plot the density\n",
        "\n",
        "Let's see how the density is distributed across the city."
      ]
    },
    {
      "cell_type": "code",
      "execution_count": null,
      "metadata": {
        "colab": {
          "base_uri": "https://localhost:8080/",
          "height": 653
        },
        "id": "76bkMKHx4HAQ",
        "outputId": "e428a2a6-e203-49df-c978-685046c52c02"
      },
      "outputs": [],
      "source": [
        "f, ax = plt.subplots(figsize=(12, 8))\n",
        "msoa_stats_gdf.plot(\"population_density\", ax=ax, legend=True, alpha=0.8, cmap=\"plasma\")\n",
        "cx.add_basemap(ax, crs=msoa_stats_gdf.crs, source=cx.providers.CartoDB.PositronNoLabels)\n",
        "ax.set_axis_off()\n",
        "\n",
        "plt.show()"
      ]
    },
    {
      "cell_type": "markdown",
      "metadata": {
        "id": "4xeRVzGeFa0V"
      },
      "source": [
        "## Generate embeddings\n",
        "\n",
        "Let's now download the Overture Maps data and prepare some features for each region."
      ]
    },
    {
      "cell_type": "markdown",
      "metadata": {},
      "source": [
        "### Download the data using OvertureMapsLoader"
      ]
    },
    {
      "cell_type": "code",
      "execution_count": null,
      "metadata": {
        "colab": {
          "base_uri": "https://localhost:8080/",
          "height": 1000
        },
        "id": "0nDgaeAd6zIv",
        "outputId": "4bbb49f3-5220-4c55-da63-668fe401bb70"
      },
      "outputs": [],
      "source": [
        "london_features = OvertureMapsLoader(hierarchy_depth=1).load(msoa_stats_gdf)\n",
        "london_features"
      ]
    },
    {
      "cell_type": "markdown",
      "metadata": {},
      "source": [
        "### Calculate intersections\n",
        "\n",
        "To properly calculate which type of feature is in region, we need to know which geometries intersect between two datasets.\n",
        "\n",
        "Here we will manually create and query spatial the STRTree index. In other examples we will use `IntersectionJoiner` from the srai library.\n",
        "\n",
        "Because `CountEmbedder` expects dataframe as input, we will create an empty DataFrame with just an index."
      ]
    },
    {
      "cell_type": "code",
      "execution_count": null,
      "metadata": {
        "colab": {
          "base_uri": "https://localhost:8080/",
          "height": 438
        },
        "id": "lq01BjhHg8e-",
        "outputId": "2b864f4e-79ae-4bcc-e1a2-debc0c4416c6"
      },
      "outputs": [],
      "source": [
        "region_idx, features_idx = london_features.sindex.query(\n",
        "    msoa_stats_gdf.geometry, predicate=\"intersects\"\n",
        ")\n",
        "features_per_msoa = pd.DataFrame(\n",
        "    index=pd.MultiIndex.from_arrays(\n",
        "        (msoa_stats_gdf.index[region_idx], london_features.index[features_idx]),\n",
        "        names=(msoa_stats_gdf.index.name, london_features.index.name),\n",
        "    )\n",
        ")\n",
        "features_per_msoa"
      ]
    },
    {
      "cell_type": "markdown",
      "metadata": {},
      "source": [
        "### Explore the input data"
      ]
    },
    {
      "cell_type": "code",
      "execution_count": null,
      "metadata": {},
      "outputs": [],
      "source": [
        "city_of_london_msoa_code = \"E02000001\"\n",
        "\n",
        "msoa_area = msoa_stats_gdf.loc[[city_of_london_msoa_code]]\n",
        "msoa_area_bounds = msoa_area.total_bounds\n",
        "\n",
        "msoa_features = london_features.loc[\n",
        "    features_per_msoa.loc[city_of_london_msoa_code].index\n",
        "]\n",
        "\n",
        "f, ax = plt.subplots(figsize=(12, 8))\n",
        "\n",
        "msoa_stats_gdf.loc[[city_of_london_msoa_code]].boundary.plot(\n",
        "    ax=ax, color=\"black\", alpha=0.8, lw=1\n",
        ")\n",
        "\n",
        "# Plot polygons\n",
        "# We will remove Polygon features that aren't fully within the area for clarity.\n",
        "msoa_features[\n",
        "    msoa_features.geom_type.isin((\"Polygon\", \"MultiPolygon\"))\n",
        "    & msoa_features.within(msoa_area.union_all())\n",
        "].plot(\n",
        "    ax=ax,\n",
        "    color=(0, 0, 0, 0),\n",
        "    lw=0.5,\n",
        "    hatch=\"//\",\n",
        "    edgecolor=\"orange\",\n",
        ")\n",
        "\n",
        "# Plot linestrings\n",
        "msoa_features[msoa_features.geom_type == \"LineString\"].plot(\n",
        "    ax=ax, color=\"royalblue\", alpha=0.8, lw=0.3\n",
        ")\n",
        "\n",
        "# Plot points\n",
        "msoa_features[msoa_features.geom_type == \"Point\"].plot(\n",
        "    ax=ax, color=\"navy\", alpha=0.2, markersize=1\n",
        ")\n",
        "\n",
        "ax.set_xlim(msoa_area_bounds[0] - 1e-3, msoa_area_bounds[2] + 1e-3)\n",
        "ax.set_ylim(msoa_area_bounds[1] - 1e-3, msoa_area_bounds[3] + 1e-3)\n",
        "\n",
        "cx.add_basemap(\n",
        "    ax, crs=msoa_stats_gdf.crs, source=cx.providers.CartoDB.PositronNoLabels, zoom=15\n",
        ")\n",
        "ax.set_axis_off()\n",
        "\n",
        "plt.show()"
      ]
    },
    {
      "cell_type": "markdown",
      "metadata": {},
      "source": [
        "### Calculate the embedding\n",
        "\n",
        "Here we will transform the data and return a count of features in each region.\n",
        "\n",
        "We will use the `CountEmbedder` with optimized implementation, but you can try to do it manually."
      ]
    },
    {
      "cell_type": "code",
      "execution_count": null,
      "metadata": {
        "colab": {
          "base_uri": "https://localhost:8080/",
          "height": 510
        },
        "id": "IAuMmYDM9Lqm",
        "outputId": "cfa8fd7d-43ab-42d6-932c-5ebd4bcbbdac"
      },
      "outputs": [],
      "source": [
        "embeddings = CountEmbedder(count_subcategories=False).transform(\n",
        "    msoa_stats_gdf, london_features, features_per_msoa\n",
        ")\n",
        "embeddings"
      ]
    },
    {
      "cell_type": "markdown",
      "metadata": {},
      "source": [
        "## Train the model\n",
        "\n",
        "Now we can use calculated embeddings and our target column to train a simple model."
      ]
    },
    {
      "cell_type": "code",
      "execution_count": null,
      "metadata": {
        "id": "06e94rk4BqPa"
      },
      "outputs": [],
      "source": [
        "train_msoa_codes, test_msoa_codes = train_test_split(\n",
        "    msoa_stats_gdf.index,\n",
        "    test_size=0.33,\n",
        "    random_state=42,\n",
        ")\n",
        "\n",
        "X_train = embeddings.loc[train_msoa_codes]\n",
        "X_test = embeddings.loc[test_msoa_codes]\n",
        "y_train = msoa_stats_gdf.loc[train_msoa_codes, \"population_density\"]\n",
        "y_test = msoa_stats_gdf.loc[test_msoa_codes, \"population_density\"]"
      ]
    },
    {
      "cell_type": "code",
      "execution_count": null,
      "metadata": {
        "colab": {
          "base_uri": "https://localhost:8080/",
          "height": 80
        },
        "id": "cN-gl8wcBxuZ",
        "outputId": "385dc3c3-6a68-4078-a8a5-1b4c80d2548e"
      },
      "outputs": [],
      "source": [
        "model = RandomForestRegressor()\n",
        "model.fit(X_train, y_train)\n",
        "model"
      ]
    },
    {
      "cell_type": "code",
      "execution_count": null,
      "metadata": {
        "colab": {
          "base_uri": "https://localhost:8080/"
        },
        "id": "9dTMAnn6B6CS",
        "outputId": "26dd5093-2c55-4499-f468-ed4796f9d248"
      },
      "outputs": [],
      "source": [
        "y_pred = model.predict(X_test)\n",
        "\n",
        "r2_score(y_test, y_pred)"
      ]
    },
    {
      "cell_type": "markdown",
      "metadata": {},
      "source": [
        "### Compare the predictions with original data"
      ]
    },
    {
      "cell_type": "code",
      "execution_count": null,
      "metadata": {
        "colab": {
          "base_uri": "https://localhost:8080/",
          "height": 697
        },
        "id": "Lt5A1mdnmJDc",
        "outputId": "a347a2a6-811f-4040-bb59-c0522acf41ab"
      },
      "outputs": [],
      "source": [
        "f, ax = plt.subplots(figsize=(8, 8))\n",
        "\n",
        "sns.regplot(\n",
        "    x=y_test,\n",
        "    y=y_pred,\n",
        "    scatter_kws=dict(alpha=0.5, s=10),\n",
        "    line_kws=dict(color=\".2\", linestyle=\"--\"),\n",
        "    ax=ax,\n",
        ")\n",
        "min_density = y_test.min()\n",
        "max_density = y_test.max()\n",
        "sns.lineplot(\n",
        "    x=[min_density, max_density], y=[min_density, max_density], color=\"red\", ax=ax\n",
        ")\n",
        "\n",
        "ax.set_xlabel(\"True population density\")\n",
        "ax.set_ylabel(\"Predicted population density\")\n",
        "\n",
        "plt.show()"
      ]
    },
    {
      "cell_type": "markdown",
      "metadata": {},
      "source": [
        "### Plot feature importance for the model"
      ]
    },
    {
      "cell_type": "code",
      "execution_count": null,
      "metadata": {
        "colab": {
          "base_uri": "https://localhost:8080/",
          "height": 472
        },
        "id": "WSiO6PcRnWQn",
        "outputId": "ff5ed8c5-04d5-4775-c474-2c8da9f50df5"
      },
      "outputs": [],
      "source": [
        "ax = sns.barplot(\n",
        "    pd.DataFrame(\n",
        "        {\n",
        "            \"feature_importance\": model.feature_importances_,\n",
        "            \"feature_names\": embeddings.columns,\n",
        "        }\n",
        "    ).nlargest(20, \"feature_importance\"),\n",
        "    y=\"feature_names\",\n",
        "    x=\"feature_importance\",\n",
        ")\n",
        "ax.set_title(\"Feature importances\")\n",
        "ax.set_ylabel(\"Features\")\n",
        "ax.set_xlabel(\"Feature importance\")\n",
        "plt.show()"
      ]
    },
    {
      "cell_type": "markdown",
      "metadata": {},
      "source": [
        "### Predict the data for the whole dataset"
      ]
    },
    {
      "cell_type": "code",
      "execution_count": null,
      "metadata": {
        "id": "C1mU5NxsjhgL"
      },
      "outputs": [],
      "source": [
        "msoa_stats_gdf[\"predicted_population_density\"] = model.predict(\n",
        "    embeddings.loc[msoa_stats_gdf.index]\n",
        ")"
      ]
    },
    {
      "cell_type": "markdown",
      "metadata": {},
      "source": [
        "### Explore the results"
      ]
    },
    {
      "cell_type": "code",
      "execution_count": null,
      "metadata": {
        "colab": {
          "base_uri": "https://localhost:8080/",
          "height": 1000
        },
        "id": "pdRlsplCjh2C",
        "outputId": "a72607a3-ab14-4629-c32b-c6ac4761aa12"
      },
      "outputs": [],
      "source": [
        "f, (ax1, ax2) = plt.subplots(2, 1, figsize=(12, 16), sharex=True, sharey=True)\n",
        "msoa_stats_gdf.plot(\"population_density\", ax=ax1, legend=True, cmap=\"plasma\")\n",
        "msoa_stats_gdf.plot(\"predicted_population_density\", ax=ax2, legend=True, cmap=\"plasma\")\n",
        "\n",
        "ax1.set_title(\"Population density\")\n",
        "ax2.set_title(\"Predicted population density\")\n",
        "\n",
        "plt.show()"
      ]
    },
    {
      "cell_type": "markdown",
      "metadata": {},
      "source": [
        "Calculate the prediction error and visualize it on a map."
      ]
    },
    {
      "cell_type": "code",
      "execution_count": null,
      "metadata": {
        "id": "OYSq_cThCWb1"
      },
      "outputs": [],
      "source": [
        "msoa_stats_gdf[\"error\"] = (\n",
        "    msoa_stats_gdf[\"population_density\"]\n",
        "    - msoa_stats_gdf[\"predicted_population_density\"]\n",
        ")\n",
        "\n",
        "# Rescale from min / max to 0 - 1 with center at 0.5\n",
        "msoa_stats_gdf[\"normalized_error\"] = (\n",
        "    msoa_stats_gdf[\"error\"].apply(\n",
        "        lambda x, city_data=msoa_stats_gdf: (\n",
        "            -x / city_data[\"error\"].min()\n",
        "            if x < 0\n",
        "            else x / city_data[\"error\"].max()\n",
        "        )\n",
        "    )\n",
        "    + 1\n",
        ") / 2\n",
        "\n",
        "msoa_stats_gdf[\"alpha\"] = (\n",
        "    msoa_stats_gdf[\"normalized_error\"] - 0.5\n",
        ").abs() * 2"
      ]
    },
    {
      "cell_type": "code",
      "execution_count": null,
      "metadata": {
        "colab": {
          "base_uri": "https://localhost:8080/",
          "height": 658
        },
        "id": "uf6J8a4vCNi5",
        "outputId": "c5b03d7e-fa12-4377-ff17-587662c17d69"
      },
      "outputs": [],
      "source": [
        "f, ax = plt.subplots(figsize=(12, 8))\n",
        "\n",
        "msoa_stats_gdf.boundary.plot(ax=ax, color=\"black\", alpha=0.8, lw=0.1)\n",
        "msoa_stats_gdf.plot(\n",
        "    \"normalized_error\",\n",
        "    ax=ax,\n",
        "    alpha=msoa_stats_gdf[\"alpha\"],\n",
        "    cmap=\"bwr_r\",\n",
        "    legend=True,\n",
        "    legend_kwds={\n",
        "        \"shrink\": 0.8,\n",
        "        \"label\": \"Prediction error\",\n",
        "        \"ticks\": [0, 0.5, 1],\n",
        "        \"format\": mticker.FixedFormatter(\n",
        "            [\n",
        "                round(msoa_stats_gdf[\"error\"].min(), 4),\n",
        "                \"0\",\n",
        "                round(msoa_stats_gdf[\"error\"].max(), 4),\n",
        "            ]\n",
        "        ),\n",
        "    },\n",
        ")\n",
        "\n",
        "cx.add_basemap(\n",
        "    ax, crs=msoa_stats_gdf.crs, source=cx.providers.CartoDB.PositronNoLabels, zoom=12\n",
        ")\n",
        "ax.set_axis_off()\n",
        "\n",
        "plt.show()"
      ]
    },
    {
      "cell_type": "markdown",
      "metadata": {},
      "source": [
        "## Task for you\n",
        "\n",
        "- Transform the predicted population density back to a total number of residents.\n",
        "- Compare the results using a total number of residents and not population density"
      ]
    },
    {
      "cell_type": "code",
      "execution_count": null,
      "metadata": {},
      "outputs": [],
      "source": [
        "# Write code here\n",
        "\n",
        "# You can find answers here: https://github.com/kraina-ai/srai-tutorial/tree/geopython2025/answers"
      ]
    }
  ],
  "metadata": {
    "colab": {
      "provenance": []
    },
    "kernelspec": {
      "display_name": ".venv",
      "language": "python",
      "name": "python3"
    },
    "language_info": {
      "codemirror_mode": {
        "name": "ipython",
        "version": 3
      },
      "file_extension": ".py",
      "mimetype": "text/x-python",
      "name": "python",
      "nbconvert_exporter": "python",
      "pygments_lexer": "ipython3",
      "version": "3.11.11"
    }
  },
  "nbformat": 4,
  "nbformat_minor": 0
}
