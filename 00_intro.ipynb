{
 "cells": [
  {
   "cell_type": "markdown",
   "metadata": {},
   "source": [
    "# przedstawienie siebie, grupy i w ogole\n",
    "# instalacja, setup itp"
   ]
  }
 ],
 "metadata": {
  "language_info": {
   "name": "python"
  },
  "orig_nbformat": 4
 },
 "nbformat": 4,
 "nbformat_minor": 2
}
